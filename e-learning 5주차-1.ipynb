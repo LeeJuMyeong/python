{
 "cells": [
  {
   "cell_type": "code",
   "execution_count": 1,
   "metadata": {
    "collapsed": false
   },
   "outputs": [
    {
     "name": "stdout",
     "output_type": "stream",
     "text": [
      "a\n",
      "b\n",
      "f\n",
      "\n",
      "200\n",
      "900\n"
     ]
    }
   ],
   "source": [
    "s = 'abcdef'\n",
    "l = [100, 200, 300]\n",
    "print s[0]\n",
    "print s[1]\n",
    "print s[-1]\n",
    "print \n",
    "print l[1]\n",
    "l[1] = 900\n",
    "print l[1]"
   ]
  },
  {
   "cell_type": "code",
   "execution_count": 2,
   "metadata": {
    "collapsed": false
   },
   "outputs": [
    {
     "ename": "IndexError",
     "evalue": "list index out of range",
     "output_type": "error",
     "traceback": [
      "\u001b[1;31m---------------------------------------------------------------------------\u001b[0m",
      "\u001b[1;31mIndexError\u001b[0m                                Traceback (most recent call last)",
      "\u001b[1;32m<ipython-input-2-dd85adc9a089>\u001b[0m in \u001b[0;36m<module>\u001b[1;34m()\u001b[0m\n\u001b[1;32m----> 1\u001b[1;33m \u001b[1;32mprint\u001b[0m \u001b[0ml\u001b[0m\u001b[1;33m[\u001b[0m\u001b[1;36m100\u001b[0m\u001b[1;33m]\u001b[0m\u001b[1;33m\u001b[0m\u001b[0m\n\u001b[0m",
      "\u001b[1;31mIndexError\u001b[0m: list index out of range"
     ]
    }
   ],
   "source": [
    "print l[100]"
   ]
  },
  {
   "cell_type": "code",
   "execution_count": 5,
   "metadata": {
    "collapsed": false
   },
   "outputs": [
    {
     "name": "stdout",
     "output_type": "stream",
     "text": [
      "bc\n",
      "bcdef\n",
      "abcdef\n",
      "abcdef\n",
      "\n",
      "[100, 200, 300]\n",
      "[100, 200]\n"
     ]
    }
   ],
   "source": [
    "s = 'abcdef'\n",
    "L = [100, 200, 300]\n",
    "\n",
    "print s[1:3]\n",
    "print s[1:]\n",
    "print s[:]\n",
    "print s[-100:100]\n",
    "print \n",
    "print L[:9]  # L[:2] 와 동일\n",
    "print L[:2]"
   ]
  },
  {
   "cell_type": "code",
   "execution_count": 9,
   "metadata": {
    "collapsed": false
   },
   "outputs": [
    {
     "name": "stdout",
     "output_type": "stream",
     "text": [
      "ac\n",
      "dcba\n"
     ]
    }
   ],
   "source": [
    "s = 'abcd'\n",
    "print s[::2]\n",
    "print s[::-1]"
   ]
  },
  {
   "cell_type": "code",
   "execution_count": 11,
   "metadata": {
    "collapsed": false
   },
   "outputs": [
    {
     "name": "stdout",
     "output_type": "stream",
     "text": [
      "abcdef\n",
      "[1, 2, 3, 4, 5, 6]\n"
     ]
    }
   ],
   "source": [
    "s = 'abc' + 'def'\n",
    "print s\n",
    "\n",
    "L = [1,2,3] + [4,5,6]\n",
    "print L"
   ]
  },
  {
   "cell_type": "code",
   "execution_count": 12,
   "metadata": {
    "collapsed": false
   },
   "outputs": [
    {
     "name": "stdout",
     "output_type": "stream",
     "text": [
      "abcabcabcabc\n",
      "[1, 2, 3, 1, 2, 3]\n"
     ]
    }
   ],
   "source": [
    "s = 'abc'\n",
    "print s * 4\n",
    "\n",
    "L = [1,2,3]\n",
    "print L * 2"
   ]
  },
  {
   "cell_type": "code",
   "execution_count": 13,
   "metadata": {
    "collapsed": false
   },
   "outputs": [
    {
     "name": "stdout",
     "output_type": "stream",
     "text": [
      "True\n",
      "True\n",
      "False\n",
      "True\n"
     ]
    }
   ],
   "source": [
    "s = 'abcde'\n",
    "print 'c' in s\n",
    "\n",
    "t = (1,2,3,4,5)\n",
    "print 2 in t\n",
    "print 10 in t\n",
    "print 10 not in t"
   ]
  },
  {
   "cell_type": "code",
   "execution_count": 14,
   "metadata": {
    "collapsed": false
   },
   "outputs": [
    {
     "name": "stdout",
     "output_type": "stream",
     "text": [
      "True\n",
      "False\n",
      "False\n",
      "True\n"
     ]
    }
   ],
   "source": [
    "print 'ab' in 'abcd'\n",
    "print 'ad' in 'abcd'\n",
    "print ' ' in 'abcd'\n",
    "print ' ' in 'abcd '"
   ]
  },
  {
   "cell_type": "code",
   "execution_count": 16,
   "metadata": {
    "collapsed": false
   },
   "outputs": [
    {
     "name": "stdout",
     "output_type": "stream",
     "text": [
      "5\n",
      "3\n",
      "4\n"
     ]
    }
   ],
   "source": [
    "s = 'abcde'\n",
    "l = [1,2,3]\n",
    "t = (1, 2, 3, 4)\n",
    "print len(s)\n",
    "print len(l)\n",
    "print len(t)"
   ]
  },
  {
   "cell_type": "code",
   "execution_count": 17,
   "metadata": {
    "collapsed": false
   },
   "outputs": [
    {
     "name": "stdout",
     "output_type": "stream",
     "text": [
      "a b c d\n"
     ]
    }
   ],
   "source": [
    "for c in 'abcd':\n",
    "    print c,"
   ]
  },
  {
   "cell_type": "code",
   "execution_count": 18,
   "metadata": {
    "collapsed": true
   },
   "outputs": [],
   "source": [
    "s = ' '\n",
    "str1 = 'Python is great!'\n",
    "str2 = \"Yes, it is.\"\n",
    "str3 = \"It's not like any other languages\""
   ]
  },
  {
   "cell_type": "code",
   "execution_count": 20,
   "metadata": {
    "collapsed": false
   },
   "outputs": [
    {
     "name": "stdout",
     "output_type": "stream",
     "text": [
      "Don't walk. \"Run\"\n"
     ]
    }
   ],
   "source": [
    "str4 = 'Don\\'t walk. \"Run\"'\n",
    "print str4"
   ]
  },
  {
   "cell_type": "code",
   "execution_count": 23,
   "metadata": {
    "collapsed": false
   },
   "outputs": [
    {
     "name": "stdout",
     "output_type": "stream",
     "text": [
      "This is a rather long string contaning back slash and new line. \n",
      "Good!\n"
     ]
    }
   ],
   "source": [
    "long_str = \"This is a rather long string \\\n",
    "contaning back slash and new line. \\nGood!\"\n",
    "print long_str"
   ]
  },
  {
   "cell_type": "code",
   "execution_count": 34,
   "metadata": {
    "collapsed": false
   },
   "outputs": [
    {
     "name": "stdout",
     "output_type": "stream",
     "text": [
      " While the rest of the world has been catching on to\n",
      "the Perl scripting language, the Linux community,\n",
      "long since past the pleasing shock of Perl's power,\n",
      "has been catching on to a different scripting animal -- Python. \n",
      "\n",
      " While the rest of the world has been catching on to\n",
      "the Perl scripting language, the Linux community,\n",
      "long since past the pleasing shock of Perl's power,\n",
      "has been catching on to a different scripting animal -- Python. \n"
     ]
    }
   ],
   "source": [
    "multiline = \"\"\" While the rest of the world has been catching on to\n",
    "the Perl scripting language, the Linux community,\n",
    "long since past the pleasing shock of Perl's power,\n",
    "has been catching on to a different scripting animal -- Python. \"\"\"\n",
    "print multiline\n",
    "print\n",
    "ml = ''' While the rest of the world has been catching on to\n",
    "the Perl scripting language, the Linux community,\n",
    "long since past the pleasing shock of Perl's power,\n",
    "has been catching on to a different scripting animal -- Python. '''\n",
    "print ml"
   ]
  },
  {
   "cell_type": "code",
   "execution_count": 44,
   "metadata": {
    "collapsed": false
   },
   "outputs": [
    {
     "name": "stdout",
     "output_type": "stream",
     "text": [
      "\\abc\\\n",
      "\n",
      "abc\tdef\tghi\n",
      "\n",
      "a\n",
      "b\n",
      "c\n"
     ]
    }
   ],
   "source": [
    "print '\\\\abc\\\\'\n",
    "print\n",
    "print 'abc\\tdef\\tghi'  \n",
    "# \\t의 의미 중요!!! 여덞번째 자리를 나타내주는 것\n",
    "# 즉, \\t을 사용하면 그 뒤의 문장들은 9번째에서 시작하게 된다. \n",
    "# 만약, 전 문장이 8번째 컬럼까지 쓰였으면, 그 뒤는 17번째 컬럼부터 시작하게 된다.\n",
    "print\n",
    "print 'a\\nb\\nc'"
   ]
  },
  {
   "cell_type": "code",
   "execution_count": 48,
   "metadata": {
    "collapsed": false
   },
   "outputs": [
    {
     "name": "stdout",
     "output_type": "stream",
     "text": [
      "First String Second String\n",
      "First StringFirst StringFirst String\n",
      "\n",
      "r\n",
      "irst Strin\n",
      "12\n",
      "\n",
      "First String\n",
      "First String\n"
     ]
    }
   ],
   "source": [
    "str1 = 'First String'\n",
    "str2 = 'Second String'\n",
    "str3 = str1 + ' ' + str2\n",
    "print str3\n",
    "print str1 * 3\n",
    "print \n",
    "print str1[2]\n",
    "print str1[1:-1]\n",
    "print len(str1)\n",
    "print\n",
    "print str1[0:len(str1)]   # 전체 내용을 가지고 오는 것 \n",
    "print str1[:] # 같음"
   ]
  },
  {
   "cell_type": "code",
   "execution_count": 50,
   "metadata": {
    "collapsed": false
   },
   "outputs": [
    {
     "ename": "TypeError",
     "evalue": "'str' object does not support item assignment",
     "output_type": "error",
     "traceback": [
      "\u001b[1;31m---------------------------------------------------------------------------\u001b[0m",
      "\u001b[1;31mTypeError\u001b[0m                                 Traceback (most recent call last)",
      "\u001b[1;32m<ipython-input-50-944234376f79>\u001b[0m in \u001b[0;36m<module>\u001b[1;34m()\u001b[0m\n\u001b[1;32m----> 1\u001b[1;33m \u001b[0mstr1\u001b[0m\u001b[1;33m[\u001b[0m\u001b[1;36m0\u001b[0m\u001b[1;33m]\u001b[0m \u001b[1;33m=\u001b[0m \u001b[1;34m'f'\u001b[0m\u001b[1;33m\u001b[0m\u001b[0m\n\u001b[0m\u001b[0;32m      2\u001b[0m \u001b[1;31m# 문자열 자료는 변경 불가능!!!!!\u001b[0m\u001b[1;33m\u001b[0m\u001b[1;33m\u001b[0m\u001b[0m\n",
      "\u001b[1;31mTypeError\u001b[0m: 'str' object does not support item assignment"
     ]
    }
   ],
   "source": [
    "str1[0] = 'f'\n",
    "# 문자열 자료는 변경 불가능!!!!!"
   ]
  },
  {
   "cell_type": "code",
   "execution_count": 51,
   "metadata": {
    "collapsed": false
   },
   "outputs": [
    {
     "ename": "TypeError",
     "evalue": "'str' object does not support item assignment",
     "output_type": "error",
     "traceback": [
      "\u001b[1;31m---------------------------------------------------------------------------\u001b[0m",
      "\u001b[1;31mTypeError\u001b[0m                                 Traceback (most recent call last)",
      "\u001b[1;32m<ipython-input-51-08d42bad7f22>\u001b[0m in \u001b[0;36m<module>\u001b[1;34m()\u001b[0m\n\u001b[1;32m----> 1\u001b[1;33m \u001b[0mstr1\u001b[0m\u001b[1;33m[\u001b[0m\u001b[1;36m0\u001b[0m\u001b[1;33m:\u001b[0m\u001b[1;36m3\u001b[0m\u001b[1;33m]\u001b[0m \u001b[1;33m=\u001b[0m \u001b[1;34m'abc'\u001b[0m\u001b[1;33m\u001b[0m\u001b[0m\n\u001b[0m",
      "\u001b[1;31mTypeError\u001b[0m: 'str' object does not support item assignment"
     ]
    }
   ],
   "source": [
    "str1[0:3] = 'abc'"
   ]
  },
  {
   "cell_type": "code",
   "execution_count": 52,
   "metadata": {
    "collapsed": false
   },
   "outputs": [
    {
     "name": "stdout",
     "output_type": "stream",
     "text": [
      "spam, cheese, and egg\n"
     ]
    }
   ],
   "source": [
    "s = 'spam and egg'\n",
    "s = s[:4] + ', cheese, ' + s[5:]\n",
    "print s"
   ]
  },
  {
   "cell_type": "markdown",
   "metadata": {},
   "source": [
    "- 문자열 변경을 위해서는 여러 Slicing 연결 활용  \n",
    "    - [주의] 문자열 자체가 변경되는 것이 아니라 새로운 문자열을 생성하여 재할당하는 것임   "
   ]
  },
  {
   "cell_type": "code",
   "execution_count": 59,
   "metadata": {
    "collapsed": false
   },
   "outputs": [
    {
     "name": "stdout",
     "output_type": "stream",
     "text": [
      "가나다라\n",
      "4\n",
      "12\n",
      "\n",
      "<type 'str'>\n",
      "1\n",
      "a\n",
      "<type 'unicode'>\n",
      "2\n",
      "bc\n",
      "\n",
      "<type 'unicode'>\n",
      "abc\n"
     ]
    }
   ],
   "source": [
    "print u'가나다라'\n",
    "print len(u'가나다라')\n",
    "print len('가나다라')\n",
    "\n",
    "print \n",
    "a = 'a'\n",
    "b = u'bc'\n",
    "print type(a)\n",
    "print len(a)\n",
    "print a\n",
    "print type(b)\n",
    "print len(b)\n",
    "print b\n",
    "print \n",
    "c = a + b\n",
    "print type(c) # 문자열 + 유니코드 = 유니코드\n",
    "print c"
   ]
  },
  {
   "cell_type": "code",
   "execution_count": 63,
   "metadata": {
    "collapsed": false
   },
   "outputs": [
    {
     "name": "stdout",
     "output_type": "stream",
     "text": [
      "Spam 또 Egg\n"
     ]
    }
   ],
   "source": [
    "print u'Spam \\uB610 Egg' \n",
    "# B610은 유니코드 '또'는 문자로 정의되어 있음"
   ]
  },
  {
   "cell_type": "code",
   "execution_count": 64,
   "metadata": {
    "collapsed": false
   },
   "outputs": [
    {
     "name": "stdout",
     "output_type": "stream",
     "text": [
      "<type 'unicode'>\n",
      "한글\n"
     ]
    }
   ],
   "source": [
    "a = unicode('한글', 'utf-8')\n",
    "print type(a)\n",
    "print a"
   ]
  },
  {
   "cell_type": "code",
   "execution_count": 66,
   "metadata": {
    "collapsed": false
   },
   "outputs": [
    {
     "name": "stdout",
     "output_type": "stream",
     "text": [
      "22\n",
      "8\n",
      "8\n"
     ]
    }
   ],
   "source": [
    "print len('한글과 세종대왕')  # x\n",
    "print len(unicode('한글과 세종대왕', 'utf-8'))  # o\n",
    "print len(u'한글과 세종대왕')  # o"
   ]
  },
  {
   "cell_type": "code",
   "execution_count": 67,
   "metadata": {
    "collapsed": false
   },
   "outputs": [
    {
     "name": "stdout",
     "output_type": "stream",
     "text": [
      "한\n",
      "글\n",
      "한글과\n",
      "세종대왕\n",
      "왕대종세 과글한\n",
      "\n",
      "한\n",
      "글\n",
      "한글과\n",
      "세종대왕\n",
      "왕대종세 과글한\n",
      "\n",
      "�\n",
      "�\n",
      "한\n",
      "��과 세종대왕\n",
      "��쀌녢츄� ��ꀸ꜕�\n",
      "\n"
     ]
    }
   ],
   "source": [
    "u = unicode('한글과 세종대왕', 'utf-8')    #유니코드 타입의 한글 문자열에 대해서는 인덱싱 및 슬라이싱이 올바르게 수행됨 \n",
    "print u[0]\n",
    "print u[1]\n",
    "print u[:3]\n",
    "print u[4:]\n",
    "print u[::-1]\n",
    "print\n",
    "u2 = u'한글과 세종대왕' \n",
    "print u2[0]\n",
    "print u2[1]\n",
    "print u2[:3]\n",
    "print u2[4:]\n",
    "print u2[::-1]\n",
    "print \n",
    "u3 = '한글과 세종대왕'\n",
    "print u3[0]\n",
    "print u3[1]\n",
    "print u3[:3]\n",
    "print u3[4:]\n",
    "print u3[::-1]\n",
    "print"
   ]
  },
  {
   "cell_type": "code",
   "execution_count": null,
   "metadata": {
    "collapsed": true
   },
   "outputs": [],
   "source": []
  }
 ],
 "metadata": {
  "anaconda-cloud": {},
  "kernelspec": {
   "display_name": "Python [Root]",
   "language": "python",
   "name": "Python [Root]"
  },
  "language_info": {
   "codemirror_mode": {
    "name": "ipython",
    "version": 2
   },
   "file_extension": ".py",
   "mimetype": "text/x-python",
   "name": "python",
   "nbconvert_exporter": "python",
   "pygments_lexer": "ipython2",
   "version": "2.7.12"
  }
 },
 "nbformat": 4,
 "nbformat_minor": 0
}
