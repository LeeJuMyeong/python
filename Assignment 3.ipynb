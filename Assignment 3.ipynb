{
 "cells": [
  {
   "cell_type": "markdown",
   "metadata": {},
   "source": [
    "# Assignment 3  \n",
    "  \n",
    "-----------------------  \n",
    "2011136093 이주명  \n",
    "\n",
    "---------------  \n",
    "  \n",
    "## 문제  \n",
    "  \n",
    "---------  \n",
    "  \n",
    "- L=[1, 2, 3, 4, 5]일 때 다음 각 문장을 수행한 후의 결과를 보고 납득할 만한 이유를 설명하시오.  \n",
    "  \n",
    "    - 1)  \n",
    "            L[1:3] = [100]  \n",
    "            print L  \n",
    "          \n",
    "    - 2)  \n",
    "            L[1:3] = [(100)]  \n",
    "            print L  \n",
    "          \n",
    "    - 3)  \n",
    "            L[1:3] = 100  \n",
    "            print L  \n",
    "          \n",
    "    - 4)  \n",
    "            L[1:3] = (100)  \n",
    "            print L  \n",
    "          \n",
    "    - 5)\n",
    "            L[1:3] = (100, 101, 102)  \n",
    "            print L  \n",
    "          \n",
    "    - 6)  \n",
    "            L[1:3] = [100, 101, 102]  \n",
    "            print L  \n",
    "          \n",
    "    - 7)  \n",
    "            L[1:3] = [(100, 101, 102)]  \n",
    "            print L  \n",
    "          \n",
    "    - 8)  \n",
    "            L[1:3] = [[100, 101, 102]]  \n",
    "            print L  "
   ]
  },
  {
   "cell_type": "code",
   "execution_count": 2,
   "metadata": {
    "collapsed": false
   },
   "outputs": [
    {
     "name": "stdout",
     "output_type": "stream",
     "text": [
      "[1, 100, 4, 5]\n"
     ]
    }
   ],
   "source": [
    "L=[1, 2, 3, 4, 5]\n",
    "\n",
    "L[1:3] = [100]  \n",
    "print L"
   ]
  },
  {
   "cell_type": "markdown",
   "metadata": {},
   "source": [
    "> 리스트는 변경 가능한 자료형입니다. 그러므로 리스트 L을 슬라이싱을 이용하여 가져와서, 이 부분을 [100]으로 변경할 수 있으며, 값은 위와 같게 됩니다. "
   ]
  },
  {
   "cell_type": "code",
   "execution_count": 3,
   "metadata": {
    "collapsed": false
   },
   "outputs": [
    {
     "name": "stdout",
     "output_type": "stream",
     "text": [
      "[1, 100, 4, 5]\n"
     ]
    }
   ],
   "source": [
    "L=[1, 2, 3, 4, 5]\n",
    "\n",
    "L[1:3] = [(100)]  \n",
    "print L "
   ]
  },
  {
   "cell_type": "markdown",
   "metadata": {},
   "source": [
    "> 이 문제는 위의 문제가 값이 같게 나오게되는데, 그 이유는 튜플에서 value가 1개만 존재하는 경우에는 그냥 값과 같습니다. 예시로 (100)이라는 튜플이 있을 경우에는 100과 같다는 뜻입니다. 만약 어떻게든 튜플로 만들고 싶을 때는 (100,) 이런식으로 사용해야함! "
   ]
  },
  {
   "cell_type": "code",
   "execution_count": 5,
   "metadata": {
    "collapsed": false,
    "scrolled": false
   },
   "outputs": [
    {
     "ename": "TypeError",
     "evalue": "can only assign an iterable",
     "output_type": "error",
     "traceback": [
      "\u001b[1;31m---------------------------------------------------------------------------\u001b[0m",
      "\u001b[1;31mTypeError\u001b[0m                                 Traceback (most recent call last)",
      "\u001b[1;32m<ipython-input-5-dc4118bd9080>\u001b[0m in \u001b[0;36m<module>\u001b[1;34m()\u001b[0m\n\u001b[0;32m      1\u001b[0m \u001b[0mL\u001b[0m\u001b[1;33m=\u001b[0m\u001b[1;33m[\u001b[0m\u001b[1;36m1\u001b[0m\u001b[1;33m,\u001b[0m \u001b[1;36m2\u001b[0m\u001b[1;33m,\u001b[0m \u001b[1;36m3\u001b[0m\u001b[1;33m,\u001b[0m \u001b[1;36m4\u001b[0m\u001b[1;33m,\u001b[0m \u001b[1;36m5\u001b[0m\u001b[1;33m]\u001b[0m\u001b[1;33m\u001b[0m\u001b[0m\n\u001b[0;32m      2\u001b[0m \u001b[1;33m\u001b[0m\u001b[0m\n\u001b[1;32m----> 3\u001b[1;33m \u001b[0mL\u001b[0m\u001b[1;33m[\u001b[0m\u001b[1;36m1\u001b[0m\u001b[1;33m:\u001b[0m\u001b[1;36m3\u001b[0m\u001b[1;33m]\u001b[0m \u001b[1;33m=\u001b[0m \u001b[1;36m100\u001b[0m\u001b[1;33m\u001b[0m\u001b[0m\n\u001b[0m\u001b[0;32m      4\u001b[0m \u001b[1;32mprint\u001b[0m \u001b[0mL\u001b[0m\u001b[1;33m\u001b[0m\u001b[0m\n",
      "\u001b[1;31mTypeError\u001b[0m: can only assign an iterable"
     ]
    }
   ],
   "source": [
    "L=[1, 2, 3, 4, 5]\n",
    "\n",
    "L[1:3] = 100\n",
    "print L "
   ]
  },
  {
   "cell_type": "markdown",
   "metadata": {},
   "source": [
    "> 이 문제에서 오류가 나는 이유는 리스트에 수치형 자료형을 넣으려고 하기 때문에 문제가 발생하게 됩니다. 제가 생각하기에는 저장 모델이 다르기 때문이라 생각됩니다. 수치형 자료형은 저장모델이 리터럴이고, 리스트 같은 경우에는 저장 모델은 컨테이너기 때문에 둘은 저장하는 방식이 다르기 때문에 나는 오류같습니다."
   ]
  },
  {
   "cell_type": "code",
   "execution_count": 6,
   "metadata": {
    "collapsed": false,
    "scrolled": true
   },
   "outputs": [
    {
     "ename": "TypeError",
     "evalue": "can only assign an iterable",
     "output_type": "error",
     "traceback": [
      "\u001b[1;31m---------------------------------------------------------------------------\u001b[0m",
      "\u001b[1;31mTypeError\u001b[0m                                 Traceback (most recent call last)",
      "\u001b[1;32m<ipython-input-6-f3785f487f7d>\u001b[0m in \u001b[0;36m<module>\u001b[1;34m()\u001b[0m\n\u001b[0;32m      1\u001b[0m \u001b[0mL\u001b[0m\u001b[1;33m=\u001b[0m\u001b[1;33m[\u001b[0m\u001b[1;36m1\u001b[0m\u001b[1;33m,\u001b[0m \u001b[1;36m2\u001b[0m\u001b[1;33m,\u001b[0m \u001b[1;36m3\u001b[0m\u001b[1;33m,\u001b[0m \u001b[1;36m4\u001b[0m\u001b[1;33m,\u001b[0m \u001b[1;36m5\u001b[0m\u001b[1;33m]\u001b[0m\u001b[1;33m\u001b[0m\u001b[0m\n\u001b[0;32m      2\u001b[0m \u001b[1;33m\u001b[0m\u001b[0m\n\u001b[1;32m----> 3\u001b[1;33m \u001b[0mL\u001b[0m\u001b[1;33m[\u001b[0m\u001b[1;36m1\u001b[0m\u001b[1;33m:\u001b[0m\u001b[1;36m3\u001b[0m\u001b[1;33m]\u001b[0m \u001b[1;33m=\u001b[0m \u001b[1;33m(\u001b[0m\u001b[1;36m100\u001b[0m\u001b[1;33m)\u001b[0m\u001b[1;33m\u001b[0m\u001b[0m\n\u001b[0m\u001b[0;32m      4\u001b[0m \u001b[1;32mprint\u001b[0m \u001b[0mL\u001b[0m\u001b[1;33m\u001b[0m\u001b[0m\n",
      "\u001b[1;31mTypeError\u001b[0m: can only assign an iterable"
     ]
    }
   ],
   "source": [
    "L=[1, 2, 3, 4, 5]\n",
    "\n",
    "L[1:3] = (100)\n",
    "print L "
   ]
  },
  {
   "cell_type": "markdown",
   "metadata": {},
   "source": [
    "> 이 문제는 위의 수치형 오류 문제와 같습니다. 아까 설명에서 (100)은 100과 같기 때문에 수치형으로 해석되고 위와 같은 오류가 발생합니다."
   ]
  },
  {
   "cell_type": "code",
   "execution_count": 13,
   "metadata": {
    "collapsed": false
   },
   "outputs": [
    {
     "name": "stdout",
     "output_type": "stream",
     "text": [
      "[1, 100, 101, 102, 4, 5]\n"
     ]
    }
   ],
   "source": [
    "L=[1, 2, 3, 4, 5]\n",
    "\n",
    "L[1:3] = (100, 101, 102)\n",
    "print L "
   ]
  },
  {
   "cell_type": "markdown",
   "metadata": {},
   "source": [
    "> 이 문제는 리스트의 슬라이싱 부분을 튜플로 변경하는 문제로, 튜플이였던 값들이 리스트로 저장되는 이유는 튜플의 언패킹으로 인한 결과라고 생각합니다. 언패킹으로 튜플에서 여러개의 데이터를 한꺼번에 꺼내와 각각 변수(리스트를 슬라이싱한 것)에 할당하게 된다는 것은 결과적으로 튜플의 값들이 하나의 수치형 변수로 들어가게 됩니다."
   ]
  },
  {
   "cell_type": "code",
   "execution_count": 8,
   "metadata": {
    "collapsed": false
   },
   "outputs": [
    {
     "name": "stdout",
     "output_type": "stream",
     "text": [
      "[1, 100, 101, 102, 4, 5]\n"
     ]
    }
   ],
   "source": [
    "L=[1, 2, 3, 4, 5]\n",
    "\n",
    "L[1:3] = [100, 101, 102]\n",
    "print L "
   ]
  },
  {
   "cell_type": "markdown",
   "metadata": {},
   "source": [
    "> 이 문제는 위의 문제와 같다고 생각합니다. 튜플 뿐만아니라 리스트도 하나하나씩 값을 저장하게 되기 때문에 위와 같은 결과가 나오게 된다고 생각합니다."
   ]
  },
  {
   "cell_type": "code",
   "execution_count": 9,
   "metadata": {
    "collapsed": false
   },
   "outputs": [
    {
     "name": "stdout",
     "output_type": "stream",
     "text": [
      "[1, (100, 101, 102), 4, 5]\n"
     ]
    }
   ],
   "source": [
    "L=[1, 2, 3, 4, 5]\n",
    "\n",
    "L[1:3] = [(100, 101, 102)]\n",
    "print L "
   ]
  },
  {
   "cell_type": "markdown",
   "metadata": {},
   "source": [
    "> 이 문제는 조금 다른데, 리스트안에 값이 있는데 그 값이 수치형이 아닌 튜플의 형태로 되어 있는 경우입니다. 이런 경우에도 위의 문제와 같이 하나하나씩 값이 들어가는데 그 하나하나의 값의 단위가 튜플이 되게 됩니다. 그러므로, 리스트 안에 하나의 튜플이 들어가게 되어 위와 같은 값이 나오게 됩니다.\n"
   ]
  },
  {
   "cell_type": "code",
   "execution_count": 10,
   "metadata": {
    "collapsed": false
   },
   "outputs": [
    {
     "name": "stdout",
     "output_type": "stream",
     "text": [
      "[1, [100, 101, 102], 4, 5]\n"
     ]
    }
   ],
   "source": [
    "L=[1, 2, 3, 4, 5]\n",
    "\n",
    "L[1:3] = [[100, 101, 102]]\n",
    "print L "
   ]
  },
  {
   "cell_type": "markdown",
   "metadata": {},
   "source": [
    "> 이 문제도 위의 문제와 같습니다. 값이 하나씩들어가는데 그 단위가 리스트이므로, 하나의 리스트가 슬라이싱 한 값과 치환되면서 이와 같은 결과가 나오게 됩니다."
   ]
  },
  {
   "cell_type": "markdown",
   "metadata": {},
   "source": [
    "-------  \n",
    "- 문자열 S = 'Hello World and Python'에 대해 다음 요구사항에 대한 Python 코드를 제시하시오.\n",
    "    - 1) 단어의 순서가 역순으로 되어진 문자열 ('Python and World Hello')을 만들고\n",
    "    - 2) 1)의 결과 문자열에 대해 메소드 split과 join을 이용하여 공백을 모두 없엔 문자열 'PythonandWorldHello'을 만드시오."
   ]
  },
  {
   "cell_type": "code",
   "execution_count": 41,
   "metadata": {
    "collapsed": false,
    "scrolled": true
   },
   "outputs": [
    {
     "name": "stdout",
     "output_type": "stream",
     "text": [
      "Python and World Hello\n"
     ]
    }
   ],
   "source": [
    "# 문제 1) \n",
    "s = 'Hello World and Python'\n",
    "s = s.split()\n",
    "\n",
    "for c in range(0, len(s)/2):\n",
    "    s[-c-1], s[c] = s[c], s[-c-1]\n",
    "s = ' '.join(s)\n",
    "print s"
   ]
  },
  {
   "cell_type": "code",
   "execution_count": 42,
   "metadata": {
    "collapsed": false
   },
   "outputs": [
    {
     "name": "stdout",
     "output_type": "stream",
     "text": [
      "PythonandWorldHello\n"
     ]
    }
   ],
   "source": [
    "# 문제 2) \n",
    "s = s.split()\n",
    "s = ''.join(s)\n",
    "print s"
   ]
  },
  {
   "cell_type": "markdown",
   "metadata": {},
   "source": [
    "---  \n",
    "## 설명  \n",
    "1) 문제에서는 split 사용하여 일단 단어 단위로 자른 후, 그 단어를 for문을 돌려서 맨뒤 단어와 맨 앞 단어를 서로 swap하게 만들었습니다. 그리고 다시 각각의 단어 안에 띄어쓰기를 넣어서 join 합니다.  \n",
    "\n",
    "2) 문제는 1) 문제에 이어서 split와 join을 사용하였습니다. split로 1) 문제와 같이 띄어쓰기를 기준으로 split를 하고, join 함수에는 아무것도 없는 공백 문자열로 join을 합니다.  \n",
    "\n",
    "----  "
   ]
  },
  {
   "cell_type": "markdown",
   "metadata": {},
   "source": [
    "- 다음 코드를 보고 물음에 답하시오.  \n",
    "\n",
    "        a = [1, 2, 3]  \n",
    "        b = a * 3  \n",
    "        c = [a] * 3  \n",
    "        print b  \n",
    "        print c  \n",
    "\n",
    "    - 1) 위 코드를 수행한 이후 다음 코드를 수행한 후 b와 c의 내용을 확인하시오.\n",
    "            a[0]=0\n",
    "    - 2) b와 c 객체의 차이는 무엇인가?"
   ]
  },
  {
   "cell_type": "code",
   "execution_count": 43,
   "metadata": {
    "collapsed": false
   },
   "outputs": [
    {
     "name": "stdout",
     "output_type": "stream",
     "text": [
      "[1, 2, 3, 1, 2, 3, 1, 2, 3]\n",
      "[[1, 2, 3], [1, 2, 3], [1, 2, 3]]\n"
     ]
    }
   ],
   "source": [
    "a = [1, 2, 3]  \n",
    "b = a * 3  \n",
    "c = [a] * 3  \n",
    "print b  \n",
    "print c"
   ]
  },
  {
   "cell_type": "code",
   "execution_count": 48,
   "metadata": {
    "collapsed": false
   },
   "outputs": [
    {
     "name": "stdout",
     "output_type": "stream",
     "text": [
      "[1, 2, 3, 1, 2, 3, 1, 2, 3]\n",
      "[[0, 2, 3], [0, 2, 3], [0, 2, 3]]\n"
     ]
    }
   ],
   "source": [
    "# 문제 1)\n",
    "a[0] = 0 \n",
    "print b\n",
    "print c"
   ]
  },
  {
   "cell_type": "markdown",
   "metadata": {},
   "source": [
    "---  \n",
    "> 문제 1)을 실행하면 b 객체에는 아무 값도 영향이 없고, c 객체는 영향을 받았습니다."
   ]
  },
  {
   "cell_type": "markdown",
   "metadata": {},
   "source": [
    "----  \n",
    "\n",
    "- 문제 2) b와 c 객체의 차이는 무엇인가?  \n",
    "\n",
    "> 여기서 b와 c 객체의 차이는 리스트 a의 identity와의 차이가 있기때문입니다. 일단, 리스트 b같은 경운에는 a에 들어있는 값들을 3번 반복한 결과를 그대로 리스트 b에 저장했기 때문에, 하나의 리스트에 다른 값들이 하나씩들어간 [1,2,3,1,2,3,1,2,3]이 저장되게 됩니다. 하지만, 리스트 b는 리스트 a에서 저장된 identity를 저장한것이 아니고, value값만 3번 반복해서 넣은 것뿐이기 때문에 리스트 b가 가진 identity는 리스트 a와 전혀 다른 값이 저장됩니다.  \n",
    "> 하지만 리스트 c 같은 경우에는 리스트 a 자체를 3번 반복해서 저장하고 있습니다. 이런 경우에는 리스트 c에 [[1,2,3],[1,2,3],[1,2,3]] 처럼 리스트가 하나의 단위로 리스트 c안에 들어가게 되고, 리스트 c에는 리스트 a에서 저장된 identity와 같은 값이 리스트 c에 들어가게됩니다. 즉, 리스트 c에 들어있는 리스트 [1,2,3]은 리스트 a가 가르키는 identity와 동일하게 되고, 그렇기 때문에 a[0]=0와 처럼 리스트 a에 저장된 값에서 변화가 생길 경우에 리스트 c에서 변화가 일어나게 됩니다."
   ]
  },
  {
   "cell_type": "markdown",
   "metadata": {},
   "source": [
    "----  \n",
    "- 다음 문자열을 ':'을 기준으로 분리하여 리스트로 만들고 각 문자열의 좌우 공백을 제거하시오 (즉, 문자열 S에서 l을 만들어라)  \n",
    "\n",
    "        s = '  first star   :   second star   :    third star  '  \n",
    "        l = ['first star', 'second star', 'third star']  \n",
    "    - 1) for ~ in 문을 이용한 코드를 작성하시오.  \n",
    "    - 2) 리스트 내포(list comprehension)를 이용한 코드를 작성하시오.  "
   ]
  },
  {
   "cell_type": "code",
   "execution_count": 55,
   "metadata": {
    "collapsed": false
   },
   "outputs": [
    {
     "name": "stdout",
     "output_type": "stream",
     "text": [
      "['first star', 'second star', 'third star']\n"
     ]
    }
   ],
   "source": [
    "# 문제 1)\n",
    "s = '  first star   :   second star   :    third star  '\n",
    "s = s.split(':')\n",
    "l = []\n",
    "\n",
    "for i in s:\n",
    "    i = i.strip()\n",
    "    l.append(i)\n",
    "print l\n"
   ]
  },
  {
   "cell_type": "code",
   "execution_count": 62,
   "metadata": {
    "collapsed": false
   },
   "outputs": [
    {
     "name": "stdout",
     "output_type": "stream",
     "text": [
      "['first star', 'second star', 'third star']\n"
     ]
    }
   ],
   "source": [
    "# 문제 2)\n",
    "\n",
    "s = '  first star   :   second star   :    third star  '\n",
    "s = s.split(':')\n",
    "l = [i.strip() for i in s]\n",
    "print l"
   ]
  },
  {
   "cell_type": "markdown",
   "metadata": {},
   "source": [
    "---  \n",
    "## 설명  \n",
    "\n",
    "> 문제 1)와 문제 2) 은 일단 리스트 s를 일단 split를 사용해서 ':'로 단어 마다 나눕니다. 그리고 문제 1)에서는 for ~ in 을 사용해서 각 단어를 strip를 사용해서 좌우공백을 제거하고, append를 사용해서 각 각의 단어를 리스트에 저장합니다. 문제 2)는 문제 1)을 내포를 사용한 것입니다."
   ]
  },
  {
   "cell_type": "markdown",
   "metadata": {},
   "source": [
    "---  \n",
    "- 다음과 같이 0보다 큰 정수 리스트 변수 list를 인자로 받는 함수 addall(list)와 addallodd(list)를 for ~ in 리터널과 리스트 내포 방식으로 각각 제시하시오.  \n",
    "    - 1) addall(list) 함수 (리스트 내의 모든 정수를 더하는 함수로서 해답으로는 for ~ in 리터럴과 리스트 내포 방식으로 각각 제시하시오.)  \n",
    "            >>> addall([1])\n",
    "            1\n",
    "            >>> addall([1, 2, 3, 4, 5, 6, 7, 8, 9])\n",
    "            45\n",
    "    - 2) addallodd(list) 함수 (리스트내의 모든 홀수를 더하는 함수로서 해답으로는 for ~ in 리터럴과 리스트 내포 방식으로 각각 제시하시오.)\n",
    "            >>> addallodd([1])\n",
    "            1\n",
    "            >>> addallodd([1, 2, 3, 4, 5, 6, 7, 8, 9])\n",
    "            25\n",
    "    - [참고 1]: 리스트 내포 방식으로 addall() 및 addallodd()함수를 만들 때엔 리스트 내포에 의해 생성된 리스트 결과에 대해 내장 함수를 사용하는 방식을 고려해보시오 (주의: 리스트 내포 방식의 addall() 및 addallodd() 함수의 몸체는 단 1줄로 작성되어야 한다.)\n",
    "    - [참고 2]: sum() 등의 내장함수 사용 가능함  \n",
    "---"
   ]
  },
  {
   "cell_type": "code",
   "execution_count": 100,
   "metadata": {
    "collapsed": false
   },
   "outputs": [
    {
     "name": "stdout",
     "output_type": "stream",
     "text": [
      "1\n",
      "45\n"
     ]
    }
   ],
   "source": [
    "# 문제 1) - for ~ in 리터럴\n",
    "def addall(list):\n",
    "    sum_list = 0\n",
    "    for i in list:\n",
    "        sum_list += i\n",
    "    return sum_list\n",
    "\n",
    "print addall([1])\n",
    "print addall([1, 2, 3, 4, 5, 6, 7, 8, 9])\n"
   ]
  },
  {
   "cell_type": "code",
   "execution_count": 101,
   "metadata": {
    "collapsed": false
   },
   "outputs": [
    {
     "name": "stdout",
     "output_type": "stream",
     "text": [
      "1\n",
      "45\n"
     ]
    }
   ],
   "source": [
    "# 문제 1) - 리스트 내포 방식\n",
    "def addall(list):\n",
    "    return sum([i for i in list])\n",
    "\n",
    "print addall([1])\n",
    "print addall([1, 2, 3, 4, 5, 6, 7, 8, 9])\n"
   ]
  },
  {
   "cell_type": "code",
   "execution_count": 102,
   "metadata": {
    "collapsed": false
   },
   "outputs": [
    {
     "name": "stdout",
     "output_type": "stream",
     "text": [
      "1\n",
      "25\n"
     ]
    }
   ],
   "source": [
    "# 문제 2) - for ~ in 리터럴\n",
    "def addallodd(list):\n",
    "    sum_list = 0\n",
    "    for i in list:\n",
    "        if i % 2 != 0: \n",
    "            sum_list += i\n",
    "    return sum_list\n",
    "\n",
    "print addallodd([1])\n",
    "print addallodd([1, 2, 3, 4, 5, 6, 7, 8, 9])"
   ]
  },
  {
   "cell_type": "code",
   "execution_count": 103,
   "metadata": {
    "collapsed": false
   },
   "outputs": [
    {
     "name": "stdout",
     "output_type": "stream",
     "text": [
      "1\n",
      "25\n"
     ]
    }
   ],
   "source": [
    "# 문제 2) - 리스트 내포 방식\n",
    "def addall(list):\n",
    "    return sum([i for i in list if i % 2 != 0])\n",
    "\n",
    "print addallodd([1])\n",
    "print addallodd([1, 2, 3, 4, 5, 6, 7, 8, 9])"
   ]
  },
  {
   "cell_type": "markdown",
   "metadata": {},
   "source": [
    "---  \n",
    "## 설명\n",
    "\n",
    "문제 1) for ~ in 리터럴을 이용한 문제풀이는 list의 모든 값을 for ~ in을 사용하여 sum_list라는 변수에 저장한 후 sum_list를 return 하며, 문제 1) 내포 이용한 문제풀이는 내장함수 sum을 사용하여 list의 값을 리스트 내포 방식으로 사용하여 임의의 list를 만들고, sum함수 list를 저장하여 return 하게 됩니다. 사실 리스트 내포 방식을 사용할 때는 \n",
    "굳이 저런 식으로 사용하지 않고,\n",
    "> def addall(list):  \n",
    "    >      return sum(list)\n",
    "\n",
    "라고 해도 되는데 문제에서 리스트 내포 방식을 사용하라고 했기 때문에 저런식으로 문제를 풀이했습니다.  \n",
    "  \n",
    "문제 2)는 대부분이 문제 1)과 동일하지만 for문 내에 if문이 사용됩니다. 단순히 홀수만 리스트에 저장하는 식을 사용해서 홀수만 저장한 return입니다. 홀수를 찾아내는 방식을 i를 2로 나누었을 때, 나누어 떨어지지 않는 수를 생각했습니다."
   ]
  },
  {
   "cell_type": "markdown",
   "metadata": {},
   "source": [
    "----   \n",
    "- 다음 코드를 보고 물음에 답하시오.  \n",
    "\n",
    "        L1 = [1, 2, 3]\n",
    "        L2 = [4, 5, 6]\n",
    "        d = {'low':L1, 'high':L2}\n",
    "        e = d\n",
    "        f = d.copy()\n",
    "        print d\n",
    "        print e\n",
    "        print f\n",
    "        print\n",
    "        d['low'] = [10, 20, 30]\n",
    "        d['high'][1] = 500\n",
    "        print d\n",
    "        print e\n",
    "        print f\n",
    "    - 1) 위 코드의 수행 결과 d와 e는 항상 같은 결과를 출력한다. 그 이유는 무엇인가?\n",
    "    - 2) 위 코드의 수행 결과 마지막 f의 내용은 다음과 같다. 이 때 'high' 키의 값 내용 중 500이 출력된 이유와 'low' 키의 값 내용 중 [1, 2, 3]이 출력된 이유를 설명하시오 ([hint]: shallow copy 관점에서 설명하시오.)\n",
    "            {'high': [4, 500, 6], 'low': [1, 2, 3]}\n"
   ]
  },
  {
   "cell_type": "code",
   "execution_count": 104,
   "metadata": {
    "collapsed": false
   },
   "outputs": [
    {
     "name": "stdout",
     "output_type": "stream",
     "text": [
      "{'high': [4, 5, 6], 'low': [1, 2, 3]}\n",
      "{'high': [4, 5, 6], 'low': [1, 2, 3]}\n",
      "{'high': [4, 5, 6], 'low': [1, 2, 3]}\n",
      "\n",
      "{'high': [4, 500, 6], 'low': [10, 20, 30]}\n",
      "{'high': [4, 500, 6], 'low': [10, 20, 30]}\n",
      "{'high': [4, 500, 6], 'low': [1, 2, 3]}\n"
     ]
    }
   ],
   "source": [
    "L1 = [1, 2, 3]\n",
    "L2 = [4, 5, 6]\n",
    "d = {'low':L1, 'high':L2}\n",
    "e = d\n",
    "f = d.copy()\n",
    "print d\n",
    "print e\n",
    "print f\n",
    "print\n",
    "d['low'] = [10, 20, 30]\n",
    "d['high'][1] = 500\n",
    "print d\n",
    "print e\n",
    "print f"
   ]
  },
  {
   "cell_type": "markdown",
   "metadata": {},
   "source": [
    "------  \n",
    "### 1) 풀이 \n",
    "\n",
    "사전 d와 e가 항상 같은 결과를 출력하는 이유는 사전 d와 e의 identity 값이 동일 하기 때문입니다. 즉, 사전 d에서 가르키는 identity를 e에 저장했기 때문에 동일한 사전 객체에 대한 identity를 가지고 있고, 그렇기 때문에 사전의 key와 value 값을 변경하더라도 d와 e 모두 같이 변경되게 됩니다.  \n",
    "\n",
    "### 2) 풀이  \n",
    "\n",
    "여기서 사전 e와 f가 변화가 같이 일어나는 부분과 다르게 되는 부분에 대해 설명하는 문제입니다. 일단 풀이에 들어가기 앞서, f는 e를 copy한 것으로 value만 복사한 것일 뿐이므로, value에 저장된 리스트가 가르키는 identity가 사전 d와 다른 shallow copy를 뜻합니다.  \n",
    "\n",
    "키 'high'가 지닌 value의 리스트 내부의 값이 가르키는 객체는 d,e,f가 모두 동일합니다. 그러므로 리스트 내부의 값을 변경할 때는 같이 변경됩니다.\n",
    "하지만 사전 d에서 키 'low'의 value 값 자체(list를 가르키는 identity)를 변경하는 경우에는 identity가 동일한 사전 e는 d와 동일하게 변경되지만, f는 identity가 다르므로 변경되지 않는 것을 알 수 있습니다.\n",
    "\n",
    "---  "
   ]
  },
  {
   "cell_type": "markdown",
   "metadata": {},
   "source": [
    "- 사전 d = {'one':1, 'two':2, 'three':3, 'four':4, 'five':5}가 주어졌을 때 다음 요구사항에 맞는 코드를 제시하시오  \n",
    "    - [참고]: d.keys(), d.values()를 통해 리스트를 얻어낸 후 리스트가 지니고 있는 sort(cmp=None, key=None, reverse=False)함수를 활용하시오.\n",
    "    - 1) 키의 알파벳 오름차순 순서대로 튜플 (키, 값)을 차례대로 출력하시오.\n",
    "    - 2) 키의 알파벳 내림차순 순서대로 튜플 (키, 값)을 차례대로 출력하시오.\n",
    "    - 3) 값의 오름차순 순서대로 튜플 (키, 값)을 차례대로 출력하시오.\n",
    "    - 4) 값의 내림차순 순서대로 튜플 (키, 값)을 차례대로 출력하시오.\n",
    "    \n",
    "---  "
   ]
  },
  {
   "cell_type": "code",
   "execution_count": 141,
   "metadata": {
    "collapsed": false
   },
   "outputs": [
    {
     "name": "stdout",
     "output_type": "stream",
     "text": [
      "('five', 5)\n",
      "('four', 4)\n",
      "('one', 1)\n",
      "('three', 3)\n",
      "('two', 2)\n"
     ]
    }
   ],
   "source": [
    "# 문제 1)\n",
    "d = {'one':1, 'two':2, 'three':3, 'four':4, 'five':5}\n",
    "keys_list = d.keys()\n",
    "keys_list.sort()\n",
    "\n",
    "for k in keys_list:\n",
    "    print (k, d[k])"
   ]
  },
  {
   "cell_type": "code",
   "execution_count": 145,
   "metadata": {
    "collapsed": false
   },
   "outputs": [
    {
     "name": "stdout",
     "output_type": "stream",
     "text": [
      "('two', 2)\n",
      "('three', 3)\n",
      "('one', 1)\n",
      "('four', 4)\n",
      "('five', 5)\n"
     ]
    }
   ],
   "source": [
    "# 문제 2)\n",
    "d = {'one':1, 'two':2, 'three':3, 'four':4, 'five':5}\n",
    "keys_list = d.keys()\n",
    "keys_list.sort(reverse = True)\n",
    "\n",
    "for k in keys_list:\n",
    "    print (k, d[k])"
   ]
  },
  {
   "cell_type": "code",
   "execution_count": 156,
   "metadata": {
    "collapsed": false
   },
   "outputs": [
    {
     "name": "stdout",
     "output_type": "stream",
     "text": [
      "('one', 1)\n",
      "('two', 2)\n",
      "('three', 3)\n",
      "('four', 4)\n",
      "('five', 5)\n"
     ]
    }
   ],
   "source": [
    "# 문제 3)\n",
    "d = {'one':1, 'two':2, 'three':3, 'four':4, 'five':5}\n",
    "values_list = d.values()\n",
    "values_list.sort(key=int)\n",
    "\n",
    "\n",
    "for order_v in values_list:\n",
    "    for k, v in d.items():\n",
    "        if v == order_v:\n",
    "            print (k, v)"
   ]
  },
  {
   "cell_type": "code",
   "execution_count": 157,
   "metadata": {
    "collapsed": false
   },
   "outputs": [
    {
     "name": "stdout",
     "output_type": "stream",
     "text": [
      "('five', 5)\n",
      "('four', 4)\n",
      "('three', 3)\n",
      "('two', 2)\n",
      "('one', 1)\n"
     ]
    }
   ],
   "source": [
    "# 문제 4)\n",
    "d = {'one':1, 'two':2, 'three':3, 'four':4, 'five':5}\n",
    "values_list = d.values()\n",
    "values_list.sort(key=int, reverse=True)\n",
    "\n",
    "for order_v in values_list:\n",
    "    for k, v in d.items():\n",
    "        if v == order_v:\n",
    "            print (k, v)"
   ]
  },
  {
   "cell_type": "markdown",
   "metadata": {},
   "source": [
    "----  \n",
    "## 설명 \n",
    "문제 1) 와 문제 2) 사전 d의 key들을 전부 리스트로 저장한 후, key들의 리스트를 sort한 후, for 문을 통해서 사전 d의 key에 맞는 value 값을 가져와서 튜플 형태로 출력합니다. \n",
    "문제 3)와 문제 4) 거의 똑같은 values 값들을 리스트로 만든 후, sort를 하게 됩니다. 그리고 for문을 통해서 사전에 저장된 key 값의 value 값을 sort 시킨 리스트와 맞춰가면서 출력시켰습니다."
   ]
  },
  {
   "cell_type": "markdown",
   "metadata": {},
   "source": [
    "----    \n",
    "## 소감  \n",
    "\n",
    "이번 과제는 조금 힘든 문제가 많았습니다. 그래서 몇 문제 풀지 못했습니다. ㅠㅠ"
   ]
  },
  {
   "cell_type": "code",
   "execution_count": null,
   "metadata": {
    "collapsed": true
   },
   "outputs": [],
   "source": []
  }
 ],
 "metadata": {
  "kernelspec": {
   "display_name": "Python [Root]",
   "language": "python",
   "name": "Python [Root]"
  },
  "language_info": {
   "codemirror_mode": {
    "name": "ipython",
    "version": 2
   },
   "file_extension": ".py",
   "mimetype": "text/x-python",
   "name": "python",
   "nbconvert_exporter": "python",
   "pygments_lexer": "ipython2",
   "version": "2.7.12"
  }
 },
 "nbformat": 4,
 "nbformat_minor": 0
}
