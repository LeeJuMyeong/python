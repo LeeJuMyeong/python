{
 "cells": [
  {
   "cell_type": "markdown",
   "metadata": {},
   "source": [
    "# 1. 약한 참조, 반복자, 발생자"
   ]
  },
  {
   "cell_type": "code",
   "execution_count": 2,
   "metadata": {
    "collapsed": false
   },
   "outputs": [
    {
     "name": "stdout",
     "output_type": "stream",
     "text": [
      "refcount - 2\n",
      "\n",
      "refcount - 3\n",
      "\n",
      "refcount - 3\n",
      "\n"
     ]
    }
   ],
   "source": [
    "import sys\n",
    "import weakref # weakref 모듈 임포트\n",
    "class C:\n",
    "    pass\n",
    "c = C() # 클래스 C의 인스턴스 생성 \n",
    "c.a = 1 # 인스턴스 c에 테스트용 값 설정 \n",
    "print \"refcount -\", sys.getrefcount(c) # 객체 c의 레퍼런스 카운트 조회\n",
    "print\n",
    "\n",
    "d = c # 일반적인 레퍼런스 카운트 증가 방법\n",
    "print \"refcount -\", sys.getrefcount(c) # 객체 c의 레퍼런스 카운트 조회\n",
    "print \n",
    "\n",
    "r = weakref.ref(c) # 약한 참조 객체 r 생성\n",
    "print \"refcount -\", sys.getrefcount(c) # 객체 c의 레퍼런스 카운트 조회 --> 카운트 불변\n",
    "print"
   ]
  },
  {
   "cell_type": "code",
   "execution_count": 3,
   "metadata": {
    "collapsed": false
   },
   "outputs": [
    {
     "name": "stdout",
     "output_type": "stream",
     "text": [
      "<weakref at 0000000003CDD868; to 'instance' at 0000000003CD6E88>\n",
      "<__main__.C instance at 0x0000000003CD6E88>\n",
      "<__main__.C instance at 0x0000000003CD6E88>\n",
      "1\n",
      "\n",
      "None\n"
     ]
    },
    {
     "ename": "AttributeError",
     "evalue": "'NoneType' object has no attribute 'a'",
     "output_type": "error",
     "traceback": [
      "\u001b[1;31m---------------------------------------------------------------------------\u001b[0m",
      "\u001b[1;31mAttributeError\u001b[0m                            Traceback (most recent call last)",
      "\u001b[1;32m<ipython-input-3-0a1d693859de>\u001b[0m in \u001b[0;36m<module>\u001b[1;34m()\u001b[0m\n\u001b[0;32m      8\u001b[0m \u001b[1;32mdel\u001b[0m \u001b[0md\u001b[0m\u001b[1;33m\u001b[0m\u001b[0m\n\u001b[0;32m      9\u001b[0m \u001b[1;32mprint\u001b[0m \u001b[0mr\u001b[0m\u001b[1;33m(\u001b[0m\u001b[1;33m)\u001b[0m \u001b[1;31m# None을 리턴한다\u001b[0m\u001b[1;33m\u001b[0m\u001b[0m\n\u001b[1;32m---> 10\u001b[1;33m \u001b[1;32mprint\u001b[0m \u001b[0mr\u001b[0m\u001b[1;33m(\u001b[0m\u001b[1;33m)\u001b[0m\u001b[1;33m.\u001b[0m\u001b[0ma\u001b[0m \u001b[1;31m# 속성도 참조할 수 없다\u001b[0m\u001b[1;33m\u001b[0m\u001b[0m\n\u001b[0m",
      "\u001b[1;31mAttributeError\u001b[0m: 'NoneType' object has no attribute 'a'"
     ]
    }
   ],
   "source": [
    "print r # 약한 참조(weakref) 객체\n",
    "print r() # 약한 참조로 부터 실제 객체를 참조하는 방법: 약한 참조 객체에 함수형태로 호출\n",
    "print c    # r() == c\n",
    "print r().a # 약한 참조를 이용한 실제 객체 멤버 참조\n",
    "print \n",
    "\n",
    "del c # 객체 제거\n",
    "del d\n",
    "print r() # None을 리턴한다\n",
    "print r().a # 속성도 참조할 수 없다"
   ]
  },
  {
   "cell_type": "code",
   "execution_count": 4,
   "metadata": {
    "collapsed": false
   },
   "outputs": [
    {
     "ename": "TypeError",
     "evalue": "cannot create weak reference to 'dict' object",
     "output_type": "error",
     "traceback": [
      "\u001b[1;31m---------------------------------------------------------------------------\u001b[0m",
      "\u001b[1;31mTypeError\u001b[0m                                 Traceback (most recent call last)",
      "\u001b[1;32m<ipython-input-4-b2a48d12fd2b>\u001b[0m in \u001b[0;36m<module>\u001b[1;34m()\u001b[0m\n\u001b[0;32m      1\u001b[0m \u001b[0md\u001b[0m \u001b[1;33m=\u001b[0m \u001b[1;33m{\u001b[0m\u001b[1;34m'one'\u001b[0m\u001b[1;33m:\u001b[0m \u001b[1;36m1\u001b[0m\u001b[1;33m,\u001b[0m \u001b[1;34m'two'\u001b[0m\u001b[1;33m:\u001b[0m \u001b[1;36m2\u001b[0m\u001b[1;33m}\u001b[0m\u001b[1;33m\u001b[0m\u001b[0m\n\u001b[1;32m----> 2\u001b[1;33m \u001b[0mwd\u001b[0m \u001b[1;33m=\u001b[0m \u001b[0mweakref\u001b[0m\u001b[1;33m.\u001b[0m\u001b[0mref\u001b[0m\u001b[1;33m(\u001b[0m\u001b[0md\u001b[0m\u001b[1;33m)\u001b[0m\u001b[1;33m\u001b[0m\u001b[0m\n\u001b[0m",
      "\u001b[1;31mTypeError\u001b[0m: cannot create weak reference to 'dict' object"
     ]
    }
   ],
   "source": [
    "# 내장 자료형 객체인 리스트 , 사전, 튜플은 약한객체를 만들수 없음\n",
    "d = {'one': 1, 'two': 2}\n",
    "wd = weakref.ref(d)"
   ]
  },
  {
   "cell_type": "code",
   "execution_count": 7,
   "metadata": {
    "collapsed": false
   },
   "outputs": [
    {
     "name": "stdout",
     "output_type": "stream",
     "text": [
      "refcount - 2\n",
      "refcount - 2\n",
      "\n",
      "<__main__.C instance at 0x0000000003D4A508>\n",
      "<__main__.C instance at 0x0000000003D4A508>\n",
      "2\n",
      "2\n"
     ]
    }
   ],
   "source": [
    "import sys\n",
    "import weakref\n",
    "class C:\n",
    "    pass\n",
    "\n",
    "c = C()\n",
    "c.a = 2\n",
    "print \"refcount -\", sys.getrefcount(c) # 객체 c의 레퍼런스 카운트 조회\n",
    "p = weakref.proxy(c) # 프록시 객체를 만든다\n",
    "print \"refcount -\", sys.getrefcount(c) # 객체 c의 레퍼런스 카운트 조회 --> 카운트 불변\n",
    "print \n",
    "print p\n",
    "print c\n",
    "print p.a\n",
    "print c.a"
   ]
  },
  {
   "cell_type": "code",
   "execution_count": 8,
   "metadata": {
    "collapsed": false
   },
   "outputs": [
    {
     "name": "stdout",
     "output_type": "stream",
     "text": [
      "2\n",
      "[<weakref at 0000000003D5F138; to 'instance' at 0000000003D4A508>, <weakproxy at 0000000003D5F048 to instance at 0000000003D4A508>]\n"
     ]
    }
   ],
   "source": [
    "r = weakref.ref(c)\n",
    "p = weakref.proxy(c)\n",
    "print weakref.getweakrefcount(c)\n",
    "print weakref.getweakrefs(c)"
   ]
  },
  {
   "cell_type": "code",
   "execution_count": 11,
   "metadata": {
    "collapsed": false
   },
   "outputs": [
    {
     "name": "stdout",
     "output_type": "stream",
     "text": [
      "<WeakValueDictionary at 64358408>\n",
      "[(1, <__main__.C instance at 0x0000000003D60888>)]\n",
      "4\n",
      "[1]\n",
      "[<__main__.C instance at 0x0000000003D60888>]\n",
      "\n",
      "[]\n"
     ]
    }
   ],
   "source": [
    "import weakref\n",
    "class C:\n",
    "    pass\n",
    "\n",
    "c = C()\n",
    "c.a = 4\n",
    "d = weakref.WeakValueDictionary() # WeakValueDictionary 객체 생성\n",
    "print d\n",
    "\n",
    "d[1] = c # 실제 객체에 대한 약한 참조 아이템 생성\n",
    "print d.items() # 사전 내용 확인\n",
    "print d[1].a # 실제 객체의 속성 참조\n",
    "print d.keys()\n",
    "print d.values()\n",
    "print \n",
    "\n",
    "del c # 실제 객체 삭제\n",
    "print d.items() # 약한 사전에 해당 객체 아이템도 제거되어 있음"
   ]
  },
  {
   "cell_type": "code",
   "execution_count": 12,
   "metadata": {
    "collapsed": false
   },
   "outputs": [
    {
     "name": "stdout",
     "output_type": "stream",
     "text": [
      "{}\n",
      "[(1, <__main__.C instance at 0x0000000003D60548>)]\n",
      "4\n",
      "[1]\n",
      "[<__main__.C instance at 0x0000000003D60548>]\n",
      "\n",
      "[(1, <__main__.C instance at 0x0000000003D60548>)]\n"
     ]
    }
   ],
   "source": [
    "import weakref\n",
    "class C:\n",
    "    pass\n",
    "\n",
    "c = C()\n",
    "c.a = 4\n",
    "d = {}\n",
    "print d\n",
    "\n",
    "d[1] = c # 실제 객체에 대한 약한 참조 아이템 생성\n",
    "print d.items() # 사전 내용 확인\n",
    "print d[1].a # 실제 객체의 속성 참조\n",
    "print d.keys()\n",
    "print d.values()\n",
    "print \n",
    "\n",
    "del c # 실제 객체 삭제\n",
    "print d.items() # 약한 사전에 해당 객체 아이템도 제거되어 있음"
   ]
  },
  {
   "cell_type": "markdown",
   "metadata": {},
   "source": [
    "## 2. 반복자"
   ]
  },
  {
   "cell_type": "code",
   "execution_count": 16,
   "metadata": {
    "collapsed": false
   },
   "outputs": [
    {
     "name": "stdout",
     "output_type": "stream",
     "text": [
      "<listiterator object at 0x0000000003CEA400>\n",
      "1\n",
      "2\n",
      "3\n",
      "\n"
     ]
    }
   ],
   "source": [
    "I = iter([1,2,3])\n",
    "print I\n",
    "\n",
    "print I.next()\n",
    "print I.next()\n",
    "print I.next()\n",
    "print "
   ]
  },
  {
   "cell_type": "code",
   "execution_count": 17,
   "metadata": {
    "collapsed": false
   },
   "outputs": [
    {
     "name": "stdout",
     "output_type": "stream",
     "text": [
      "2\n",
      "3\n",
      "4\n"
     ]
    }
   ],
   "source": [
    "def f(x):\n",
    "    print x + 1\n",
    "    \n",
    "for x in [1,2,3]:\n",
    "    f(x)"
   ]
  },
  {
   "cell_type": "code",
   "execution_count": 18,
   "metadata": {
    "collapsed": false
   },
   "outputs": [
    {
     "name": "stdout",
     "output_type": "stream",
     "text": [
      "2\n",
      "3\n",
      "4\n"
     ]
    }
   ],
   "source": [
    "def f(x):\n",
    "    print x + 1\n",
    "    \n",
    "t = iter([1,2,3])\n",
    "while 1:\n",
    "    try:\n",
    "        x = t.next()\n",
    "    except StopIteration:\n",
    "        break\n",
    "        \n",
    "    f(x)"
   ]
  },
  {
   "cell_type": "code",
   "execution_count": 19,
   "metadata": {
    "collapsed": false
   },
   "outputs": [
    {
     "name": "stdout",
     "output_type": "stream",
     "text": [
      "2\n",
      "3\n",
      "4\n"
     ]
    }
   ],
   "source": [
    "def f(x):\n",
    "    print x + 1\n",
    "t = iter([1,2,3])\n",
    "for x in t:\n",
    "    f(x)"
   ]
  },
  {
   "cell_type": "code",
   "execution_count": 21,
   "metadata": {
    "collapsed": false
   },
   "outputs": [
    {
     "name": "stdout",
     "output_type": "stream",
     "text": [
      "2\n",
      "3\n",
      "4\n"
     ]
    }
   ],
   "source": [
    "def f(x):\n",
    "    print x + 1\n",
    "\n",
    "for x in iter([1,2,3]):\n",
    "    f(x)"
   ]
  },
  {
   "cell_type": "code",
   "execution_count": 20,
   "metadata": {
    "collapsed": false
   },
   "outputs": [
    {
     "name": "stdout",
     "output_type": "stream",
     "text": [
      "2\n",
      "3\n",
      "4\n"
     ]
    }
   ],
   "source": [
    "def f(x):\n",
    "    print x + 1\n",
    "\n",
    "for x in iter((1,2,3)):\n",
    "    f(x)"
   ]
  },
  {
   "cell_type": "code",
   "execution_count": 24,
   "metadata": {
    "collapsed": false
   },
   "outputs": [
    {
     "name": "stdout",
     "output_type": "stream",
     "text": [
      "Hello world\n",
      "Plase, Add me !\n",
      "\n",
      "[]\n",
      "<__main__.Seq instance at 0x0000000003D6F248>\n",
      "['Hello world\\n', 'Plase, Add me !\\n']\n",
      "('Hello world\\n', 'Plase, Add me !\\n')\n"
     ]
    }
   ],
   "source": [
    "class Seq:\n",
    "    def __init__(self, fname):\n",
    "        self.file = open(fname)\n",
    "    #def __getitem__(self, n):\n",
    "    #    if n == 10:\n",
    "    #        raise StopIteration\n",
    "    #    return n\n",
    "    def __iter__(self):\n",
    "        return self\n",
    "    def next(self):\n",
    "        line = self.file.readline() # 한 라인을 읽는다.\n",
    "        if not line: \n",
    "            raise StopIteration     # 읽을 수 없으면 예외 발생\n",
    "        return line                 # 읽은 라인을 리턴한다.\n",
    "    \n",
    "s = Seq('readme.txt')     # s 인스턴스가 next() 메소드를 지니고 있으므로 s 인스턴스 자체가 반복자임 \n",
    "for line in s: # 우선 __iter__() 메소드를 호출하여 반복자를 얻고, 반복자에 대해서 for ~ in 구문에 의하여 next() 메소드가 호출됨\n",
    "    print line,\n",
    "\n",
    "print \n",
    "\n",
    "print Seq('readme.txt')\n",
    "\n",
    "print list(Seq('readme.txt'))  # list() 내장 함수가 객체를 인수로 받으면 해당 객체의 반복자를 얻어와 next()를 매번 호출하여 각 원소를 얻어온다. \n",
    "print tuple(Seq('readme.txt')) # tuple() 내장 함수가 객체를 인수로 받으면 해당 객체의 반복자를 얻어와 next()를 매번 호출하여 각 원소를 얻어온다. \n"
   ]
  },
  {
   "cell_type": "code",
   "execution_count": 25,
   "metadata": {
    "collapsed": false
   },
   "outputs": [
    {
     "name": "stdout",
     "output_type": "stream",
     "text": [
      "four 4\n",
      "three 3\n",
      "five 5\n",
      "two 2\n",
      "one 1\n"
     ]
    }
   ],
   "source": [
    "d = {'one':1, 'two':2, 'three':3, 'four':4, 'five':5}\n",
    "for key in d:\n",
    "    print key, d[key]\n"
   ]
  },
  {
   "cell_type": "code",
   "execution_count": 26,
   "metadata": {
    "collapsed": false
   },
   "outputs": [
    {
     "name": "stdout",
     "output_type": "stream",
     "text": [
      "four 4\n",
      "three 3\n",
      "five 5\n",
      "two 2\n",
      "one 1\n"
     ]
    }
   ],
   "source": [
    "d = {'one':1, 'two':2, 'three':3, 'four':4, 'five':5}\n",
    "for key in iter(d):\n",
    "    print key, d[key]"
   ]
  },
  {
   "cell_type": "code",
   "execution_count": 28,
   "metadata": {
    "collapsed": false
   },
   "outputs": [
    {
     "name": "stdout",
     "output_type": "stream",
     "text": [
      "four three five two one\n"
     ]
    }
   ],
   "source": [
    "for key in d.iterkeys():   # 키에 대한 반복자, d.iterkeys() 가 반환한 반복자에 대해 next() 함수가 순차적으로 불리워짐\n",
    "    print key,"
   ]
  },
  {
   "cell_type": "code",
   "execution_count": 30,
   "metadata": {
    "collapsed": false
   },
   "outputs": [
    {
     "name": "stdout",
     "output_type": "stream",
     "text": [
      "four\n",
      "three five two one\n"
     ]
    }
   ],
   "source": [
    "d = {'one':1, 'two':2, 'three':3, 'four':4, 'five':5}\n",
    "keyset = d.iterkeys()\n",
    "print keyset.next()\n",
    "for key in keyset:\n",
    "    print key, "
   ]
  },
  {
   "cell_type": "code",
   "execution_count": 31,
   "metadata": {
    "collapsed": false
   },
   "outputs": [
    {
     "name": "stdout",
     "output_type": "stream",
     "text": [
      "f.next() Hello world\n",
      "\n",
      "Plase, Add me !\n"
     ]
    }
   ],
   "source": [
    "f = open('readme.txt')\n",
    "print \"f.next()\", f.next()\n",
    "for line in f:\n",
    "    print line,"
   ]
  },
  {
   "cell_type": "code",
   "execution_count": 33,
   "metadata": {
    "collapsed": true
   },
   "outputs": [],
   "source": [
    "def f(a,b):\n",
    "    c = a + b\n",
    "    d = a + b\n",
    "    return c, d\n"
   ]
  },
  {
   "cell_type": "code",
   "execution_count": 34,
   "metadata": {
    "collapsed": true
   },
   "outputs": [],
   "source": [
    "def generate_ints(N):\n",
    "    for i in range(N):\n",
    "        yield i"
   ]
  },
  {
   "cell_type": "code",
   "execution_count": 36,
   "metadata": {
    "collapsed": false
   },
   "outputs": [
    {
     "name": "stdout",
     "output_type": "stream",
     "text": [
      "<generator object generate_ints at 0x0000000003D52C60>\n",
      "\n",
      "0\n",
      "1\n",
      "2\n"
     ]
    },
    {
     "ename": "StopIteration",
     "evalue": "",
     "output_type": "error",
     "traceback": [
      "\u001b[1;31m---------------------------------------------------------------------------\u001b[0m",
      "\u001b[1;31mStopIteration\u001b[0m                             Traceback (most recent call last)",
      "\u001b[1;32m<ipython-input-36-ad159f4ccff0>\u001b[0m in \u001b[0;36m<module>\u001b[1;34m()\u001b[0m\n\u001b[0;32m      5\u001b[0m \u001b[1;32mprint\u001b[0m \u001b[0mgen\u001b[0m\u001b[1;33m.\u001b[0m\u001b[0mnext\u001b[0m\u001b[1;33m(\u001b[0m\u001b[1;33m)\u001b[0m \u001b[1;31m# 발생자 실행 재개. yield에 의해 값 반환 후 다시 중단\u001b[0m\u001b[1;33m\u001b[0m\u001b[0m\n\u001b[0;32m      6\u001b[0m \u001b[1;32mprint\u001b[0m \u001b[0mgen\u001b[0m\u001b[1;33m.\u001b[0m\u001b[0mnext\u001b[0m\u001b[1;33m(\u001b[0m\u001b[1;33m)\u001b[0m \u001b[1;31m# 발생자 실행 재개. yield에 의해 값 반환 후 다시 중단\u001b[0m\u001b[1;33m\u001b[0m\u001b[0m\n\u001b[1;32m----> 7\u001b[1;33m \u001b[1;32mprint\u001b[0m \u001b[0mgen\u001b[0m\u001b[1;33m.\u001b[0m\u001b[0mnext\u001b[0m\u001b[1;33m(\u001b[0m\u001b[1;33m)\u001b[0m \u001b[1;31m# 발생자 실행 재개. yield에 의해 더 이상 반환할 값이 없다면 StopIteration 예외를 던짐\u001b[0m\u001b[1;33m\u001b[0m\u001b[0m\n\u001b[0m",
      "\u001b[1;31mStopIteration\u001b[0m: "
     ]
    }
   ],
   "source": [
    "gen = generate_ints(3) # 발생자 객체를 얻는다. generate_ints() 함수에 대한 초기 스택 프레임이 만들어지나 실행은 중단되어 있는 상태임\n",
    "print gen\n",
    "print \n",
    "print gen.next() # 발생자 객체는 반복자 인터페이스를 가진다. 발생자의 실행이 재개됨. yield에 의해 값 반환 후 다시 실행이 중단됨\n",
    "print gen.next() # 발생자 실행 재개. yield에 의해 값 반환 후 다시 중단\n",
    "print gen.next() # 발생자 실행 재개. yield에 의해 값 반환 후 다시 중단\n",
    "print gen.next() # 발생자 실행 재개. yield에 의해 더 이상 반환할 값이 없다면 StopIteration 예외를 던짐\n"
   ]
  },
  {
   "cell_type": "code",
   "execution_count": 38,
   "metadata": {
    "collapsed": false
   },
   "outputs": [
    {
     "name": "stdout",
     "output_type": "stream",
     "text": [
      "0 1 2 3 4\n"
     ]
    }
   ],
   "source": [
    "for i in generate_ints(5):\n",
    "    print i,"
   ]
  },
  {
   "cell_type": "code",
   "execution_count": 41,
   "metadata": {
    "collapsed": false
   },
   "outputs": [
    {
     "name": "stdout",
     "output_type": "stream",
     "text": [
      "[0, 5, 10, 15, 20, 25, 30, 35, 40, 45, 50, 55, 60, 65, 70, 75, 80, 85, 90, 95]\n"
     ]
    }
   ],
   "source": [
    "print [ k for k in range(100) if k % 5 == 0]"
   ]
  },
  {
   "cell_type": "code",
   "execution_count": 43,
   "metadata": {
    "collapsed": false
   },
   "outputs": [
    {
     "name": "stdout",
     "output_type": "stream",
     "text": [
      "<generator object <genexpr> at 0x0000000003D529D8>\n",
      "0\n",
      "5\n",
      "10\n",
      "15 20 25 30 35 40 45 50 55 60 65 70 75 80 85 90 95\n"
     ]
    }
   ],
   "source": [
    "a = (k for k in range(100) if k % 5 == 0)\n",
    "print a\n",
    "print a.next()\n",
    "print a.next()\n",
    "print a.next()\n",
    "for i in a:\n",
    "    print i,"
   ]
  },
  {
   "cell_type": "code",
   "execution_count": 44,
   "metadata": {
    "collapsed": false
   },
   "outputs": [
    {
     "name": "stdout",
     "output_type": "stream",
     "text": [
      "950\n"
     ]
    }
   ],
   "source": [
    "print sum((k for k in range(100) if k % 5 == 0))"
   ]
  },
  {
   "cell_type": "code",
   "execution_count": 45,
   "metadata": {
    "collapsed": false
   },
   "outputs": [
    {
     "name": "stdout",
     "output_type": "stream",
     "text": [
      "1 1 2 3 5 8 13 21 34 55 89\n"
     ]
    }
   ],
   "source": [
    "def fibonacci(a = 1, b = 1):\n",
    "    while 1:\n",
    "        yield a\n",
    "        a, b = b, a+b\n",
    "        \n",
    "for k in fibonacci():\n",
    "    if k > 100:\n",
    "        break\n",
    "    print k,\n",
    "    "
   ]
  },
  {
   "cell_type": "code",
   "execution_count": 47,
   "metadata": {
    "collapsed": false
   },
   "outputs": [
    {
     "name": "stdout",
     "output_type": "stream",
     "text": [
      "1 3 5 7 9 11 13 15 17 19\n",
      "[1, 3, 5, 7, 9, 11, 13, 15, 17, 19]\n"
     ]
    }
   ],
   "source": [
    "class Odds:\n",
    "    def __init__(self, limit = None): # 생성자 정의\n",
    "        self.data = -1                # 초기 값\n",
    "        self.limit = limit            # 한계 값\n",
    "    def __iter__(self):               # Odds 객체의 반복자를 반환하는 특수 함수\n",
    "        return self\n",
    "    def next(self):                   # 반복자의 필수 함수\n",
    "        self.data += 2\n",
    "        if self.limit and self.limit <= self.data:\n",
    "            raise StopIteration\n",
    "        return self.data\n",
    "\n",
    "for k in Odds(20):\n",
    "    print k,\n",
    "print\n",
    "print list(Odds(20)) # list() 내장 함수가 객체를 인수로 받으면 해당 객체의 반복자를 얻어와 next()를 매번 호출하여 각 원소를 얻어온다. \n"
   ]
  },
  {
   "cell_type": "code",
   "execution_count": 50,
   "metadata": {
    "collapsed": false
   },
   "outputs": [
    {
     "name": "stdout",
     "output_type": "stream",
     "text": [
      "1 3 5 7 9 11 13 15 17 19\n",
      "[1, 3, 5, 7, 9, 11, 13, 15, 17, 19]\n"
     ]
    }
   ],
   "source": [
    "def odds(limit=None):\n",
    "    k = 1\n",
    "    while not limit or limit >= k:\n",
    "        yield k\n",
    "        k += 2\n",
    "        \n",
    "for k in odds(20):\n",
    "    print k,\n",
    "print\n",
    "print list(odds(20)) # list() 내장 함수가 발생자를 인수로 받으면 해당 발생자의 next()를 매번 호출하여 각 원소를 얻어온다. \n"
   ]
  },
  {
   "cell_type": "code",
   "execution_count": null,
   "metadata": {
    "collapsed": true
   },
   "outputs": [],
   "source": []
  }
 ],
 "metadata": {
  "kernelspec": {
   "display_name": "Python [Root]",
   "language": "python",
   "name": "Python [Root]"
  },
  "language_info": {
   "codemirror_mode": {
    "name": "ipython",
    "version": 2
   },
   "file_extension": ".py",
   "mimetype": "text/x-python",
   "name": "python",
   "nbconvert_exporter": "python",
   "pygments_lexer": "ipython2",
   "version": "2.7.12"
  }
 },
 "nbformat": 4,
 "nbformat_minor": 0
}
