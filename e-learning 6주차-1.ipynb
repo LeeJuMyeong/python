{
 "cells": [
  {
   "cell_type": "markdown",
   "metadata": {},
   "source": [
    "## 1 리스트 생성 및 기본 연산"
   ]
  },
  {
   "cell_type": "code",
   "execution_count": 1,
   "metadata": {
    "collapsed": false
   },
   "outputs": [
    {
     "name": "stdout",
     "output_type": "stream",
     "text": [
      "1 Great\n",
      "[2, 'Great'] [1, 2, 'Great']\n",
      "\n",
      "[0, 2, 4, 6, 8]\n",
      "\n",
      "[1, 2, 'Great', 1, 2, 'Great']\n",
      "[1, 2, 'Great', 3, 4, 5]\n",
      "3\n",
      "\n",
      "True\n"
     ]
    }
   ],
   "source": [
    "l = []\n",
    "l = [1, 2, \"Great\"]\n",
    "print l[0], l[-1]\n",
    "print l[1:3], l[:]\n",
    "print\n",
    "\n",
    "L = range(10)\n",
    "print L[::2]\n",
    "print\n",
    "\n",
    "print l * 2\n",
    "print l + [3, 4, 5]\n",
    "print len(l)\n",
    "print\n",
    "print 4 in L"
   ]
  },
  {
   "cell_type": "code",
   "execution_count": 2,
   "metadata": {
    "collapsed": false
   },
   "outputs": [
    {
     "name": "stdout",
     "output_type": "stream",
     "text": [
      "['spam', 'eggs', 123, 1234]\n"
     ]
    }
   ],
   "source": [
    "a = ['spam', 'eggs', 100, 1234]\n",
    "a[2] = a[2] + 23\n",
    "print a"
   ]
  },
  {
   "cell_type": "code",
   "execution_count": 3,
   "metadata": {
    "collapsed": false
   },
   "outputs": [
    {
     "name": "stdout",
     "output_type": "stream",
     "text": [
      "[1, 12, 123, 1234]\n",
      "[1, 123, 1234]\n",
      "[1, 2, 3, 123, 1234]\n"
     ]
    }
   ],
   "source": [
    "a = ['spam', 'eggs', 123, 1234]\n",
    "a[0:2] = [1,12] # 동일한 크기에 대한 슬라이스 치환\n",
    "print a\n",
    "\n",
    "a[0:2] = [1] # 서로 다른 크기에 대한 슬라이스 치환\n",
    "print a\n",
    "\n",
    "a[0:1] = [1, 2, 3] # 서로 다른 크기에 대한 슬라이스 치환\n",
    "print a"
   ]
  },
  {
   "cell_type": "code",
   "execution_count": 4,
   "metadata": {
    "collapsed": false
   },
   "outputs": [
    {
     "name": "stdout",
     "output_type": "stream",
     "text": [
      "[123, 1234]\n"
     ]
    }
   ],
   "source": [
    "a = [1, 12, 123, 1234]\n",
    "a[0:2] = []\n",
    "\n",
    "print a"
   ]
  },
  {
   "cell_type": "code",
   "execution_count": 5,
   "metadata": {
    "collapsed": false
   },
   "outputs": [
    {
     "name": "stdout",
     "output_type": "stream",
     "text": [
      "[123, 'spam', 'ham', 1234]\n",
      "[123, 'spam', 'ham']\n",
      "[123, 'spam', 'ham', 1234, 123, 'spam', 'ham', 1234]\n"
     ]
    }
   ],
   "source": [
    "a = [123, 1234]\n",
    "a[1:1] = ['spam', 'ham'] # 1번째 인덱스에 삽입\n",
    "print a\n",
    "\n",
    "b = [123, 1234]          \n",
    "b[1:2] = ['spam', 'ham'] # 1번째 원소에 대한 치환\n",
    "print b\n",
    "\n",
    "a[:0] = a # 리스트 맨 앞에 자기 자신을 삽입\n",
    "print a"
   ]
  },
  {
   "cell_type": "code",
   "execution_count": 6,
   "metadata": {
    "collapsed": false
   },
   "outputs": [
    {
     "name": "stdout",
     "output_type": "stream",
     "text": [
      "[2, 3, 4]\n",
      "[2]\n"
     ]
    }
   ],
   "source": [
    "a = [1, 2, 3, 4]\n",
    "del a[0]\n",
    "print a\n",
    "\n",
    "del a[1:]\n",
    "print a"
   ]
  },
  {
   "cell_type": "code",
   "execution_count": 7,
   "metadata": {
    "collapsed": false
   },
   "outputs": [
    {
     "name": "stdout",
     "output_type": "stream",
     "text": [
      "[0, 1, 2, 3]\n",
      "[0, 2]\n",
      "[1, 3]\n"
     ]
    }
   ],
   "source": [
    "a = range(4)\n",
    "print a\n",
    "print a[::2]\n",
    "\n",
    "del a[::2]\n",
    "print a"
   ]
  },
  {
   "cell_type": "code",
   "execution_count": 10,
   "metadata": {
    "collapsed": false
   },
   "outputs": [
    {
     "ename": "NameError",
     "evalue": "name 'a' is not defined",
     "output_type": "error",
     "traceback": [
      "\u001b[1;31m---------------------------------------------------------------------------\u001b[0m",
      "\u001b[1;31mNameError\u001b[0m                                 Traceback (most recent call last)",
      "\u001b[1;32m<ipython-input-10-f497b6b6c08d>\u001b[0m in \u001b[0;36m<module>\u001b[1;34m()\u001b[0m\n\u001b[0;32m      2\u001b[0m \u001b[1;32mdel\u001b[0m \u001b[0ma\u001b[0m\u001b[1;33m\u001b[0m\u001b[0m\n\u001b[0;32m      3\u001b[0m \u001b[1;31m# 가비지 컬랙터가 바로 삭제하는 것은 아니다!!! 언젠가는 삭제되긴함~~\u001b[0m\u001b[1;33m\u001b[0m\u001b[1;33m\u001b[0m\u001b[0m\n\u001b[1;32m----> 4\u001b[1;33m \u001b[1;32mprint\u001b[0m \u001b[0ma\u001b[0m\u001b[1;33m\u001b[0m\u001b[0m\n\u001b[0m",
      "\u001b[1;31mNameError\u001b[0m: name 'a' is not defined"
     ]
    }
   ],
   "source": [
    "a = range(5)\n",
    "del a\n",
    "# 가비지 컬랙터가 바로 삭제하는 것은 아니다!!! 언젠가는 삭제되긴함~~\n",
    "print a"
   ]
  },
  {
   "cell_type": "code",
   "execution_count": 9,
   "metadata": {
    "collapsed": false
   },
   "outputs": [
    {
     "name": "stdout",
     "output_type": "stream",
     "text": [
      "['begin', [1, 2, 3], 'end']\n",
      "2\n"
     ]
    }
   ],
   "source": [
    "s = [1, 2, 3]\n",
    "t = ['begin', s, 'end']\n",
    "print t\n",
    "\n",
    "print t[1][1]"
   ]
  },
  {
   "cell_type": "code",
   "execution_count": 11,
   "metadata": {
    "collapsed": false
   },
   "outputs": [
    {
     "name": "stdout",
     "output_type": "stream",
     "text": [
      "['begin', [1, 100, 3], 'end']\n"
     ]
    }
   ],
   "source": [
    "s[1] = 100\n",
    "print t"
   ]
  },
  {
   "cell_type": "code",
   "execution_count": 12,
   "metadata": {
    "collapsed": false
   },
   "outputs": [
    {
     "name": "stdout",
     "output_type": "stream",
     "text": [
      "1\n",
      "['a', ['x', 'y'], 'b']\n",
      "['x', 'y']\n",
      "y\n"
     ]
    }
   ],
   "source": [
    "L = [1, ['a', ['x', 'y'], 'b'], 3]\n",
    "print L[0]\n",
    "print L[1]\n",
    "print L[1][1]\n",
    "print L[1][1][1]"
   ]
  },
  {
   "cell_type": "code",
   "execution_count": 13,
   "metadata": {
    "collapsed": false
   },
   "outputs": [
    {
     "name": "stdout",
     "output_type": "stream",
     "text": [
      "[0, 1, 2, 3, 4, 5, 6, 7, 8, 9]\n",
      "[5, 6, 7, 8, 9, 10, 11, 12, 13, 14]\n",
      "[5, 7, 9, 11, 13]\n"
     ]
    }
   ],
   "source": [
    "print range(10) # 0(Included)부터 10(Excluded)까지\n",
    "\n",
    "print range(5, 15) # 5(Included)부터 15(Excluded)까지\n",
    "\n",
    "print range(5, 15, 2) # 0(Included)부터 10(Excluded)까지, Step: 2"
   ]
  },
  {
   "cell_type": "code",
   "execution_count": 14,
   "metadata": {
    "collapsed": false
   },
   "outputs": [
    {
     "name": "stdout",
     "output_type": "stream",
     "text": [
      "0 inch= 0.0 centi\n",
      "1 inch= 2.54 centi\n",
      "2 inch= 5.08 centi\n",
      "3 inch= 7.62 centi\n",
      "4 inch= 10.16 centi\n",
      "5 inch= 12.7 centi\n",
      "6 inch= 15.24 centi\n",
      "7 inch= 17.78 centi\n",
      "8 inch= 20.32 centi\n",
      "9 inch= 22.86 centi\n"
     ]
    }
   ],
   "source": [
    "for el in range(10):\n",
    "    print el, 'inch=', el * 2.54, 'centi'"
   ]
  },
  {
   "cell_type": "code",
   "execution_count": 15,
   "metadata": {
    "collapsed": false
   },
   "outputs": [
    {
     "name": "stdout",
     "output_type": "stream",
     "text": [
      "0 1 2 3 4 5 6\n"
     ]
    }
   ],
   "source": [
    "sun, mon, tue, wed, thu, fri, sat = range(7)\n",
    "print sun, mon, tue, wed, thu, fri, sat"
   ]
  },
  {
   "cell_type": "code",
   "execution_count": 16,
   "metadata": {
    "collapsed": false
   },
   "outputs": [
    {
     "name": "stdout",
     "output_type": "stream",
     "text": [
      "name = one , num = 1\n",
      "name = two , num = 2\n",
      "name = three , num = 3\n"
     ]
    }
   ],
   "source": [
    "lt = [('one', 1), ('two', 2), ('three', 3)]\n",
    "for t in lt:\n",
    "    print 'name =', t[0] ,', num =', t[1]"
   ]
  },
  {
   "cell_type": "code",
   "execution_count": 17,
   "metadata": {
    "collapsed": false
   },
   "outputs": [
    {
     "name": "stdout",
     "output_type": "stream",
     "text": [
      "name = one, num = 1\n",
      "name = two, num = 2\n",
      "name = three, num = 3\n"
     ]
    }
   ],
   "source": [
    "lt = [('one', 1), ('two', 2), ('three', 3)]\n",
    "for t in lt:\n",
    "    print 'name = %s, num = %s' % t"
   ]
  },
  {
   "cell_type": "code",
   "execution_count": 18,
   "metadata": {
    "collapsed": false
   },
   "outputs": [
    {
     "name": "stdout",
     "output_type": "stream",
     "text": [
      "one 1\n",
      "two 2\n",
      "three 3\n"
     ]
    }
   ],
   "source": [
    "lt = [('one', 1), ('two', 2), ('three', 3)]\n",
    "for name, num in lt:\n",
    "    print name, num"
   ]
  },
  {
   "cell_type": "code",
   "execution_count": 19,
   "metadata": {
    "collapsed": false
   },
   "outputs": [
    {
     "name": "stdout",
     "output_type": "stream",
     "text": [
      "one 1\n",
      "two 2\n",
      "three 3\n"
     ]
    }
   ],
   "source": [
    "LL = [['one', 1], ['two', 2], ['three', 3]]\n",
    "for name, num in LL:\n",
    "    print name, num"
   ]
  },
  {
   "cell_type": "code",
   "execution_count": 20,
   "metadata": {
    "collapsed": false
   },
   "outputs": [
    {
     "name": "stdout",
     "output_type": "stream",
     "text": [
      "[1, 2, 3, 5]\n",
      "[1, 2, 3, 4, 5]\n"
     ]
    }
   ],
   "source": [
    "s = [1, 2, 3]\n",
    "\n",
    "s.append(5) # 리스트 맨 마지막에 정수 값 5 추가\n",
    "print s\n",
    "\n",
    "s.insert(3, 4) # 3 인덱스 위치에 정수 값 4 추가\n",
    "print s"
   ]
  },
  {
   "cell_type": "code",
   "execution_count": 21,
   "metadata": {
    "collapsed": false
   },
   "outputs": [
    {
     "name": "stdout",
     "output_type": "stream",
     "text": [
      "2\n",
      "1\n",
      "5\n"
     ]
    }
   ],
   "source": [
    "s = [1, 2, 3, 4, 5]\n",
    "\n",
    "print s.index(3)        # 값 3의 인덱스 반환\n",
    "\n",
    "print s.count(2)        # 값 2의 개수 반환\n",
    "\n",
    "s = [1, 2, 2, 2, 2, 2, 3, 4, 5]\n",
    "print s.count(2)"
   ]
  },
  {
   "cell_type": "code",
   "execution_count": null,
   "metadata": {
    "collapsed": true
   },
   "outputs": [],
   "source": []
  }
 ],
 "metadata": {
  "kernelspec": {
   "display_name": "Python [Root]",
   "language": "python",
   "name": "Python [Root]"
  },
  "language_info": {
   "codemirror_mode": {
    "name": "ipython",
    "version": 2
   },
   "file_extension": ".py",
   "mimetype": "text/x-python",
   "name": "python",
   "nbconvert_exporter": "python",
   "pygments_lexer": "ipython2",
   "version": "2.7.12"
  }
 },
 "nbformat": 4,
 "nbformat_minor": 0
}
