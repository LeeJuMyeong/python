{
 "cells": [
  {
   "cell_type": "markdown",
   "metadata": {},
   "source": [
    "# Assignment 2  \n",
    "\n",
    "--------------------------------------  \n",
    "2011136093 이주명"
   ]
  },
  {
   "cell_type": "markdown",
   "metadata": {},
   "source": [
    "## 문제 \n",
    "---------------------------\n",
    "- 다음 6 개의 Expression에 대해 Evaluation 결과 값을 출력하고, 해당 결과가 나온 이유에 대해 설명하시오.  \n",
    "    - 1 and 2 and 3 and 4  \n",
    "    - 1 or 2 or 3 or 4\n",
    "    - 1 and 2 or 3 and 4  \n",
    "    - (1 and 2) or (3 and 4)  \n",
    "    - 1 or 2 and 3 or 4  \n",
    "    - (1 or 2) and (3 or 4)  "
   ]
  },
  {
   "cell_type": "code",
   "execution_count": 1,
   "metadata": {
    "collapsed": false
   },
   "outputs": [
    {
     "name": "stdout",
     "output_type": "stream",
     "text": [
      "4\n"
     ]
    }
   ],
   "source": [
    "print 1 and 2 and 3 and 4"
   ]
  },
  {
   "cell_type": "code",
   "execution_count": 2,
   "metadata": {
    "collapsed": false
   },
   "outputs": [
    {
     "name": "stdout",
     "output_type": "stream",
     "text": [
      "1\n"
     ]
    }
   ],
   "source": [
    "print 1 or 2 or 3 or 4"
   ]
  },
  {
   "cell_type": "code",
   "execution_count": 3,
   "metadata": {
    "collapsed": false
   },
   "outputs": [
    {
     "name": "stdout",
     "output_type": "stream",
     "text": [
      "2\n"
     ]
    }
   ],
   "source": [
    "print 1 and 2 or 3 and 4"
   ]
  },
  {
   "cell_type": "code",
   "execution_count": 4,
   "metadata": {
    "collapsed": false
   },
   "outputs": [
    {
     "name": "stdout",
     "output_type": "stream",
     "text": [
      "2\n"
     ]
    }
   ],
   "source": [
    "print (1 and 2) or (3 and 4)"
   ]
  },
  {
   "cell_type": "code",
   "execution_count": 5,
   "metadata": {
    "collapsed": false
   },
   "outputs": [
    {
     "name": "stdout",
     "output_type": "stream",
     "text": [
      "1\n"
     ]
    }
   ],
   "source": [
    "print 1 or 2 and 3 or 4"
   ]
  },
  {
   "cell_type": "code",
   "execution_count": 6,
   "metadata": {
    "collapsed": false
   },
   "outputs": [
    {
     "name": "stdout",
     "output_type": "stream",
     "text": [
      "3\n"
     ]
    }
   ],
   "source": [
    "print (1 or 2) and (3 or 4)"
   ]
  },
  {
   "cell_type": "markdown",
   "metadata": {},
   "source": [
    "-------------------  \n",
    "### 설명  \n",
    "  \n",
    "1. and 연산은 가장 왼쪽에 있는 수(이 Expression의 경우, 1)부터 차례대로 평가하게 됩니다. 단, and 연산자가 결과값을 내는 것이 아니라 평가한 결과값 자체가 출력되게 됩니다. 그리고 정수를 평가할 때는 0이외의 값은 전부 True로 판단하게 되므로, 1은 True로 평가하게 되며, 다음 2를 평가하게 됩니다.  \n",
    "이런 식으로 평가를 하게 되면서 현재 위의 표현식들은 모두 True로 판단되기 때문에, 마지막에 평가를 한 표현식인 4가 출력되게 됩니다. 여기서 True가 아니고 4가 나오는 이유는 위에서 설명했듯이 표현식 차제의 결과값이 출력되는 것이기 때문에 그렇습니다. \n",
    "  \n",
    "2. or 연산자은 and 연산자와 평가 순가는 같습니다. 단, and 연산자와 차이는 and 연산자는 평가하는 도중 False라 판단되면, 그 평가 결과값을 return하게 됩니다. and 연산자는 모두 True일떄만 True로 판단되며, 하나라도 False가 있으면 False로 판단하기 때문에 이러한 점을 반영했다고 할 수 있습니다. 반대로 or 연산자는 모두 False일때만 False로 판단하고, 하나라도 True가 있으면 True가 됩니다.   \n",
    "그러므로 이러한 절차에 따라 평가하게 되면, 처음으로 평가하는 표현식인 1을 평가하게 되고 정수에서 0이외의 수는 True이기 때문에 여기 표현식에서 얻은 결과값을 return하게 됩니다.   \n",
    "  \n",
    "3. and 연산자와 or 연산자는 논리연산자로 우선순위가 같습니다. 그러므로 위에서의 문제와 같이 처음 표현식부터 차례대로 평가를 하게 됩니다. 결과 값이 나오는 과정을 자세히 설명하면, 일단 처음 표현식은 1로 True로 평가하게 되고 and 연산자 다음으로 표현식을 평가하게 됩니다. 그리고 2또한 True로 평가되는데, or 연산자는 True가 나오면 다음 식을 평각하지 않기 때문에 현재의 표현식인 2의 결과값(2)이 출력되게 됩니다.  \n",
    "  \n",
    "4. 이 문제는 괄호가 포함되어있는데, 괄호가 씌어진 표현식이 and 나 or 연산자보다 우선순위가 높기 때문에 순서는 '1 and 2', '3 and 4'의 값을 먼저 찾은 후, or 연산이 이루어지게 됩니다. 그러므로 처음 '1 and 2'에서는 '2'를 return하고, '3 and 4'에서는 '4'를 return 하게 됩니다. 그리고 이러한 결과로 만들어진 '2 or 4'에서는 '2'를 return 하게 됩니다.   \n",
    "  \n",
    "5. 위의 3번 문제와 비슷한 문제로, or과 and 연산자의 위치만 다릅니다. 위의 설명들에서 말했듯이 처음은 '1 or 2'에서의 '1'을 평가하게 됩니다. 그리고 이 표현식은 True가 되면 or 연산자는 True가 나오면 뒤의 식들을 전부 평가하지 않게 됩니다. \n",
    "\n",
    "6. 위의 3번 문제와 비슷한 문제로, 이 문제도 or과 and 연산자의 위치만 다릅니다. 위의 설명들에서 말했듯이 순서를 판단하면, '1 or 2', '3 or 4' 그리고 and 연산을 하게 됩니다. '1 or 2'에서는 '1'이 return 되며, '3 or 4'에서는 '3'이 return 됩니다. 그리고 '1 and 3'에서는 '3'이 return 됩니다."
   ]
  },
  {
   "cell_type": "markdown",
   "metadata": {},
   "source": [
    "--------------------  \n",
    "\n",
    "- 키보드로 정수값을 입력 받고 그 값이 양수인지 음수인지를 비트 연산자를 이용하여 판단하는 프로그램을 작성하시오.  \n",
    "    - [참고] 가장 왼쪽에 있는 비트가 0이면 양수이며, 1이면 음수이다.  \n",
    "    - [참고] 수업보충자료 (https://github.com/bluebibi/python-e-learning/blob/master/supplement.ipynb) 를 참고하시오."
   ]
  },
  {
   "cell_type": "code",
   "execution_count": 7,
   "metadata": {
    "collapsed": false
   },
   "outputs": [
    {
     "name": "stdout",
     "output_type": "stream",
     "text": [
      "정수를 입력하시오.-5\n",
      "입력하신 정수는 음수입니다.\n"
     ]
    }
   ],
   "source": [
    "num = input(u\"정수를 입력하시오.\")\n",
    "if ((num >> 1) > num):\n",
    "    print \"입력하신 정수는 음수입니다.\"\n",
    "else :\n",
    "    print \"입력하신 정수는 양수입니다.\""
   ]
  },
  {
   "cell_type": "markdown",
   "metadata": {
    "collapsed": true
   },
   "source": [
    "---------------  \n",
    "### 설명  \n",
    "일단 키보드로 정수값을 입력받기 위해 input함수를 사용하였습니다. 그리고 값이 양수인지 음수인지를 비트 연산자만을 이용하여 판단하기 위해서는 음수값일 때, 비트 연산자가 어떤 식으로 작용하는 지 알아야했습니다. 참고자료인 수업보충자료를 보니, 오른쪽으로 비트를 이동시키는 >> 연산자의 경우, 음수의 경우 왼쪽의 수가 1로 채워지게 되고 양수의 경우에는 왼쪽의 수가 0으로 채워진다는 것을 알게되었습니다. 그리고 음수일때 왼쪽에 1이 채워지게 되면, 원래 값보다 커지게 되고, 양수일 경우에는 원래 값보다 작아진다는 것을 알게 되어 이러한 식을 썼습니다."
   ]
  },
  {
   "cell_type": "markdown",
   "metadata": {
    "collapsed": true
   },
   "source": [
    "---------------  \n",
    "- 경로에 해당하는 문자열 1개를 입력 받아 그 안에 디렉토리 경로명과 파일명을 분리하여 리스트로 반환하는 함수 div_path(s)를 작성하시오.  \n",
    "    - 인자로 전달하는 문자열은 경로만 들어간다고 가정한다.  \n",
    "    - 각 디렉토리와 파일을 구분하는 문자는 '/'로 가정한다.  \n",
    "    - 반환하는 리스트의 첫번째 원소는 디렉토리이고 두번째 원소는 파일명이다.  \n",
    "    - 다음과 같은 실행 및 출력 결과가 도출되어야 한다.  \n",
    "        - div_path('/usr/local/bin/python')  \n",
    "            - ['/usr/local/bin', 'python']  \n",
    "        - div_path('/home/chulsoo/test.txt')  \n",
    "            - ['/home/chulsoo', 'test.txt']  \n",
    "    - [참고] 리스트(l) 내에 새로운 정수값 (예를 들어 10)을 넣는 방법은 l.append(10) 이다.  "
   ]
  },
  {
   "cell_type": "code",
   "execution_count": 3,
   "metadata": {
    "collapsed": false
   },
   "outputs": [
    {
     "name": "stdout",
     "output_type": "stream",
     "text": [
      "문자열을 입력하시오.'/usr/local/bin/python'\n",
      "/usr/local/bin/python\n",
      "['/usr/local/bin/', 'python']\n",
      "\n",
      "['/home/chulsoo/', 'test.txt']\n"
     ]
    }
   ],
   "source": [
    "def div_path(s):             # 사용자 함수 정의\n",
    "    s = s.split('/')         # 문자열 s에서 '/'로 나눔 (s는 리스트가 됨) \n",
    "    file_name = s[len(s)-1]  # 리스트 s에서 가장 마지막에 있는 값이 파일명\n",
    "    path_name = '/'.join(s)  # 리스트 s를 문자열로 사이에 '/'을 넣어 합침\n",
    "    path_name = path_name.replace(file_name, '')  # s 리스트에서 파일명을 제거\n",
    "    \n",
    "    list = []                # 리스트 list\n",
    "    list.append(path_name)   # 리스트에 값을 넣는 방법 사용\n",
    "    list.append(file_name)\n",
    "    \n",
    "    s = list\n",
    "    \n",
    "    return s\n",
    "\n",
    "s = input(u\"문자열을 입력하시오.\")\n",
    "print s\n",
    "print div_path(s)\n",
    "print \n",
    "print div_path('/home/chulsoo/test.txt')"
   ]
  },
  {
   "cell_type": "markdown",
   "metadata": {},
   "source": [
    "------------------  \n",
    "### 설명  \n",
    "위의 주석처럼 일단 함수 div_path를 정의합니다. 매개변수는 문자열을 받도록하였습니다. 그리고 받은 문자열 s를 split를 이용하여 '/'로 나누고, 그 중 가장 마지막에 있는 값(문자열)을 file_name에 저장합니다. 그리고 다시 나누었던 리스트 s를 join을 사용하여 '/'를 사이에 넣어서 합치게 합니다. 이렇게 만들어진 문자열에서 file_name에 들어간 문자열은 제거된 문자열을 path_name에 저장합니다. 그리고 list라는 리스트 자료형을 만들고, path_name과 file_name을 순서대로 append를 사용하여 넣게 됩니다. 그리고 그 값을 s에 저장한 후, 반환하게 됩니다."
   ]
  },
  {
   "cell_type": "markdown",
   "metadata": {},
   "source": [
    "--------------  \n",
    "- 두 개의 리스트를 인자로 받아서 그 두 개의 리스트에 대한 '합집합'을 반환하는 함수 list_union(lista, listb)를 작성하시오.  \n",
    "    - 인자로 전달하는 리스트 2 개에는 정수값만 들어간다고 가정하자.  \n",
    "    - 함수 내에서 새로운 리스트를 만들어 그 리스트 내에 인자로 받은 두 리스트의 모든 원소를 넣어 반환한다.  \n",
    "    - 반환하는 리스트에는 절대로 중복된 원소가 들어 있으면 안된다 (집합의 조건).  \n",
    "    - 반환하는 리스트는 정렬이 되어 있어야 한다.  \n",
    "    - 다음과 같은 실행 및 출력 결과가 도출되어야 한다.  \n",
    "        - list_union([1, 2, 3], [1, 2, 4])  \n",
    "            - [1, 2, 3, 4]  \n",
    "        - list_union([-10, -5, 0, -1], [100, 9, 0, 9])  \n",
    "            - [-10, -5, -1, 0, 9, 100]  \n",
    "        - list_union([0, 1, 2], [0, 1, 2])  \n",
    "            - [0, 1, 2]  \n",
    "    - [참고] 리스트(l) 내에 새로운 정수값 (예를 들어 10)을 넣는 방법은 l.append(10) 이다.  \n",
    "    - [참고] 임의의 정수값 (x)이 리스트 (l) 내에 존재하는지 판단하는 방법은 x in l 이다.  "
   ]
  },
  {
   "cell_type": "code",
   "execution_count": 22,
   "metadata": {
    "collapsed": false
   },
   "outputs": [
    {
     "name": "stdout",
     "output_type": "stream",
     "text": [
      "[1, 2, 3, 4]\n",
      "\n",
      "[-10, -5, -1, 0, 9, 100]\n",
      "\n",
      "[0, 1, 2]\n",
      "\n"
     ]
    }
   ],
   "source": [
    "def list_union(lista, listb):\n",
    "    list_result = listb\n",
    "    \n",
    "    list_result = list(set(list_result))  # 중복된 값을 걸러냄\n",
    "    \n",
    "    for a in range(0, len(lista)):        # 반복문과 제어문을 사용하여 list_result에 lista 값을 하나씩 비교함\n",
    "        if (lista[a] not in list_result): # 만약, 동일한 값이 없으면 list_result에 그 값을 추가함\n",
    "            list_result.append(lista[a])  \n",
    "    \n",
    "    \n",
    "    for b in range(0, len(list_result)):  # list_result의 값들을 순서에 맡게 정렬\n",
    "        for c in range(b, len(list_result)):\n",
    "            if (list_result[b] > list_result[c]):\n",
    "                list_result[b], list_result[c] = list_result[c], list_result[b]\n",
    "    \n",
    "    return list_result\n",
    "\n",
    "print list_union([1, 2, 3], [1, 2, 4])\n",
    "print \n",
    "print list_union([-10, -5, 0, -1], [100, 9, 0, 9])\n",
    "print \n",
    "print list_union([0, 1, 2], [0, 1, 2])\n",
    "print      "
   ]
  },
  {
   "cell_type": "markdown",
   "metadata": {},
   "source": [
    "---------------------  \n",
    "### 설명  \n",
    "\n",
    "이 문제는 위의 문제와 유사하게 함수를 정의하는 것부터 시작했습니다. 일단 문제에서 요구한 것과 같이 크게 함수의 형태, 중복성, 그리고 정렬을 하였습니다. 처음에는 일단 listb의 값을 list_result에 저장하고, 이후 list_result에 중복된 값을 없애기 위해 자료형 set을 사용합니다.  \n",
    "자료형 set은 크게 두가지 특징을 가진다고 합니다. 그 첫 번째는 중복을 허용하지 않는다는 것이고, 두 번째는 set 내부에 있는 값들은 순서가 존재하지 않는다는 점입니다.  \n",
    "그리고 이후 반복문과 제어문을 사용하여 list_result의값들과 lista의 값들을 비교하여 list_result에 없는 값들만 list_result에 추가로 저장합니다. \n",
    "그리고 마지막으로 list_result에 있는 값들을 크기에 맞게 재배열하게 됩니다. 이때는 swap과 같은 방식으로 변경하게 됩니다. "
   ]
  },
  {
   "cell_type": "markdown",
   "metadata": {},
   "source": [
    "-----------------  \n",
    "[프로젝트 오일러 문제 4]  \n",
    "\n",
    "앞에서부터 읽을 때나 뒤에서부터 읽을 때나 모양이 같은 수를 대칭수(palindrome)라고 부릅니다.\n",
    "두 자리 수를 곱해 만들 수 있는 대칭수 중 가장 큰 수는 9009 (= 91 × 99) 입니다.\n",
    "세 자리 수를 곱해 만들 수 있는 가장 큰 대칭수는 얼마입니까?"
   ]
  },
  {
   "cell_type": "code",
   "execution_count": 3,
   "metadata": {
    "collapsed": false,
    "scrolled": true
   },
   "outputs": [
    {
     "name": "stdout",
     "output_type": "stream",
     "text": [
      "906609\n"
     ]
    }
   ],
   "source": [
    "def palindrome_num(num):        # 인자 값이 대칭수라면 True, 아니면 False를 반환하는 함수\n",
    "    str_num = str(num)           # 정수인 인수의 값을 문자열 str_num에 저장\n",
    "    length = len(str_num)/2\n",
    "    for a in range(0, length):\n",
    "        if(str_num[a] != str_num[-a-1]):\n",
    "            return False\n",
    "    return True\n",
    "    \n",
    "num_max = 0\n",
    "    \n",
    "for a in range (100, 1000):\n",
    "    for b in range (a, 1000):\n",
    "        num = a * b\n",
    "        if palindrome_num(num):\n",
    "            num_max = max(num_max, num)\n",
    "print num_max"
   ]
  },
  {
   "cell_type": "markdown",
   "metadata": {},
   "source": [
    "-----------------  \n",
    "## 설명\n",
    "이 문제는 세자리수를 곱해 만들 수 있는 가장 큰 대칭수를 얻는 것이기 때문에, a의 범위를 100부터 1000사이의 값으로 지정하였습니다. 그리고 b의 범위는 a부터 1000사이의 값으로 반복을하는 데, 그 이유는 이미 이전 반복문에서 a에서 반복되는 값은 이미 b에서 사용해서 곱했었기 때문에 중복이 생기고 그 중복을 조금 줄이기 위함입니다. 그리고 대칭수의 사실 여부를 판단할 수 있는 함수를 정의했습니다. 이 때, 함수에는 현재 받은 인자 값을 얻고 그 인자 값을 문자열로 만든 후, 각 각 대칭되는 수를 확인하고, 대칭이 맞다면, True 값을 반환하고 아니라면 False 값을 반환하게 됩니다. 그리고 이 함수에서 True가 나왔다면, 그 값을 num_max라는 값에 저장하는데, 이때에도 이전에 들어가있는 num_max보다 큰 수만이 들어가게 max함수를 사용하였습니다."
   ]
  },
  {
   "cell_type": "markdown",
   "metadata": {},
   "source": [
    "-------------------  \n",
    "[프로젝트 오일러 문제 5]    \n",
    "1 ~ 10 사이의 어떤 수로도 나누어 떨어지는 가장 작은 수는 2520입니다.  \n",
    "그러면 1 ~ 20 사이의 어떤 수로도 나누어 떨어지는 가장 작은 수는 얼마입니까?"
   ]
  },
  {
   "cell_type": "code",
   "execution_count": 26,
   "metadata": {
    "collapsed": false
   },
   "outputs": [
    {
     "name": "stdout",
     "output_type": "stream",
     "text": [
      "232792560\n"
     ]
    }
   ],
   "source": [
    "def prime(num):\n",
    "    if num == 1 or num == 2:\n",
    "        return num\n",
    "    for i in range(2, num):\n",
    "        if ((num%i) == 0):\n",
    "            return 0\n",
    "    return num\n",
    "        \n",
    "    \n",
    "start_num = 1\n",
    "result = 0\n",
    "\n",
    "for a in range(1, 21):\n",
    "    if prime(a):\n",
    "        start_num = start_num * a\n",
    "        \n",
    "for b in range(start_num * 20, 1000000000, 20):\n",
    "    for c in range(1, 21):\n",
    "        if (b % c != 0):\n",
    "            break\n",
    "        if c >= 20: \n",
    "            break\n",
    "    if c >= 20:\n",
    "        break\n",
    "        \n",
    "print b\n",
    "        "
   ]
  },
  {
   "cell_type": "markdown",
   "metadata": {},
   "source": [
    "----------------  \n",
    "## 설명\n",
    "\n",
    "이 문제는 일단 반복문의 최소 시작 숫자를 찾기 위해, 1~20 사이의 소수를 전부 찾습니다. 그리고 그 소수를 전부 곱하고 start_num에 저장하게 됩니다. 소수를 찾는 함수는 prime라는 함수로 정의 하였습니다. (여기서의 소수를 찾는 함수에는 1을 포함하게 만들었습니다.) 그리고 start_num * 20이 반복문에서 처음 시작 숫자가 됩니다.(여기서 20을 곱하는 이유는 20의 배수로 증가시키기 때문에, 20이라는 수로 나누어져야한 20씩 증가하는 반복문을 사용할 수 있기 때문입니다. 만약, 20을 곱하지 않으면, 20씩 더한득 정확한 값을 얻을 수 없습니다.)  \n",
    "그리고 이 초기 숫자부터 step을 20씩 올리는 식으로 반복문을 사용하게 됩니다. 그리고 반복문을 들어간 숫자들을 1~20까지로 나누게 됩니다. 이때 나누어지지 않는 숫자가 있을 경우에는 다시 20을 증가시키고 다시 나누기 시작합니다. 그렇게 반복하면서 나누어지지 않는 숫자가 없으면, 그 값을 result에 저장하게 되고 모든 반복문을 빠져나오고 그 값을 출력합니다.  \n"
   ]
  },
  {
   "cell_type": "markdown",
   "metadata": {},
   "source": [
    "--------------  \n",
    "[프로젝트 오일러 문제 6]  \n",
    "1부터 10까지 자연수를 각각 제곱해 더하면 다음과 같습니다 (제곱의 합).  \n",
    "    > 1^2 + 2^2 + ... + 10^2 = 385  \n",
    "1부터 10을 먼저 더한 다음에 그 결과를 제곱하면 다음과 같습니다 (합의 제곱).  \n",
    "    > (1 + 2 + ... + 10)^2 = 55^2 = 3025  \n",
    "따라서 1부터 10까지 자연수에 대해 \"합의 제곱\"과 \"제곱의 합\" 의 차이는 3025 - 385 = 2640 이 됩니다.  \n",
    "그러면 1부터 100까지 자연수에 대해 \"합의 제곱\"과 \"제곱의 합\"의 차이는 얼마입니까?  "
   ]
  },
  {
   "cell_type": "code",
   "execution_count": 30,
   "metadata": {
    "collapsed": false
   },
   "outputs": [
    {
     "name": "stdout",
     "output_type": "stream",
     "text": [
      "25164150\n"
     ]
    }
   ],
   "source": [
    "square_sum_num = 0\n",
    "sum_square_num = 0\n",
    "\n",
    "for i in range(1,101):\n",
    "    square_sum_num = square_sum_num + pow(i,2)\n",
    "    sum_square_num = sum_square_num + i\n",
    "\n",
    "sum_square_num = pow(sum_square_num, 2)\n",
    "\n",
    "print sum_square_num - square_sum_num"
   ]
  },
  {
   "cell_type": "markdown",
   "metadata": {},
   "source": [
    "-----------------  \n",
    "## 설명\n",
    "\n",
    "이 문제는 단순 문제로 일단, square_sum_num(1부터 100까지 자연수의 \"합의 제곱\")과 sum_square_num(1부터 100까지 자연수의 \"제곱의 합\")을 0으로 저장합니다. 그리고 1부터 100까지의 수를 반복하여, square_sum_num에는 i의 값에 대한 제곱값을 더하고, sum_square_num에는 i의 값을 더합니다. 그리고 반복문이 끝난 후에, sum_square_num를 제곱하여, sum_square_num에 저장합니다. 그리고 두 값에 차를 계산하고, 출력합니다."
   ]
  },
  {
   "cell_type": "markdown",
   "metadata": {},
   "source": [
    "-------------------  \n",
    "- [Incremental Project] 웹 URL로 지정된 웹페이지를 문자열로 가져와 1) 모든 HTML 태그를 제외한 순수 텍스트 문자열만을 걸러내고, 2) 그 순수 텍스트 문자열 안에 존재하는 단어가 총 몇개인지 출력하는 프로그램을 작성하시오.  \n",
    "  \n",
    "    - HTML 태그는 다음 조건을 가지는 것이다.  \n",
    "  \n",
    "        - < 로 시작하여 >로 끝난다.  \n",
    "        - 예를 들어, 아래와 같은 HTML 내용 내에 한 줄이 있다고 가정하자.  \n",
    "        ```makedown\n",
    "        <label for=\"keep_signed\">로그인 유지</label> \n",
    "        ```\n",
    "        - 위 소스에서 HTML 태그를 제외한 순수 텍스트 문자열은 아래와 같다.  \n",
    "        로그인 유지  \n",
    "        - 한편, 아래와 같은 HTML 한 줄이 있다고 가정하자.  \n",
    "        ```makedown\n",
    "        <link rel=\"stylesheet\" href=\"/common/css/xe.min.css?2015090092654\" />\n",
    "        ```\n",
    "        - 위 소스는 HTML 태그로만 구성된 것이며 걸러낼 수 있는 순수 텍스 문자열은 존재하지 않는다.  \n",
    "    - 단어를 나누는 기준은 오로지 공백문자 (whitespace)이다.  \n",
    "        - 즉, 위 순수 텍스트 문자열인 \"로그인 유지\"에서 분리한 단어는 \"로그인\"과 \"유지\"이다.  \n",
    "    - 다음은 URL로 지정된 웹페이지를 특정 문자열로 가져오는 코드이다.  \n",
    "        - 즉, 숙제 코드는 아래 코드로 부터 시작해야 한다.  "
   ]
  },
  {
   "cell_type": "code",
   "execution_count": 3,
   "metadata": {
    "collapsed": false,
    "scrolled": true
   },
   "outputs": [
    {
     "name": "stdout",
     "output_type": "stream",
     "text": [
      "['\\xec\\xbb\\xb4\\xed\\x93\\xa8\\xed\\x84\\xb0\\xea\\xb3\\xb5\\xed\\x95\\x99\\xeb\\xb6\\x80', '//<![CDATA[', 'var', 'current_url', '=', '\"https://cse.kut.ac.kr/\";', 'var', 'request_uri', '=', '\"https://cse.kut.ac.kr/\";', 'var', 'current_mid', '=', '\"home_2015\";', 'var', 'waiting_message', '=', '\"\\xec\\x84\\x9c\\xeb\\xb2\\x84\\xec\\x97\\x90', '\\xec\\x9a\\x94\\xec\\xb2\\xad', '\\xec\\xa4\\x91\\xec\\x9e\\x85\\xeb\\x8b\\x88\\xeb\\x8b\\xa4.', '\\xec\\x9e\\xa0\\xec\\x8b\\x9c\\xeb\\xa7\\x8c', '\\xea\\xb8\\xb0\\xeb\\x8b\\xa4\\xeb\\xa0\\xa4\\xec\\xa3\\xbc\\xec\\x84\\xb8\\xec\\x9a\\x94.\";', 'var', 'ssl_actions', '=', 'new', 'Array();', 'var', 'default_url', '=', '\"https://cse.koreatech.ac.kr/\";', 'var', 'enforce_ssl', '=', 'true;xe.current_lang', '=', '\"ko\";', 'xe.cmd_find', '=', '\"\\xec\\xb0\\xbe\\xea\\xb8\\xb0\";', 'xe.cmd_cancel', '=', '\"\\xec\\xb7\\xa8\\xec\\x86\\x8c\";', 'xe.cmd_confirm', '=', '\"\\xed\\x99\\x95\\xec\\x9d\\xb8\";', 'xe.msg_no_root', '=', '\"\\xeb\\xa3\\xa8\\xed\\x8a\\xb8\\xeb\\x8a\\x94', '\\xec\\x84\\xa0\\xed\\x83\\x9d', '\\xed\\x95\\xa0', '\\xec\\x88\\x98', '\\xec\\x97\\x86\\xec\\x8a\\xb5\\xeb\\x8b\\x88\\xeb\\x8b\\xa4.\";', 'xe.msg_no_shortcut', '=', '\"\\xeb\\xb0\\x94\\xeb\\xa1\\x9c\\xea\\xb0\\x80\\xea\\xb8\\xb0\\xeb\\x8a\\x94', '\\xec\\x84\\xa0\\xed\\x83\\x9d', '\\xed\\x95\\xa0', '\\xec\\x88\\x98', '\\xec\\x97\\x86\\xec\\x8a\\xb5\\xeb\\x8b\\x88\\xeb\\x8b\\xa4.\";', 'xe.msg_select_menu', '=', '\"\\xeb\\x8c\\x80\\xec\\x83\\x81', '\\xeb\\xa9\\x94\\xeb\\x89\\xb4', '\\xec\\x84\\xa0\\xed\\x83\\x9d\";', '//]]>', 'Schoolfun', '-', 'Study', 'and', 'Fun', '<!--', '-->', '\\xeb\\xa1\\x9c\\xea\\xb7\\xb8\\xec\\x9d\\xb8', '\\xeb\\xa1\\x9c\\xea\\xb7\\xb8\\xec\\x9d\\xb8', '\\xec\\x95\\x84\\xec\\x9d\\xb4\\xeb\\x94\\x94', '\\xeb\\xb9\\x84\\xeb\\xb0\\x80\\xeb\\xb2\\x88\\xed\\x98\\xb8', '\\xeb\\xa1\\x9c\\xea\\xb7\\xb8\\xec\\x9d\\xb8', '\\xec\\x9c\\xa0\\xec\\xa7\\x80', '\\xeb\\xb8\\x8c\\xeb\\x9d\\xbc\\xec\\x9a\\xb0\\xec\\xa0\\x80\\xeb\\xa5\\xbc', '\\xeb\\x8b\\xab\\xeb\\x8d\\x94\\xeb\\x9d\\xbc\\xeb\\x8f\\x84', '\\xeb\\xa1\\x9c\\xea\\xb7\\xb8\\xec\\x9d\\xb8\\xec\\x9d\\xb4', '\\xea\\xb3\\x84\\xec\\x86\\x8d', '\\xec\\x9c\\xa0\\xec\\xa7\\x80\\xeb\\x90\\xa0', '\\xec\\x88\\x98', '\\xec\\x9e\\x88\\xec\\x8a\\xb5\\xeb\\x8b\\x88\\xeb\\x8b\\xa4.', '\\xeb\\xa1\\x9c\\xea\\xb7\\xb8\\xec\\x9d\\xb8', '\\xec\\x9c\\xa0\\xec\\xa7\\x80', '\\xea\\xb8\\xb0\\xeb\\x8a\\xa5\\xec\\x9d\\x84', '\\xec\\x82\\xac\\xec\\x9a\\xa9\\xed\\x95\\xa0', '\\xea\\xb2\\xbd\\xec\\x9a\\xb0', '\\xeb\\x8b\\xa4\\xec\\x9d\\x8c', '\\xec\\xa0\\x91\\xec\\x86\\x8d\\xeb\\xb6\\x80\\xed\\x84\\xb0\\xeb\\x8a\\x94', '\\xeb\\xa1\\x9c\\xea\\xb7\\xb8\\xec\\x9d\\xb8\\xed\\x95\\xa0', '\\xed\\x95\\x84\\xec\\x9a\\x94\\xea\\xb0\\x80', '\\xec\\x97\\x86\\xec\\x8a\\xb5\\xeb\\x8b\\x88\\xeb\\x8b\\xa4.', '\\xeb\\x8b\\xa8,', '\\xea\\xb2\\x8c\\xec\\x9e\\x84\\xeb\\xb0\\xa9,', '\\xed\\x95\\x99\\xea\\xb5\\x90', '\\xeb\\x93\\xb1', '\\xea\\xb3\\xb5\\xea\\xb3\\xb5\\xec\\x9e\\xa5\\xec\\x86\\x8c\\xec\\x97\\x90\\xec\\x84\\x9c', '\\xec\\x9d\\xb4\\xec\\x9a\\xa9', '\\xec\\x8b\\x9c', '\\xea\\xb0\\x9c\\xec\\x9d\\xb8\\xec\\xa0\\x95\\xeb\\xb3\\xb4\\xea\\xb0\\x80', '\\xec\\x9c\\xa0\\xec\\xb6\\x9c\\xeb\\x90\\xa0', '\\xec\\x88\\x98', '\\xec\\x9e\\x88\\xec\\x9c\\xbc\\xeb\\x8b\\x88', '\\xea\\xbc\\xad', '\\xeb\\xa1\\x9c\\xea\\xb7\\xb8\\xec\\x95\\x84\\xec\\x9b\\x83\\xec\\x9d\\x84', '\\xed\\x95\\xb4\\xec\\xa3\\xbc\\xec\\x84\\xb8\\xec\\x9a\\x94.', '\\xed\\x9a\\x8c\\xec\\x9b\\x90\\xea\\xb0\\x80\\xec\\x9e\\x85', 'ID/PW', '\\xec\\xb0\\xbe\\xea\\xb8\\xb0', 'IT', '\\xea\\xb5\\x90\\xec\\x9c\\xa1\\xec\\x9d\\x98', '\\xea\\xb8\\x80\\xeb\\xa1\\x9c\\xeb\\xb2\\x8c', '\\xeb\\xa9\\x94\\xec\\xb9\\xb4!\\xed\\x95\\x9c\\xea\\xb5\\xad\\xea\\xb8\\xb0\\xec\\x88\\xa0\\xea\\xb5\\x90\\xec\\x9c\\xa1\\xeb\\x8c\\x80\\xed\\x95\\x99\\xea\\xb5\\x90', '\\xec\\xbb\\xb4\\xed\\x93\\xa8\\xed\\x84\\xb0\\xea\\xb3\\xb5\\xed\\x95\\x99\\xeb\\xb6\\x80', 'Close', '\\xec\\x86\\x8c\\xea\\xb0\\x9c', '\\xea\\xb5\\xac\\xec\\x84\\xb1\\xec\\x9b\\x90\\xec\\x86\\x8c\\xea\\xb0\\x9c', '\\xed\\x95\\x99\\xec\\x82\\xac\\xec\\x95\\x88\\xeb\\x82\\xb4', '\\xec\\x9e\\x85\\xed\\x95\\x99', '\\xed\\x95\\x99\\xeb\\xb6\\x80', '\\xeb\\x8c\\x80\\xed\\x95\\x99\\xec\\x9b\\x90', '\\xed\\x95\\x99\\xeb\\xb6\\x80\\xea\\xb4\\x91\\xec\\x9e\\xa5', '\\xec\\x9e\\x90\\xeb\\xa3\\x8c\\xec\\x8b\\xa4', '\\xeb\\x8c\\x80\\xed\\x95\\x99\\xec\\x9b\\x90', '\\xea\\xb3\\xb5\\xed\\x95\\x99\\xea\\xb5\\x90\\xec\\x9c\\xa1\\xec\\x9d\\xb8\\xec\\xa6\\x9d', '\\xed\\x95\\x99\\xeb\\xb6\\x80\\xec\\x84\\x9c\\xeb\\xb9\\x84\\xec\\x8a\\xa4', 'Registration', '\\xec\\xbb\\xb4\\xed\\x93\\xa8\\xed\\x84\\xb0\\xea\\xb3\\xb5\\xed\\x95\\x99\\xeb\\xb6\\x80', 'School', 'of', 'Computer', 'Science', 'and', 'Engineering', 'IT', '\\xec\\x9c\\xb5\\xed\\x95\\xa9\\xec\\x86\\x8c\\xed\\x94\\x84\\xed\\x8a\\xb8\\xec\\x9b\\xa8\\xec\\x96\\xb4', '\\xec\\x9d\\xb8\\xeb\\xa0\\xa5\\xec\\x96\\x91\\xec\\x84\\xb1\\xec\\x82\\xac\\xec\\x97\\x85', 'CK', '(Creative', 'Korea)-I', '\\xea\\xb5\\x90\\xec\\x9c\\xa1\\xec\\x97\\xad\\xeb\\x9f\\x89\\xea\\xb0\\x95\\xed\\x99\\x94\\xec\\x82\\xac\\xec\\x97\\x85', '\\xec\\x98\\xa8\\xeb\\x9d\\xbc\\xec\\x9d\\xb8', '\\xec\\xbb\\xa8\\xed\\x85\\x90\\xec\\xb8\\xa0', 'Online', 'Contents', 'for', 'Education', 'Capability', 'Empowerment', 'IT', '\\xea\\xb5\\x90\\xec\\x9c\\xa1\\xec\\x9d\\x98', '\\xea\\xb8\\x80\\xeb\\xa1\\x9c\\xeb\\xb2\\x8c', '\\xeb\\xa9\\x94\\xec\\xb9\\xb4', '\\xed\\x95\\x9c\\xea\\xb5\\xad\\xea\\xb8\\xb0\\xec\\x88\\xa0\\xea\\xb5\\x90\\xec\\x9c\\xa1\\xeb\\x8c\\x80\\xed\\x95\\x99\\xea\\xb5\\x90', '\\xec\\xbb\\xb4\\xed\\x93\\xa8\\xed\\x84\\xb0\\xea\\xb3\\xb5\\xed\\x95\\x99\\xeb\\xb6\\x80', '\\xed\\x99\\x88\\xed\\x8e\\x98\\xec\\x9d\\xb4\\xec\\xa7\\x80\\xec\\x97\\x90', '\\xec\\x98\\xa4\\xec\\x8b\\xa0', '\\xea\\xb2\\x83\\xec\\x9d\\x84\\xed\\x99\\x98\\xec\\x98\\x81\\xed\\x95\\xa9\\xeb\\x8b\\x88\\xeb\\x8b\\xa4!', 'IT', '\\xec\\x9c\\xb5\\xed\\x95\\xa9\\xec\\x86\\x8c\\xed\\x94\\x84\\xed\\x8a\\xb8\\xec\\x9b\\xa8\\xec\\x96\\xb4', '\\xec\\x9d\\xb8\\xeb\\xa0\\xa5\\xec\\x96\\x91\\xec\\x84\\xb1\\xec\\x82\\xac\\xec\\x97\\x85', '\\xea\\xb8\\x80\\xeb\\xa1\\x9c\\xeb\\xb2\\x8c', '\\xec\\x88\\x98\\xec\\xa4\\x80\\xec\\x9d\\x98', 'IT\\xec\\xa0\\x84\\xeb\\xac\\xb8\\xec\\x9d\\xb8\\xeb\\xa0\\xa5', '\\xec\\x96\\x91\\xec\\x84\\xb1', 'IT\\xec\\x9c\\xb5\\xed\\x95\\xa9\\xeb\\xb6\\x84\\xec\\x95\\xbc\\xec\\x97\\x90', '\\xeb\\x8c\\x80\\xed\\x95\\x9c', '\\xea\\xb5\\xad\\xec\\xa0\\x9c\\xec\\xa0\\x81\\xec\\x9d\\xb8', '\\xea\\xb2\\xbd\\xec\\x9f\\x81\\xeb\\xa0\\xa5', '\\xea\\xb3\\xa0\\xec\\xb7\\xa8', '\\xeb\\xb0\\x94\\xeb\\xa1\\x9c\\xea\\xb0\\x80\\xea\\xb8\\xb0', '\\xea\\xb5\\x90\\xec\\x9c\\xa1\\xec\\x97\\xad\\xeb\\x9f\\x89\\xea\\xb0\\x95\\xed\\x99\\x94\\xec\\x82\\xac\\xec\\x97\\x85', '\\xec\\xbb\\xa8\\xed\\x85\\x90\\xec\\xb8\\xa0', '\\xea\\xb5\\x90\\xec\\x9c\\xa1\\xec\\x97\\xad\\xeb\\x9f\\x89\\xea\\xb0\\x95\\xed\\x99\\x94\\xec\\x82\\xac\\xec\\x97\\x85', '\\xec\\x98\\xa8\\xeb\\x9d\\xbc\\xec\\x9d\\xb8', '\\xec\\xbb\\xa8\\xed\\x85\\x90\\xec\\xb8\\xa0\\xeb\\xa5\\xbc', '\\xec\\x86\\x8c\\xea\\xb0\\x9c\\xed\\x95\\xa9\\xeb\\x8b\\x88\\xeb\\x8b\\xa4.', '\\xeb\\xb0\\x94\\xeb\\xa1\\x9c\\xea\\xb0\\x80\\xea\\xb8\\xb0', '\\xea\\xb3\\xb5\\xec\\xa7\\x80\\xec\\x82\\xac\\xed\\x95\\xad', '[\\xed\\x8a\\xb9\\xec\\x84\\xb1\\xed\\x99\\x94](\\xec\\x8b\\xa0\\xec\\xb2\\xad\\xeb\\xa7\\x88\\xea\\xb0\\x90)\\xe3\\x80\\x8eG-Star', '2016\\xe3\\x80\\x8f\\xec\\xa0\\x84\\xec\\x8b\\x9c\\xed\\x9a\\x8c', '\\xec\\xb0\\xb8\\xea\\xb0\\x80', '\\xeb\\xaa\\xa8\\xec\\xa7\\x91', '\\xea\\xb3\\xb5\\xea\\xb3\\xa0', '2016-10-10', '01:00', '01:00', '[\\xed\\x8a\\xb9\\xec\\x84\\xb1\\xed\\x99\\x94]', '\\xe3\\x80\\x8e\\xec\\x9a\\x94\\xec\\xbd\\x94\\xed\\x95\\x98\\xeb\\xa7\\x88', '\\xec\\x9e\\x84\\xeb\\xb2\\xa0\\xeb\\x94\\x94\\xeb\\x93\\x9c', '\\xea\\xb8\\xb0\\xec\\x88\\xa0', '\\xeb\\xb0\\x95\\xeb\\x9e\\x8c\\xed\\x9a\\x8c\\xe3\\x80\\x8f', '\\xed\\x95\\x99\\xec\\x83\\x9d', '\\xec\\x84\\xa0...', '2016-10-08', '22:11', '22:11', '2,3\\xed\\x95\\x99\\xeb\\x85\\x84]', '\\xec\\x82\\xb0\\xec\\x97\\x85\\xec\\xb2\\xb4', '\\xed\\x8a\\xb9\\xea\\xb0\\x95\\xec\\x97\\x90\\xec\\x84\\x9c', '\\xec\\x97\\xac\\xeb\\x9f\\xac\\xeb\\xb6\\x84\\xec\\x9d\\x98', '\\xec\\x84\\xa0\\xeb\\xb0\\xb0\\xea\\xb0\\x80', '\\xec\\x82\\xbc\\xec\\x84\\xb1', '\\xec\\x86\\x8c\\xed\\x94\\x84...', '2016-10-06', '17:20', '17:20', '\\xec\\xa1\\xb8\\xec\\x97\\x85\\xec\\x82\\xac\\xec\\xa7\\x84', '\\xec\\xb4\\xac\\xec\\x98\\x81', '\\xec\\x95\\x88\\xeb\\x82\\xb4', '\\xea\\xb3\\xb5\\xec\\xa7\\x80', '2016-10-05', '16:43', '16:43', '[\\xed\\x95\\x84\\xeb\\x8f\\x85]', '\\xec\\xa1\\xb8\\xec\\x97\\x85\\xec\\x9e\\x91\\xed\\x92\\x88', '\\xec\\xa0\\x84\\xec\\x8b\\x9c', '\\xeb\\xb6\\x80\\xec\\x8a\\xa4', '\\xec\\x84\\xa0\\xec\\xa0\\x95\\xec\\x9d\\x84', '\\xec\\x9c\\x84\\xed\\x95\\x9c', '\\xeb\\xaa\\xa8\\xec\\x9e\\x84', '\\xec\\x95\\x88\\xeb\\x82\\xb4', '2016-10-05', '15:58', '15:58', '\\xec\\x9e\\x90\\xec\\x9c\\xa0\\xea\\xb2\\x8c\\xec\\x8b\\x9c\\xed\\x8c\\x90', '\\xec\\xa0\\x9c', '5\\xed\\x9a\\x8c', '\\xeb\\xa0\\x88\\xeb\\xaa\\xac', '\\xec\\xa0\\x95\\xeb\\xb3\\xb4\\xeb\\xb3\\xb4\\xec\\x95\\x88', '\\xec\\x84\\xb8\\xeb\\xaf\\xb8\\xeb\\x82\\x98', '\\xea\\xb0\\x9c\\xec\\xb5\\x9c', '2016-10-12', '13:58', '13:58', '[2016', '\\xed\\x99\\x88\\xec\\xbb\\xa4\\xeb\\xb0\\x8d\\xeb\\x8d\\xb0\\xec\\x9d\\xb4]', '2016-10-11', '19:09', '19:09', '[\\xec\\xa1\\xb8\\xec\\x97\\x85\\xec\\x83\\x9d', '\\xed\\x8a\\xb9\\xea\\xb0\\x95]', '\\xec\\x82\\xbc\\xec\\x84\\xb1\\xec\\x9e\\x85\\xec\\x82\\xac', '\\xeb\\xb0\\x8f', '\\xec\\xb7\\xa8\\xec\\x97\\x85', '\\xec\\xa4\\x80\\xeb\\xb9\\x84', '2016-10-09', '17:42', '17:42', 'A204', 'USB', '\\xeb\\xb6\\x84\\xec\\x8b\\xa4\\xed\\x95\\x9c', '\\xeb\\xb6\\x84', '\\xed\\x95\\x99\\xeb\\xb6\\x80\\xec\\x82\\xac\\xeb\\xac\\xb4\\xec\\x8b\\xa4\\xec\\x97\\x90\\xec\\x84\\x9c', '\\xec\\xb0\\xbe\\xec\\x95\\x84\\xea\\xb0\\x80\\xec\\x84\\xb8\\xec\\x9a\\x94.', '2016-10-05', '11:50', '11:50', '\\xec\\x96\\xb4\\xec\\xa0\\x9c', '\\xeb\\x82\\xae\\xec\\x97\\x90', '4\\xea\\xb3\\xb5\\xec\\x97\\x90\\xec\\x84\\x9c', '\\xec\\x8b\\x9c\\xea\\xb3\\x84\\xeb\\xa5\\xbc', '\\xeb\\xb6\\x84\\xec\\x8b\\xa4\\xed\\x96\\x88\\xec\\x8a\\xb5\\xeb\\x8b\\x88\\xeb\\x8b\\xa4', '2016-09-29', '13:37', '13:37', '\\xec\\xb7\\xa8\\xec\\x97\\x85\\xea\\xb2\\x8c\\xec\\x8b\\x9c\\xed\\x8c\\x90', '\\xec\\x84\\x9c\\xec\\xa7\\x84\\xec\\x94\\xa8\\xec\\x97\\x94\\xec\\x97\\x90\\xec\\x8a\\xa4(\\xec\\xa3\\xbc)', '-', '\\xec\\xb6\\xa9\\xeb\\xb6\\x81_IT\\xeb\\xb6\\x84\\xec\\x95\\xbc', '\\xec\\xa0\\x84\\xeb\\xac\\xb8\\xea\\xb8\\xb0\\xec\\x97\\x85', '\\xec\\x8b\\xa0\\xec\\x9e\\x85\\xec\\x82\\xac\\xec\\x9b\\x90', '\\xeb\\xaa\\xa8...', '2016-10-12', '09:57', '09:57', '\\xec\\x84\\xb8\\xea\\xb4\\x91\\xed\\x85\\x8c\\xed\\x81\\xac(\\xec\\xa3\\xbc)', '-', '\\xec\\xb6\\xa9\\xeb\\x82\\xa8_\\xec\\xa4\\x91\\xea\\xb2\\xac\\xea\\xb8\\xb0\\xec\\x97\\x85_\\xec\\xa0\\x9c\\xec\\xa1\\xb0/Set-up,', 'PLC\\xec\\xa0\\x9c\\xec\\x96\\xb4,', '...', '2016-09-30', '09:42', '09:42', '(\\xec\\xa3\\xbc)\\xec\\xa7\\x80\\xeb\\x9e\\x80\\xec\\xa7\\x80\\xea\\xb5\\x90\\xec\\x86\\x8c\\xed\\x94\\x84\\xed\\x8a\\xb8', '-', 'S/W\\xed\\x85\\x8c\\xec\\x8a\\xa4\\xed\\x8a\\xb8', '\\xec\\x8b\\xa0\\xec\\x9e\\x85\\xec\\xa7\\x81\\xec\\x9b\\x90', '\\xeb\\xaa\\xa8\\xec\\xa7\\x91(\\xeb\\x8c\\x80\\xec\\xa0\\x84)', '...', '2016-09-26', '15:26', '15:26', '(\\xec\\xa3\\xbc)\\xec\\x95\\x84\\xec\\x9d\\xb4\\xec\\x94\\xa8\\xeb\\x94\\x94', '-', '\\xea\\xb2\\xbd\\xea\\xb8\\xb0_\\xec\\xa4\\x91\\xea\\xb2\\xac\\xea\\xb8\\xb0\\xec\\x97\\x85_\\xec\\xa7\\x81\\xeb\\xac\\xb4\\xeb\\xb3\\x84', '\\xec\\x8b\\xa0\\xec\\x9e\\x85\\xeb\\xaa\\xa8\\xec\\xa7\\x91', '(~9/29...', '2016-09-24', '15:31', '15:31', '(\\xec\\xa3\\xbc)\\xec\\x84\\xb1\\xec\\xb0\\xbd\\xec\\x98\\xa4\\xed\\x86\\xa0\\xed\\x85\\x8d', '\\xec\\x95\\x84\\xec\\x82\\xb0\\xec\\x82\\xac\\xec\\x97\\x85\\xec\\x9e\\xa5-', 'ERP\\xec\\x86\\x8c\\xed\\x94\\x84\\xed\\x8a\\xb8\\xec\\x9b\\xa8\\xec\\x96\\xb4\\xed\\x94\\x84\\xeb\\xa1\\x9c\\xea\\xb7\\xb8\\xeb\\x9e\\x98\\xeb\\xa8\\xb8', '...', '2016-09-06', '08:56', '08:56', 'Platum', '\\xec\\xa0\\x9c2\\xed\\x9a\\x8c', '\\xe2\\x80\\x98SDF', '\\xeb\\x84\\xa5\\xec\\x8a\\xa4\\xed\\x8a\\xb8', '\\xeb\\xaf\\xb8\\xeb\\x94\\x94\\xec\\x96\\xb4', '\\xec\\xb1\\x8c\\xeb\\xa6\\xb0\\xec\\xa7\\x80', '2016\\xe2\\x80\\xb2', '\\xec\\x84\\xb1\\xeb\\xa3\\x8c', '2016-10-15', '14:15', '14:15', '\\xe2\\x80\\x98\\xec\\xa0\\x84\\xec\\x9e\\x90\\xec\\x83\\x81\\xea\\xb1\\xb0\\xeb\\x9e\\x98', '\\xea\\xb0\\x9c\\xeb\\x85\\x90', '\\xec\\x97\\x86\\xec\\x96\\xb4\\xec\\xa7\\x88', '\\xea\\xb2\\x83\\xe2\\x80\\x99', '\\xe2\\x80\\xa6', '\\xeb\\xa7\\x88\\xec\\x9c\\x88\\xec\\x9d\\xb4', '\\xeb\\xa7\\x90\\xed\\x95\\x98\\xeb\\x8a\\x94', '\\xeb\\xaf\\xb8\\xeb\\x9e\\x98', '5...', '2016-10-14', '15:46', '15:46', '\\xed\\x99\\x94\\xec\\x9b\\xa8\\xec\\x9d\\xb4,', '\\xe2\\x80\\x982016', '\\xec\\x82\\xac\\xeb\\xac\\xbc\\xec\\x9d\\xb8\\xed\\x84\\xb0\\xeb\\x84\\xb7', '\\xec\\xa7\\x84\\xed\\x9d\\xa5\\xec\\xa3\\xbc\\xea\\xb0\\x84\\xe2\\x80\\x99', '\\xec\\x97\\x90\\xec\\x84\\x9c', 'NB-IoT', '\\xec\\x84\\x9c\\xeb\\xb0\\x8b...', '2016-10-14', '13:31', '13:31', '\\xec\\x98\\x81\\xeb\\xaf\\xb8\\xea\\xb6\\x8c', '\\xeb\\xaa\\xa8\\xeb\\xb0\\x94\\xec\\x9d\\xbc', '\\xec\\x9b\\xb9\\xec\\x86\\x8c\\xec\\x84\\xa4', '\\xed\\x94\\x8c\\xeb\\x9e\\xab\\xed\\x8f\\xbc', '\\xe2\\x80\\x98\\xeb\\x9e\\x98\\xeb\\x94\\x94\\xec\\x8b\\x9c\\xe2\\x80\\x99,', '\\xec\\x8b\\xa4\\xeb\\xa6\\xac\\xec\\xbd\\x98\\xeb\\xb0\\xb8\\xeb\\xa6\\xac', 'VC...', '2016-10-14', '12:18', '12:18', '\\xec\\x8a\\xa4\\xed\\x83\\x80\\xed\\x8a\\xb8\\xec\\x97\\x85', '\\xec\\x96\\xbc\\xeb\\x9d\\xbc\\xec\\x9d\\xb4\\xec\\x96\\xb8\\xec\\x8a\\xa4,', '\\xed\\x94\\x8c\\xeb\\x9e\\x98\\xed\\x85\\x80\\xea\\xb3\\xbc', '\\xe2\\x80\\x98\\xec\\xa0\\x9c1\\xed\\x9a\\x8c', '\\xec\\xa4\\x91\\xea\\xb5\\xad\\xec\\x9d\\x98', '\\xed\\x95\\x9c\\xea\\xb5\\xad\\xec\\x9d\\xb8\\xe2\\x80\\x99...', '2016-10-14', '11:06', '11:06', '\\xec\\xa0\\x84\\xec\\x9e\\x90\\xec\\x8b\\xa0\\xeb\\xac\\xb8', '[\\xed\\x8a\\xb9\\xeb\\xb3\\x84', '\\xea\\xb8\\xb0\\xea\\xb3\\xa0]\\xec\\x82\\xac\\xeb\\xac\\xbc\\xec\\x9d\\xb8\\xed\\x84\\xb0\\xeb\\x84\\xb7,', '\\xec\\xa7\\x80\\xeb\\x8a\\xa5\\xec\\xa0\\x95\\xeb\\xb3\\xb4\\xec\\x82\\xac\\xed\\x9a\\x8c\\xeb\\xa1\\x9c\\xec\\x9d\\x98', '\\xec\\x97\\xb0\\xea\\xb2\\xb0\\xea\\xb3\\xa0\\xeb\\xa6\\xac', '2016-10-06', '18:00', '18:00', '\\xec\\x95\\x88\\xec\\xa0\\x84\\xec\\xb2\\x98,', '\\xec\\x9e\\xac\\xeb\\x82\\x9c\\xeb\\xa7\\x9d', '\\xec\\xbb\\xa4\\xeb\\xb2\\x84\\xeb\\xa6\\xac\\xec\\xa7\\x80', '100%', '\\xeb\\xac\\x98\\xec\\x88\\x98', '\\xec\\xb0\\xbe\\xec\\x95\\x98\\xeb\\x8b\\xa4', '2016-10-06', '18:00', '18:00', '\\xec\\x95\\x84\\xec\\x9d\\xb4\\xed\\x8f\\xb07', '\\xec\\x82\\xac\\xec\\xa0\\x84\\xec\\x98\\x88\\xec\\x95\\xbd', '\\xec\\x97\\xb4\\xea\\xb8\\xb0', '\\xed\\x9b\\x84\\xeb\\x81\\x88', '2016-10-06', '16:02', '16:02', '[2016', '\\xea\\xb5\\xad\\xea\\xb0\\x90]\\xec\\xb5\\x9c\\xec\\x84\\xb1\\xec\\xa4\\x80', '\"\\xec\\x9a\\x94\\xea\\xb8\\x88\\xed\\x95\\xa0\\xec\\x9d\\xb8', '30%,', '\\xeb\\xb6\\x84\\xeb\\xa6\\xac\\xea\\xb3\\xb5\\xec\\x8b\\x9c\\xec\\xa0\\x9c', '\\xeb\\x8f\\x84\\xec\\x9e\\x85', '\\xec\\x8b\\xa0...', '2016-10-06', '15:22', '15:22', '10\\xeb\\xb6\\x84\\xea\\xb8\\xb0', '\\xec\\x97\\xb0\\xec\\x86\\x8d', '\\xec\\x9d\\xb8\\xed\\x84\\xb0\\xeb\\x84\\xb7', '\\xec\\x86\\x8d\\xeb\\x8f\\x84', '\\xec\\x84\\xb8\\xea\\xb3\\x84', '1\\xec\\x9c\\x84', '\\xea\\xb5\\xad\\xea\\xb0\\x80\\xeb\\x8a\\x94?', '2016-10-06', '14:43', '14:43', 'TechCrunch', 'Firefox', 'users', 'chalk', 'up', 'HTTPS', 'encryption', 'milestone', '2016-10-15', '18:53', '18:53', 'While', 'the', 'IPO', 'market', 'roars', 'back,', 'venture', 'remai...', '2016-10-15', '12:00', '12:00', 'Crunch', 'Report', '|', 'Galaxy', 'Note', '7', 'banned', 'from', 'all', '...', '2016-10-15', '12:00', '12:00', 'WristWhirl', 'lets', 'you', 'control', 'your', 'smartwatch', 'wi...', '2016-10-15', '08:16', '08:16', 'The', 'future', 'of', 'cleantech', 'in', 'Indonesia', '2016-10-15', '08:00', '08:00', '<!--', 'Back', 'to', 'Top', 'Leading', 'Together', 'for', 'Brighter', 'Future', '-->', 'Quick', 'Navigation', '\\xed\\x95\\x9c\\xea\\xb5\\xad\\xea\\xb8\\xb0\\xec\\x88\\xa0\\xea\\xb5\\x90\\xec\\x9c\\xa1\\xeb\\x8c\\x80\\xed\\x95\\x99\\xea\\xb5\\x90', '\\xed\\x99\\x88\\xed\\x8e\\x98\\xec\\x9d\\xb4\\xec\\xa7\\x80', '\\xed\\x95\\x9c\\xea\\xb5\\xad\\xea\\xb8\\xb0\\xec\\x88\\xa0\\xea\\xb5\\x90\\xec\\x9c\\xa1\\xeb\\x8c\\x80\\xed\\x95\\x99\\xea\\xb5\\x90', 'WEBMAIL', '\\xed\\x95\\x9c\\xea\\xb5\\xad\\xea\\xb8\\xb0\\xec\\x88\\xa0\\xea\\xb5\\x90\\xec\\x9c\\xa1\\xeb\\x8c\\x80\\xed\\x95\\x99\\xea\\xb5\\x90', '\\xec\\x98\\xa8\\xeb\\x9d\\xbc\\xec\\x9d\\xb8', '\\xed\\x8f\\x89\\xec\\x83\\x9d\\xea\\xb5\\x90\\xec\\x9c\\xa1\\xec\\x9b\\x90', 'IT', '\\xec\\x9c\\xb5\\xed\\x95\\xa9\\xec\\x86\\x8c\\xed\\x94\\x84\\xed\\x8a\\xb8\\xec\\x9b\\xa8\\xec\\x96\\xb4', '\\xec\\x9d\\xb8\\xeb\\xa0\\xa5\\xec\\x96\\x91\\xec\\x84\\xb1\\xec\\x82\\xac\\xec\\x97\\x85', '\\xec\\xbb\\xb4\\xed\\x93\\xa8\\xed\\x84\\xb0\\xea\\xb3\\xb5\\xed\\x95\\x99\\xeb\\xb6\\x80', '\\xea\\xb5\\x90\\xec\\xa7\\x81\\xec\\x9b\\x90', '\\xec\\x97\\x85\\xeb\\xac\\xb4', '\\xec\\x9e\\x90\\xeb\\xa3\\x8c\\xec\\x8b\\xa4', '\\xec\\xbb\\xb4\\xed\\x93\\xa8\\xed\\x84\\xb0\\xea\\xb3\\xb5\\xed\\x95\\x99\\xeb\\xb6\\x80', '\\xed\\x8f\\xac\\xed\\x8a\\xb8\\xed\\x8f\\xb4\\xeb\\xa6\\xac\\xec\\x98\\xa4-->', 'Campus', 'Location', 'Contact', 'CSE', '\\xec\\xb6\\xa9\\xec\\xb2\\xad\\xeb\\x82\\xa8\\xeb\\x8f\\x84', '\\xec\\xb2\\x9c\\xec\\x95\\x88\\xec\\x8b\\x9c', '\\xeb\\x8f\\x99\\xeb\\x82\\xa8\\xea\\xb5\\xac', '\\xeb\\xb3\\x91\\xec\\xb2\\x9c\\xeb\\xa9\\xb4', '\\xec\\xb6\\xa9\\xec\\xa0\\x88\\xeb\\xa1\\x9c', '1600\\xed\\x95\\x9c\\xea\\xb5\\xad\\xea\\xb8\\xb0\\xec\\x88\\xa0\\xea\\xb5\\x90\\xec\\x9c\\xa1\\xeb\\x8c\\x80\\xed\\x95\\x99\\xea\\xb5\\x90', '\\xec\\xbb\\xb4\\xed\\x93\\xa8\\xed\\x84\\xb0\\xea\\xb3\\xb5\\xed\\x95\\x99\\xeb\\xb6\\x80', '\\xed\\x95\\x99\\xea\\xb3\\xbc\\xec\\x82\\xac\\xeb\\xac\\xb4\\xec\\x8b\\xa4', 'TEL', '(041)', '560', '1460', '~', '1461', 'FAX', '(041)', '560', '1462', 'Facebook', 'Twitter', 'Google', 'Plus', 'Linkedin-->', '(31253)', '\\xec\\xb6\\xa9\\xec\\xb2\\xad\\xeb\\x82\\xa8\\xeb\\x8f\\x84', '\\xec\\xb2\\x9c\\xec\\x95\\x88\\xec\\x8b\\x9c', '\\xeb\\x8f\\x99\\xeb\\x82\\xa8\\xea\\xb5\\xac', '\\xeb\\xb3\\x91\\xec\\xb2\\x9c\\xeb\\xa9\\xb4', '\\xec\\xb6\\xa9\\xec\\xa0\\x88\\xeb\\xa1\\x9c', '1600', '(\\xea\\xb0\\x80\\xec\\xa0\\x84\\xeb\\xa6\\xac,', '\\xed\\x95\\x9c\\xea\\xb5\\xad\\xea\\xb8\\xb0\\xec\\x88\\xa0\\xea\\xb5\\x90\\xec\\x9c\\xa1\\xeb\\x8c\\x80\\xed\\x95\\x99\\xea\\xb5\\x90)', '\\xec\\xbb\\xb4\\xed\\x93\\xa8\\xed\\x84\\xb0\\xea\\xb3\\xb5\\xed\\x95\\x99\\xeb\\xb6\\x80', 'Copyright', '\\xc2\\xa9', '2015.', 'All', 'rights', 'reserved']\n",
      "533\n"
     ]
    }
   ],
   "source": [
    "import urllib2\n",
    "import re\n",
    "\n",
    "source = urllib2.urlopen(\"http://cse.kut.ac.kr/\").read()\n",
    "\n",
    "#source = \"<title>컴퓨터공학부</title>\"\n",
    "#print source # 추후 숙제 답안 제출 때엔 왼쪽 라인은 주석처리할 것\n",
    "\n",
    "\n",
    "#for a in range(0, len(source)):\n",
    "    #print source[a]\n",
    "cleaner = re.compile('<.*?>')\n",
    "source = re.sub(cleaner, '', source)\n",
    "\n",
    "num = 0\n",
    "source = source.split()\n",
    "print source\n",
    "\n",
    "for x in range(0, len(source)):\n",
    "    num = num + 1;\n",
    "print num"
   ]
  },
  {
   "cell_type": "markdown",
   "metadata": {},
   "source": [
    "-------------  \n",
    "## 설명  \n",
    "\n",
    "문제에서 요구하는 대로 http://cse.kut.ac.kr/ 의 source를 가지고 개수를 확인하였습니다. 일단 import를 사용하여 정규식을 나타내는 모듈 're'를 포합시킵니다. 're' 모듈에서 compile이라는 함수가 있는 데 이를 사용하면, 사용자가 원하는 식만을 얻을 수 있습니다. 그렇게 얻는 값을 sub 함수를 사용하여, 제거를 하게됩니다. 그렇게 되면 html의 태그를 전부 삭제시킬수있습니다. 그리고 제거된 source를 split를 사용하여 나누고, 그 개수를 세면 됩니다."
   ]
  },
  {
   "cell_type": "code",
   "execution_count": null,
   "metadata": {
    "collapsed": true
   },
   "outputs": [],
   "source": []
  }
 ],
 "metadata": {
  "anaconda-cloud": {},
  "kernelspec": {
   "display_name": "Python [Root]",
   "language": "python",
   "name": "Python [Root]"
  },
  "language_info": {
   "codemirror_mode": {
    "name": "ipython",
    "version": 2
   },
   "file_extension": ".py",
   "mimetype": "text/x-python",
   "name": "python",
   "nbconvert_exporter": "python",
   "pygments_lexer": "ipython2",
   "version": "2.7.12"
  }
 },
 "nbformat": 4,
 "nbformat_minor": 0
}
