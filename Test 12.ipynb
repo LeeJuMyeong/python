{
 "cells": [
  {
   "cell_type": "code",
   "execution_count": 8,
   "metadata": {
    "collapsed": false
   },
   "outputs": [
    {
     "name": "stdout",
     "output_type": "stream",
     "text": [
      "1\n",
      "\n",
      "2\n",
      "\n",
      "['__doc__', '__module__', 'a', 'b']\n",
      "['__doc__', '__module__', 'a']\n",
      "Class S1\n",
      "__main__\n",
      "__main__.S1\n",
      "__main__\n",
      "['In', 'Out', 'S1', '_', '__', '___', '__builtin__', '__builtins__', '__doc__', '__name__', '_dh', '_i', '_i1', '_i2', '_i3', '_i4', '_i5', '_i6', '_i7', '_i8', '_ih', '_ii', '_iii', '_oh', '_sh', 'exit', 'get_ipython', 'quit']\n"
     ]
    }
   ],
   "source": [
    "class S1:\n",
    "    \"\"\"Class S1\"\"\"\n",
    "    a = 1\n",
    "    \n",
    "    \n",
    "print S1.a\n",
    "print\n",
    "\n",
    "S1.b = 2\n",
    "\n",
    "print S1.b\n",
    "print \n",
    "\n",
    "print dir(S1)\n",
    "del S1.b\n",
    "print dir(S1)\n",
    "\n",
    "print S1.__doc__\n",
    "print S1.__module__\n",
    "print S1\n",
    "print __name__   #디폴트 공간에 있는 이름\n",
    "print dir()\n",
    "\n",
    "\n",
    "#print __name__.S1"
   ]
  },
  {
   "cell_type": "code",
   "execution_count": 13,
   "metadata": {
    "collapsed": false
   },
   "outputs": [
    {
     "name": "stdout",
     "output_type": "stream",
     "text": [
      "1\n",
      "\n",
      "10\n",
      "['__doc__', '__module__', 'a', 'b']\n",
      "1\n",
      "['__doc__', '__module__', 'a']\n"
     ]
    }
   ],
   "source": [
    "x = S1()\n",
    "print x.a\n",
    "print\n",
    "\n",
    "x.a = 10\n",
    "x.b = 4\n",
    "print x.a\n",
    "print dir(x)\n",
    "\n",
    "print S1.a\n",
    "print dir(S1)"
   ]
  },
  {
   "cell_type": "code",
   "execution_count": 14,
   "metadata": {
    "collapsed": false
   },
   "outputs": [
    {
     "name": "stdout",
     "output_type": "stream",
     "text": [
      "300\n",
      "10\n",
      "1\n"
     ]
    }
   ],
   "source": [
    "y = S1()\n",
    "\n",
    "y.a = 300\n",
    "\n",
    "print y.a\n",
    "print x.a\n",
    "print S1.a"
   ]
  },
  {
   "cell_type": "code",
   "execution_count": 15,
   "metadata": {
    "collapsed": false
   },
   "outputs": [
    {
     "name": "stdout",
     "output_type": "stream",
     "text": [
      "[1, 2, 3]\n",
      "3\n",
      "2\n",
      "\n",
      "[1]\n"
     ]
    },
    {
     "ename": "AttributeError",
     "evalue": "Simple instance has no attribute 'stack'",
     "output_type": "error",
     "traceback": [
      "\u001b[1;31m---------------------------------------------------------------------------\u001b[0m",
      "\u001b[1;31mAttributeError\u001b[0m                            Traceback (most recent call last)",
      "\u001b[1;32m<ipython-input-15-0383a3c258cd>\u001b[0m in \u001b[0;36m<module>\u001b[1;34m()\u001b[0m\n\u001b[0;32m     15\u001b[0m \u001b[1;32mprint\u001b[0m\u001b[1;33m\u001b[0m\u001b[0m\n\u001b[0;32m     16\u001b[0m \u001b[1;32mprint\u001b[0m \u001b[0ms1\u001b[0m\u001b[1;33m.\u001b[0m\u001b[0mstack\u001b[0m\u001b[1;33m\u001b[0m\u001b[0m\n\u001b[1;32m---> 17\u001b[1;33m \u001b[1;32mprint\u001b[0m \u001b[0ms2\u001b[0m\u001b[1;33m.\u001b[0m\u001b[0mstack\u001b[0m\u001b[1;33m\u001b[0m\u001b[0m\n\u001b[0m",
      "\u001b[1;31mAttributeError\u001b[0m: Simple instance has no attribute 'stack'"
     ]
    }
   ],
   "source": [
    "class Simple:\n",
    "    pass\n",
    "\n",
    "s1 = Simple()\n",
    "s2 = Simple()\n",
    "\n",
    "s1.stack = []\n",
    "s1.stack.append(1)\n",
    "s1.stack.append(2)\n",
    "s1.stack.append(3)\n",
    "\n",
    "print s1.stack\n",
    "print s1.stack.pop()\n",
    "print s1.stack.pop()\n",
    "print\n",
    "print s1.stack\n",
    "print s2.stack"
   ]
  },
  {
   "cell_type": "code",
   "execution_count": 21,
   "metadata": {
    "collapsed": false
   },
   "outputs": [
    {
     "name": "stdout",
     "output_type": "stream",
     "text": [
      "egg\n",
      "egg\n"
     ]
    }
   ],
   "source": [
    "class MyClass:\n",
    "    def set(self, v):\n",
    "        self.value = v\n",
    "    def get(self):\n",
    "        return self.value\n",
    "\n",
    "c = MyClass()\n",
    "c.set('egg')\n",
    "print c.get()\n",
    "print c.value"
   ]
  },
  {
   "cell_type": "code",
   "execution_count": 23,
   "metadata": {
    "collapsed": false
   },
   "outputs": [
    {
     "ename": "AttributeError",
     "evalue": "MyClass2 instance has no attribute 'value'",
     "output_type": "error",
     "traceback": [
      "\u001b[1;31m---------------------------------------------------------------------------\u001b[0m",
      "\u001b[1;31mAttributeError\u001b[0m                            Traceback (most recent call last)",
      "\u001b[1;32m<ipython-input-23-f3bb699636be>\u001b[0m in \u001b[0;36m<module>\u001b[1;34m()\u001b[0m\n\u001b[0;32m      6\u001b[0m \u001b[1;33m\u001b[0m\u001b[0m\n\u001b[0;32m      7\u001b[0m \u001b[0mc\u001b[0m \u001b[1;33m=\u001b[0m \u001b[0mMyClass2\u001b[0m\u001b[1;33m(\u001b[0m\u001b[1;33m)\u001b[0m\u001b[1;33m\u001b[0m\u001b[0m\n\u001b[1;32m----> 8\u001b[1;33m \u001b[1;32mprint\u001b[0m \u001b[0mc\u001b[0m\u001b[1;33m.\u001b[0m\u001b[0mget\u001b[0m\u001b[1;33m(\u001b[0m\u001b[1;33m)\u001b[0m\u001b[1;33m\u001b[0m\u001b[0m\n\u001b[0m\u001b[0;32m      9\u001b[0m \u001b[1;32mprint\u001b[0m \u001b[0mc\u001b[0m\u001b[1;33m.\u001b[0m\u001b[0mvalue\u001b[0m\u001b[1;33m\u001b[0m\u001b[0m\n",
      "\u001b[1;32m<ipython-input-23-f3bb699636be>\u001b[0m in \u001b[0;36mget\u001b[1;34m(self)\u001b[0m\n\u001b[0;32m      3\u001b[0m         \u001b[0mself\u001b[0m\u001b[1;33m.\u001b[0m\u001b[0mvalue\u001b[0m \u001b[1;33m=\u001b[0m \u001b[0mv\u001b[0m\u001b[1;33m\u001b[0m\u001b[0m\n\u001b[0;32m      4\u001b[0m     \u001b[1;32mdef\u001b[0m \u001b[0mget\u001b[0m\u001b[1;33m(\u001b[0m\u001b[0mself\u001b[0m\u001b[1;33m)\u001b[0m\u001b[1;33m:\u001b[0m\u001b[1;33m\u001b[0m\u001b[0m\n\u001b[1;32m----> 5\u001b[1;33m         \u001b[1;32mreturn\u001b[0m \u001b[0mself\u001b[0m\u001b[1;33m.\u001b[0m\u001b[0mvalue\u001b[0m\u001b[1;33m\u001b[0m\u001b[0m\n\u001b[0m\u001b[0;32m      6\u001b[0m \u001b[1;33m\u001b[0m\u001b[0m\n\u001b[0;32m      7\u001b[0m \u001b[0mc\u001b[0m \u001b[1;33m=\u001b[0m \u001b[0mMyClass2\u001b[0m\u001b[1;33m(\u001b[0m\u001b[1;33m)\u001b[0m\u001b[1;33m\u001b[0m\u001b[0m\n",
      "\u001b[1;31mAttributeError\u001b[0m: MyClass2 instance has no attribute 'value'"
     ]
    }
   ],
   "source": [
    "class MyClass2:\n",
    "    def set(self, v):\n",
    "        self.value = v\n",
    "    def get(self):\n",
    "        return self.value\n",
    "    \n",
    "c = MyClass2()\n",
    "print c.get()\n",
    "print c.value"
   ]
  },
  {
   "cell_type": "code",
   "execution_count": 24,
   "metadata": {
    "collapsed": false
   },
   "outputs": [
    {
     "name": "stdout",
     "output_type": "stream",
     "text": [
      "egg\n",
      "egg\n"
     ]
    }
   ],
   "source": [
    "c = MyClass()\n",
    "MyClass.set(c, 'egg')\n",
    "print MyClass.get(c)\n",
    "print c.value"
   ]
  },
  {
   "cell_type": "code",
   "execution_count": 1,
   "metadata": {
    "collapsed": false
   },
   "outputs": [
    {
     "name": "stdout",
     "output_type": "stream",
     "text": [
      "10\n",
      "10\n",
      "\n",
      "20\n",
      "\n",
      "30\n"
     ]
    }
   ],
   "source": [
    "class Integer:\n",
    "    def __init__(self, i):\n",
    "        self.i = i\n",
    "    def __str__(self):\n",
    "        return str(self.i)\n",
    "    def __add__(self, other):\n",
    "        return self.i + other\n",
    "\n",
    "i = Integer(10)\n",
    "print i\n",
    "print str(i)\n",
    "\n",
    "print\n",
    "i = i + 10\n",
    "print i\n",
    "\n",
    "print\n",
    "i += 10\n",
    "print i"
   ]
  },
  {
   "cell_type": "code",
   "execution_count": 6,
   "metadata": {
    "collapsed": false,
    "scrolled": true
   },
   "outputs": [
    {
     "ename": "TypeError",
     "evalue": "unsupported operand type(s) for /: 'instance' and 'str'",
     "output_type": "error",
     "traceback": [
      "\u001b[1;31m---------------------------------------------------------------------------\u001b[0m",
      "\u001b[1;31mTypeError\u001b[0m                                 Traceback (most recent call last)",
      "\u001b[1;32m<ipython-input-6-7a2b71b5eef2>\u001b[0m in \u001b[0;36m<module>\u001b[1;34m()\u001b[0m\n\u001b[0;32m      5\u001b[0m \u001b[0mm\u001b[0m \u001b[1;33m=\u001b[0m \u001b[0mMyString\u001b[0m\u001b[1;33m(\u001b[0m\u001b[1;34m\"abcd_abcd_abcd\"\u001b[0m\u001b[1;33m)\u001b[0m\u001b[1;33m\u001b[0m\u001b[0m\n\u001b[0;32m      6\u001b[0m \u001b[1;33m\u001b[0m\u001b[0m\n\u001b[1;32m----> 7\u001b[1;33m \u001b[1;32mprint\u001b[0m \u001b[0mm\u001b[0m \u001b[1;33m/\u001b[0m \u001b[1;34m\"_\"\u001b[0m\u001b[1;33m\u001b[0m\u001b[0m\n\u001b[0m\u001b[0;32m      8\u001b[0m \u001b[1;32mprint\u001b[0m \u001b[0mm\u001b[0m \u001b[1;33m/\u001b[0m \u001b[1;34m\"_a\"\u001b[0m\u001b[1;33m\u001b[0m\u001b[0m\n\u001b[0;32m      9\u001b[0m \u001b[1;33m\u001b[0m\u001b[0m\n",
      "\u001b[1;31mTypeError\u001b[0m: unsupported operand type(s) for /: 'instance' and 'str'"
     ]
    }
   ],
   "source": [
    "class MyString:\n",
    "    def __init__(self, s):\n",
    "        self.s = s\n",
    "    \n",
    "m = MyString(\"abcd_abcd_abcd\")\n",
    "\n",
    "print m / \"_\"\n",
    "print m / \"_a\"\n",
    "\n",
    "print\n",
    "print m.__div__(\"_\")"
   ]
  },
  {
   "cell_type": "code",
   "execution_count": 7,
   "metadata": {
    "collapsed": false,
    "scrolled": true
   },
   "outputs": [
    {
     "name": "stdout",
     "output_type": "stream",
     "text": [
      "['abcd', 'abcd', 'abcd']\n",
      "['abcd', 'bcd', 'bcd']\n",
      "\n",
      "['abcd', 'abcd', 'abcd']\n",
      "['abcd', 'bcd', 'bcd']\n"
     ]
    }
   ],
   "source": [
    "class MyString:\n",
    "    def __init__(self, str):\n",
    "        self.str = str\n",
    "    def __div__(self, sep):\n",
    "        return str.split(self.str, sep)\n",
    "    __rdiv__ = __div__\n",
    "\n",
    "m = MyString(\"abcd_abcd_abcd\")\n",
    "print m / \"_\"\n",
    "print m / \"_a\"\n",
    "print\n",
    "print \"_\" / m\n",
    "print \"_a\" / m"
   ]
  },
  {
   "cell_type": "code",
   "execution_count": 13,
   "metadata": {
    "collapsed": false
   },
   "outputs": [
    {
     "name": "stdout",
     "output_type": "stream",
     "text": [
      "__main__.C\n",
      "__main__.C -> 3\n",
      "__main__.C -> 5\n"
     ]
    }
   ],
   "source": [
    "class C:\n",
    "    @classmethod\n",
    "    def spam(cls, y):\n",
    "        print cls, '->', y\n",
    "    \n",
    "print C\n",
    "\n",
    "C.spam(3) # 첫번째 인수로 C가 잠재적으로 전달된다.\n",
    "\n",
    "c = C()\n",
    "c.spam(5) # 인스턴스 객체를 통해서도 호출 가능."
   ]
  },
  {
   "cell_type": "code",
   "execution_count": null,
   "metadata": {
    "collapsed": true
   },
   "outputs": [],
   "source": []
  }
 ],
 "metadata": {
  "anaconda-cloud": {},
  "kernelspec": {
   "display_name": "Python [Root]",
   "language": "python",
   "name": "Python [Root]"
  },
  "language_info": {
   "codemirror_mode": {
    "name": "ipython",
    "version": 2
   },
   "file_extension": ".py",
   "mimetype": "text/x-python",
   "name": "python",
   "nbconvert_exporter": "python",
   "pygments_lexer": "ipython2",
   "version": "2.7.12"
  }
 },
 "nbformat": 4,
 "nbformat_minor": 0
}
