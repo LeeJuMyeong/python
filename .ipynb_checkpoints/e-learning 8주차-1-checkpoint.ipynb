{
 "cells": [
  {
   "cell_type": "code",
   "execution_count": 2,
   "metadata": {
    "collapsed": false
   },
   "outputs": [
    {
     "name": "stdout",
     "output_type": "stream",
     "text": [
      "C:\\Users\\gamer\\Desktop\\Python\n"
     ]
    }
   ],
   "source": [
    "import os\n",
    "\n",
    "print os.getcwd()  \n",
    "# current working directory : 현재 작업중인 폴더를 알아보는 함수"
   ]
  },
  {
   "cell_type": "code",
   "execution_count": 3,
   "metadata": {
    "collapsed": true
   },
   "outputs": [],
   "source": [
    "s = \"\"\"Its power: Python developers typically report \n",
    "they are able to develop applications in a half\n",
    "to a tenth the amount of time it takes them to do\n",
    "the same work in such languages as C.\"\"\"\n",
    "\n",
    "f = open('t.txt', 'w')\n",
    "f.write(s) # 문자열을 파일에 기록\n",
    "f.close()"
   ]
  },
  {
   "cell_type": "code",
   "execution_count": 4,
   "metadata": {
    "collapsed": false
   },
   "outputs": [
    {
     "name": "stdout",
     "output_type": "stream",
     "text": [
      "<type 'file'>\n"
     ]
    }
   ],
   "source": [
    "print type(f)"
   ]
  },
  {
   "cell_type": "code",
   "execution_count": 9,
   "metadata": {
    "collapsed": false
   },
   "outputs": [
    {
     "name": "stdout",
     "output_type": "stream",
     "text": [
      "Its power: Python developers typically report \n",
      "they are able to develop applications in a half\n",
      "to a tenth the amount of time it takes them to do\n",
      "the same work in such languages as C.\n"
     ]
    }
   ],
   "source": [
    "#f = file('t.txt') # f = open('t.txt', 'r')과 동일\n",
    "# 단, 파일을 직접 생성하기 때문에 open을 추천함!!\n",
    "f = open('t.txt') # 모드가 안쓰이면 read 모드\n",
    "s = f.read()\n",
    "print s\n",
    "f.close()"
   ]
  },
  {
   "cell_type": "code",
   "execution_count": 15,
   "metadata": {
    "collapsed": false
   },
   "outputs": [
    {
     "name": "stdout",
     "output_type": "stream",
     "text": [
      "1 : Its power: Python developers typically report \n",
      "2 : they are able to develop applications in a half\n",
      "3 : to a tenth the amount of time it takes them to do\n",
      "4 : the same work in such languages as C.\n"
     ]
    }
   ],
   "source": [
    "f = open('t.txt')\n",
    "i = 1\n",
    "for line in f:\n",
    "    #print str(i) + \":\" + line,\n",
    "    print i, \":\", line,\n",
    "    i += 1\n",
    "f.close()"
   ]
  },
  {
   "cell_type": "code",
   "execution_count": 21,
   "metadata": {
    "collapsed": false
   },
   "outputs": [
    {
     "name": "stdout",
     "output_type": "stream",
     "text": [
      "1 : Its power: Python developers typically report \n",
      "2 : they are able to develop applications in a half\n",
      "3 : to a tenth the amount of time it takes them to do\n",
      "4 : the same work in such languages as C.\n"
     ]
    }
   ],
   "source": [
    "f = open(\"t.txt\")\n",
    "line = f.readline()\n",
    "i = 1\n",
    "while line:\n",
    "    print i, \":\", line,\n",
    "    line = f.readline()\n",
    "    i += 1\n",
    "f.close()"
   ]
  },
  {
   "cell_type": "code",
   "execution_count": 23,
   "metadata": {
    "collapsed": false
   },
   "outputs": [
    {
     "name": "stdout",
     "output_type": "stream",
     "text": [
      "['Its power: Python developers typically report \\n', 'they are able to develop applications in a half\\n', 'to a tenth the amount of time it takes them to do\\n', 'the same work in such languages as C.']\n",
      "\n",
      "1 : Its power: Python developers typically report \n",
      "2 : they are able to develop applications in a half\n",
      "3 : to a tenth the amount of time it takes them to do\n",
      "4 : the same work in such languages as C.\n"
     ]
    }
   ],
   "source": [
    "f = open('t.txt')\n",
    "print f.readlines()  \n",
    "print \n",
    "# 현재 포인터가 끝으로 가게 됨. 이미 readlines()를 했기 때문에~~~~\n",
    "\n",
    "f.seek(0)  # 파일 포인터를 0으로 돌려주는 함수(즉, 맨 앞으로 포인터를 옮김)\n",
    "i = 1\n",
    "for line in f.readlines():\n",
    "    print i, \":\", line,\n",
    "    i += 1\n",
    "f.close()"
   ]
  },
  {
   "cell_type": "code",
   "execution_count": 25,
   "metadata": {
    "collapsed": false
   },
   "outputs": [
    {
     "name": "stdout",
     "output_type": "stream",
     "text": [
      "<open file 't.txt', mode 'r' at 0x0000000003BAB810>\n",
      "\n",
      "1 : Its power: Python developers typically report \n",
      "2 : they are able to develop applications in a half\n",
      "3 : to a tenth the amount of time it takes them to do\n",
      "4 : the same work in such languages as C.\n"
     ]
    }
   ],
   "source": [
    "f = open(\"t.txt\")\n",
    "print f.xreadlines()    # readlines()와 유사하지만 파일 전체를 한꺼번에 읽지 않고, 상황별로 필요한 라인만 읽는다.\n",
    "print \n",
    "\n",
    "f.seek(0)\n",
    "i = 1\n",
    "for line in f.xreadlines():\n",
    "    print i, \":\", line,\n",
    "    i += 1\n",
    "f.close()"
   ]
  },
  {
   "cell_type": "code",
   "execution_count": 28,
   "metadata": {
    "collapsed": false
   },
   "outputs": [
    {
     "name": "stdout",
     "output_type": "stream",
     "text": [
      "frist line\n",
      "second line\n",
      "third line\n",
      "\n"
     ]
    }
   ],
   "source": [
    "lines = ['frist line\\n', 'second line\\n', 'third line\\n']  # \\n이 꼭 넣어야함!!!1\n",
    "#lines = ['frist line', 'second line', 'third line']\n",
    "f = open('t1.txt', 'w')\n",
    "f.writelines(lines)\n",
    "f.close()\n",
    "\n",
    "f = open('t1.txt')\n",
    "print f.read()\n",
    "f.close()"
   ]
  },
  {
   "cell_type": "code",
   "execution_count": 35,
   "metadata": {
    "collapsed": false
   },
   "outputs": [
    {
     "name": "stdout",
     "output_type": "stream",
     "text": [
      "frist line\n",
      "second line\n",
      "third line\n"
     ]
    }
   ],
   "source": [
    "#lines = ['frist line\\n', 'second line\\n', 'third line\\n']\n",
    "lines = ['frist line', 'second line', 'third line']\n",
    "f = open('t1.txt', 'w')\n",
    "f.write('\\n'.join(lines))\n",
    "f.close()\n",
    "\n",
    "f = open('t1.txt')\n",
    "#f.seek(0)\n",
    "print f.read()\n",
    "f.close()"
   ]
  },
  {
   "cell_type": "code",
   "execution_count": 36,
   "metadata": {
    "collapsed": false
   },
   "outputs": [
    {
     "name": "stdout",
     "output_type": "stream",
     "text": [
      "35\n"
     ]
    }
   ],
   "source": [
    "f = open('t.txt')\n",
    "s = f.read()\n",
    "n = len(s.split())\n",
    "print n\n",
    "f.close()"
   ]
  },
  {
   "cell_type": "code",
   "execution_count": 37,
   "metadata": {
    "collapsed": true
   },
   "outputs": [],
   "source": [
    "f = open('removeme.txt', 'w') # 파일의 생성\n",
    "f.write('first line\\n')\n",
    "f.write('second line\\n')\n",
    "f.close()"
   ]
  },
  {
   "cell_type": "code",
   "execution_count": 38,
   "metadata": {
    "collapsed": false
   },
   "outputs": [
    {
     "name": "stdout",
     "output_type": "stream",
     "text": [
      "first line\n",
      "second line\n",
      "third line\n",
      "\n"
     ]
    }
   ],
   "source": [
    "f = open('removeme.txt', 'a') # 파일 추가 모드로 오픈\n",
    "f.write('third line\\n')\n",
    "f.close()\n",
    "\n",
    "f = open('removeme.txt')      # 파일 읽기\n",
    "print f.read()"
   ]
  },
  {
   "cell_type": "markdown",
   "metadata": {},
   "source": [
    "- 파일 포인터(pointer)\n",
    "    - 파일 내에서 현재 위치를 가리키고 있음\n",
    "- 파일 접근 방법\n",
    "    - 순차 접근(기본방식): 파일을 앞에서 부터\n",
    "    순차적으로 읽고 쓰는 방식\n",
    "    - 임의 접근 ~~~ seek() 사용"
   ]
  },
  {
   "cell_type": "code",
   "execution_count": 42,
   "metadata": {
    "collapsed": false
   },
   "outputs": [
    {
     "name": "stdout",
     "output_type": "stream",
     "text": [
      "5\n",
      "<type 'long'>\n",
      "f\n",
      "<type 'str'>\n",
      "7\n",
      "\n"
     ]
    }
   ],
   "source": [
    "name = 't.txt'\n",
    "f = open(name, 'w+')  # 'w+' : 파일 쓰는데, 읽기도 가능\n",
    "s = 'abcdefg'\n",
    "f.write(s)\n",
    "\n",
    "f.seek(5)\n",
    "print f.tell()  # 현재위치를 돌려줌\n",
    "print type(f.tell())\n",
    "print f.read(1) # 현재위치에 있는 문자 하나를 읽음!\n",
    "print type(f.read(1))\n",
    "print f.tell()\n",
    "print"
   ]
  },
  {
   "cell_type": "markdown",
   "metadata": {
    "collapsed": true
   },
   "source": [
    "- sys 모듈의 표준 입출력 관련 객체\n",
    "    - sys.stdout: 표준출력\n",
    "    - sys.stderr: 표준 에러 출력\n",
    "    - sys.stdin: 표준입력"
   ]
  },
  {
   "cell_type": "code",
   "execution_count": 43,
   "metadata": {
    "collapsed": true
   },
   "outputs": [],
   "source": [
    "import sys\n",
    "\n",
    "f = open('t.txt', 'w')\n",
    "stdout = sys.stdout\n",
    "sys.stdout = f\n",
    "print 'Sample output'\n",
    "print 'Good'\n",
    "print 'Good'\n",
    "f.close()\n",
    "sys.stdout = stdout  # 마지막에 복원시키는 문장\n"
   ]
  },
  {
   "cell_type": "code",
   "execution_count": 44,
   "metadata": {
    "collapsed": false
   },
   "outputs": [
    {
     "name": "stdout",
     "output_type": "stream",
     "text": [
      "Sample output\n",
      "Good\n",
      "Good\n",
      "\n"
     ]
    }
   ],
   "source": [
    "f = open('t.txt')\n",
    "print f.read()"
   ]
  },
  {
   "cell_type": "code",
   "execution_count": 46,
   "metadata": {
    "collapsed": false
   },
   "outputs": [
    {
     "name": "stderr",
     "output_type": "stream",
     "text": [
      "Warning, action field not supplied\n"
     ]
    }
   ],
   "source": [
    "import sys\n",
    "print >> sys.stderr, \"Warning, action field not supplied\"\n",
    "\n",
    "# 다른쪽으로 출력을 원할 때, 부등호 두개(>>)"
   ]
  },
  {
   "cell_type": "code",
   "execution_count": 47,
   "metadata": {
    "collapsed": false
   },
   "outputs": [
    {
     "name": "stdout",
     "output_type": "stream",
     "text": [
      "spam string\n",
      "\n"
     ]
    }
   ],
   "source": [
    "f = open('t.txt', 'w')\n",
    "print >> f, 'spam string'\n",
    "f.close()\n",
    "\n",
    "f = open('t.txt')\n",
    "print f.read()\n",
    "f.close()"
   ]
  },
  {
   "cell_type": "code",
   "execution_count": 50,
   "metadata": {
    "collapsed": false
   },
   "outputs": [
    {
     "name": "stdout",
     "output_type": "stream",
     "text": [
      "<type 'instance'>\n",
      "abc\n",
      "\n",
      "abc\n"
     ]
    }
   ],
   "source": [
    "import StringIO\n",
    "\n",
    "f = StringIO.StringIO()\n",
    "print type(f)\n",
    "f.write(\"abc\")\n",
    "f.seek(0)\n",
    "s = f.read()\n",
    "print s\n",
    "print \n",
    "\n",
    "s2 = f.getvalue()\n",
    "print s2"
   ]
  },
  {
   "cell_type": "code",
   "execution_count": 52,
   "metadata": {
    "collapsed": false
   },
   "outputs": [
    {
     "name": "stdout",
     "output_type": "stream",
     "text": [
      "<type 'instance'>\n",
      "Sample output\n",
      "Good\n",
      "Good\n",
      "\n"
     ]
    }
   ],
   "source": [
    "import sys\n",
    "import StringIO\n",
    "\n",
    "stdout = sys.stdout\n",
    "sys.stdout = f = StringIO.StringIO()\n",
    "\n",
    "print type(f)\n",
    "print 'Sample output'\n",
    "print 'Good'\n",
    "print 'Good'\n",
    "\n",
    "\n",
    "sys.stdout = stdout\n",
    "\n",
    "s = f.getvalue()\n",
    "print s"
   ]
  },
  {
   "cell_type": "code",
   "execution_count": 55,
   "metadata": {
    "collapsed": false
   },
   "outputs": [
    {
     "name": "stdout",
     "output_type": "stream",
     "text": [
      "{'jim': 6851325, 'Joseph': 6584321, 'jack': 9465215, 'tom': 4358382}\n",
      "['string', 1234, 0.2345]\n"
     ]
    }
   ],
   "source": [
    "import pickle\n",
    "\n",
    "phone = {'tom':4358382, 'jack':9465215, 'jim':6851325, 'Joseph':6584321}\n",
    "List = ['string', 1234, 0.2345]\n",
    "Tuple = (phone, List) # 리스트, 튜플, 사전의 복합 객체\n",
    "\n",
    "f = open('pickle.txt', 'w') # 파일 객체를 얻는다.\n",
    "\n",
    "pickle.dump(Tuple, f) # 파일로 출력(pickling), 복합 객체 출력 \n",
    "f.close() \n",
    "\n",
    "f = open('pickle.txt')     \n",
    "                      \n",
    "x,y = pickle.load(f) # 파일에서 읽어오기. 튜플의 내용을 x, y에 받는다.\n",
    "print x # 사전\n",
    "print y # 리스트\n",
    "f.close()"
   ]
  },
  {
   "cell_type": "code",
   "execution_count": 56,
   "metadata": {
    "collapsed": false
   },
   "outputs": [
    {
     "name": "stdout",
     "output_type": "stream",
     "text": [
      "((dp0\n",
      "S'jim'\n",
      "p1\n",
      "I6851325\n",
      "sS'Joseph'\n",
      "p2\n",
      "I6584321\n",
      "sS'jack'\n",
      "p3\n",
      "I9465215\n",
      "sS'tom'\n",
      "p4\n",
      "I4358382\n",
      "s(lp5\n",
      "S'string'\n",
      "p6\n",
      "aI1234\n",
      "aF0.2345\n",
      "atp7\n",
      ".\n"
     ]
    }
   ],
   "source": [
    "f = open('pickle.txt')\n",
    "print f.read()\n",
    "f.close()"
   ]
  },
  {
   "cell_type": "code",
   "execution_count": 58,
   "metadata": {
    "collapsed": false
   },
   "outputs": [
    {
     "name": "stdout",
     "output_type": "stream",
     "text": [
      "__main__.Simple\n",
      "10\n"
     ]
    }
   ],
   "source": [
    "import pickle\n",
    "\n",
    "class Simple:\n",
    "    pass\n",
    "\n",
    "s = Simple()  # 인스턴스 객체 생성\n",
    "s.count = 10  # 인스턴스 이름 공간에 변수 생성\n",
    "\n",
    "f = open('pickle2.txt', 'w')\n",
    "pickle.dump(s, f)\n",
    "f.close()\n",
    "\n",
    "f = open('pickle2.txt')\n",
    "t = pickle.load(f)\n",
    "print t.__class__\n",
    "print t.count"
   ]
  },
  {
   "cell_type": "code",
   "execution_count": null,
   "metadata": {
    "collapsed": true
   },
   "outputs": [],
   "source": []
  }
 ],
 "metadata": {
  "kernelspec": {
   "display_name": "Python [Root]",
   "language": "python",
   "name": "Python [Root]"
  },
  "language_info": {
   "codemirror_mode": {
    "name": "ipython",
    "version": 2
   },
   "file_extension": ".py",
   "mimetype": "text/x-python",
   "name": "python",
   "nbconvert_exporter": "python",
   "pygments_lexer": "ipython2",
   "version": "2.7.12"
  }
 },
 "nbformat": 4,
 "nbformat_minor": 0
}
