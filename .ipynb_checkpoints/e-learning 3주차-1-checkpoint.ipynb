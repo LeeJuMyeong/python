{
 "cells": [
  {
   "cell_type": "code",
   "execution_count": 1,
   "metadata": {
    "collapsed": false
   },
   "outputs": [
    {
     "name": "stdout",
     "output_type": "stream",
     "text": [
      "<type 'int'> <type 'int'> <type 'int'>\n",
      "23 19 35\n"
     ]
    }
   ],
   "source": [
    "a = 23      # 10진 정수\n",
    "b = 023     # 8진 정수\n",
    "c = 0x23    # 16진 정수\n",
    "print type(a), type(b), type(c)\n",
    "print a, b, c"
   ]
  },
  {
   "cell_type": "code",
   "execution_count": 2,
   "metadata": {
    "collapsed": false,
    "scrolled": true
   },
   "outputs": [
    {
     "name": "stdout",
     "output_type": "stream",
     "text": [
      "2147483647\n"
     ]
    }
   ],
   "source": [
    "import sys\n",
    "print sys.maxint  # 최대 정수 값 확인"
   ]
  },
  {
   "cell_type": "code",
   "execution_count": 3,
   "metadata": {
    "collapsed": false
   },
   "outputs": [
    {
     "name": "stdout",
     "output_type": "stream",
     "text": [
      "<type 'float'> <type 'float'> <type 'float'>\n",
      "1.2 3500.0 -2e-05\n"
     ]
    }
   ],
   "source": [
    "a = 1.2\n",
    "b = 3.5e3\n",
    "c = -0.2e-4\n",
    "print type(a), type(b), type(c)\n",
    "print a, b, c"
   ]
  },
  {
   "cell_type": "markdown",
   "metadata": {},
   "source": [
    "위의 내용은 print로 인한 변화는 str(repr) 내장 함수에 의한 것"
   ]
  },
  {
   "cell_type": "code",
   "execution_count": 4,
   "metadata": {
    "collapsed": false
   },
   "outputs": [
    {
     "name": "stdout",
     "output_type": "stream",
     "text": [
      "<type 'long'>\n",
      "15241578753238836750495351562536198787501905199875019052100\n",
      "\n",
      "<type 'long'>\n",
      "15241578753238836750495351562536198787501905199875019052100\n",
      "\n",
      "<type 'long'>\n",
      "\n",
      "<type 'int'>\n"
     ]
    }
   ],
   "source": [
    "h1 = 123456789012345678901234567890L    \n",
    "# 마지막에 L을 붙여서 명시적으로 long 형이라고 알려도 되고\n",
    "print type(h1)\n",
    "print h1 * h1\n",
    "print\n",
    "\n",
    "h2 = 123456789012345678901234567890     \n",
    "# L을 붙이지 않아도 int형이 담을 수 있는 수치를 초과하면 자동으로 long형이 된다.    \n",
    "print type(h2)\n",
    "print h2 * h2\n",
    "print\n",
    "\n",
    "h3 = 123L\n",
    "print type(h3)\n",
    "print\n",
    "\n",
    "h4 = 123\n",
    "print type(h4)"
   ]
  },
  {
   "cell_type": "code",
   "execution_count": 6,
   "metadata": {
    "collapsed": false
   },
   "outputs": [
    {
     "data": {
      "text/plain": [
       "123456789012345678890L"
      ]
     },
     "execution_count": 6,
     "metadata": {},
     "output_type": "execute_result"
    }
   ],
   "source": [
    "123456789012345678890  # 자동 long형 변환"
   ]
  },
  {
   "cell_type": "code",
   "execution_count": 7,
   "metadata": {
    "collapsed": false
   },
   "outputs": [
    {
     "name": "stdout",
     "output_type": "stream",
     "text": [
      "(10+20j)\n",
      "(20+25j)\n"
     ]
    }
   ],
   "source": [
    "a = 10 + 20j\n",
    "print a\n",
    "\n",
    "b = 10 + 5j\n",
    "print a + b"
   ]
  },
  {
   "cell_type": "code",
   "execution_count": 10,
   "metadata": {
    "collapsed": false
   },
   "outputs": [
    {
     "name": "stdout",
     "output_type": "stream",
     "text": [
      "3\n",
      "3\n",
      "-3\n",
      "-3\n",
      "3\n",
      "5.0\n",
      "(3.4+5j)\n",
      "(6+0j)\n"
     ]
    }
   ],
   "source": [
    "print abs(-3)\n",
    "print int(3.141592)\n",
    "print int(-3.1415)\n",
    "print int(-3.99999)\n",
    "# 버림값 나옴\n",
    "print long(3)\n",
    "print float(5)\n",
    "print complex(3.4, 5)\n",
    "print complex(6)"
   ]
  },
  {
   "cell_type": "code",
   "execution_count": 13,
   "metadata": {
    "collapsed": false
   },
   "outputs": [
    {
     "name": "stdout",
     "output_type": "stream",
     "text": [
      "(2, 1)\n",
      "\n",
      "8\n",
      "18.4521691056\n"
     ]
    }
   ],
   "source": [
    "print divmod(5, 2) # a를 b로 나눈 값과 나머지\n",
    "print\n",
    "print pow(2, 3) # 2^3\n",
    "print pow(2.3, 3.5)"
   ]
  },
  {
   "cell_type": "code",
   "execution_count": 16,
   "metadata": {
    "collapsed": false
   },
   "outputs": [
    {
     "name": "stdout",
     "output_type": "stream",
     "text": [
      "3.14159265359\n",
      "2.71828182846\n",
      "0.841470984808\n",
      "1.41421356237\n"
     ]
    }
   ],
   "source": [
    "import math\n",
    "\n",
    "print math.pi\n",
    "print math.e\n",
    "print math.sin(1.0) # 1.0 라디안에 대한 사인 값\n",
    "print math.sqrt(2) # 제곱근"
   ]
  },
  {
   "cell_type": "code",
   "execution_count": 19,
   "metadata": {
    "collapsed": false
   },
   "outputs": [
    {
     "name": "stdout",
     "output_type": "stream",
     "text": [
      "78.5398163397\n",
      "0.866025403784 0.5 1.73205080757\n"
     ]
    }
   ],
   "source": [
    "r = 5.0 # 반지름\n",
    "a = math.pi * r * r # 면적\n",
    "print a\n",
    "\n",
    "degree = 60.0\n",
    "rad = math.pi * degree / 180.0 # 각도를 라디안으로 변환\n",
    "print math.sin(rad), math.cos(rad), math.tan(rad) #sin, cos, tan"
   ]
  },
  {
   "cell_type": "code",
   "execution_count": 20,
   "metadata": {
    "collapsed": false
   },
   "outputs": [
    {
     "name": "stdout",
     "output_type": "stream",
     "text": [
      "Hello World!\n",
      "Hello World!\n"
     ]
    }
   ],
   "source": [
    "print 'Hello World!'\n",
    "\n",
    "print \"Hello World!\""
   ]
  },
  {
   "cell_type": "code",
   "execution_count": 23,
   "metadata": {
    "collapsed": false
   },
   "outputs": [
    {
     "name": "stdout",
     "output_type": "stream",
     "text": [
      "Hello \"World\"\n",
      "Hellot 'World'\n"
     ]
    }
   ],
   "source": [
    "print 'Hello \"World\"'\n",
    "print \"Hellot 'World'\""
   ]
  },
  {
   "cell_type": "code",
   "execution_count": 28,
   "metadata": {
    "collapsed": false
   },
   "outputs": [
    {
     "name": "stdout",
     "output_type": "stream",
     "text": [
      "\n",
      "To be, or not to be\n",
      "that is the question\n",
      "\n",
      "\n",
      "To be, or not to be\n",
      "that is the question\n",
      "\n"
     ]
    }
   ],
   "source": [
    "multiline = '''\n",
    "To be, or not to be\n",
    "that is the question\n",
    "'''\n",
    "print multiline\n",
    "\n",
    "multiline2 = \"\"\"\n",
    "To be, or not to be\n",
    "that is the question\n",
    "\"\"\"\n",
    "print multiline2"
   ]
  },
  {
   "cell_type": "code",
   "execution_count": 29,
   "metadata": {
    "collapsed": false
   },
   "outputs": [
    {
     "name": "stdout",
     "output_type": "stream",
     "text": [
      "H\n",
      "e\n",
      "!\n",
      "d\n"
     ]
    }
   ],
   "source": [
    "s = \"Hello world!\"\n",
    "print s[0]\n",
    "print s[1]\n",
    "print s[-1]\n",
    "print s[-2]"
   ]
  },
  {
   "cell_type": "code",
   "execution_count": 38,
   "metadata": {
    "collapsed": false
   },
   "outputs": [
    {
     "name": "stdout",
     "output_type": "stream",
     "text": [
      "ello\n",
      "Hel\n",
      "Hello\n",
      "\n",
      "ello\n",
      "ll\n"
     ]
    }
   ],
   "source": [
    "s = 'Hello'\n",
    "print s[1:]\n",
    "print s[:3]\n",
    "print s[:]\n",
    "print \n",
    "print s[1:5]\n",
    "print s[-3:-1]"
   ]
  },
  {
   "cell_type": "code",
   "execution_count": 47,
   "metadata": {
    "collapsed": false
   },
   "outputs": [
    {
     "name": "stdout",
     "output_type": "stream",
     "text": [
      "ac\n",
      "dcba\n",
      "\n",
      "db\n",
      "cba\n"
     ]
    }
   ],
   "source": [
    "s = 'abcd'\n",
    "print s[::2]\n",
    "print s[::-1]\n",
    "#step에 마이너스ㄹ(-)를 사용하면 거꾸로 출력됨\n",
    "print \n",
    "print s[::-2]\n",
    "print s[-2:-5:-1]"
   ]
  },
  {
   "cell_type": "code",
   "execution_count": 37,
   "metadata": {
    "collapsed": false
   },
   "outputs": [
    {
     "name": "stdout",
     "output_type": "stream",
     "text": [
      "el\n",
      "Hello\n"
     ]
    }
   ],
   "source": [
    "s = \"Hello world!\"\n",
    "print s[1:3]\n",
    "print s[0:5]"
   ]
  },
  {
   "cell_type": "code",
   "execution_count": 48,
   "metadata": {
    "collapsed": false
   },
   "outputs": [
    {
     "ename": "TypeError",
     "evalue": "'str' object does not support item assignment",
     "output_type": "error",
     "traceback": [
      "\u001b[1;31m---------------------------------------------------------------------------\u001b[0m",
      "\u001b[1;31mTypeError\u001b[0m                                 Traceback (most recent call last)",
      "\u001b[1;32m<ipython-input-48-28020f3d59a5>\u001b[0m in \u001b[0;36m<module>\u001b[1;34m()\u001b[0m\n\u001b[0;32m      1\u001b[0m \u001b[0ms\u001b[0m \u001b[1;33m=\u001b[0m \u001b[1;34m'Hello World'\u001b[0m\u001b[1;33m\u001b[0m\u001b[0m\n\u001b[1;32m----> 2\u001b[1;33m \u001b[0ms\u001b[0m\u001b[1;33m[\u001b[0m\u001b[1;36m0\u001b[0m\u001b[1;33m]\u001b[0m \u001b[1;33m=\u001b[0m \u001b[1;34m'h'\u001b[0m\u001b[1;33m\u001b[0m\u001b[0m\n\u001b[0m",
      "\u001b[1;31mTypeError\u001b[0m: 'str' object does not support item assignment"
     ]
    }
   ],
   "source": [
    "s = 'Hello World'\n",
    "s[0] = 'h'"
   ]
  },
  {
   "cell_type": "code",
   "execution_count": 51,
   "metadata": {
    "collapsed": false
   },
   "outputs": [
    {
     "name": "stdout",
     "output_type": "stream",
     "text": [
      "hello World\n"
     ]
    }
   ],
   "source": [
    "#중요!!!!!!!!!!!!!!!!!!!!!!!!!!!!!!\n",
    "s = 'Hello World'\n",
    "s = 'h' + s[1:]\n",
    "print s"
   ]
  },
  {
   "cell_type": "code",
   "execution_count": 58,
   "metadata": {
    "collapsed": false
   },
   "outputs": [
    {
     "name": "stdout",
     "output_type": "stream",
     "text": [
      "Hello World\n",
      "Hello Hello Hello \n",
      "----------\n"
     ]
    }
   ],
   "source": [
    "print 'Hello' + ' ' + 'World'\n",
    "print 'Hello ' * 3\n",
    "print '-' * 10"
   ]
  },
  {
   "cell_type": "code",
   "execution_count": 61,
   "metadata": {
    "collapsed": false
   },
   "outputs": [
    {
     "data": {
      "text/plain": [
       "11"
      ]
     },
     "execution_count": 61,
     "metadata": {},
     "output_type": "execute_result"
    }
   ],
   "source": [
    "s = 'Hello World'\n",
    "len(s)"
   ]
  },
  {
   "cell_type": "code",
   "execution_count": 64,
   "metadata": {
    "collapsed": false
   },
   "outputs": [
    {
     "name": "stdout",
     "output_type": "stream",
     "text": [
      "True\n",
      "False\n"
     ]
    }
   ],
   "source": [
    "s = 'Hello World'\n",
    "print 'World' in s\n",
    "print 'World' not in s"
   ]
  },
  {
   "cell_type": "code",
   "execution_count": null,
   "metadata": {
    "collapsed": true
   },
   "outputs": [],
   "source": []
  }
 ],
 "metadata": {
  "anaconda-cloud": {},
  "kernelspec": {
   "display_name": "Python [Root]",
   "language": "python",
   "name": "Python [Root]"
  },
  "language_info": {
   "codemirror_mode": {
    "name": "ipython",
    "version": 2
   },
   "file_extension": ".py",
   "mimetype": "text/x-python",
   "name": "python",
   "nbconvert_exporter": "python",
   "pygments_lexer": "ipython2",
   "version": "2.7.12"
  }
 },
 "nbformat": 4,
 "nbformat_minor": 0
}
