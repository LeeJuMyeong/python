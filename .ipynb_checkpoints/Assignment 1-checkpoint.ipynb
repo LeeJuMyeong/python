{
 "cells": [
  {
   "cell_type": "markdown",
   "metadata": {},
   "source": [
    "# Assignment 1  \n",
    "----------------  \n",
    "  \n",
    "2011136093 이주명  \n",
    "  \n",
    "  "
   ]
  },
  {
   "cell_type": "markdown",
   "metadata": {
    "collapsed": true
   },
   "source": [
    "### 문제\n",
    "------------------------\n",
    "- a=\"Hello Python\" 문자열을 Slicing과 연결 연산자 (+)를 사용하여 \"Python Hello\"로 변경하시오.   \n",
    "\n",
    "    [주의] a 변수 자체에 \"Python Hello\" 문자열이 저장되어야함  \n",
    "    "
   ]
  },
  {
   "cell_type": "code",
   "execution_count": 3,
   "metadata": {
    "collapsed": false
   },
   "outputs": [
    {
     "name": "stdout",
     "output_type": "stream",
     "text": [
      "Python Hello\n"
     ]
    }
   ],
   "source": [
    "a = \"Hello Python\"\n",
    "a = a[6:] + a[5:6] + a[0:5]\n",
    "print a"
   ]
  },
  {
   "cell_type": "markdown",
   "metadata": {},
   "source": [
    "--------------------------------  \n",
    "- b=\"Hello Python World\" 문자열을 Slicing과 연결 연산자 (+)를 사용하여 \"World Python Hello\"로 변경하시오.   \n",
    "\n",
    "    [주의] b 변수 자체에 \"Python Hello\" 문자열이 저장되어야 함  \n"
   ]
  },
  {
   "cell_type": "code",
   "execution_count": 16,
   "metadata": {
    "collapsed": false
   },
   "outputs": [
    {
     "name": "stdout",
     "output_type": "stream",
     "text": [
      "World Python Hello\n"
     ]
    }
   ],
   "source": [
    "b = \"Hello Python World\"\n",
    "b = b[-5:] + b[5:12] + b[-6:-5] + b[:5]\n",
    "print b"
   ]
  },
  {
   "cell_type": "markdown",
   "metadata": {},
   "source": [
    "-------------------  \n",
    "- c=\"Hello\"를 \"olleH\"로 변경하시오.  \n",
    "  \n",
    "    [주의] c 변수 자체에 \"olleH\" 문자열이 저장되어야 함"
   ]
  },
  {
   "cell_type": "code",
   "execution_count": 19,
   "metadata": {
    "collapsed": false
   },
   "outputs": [
    {
     "name": "stdout",
     "output_type": "stream",
     "text": [
      "olleH\n"
     ]
    }
   ],
   "source": [
    "c = \"Hello\"\n",
    "c = c[::-1]\n",
    "print c"
   ]
  },
  {
   "cell_type": "markdown",
   "metadata": {},
   "source": [
    "-----------------------  \n",
    "- s=\"python\"에 대해 다음 문제를 풀어보시오.  \n",
    "  \n",
    "    1. s[0], s[0][0], s[0][0][0]은 각각 어떤 값이 나오는지 확인하고 그 이유를 나름대로 설명해보시오.  \n"
   ]
  },
  {
   "cell_type": "code",
   "execution_count": 26,
   "metadata": {
    "collapsed": false,
    "scrolled": true
   },
   "outputs": [
    {
     "name": "stdout",
     "output_type": "stream",
     "text": [
      "p p p\n"
     ]
    }
   ],
   "source": [
    "s = \"python\"\n",
    "print s[0], s[0][0], s[0][0][0]"
   ]
  },
  {
   "cell_type": "markdown",
   "metadata": {},
   "source": [
    "> 위의 문제에 따라 값을 출력해보니 위와 같은 값이 나왔습니다.  \n",
    ">\n",
    "> 이 결과로 유추해보면, s[0],s[1],s[2] 등등으로 변수 s를 배열과 같이 사용할 수 있다는 점과 s[0][0], s[0][0][0]은 s[0]으로 취급된다는 점입니다.  \n",
    ">\n",
    "> 그리고 s[1][0]과 s[0][1]도 출력해보았습니다.   "
   ]
  },
  {
   "cell_type": "code",
   "execution_count": 28,
   "metadata": {
    "collapsed": false
   },
   "outputs": [
    {
     "name": "stdout",
     "output_type": "stream",
     "text": [
      " y"
     ]
    },
    {
     "ename": "IndexError",
     "evalue": "string index out of range",
     "output_type": "error",
     "traceback": [
      "\u001b[1;31m---------------------------------------------------------------------------\u001b[0m",
      "\u001b[1;31mIndexError\u001b[0m                                Traceback (most recent call last)",
      "\u001b[1;32m<ipython-input-28-0b2ae1bb6ff9>\u001b[0m in \u001b[0;36m<module>\u001b[1;34m()\u001b[0m\n\u001b[1;32m----> 1\u001b[1;33m \u001b[1;32mprint\u001b[0m \u001b[0ms\u001b[0m\u001b[1;33m[\u001b[0m\u001b[1;36m1\u001b[0m\u001b[1;33m]\u001b[0m\u001b[1;33m[\u001b[0m\u001b[1;36m0\u001b[0m\u001b[1;33m]\u001b[0m\u001b[1;33m,\u001b[0m \u001b[0ms\u001b[0m\u001b[1;33m[\u001b[0m\u001b[1;36m0\u001b[0m\u001b[1;33m]\u001b[0m\u001b[1;33m[\u001b[0m\u001b[1;36m1\u001b[0m\u001b[1;33m]\u001b[0m\u001b[1;33m\u001b[0m\u001b[0m\n\u001b[0m",
      "\u001b[1;31mIndexError\u001b[0m: string index out of range"
     ]
    }
   ],
   "source": [
    "print s[1][0], s[0][1]"
   ]
  },
  {
   "cell_type": "markdown",
   "metadata": {},
   "source": [
    "> 이를 통해 s[n][0](n은 현재 배열의 크기)와 s[n][0][0]은 사용 가능하다는 점입니다.  \n",
    "> \n",
    "> 제 생각은 []에 있는 수는 그 안에 가르키고 있는 배열의 위치를 나타내는 포인트와 같은 것으로, 만약 포인트의 이동하고 모든 이동이 끝났고 그 위치에 적합한 값이 존재한다면 오류는 만들지 않는 것 같습니다.\n",
    "> \n",
    "> 위의 예시에서는 s[0][0][0]는 이동이 0과 같고 s[0]도 이와 같기 때문에 에러가 없는 것 같습니다. "
   ]
  },
  {
   "cell_type": "markdown",
   "metadata": {},
   "source": [
    "--------------------------  \n",
    "    2. s[-100], s[100]은 값이 나오는지 에러가 나오는지 확인하고 그 결과에 대한 이유를 나름대로 설명해 보시오.  "
   ]
  },
  {
   "cell_type": "code",
   "execution_count": 31,
   "metadata": {
    "collapsed": false
   },
   "outputs": [
    {
     "ename": "IndexError",
     "evalue": "string index out of range",
     "output_type": "error",
     "traceback": [
      "\u001b[1;31m---------------------------------------------------------------------------\u001b[0m",
      "\u001b[1;31mIndexError\u001b[0m                                Traceback (most recent call last)",
      "\u001b[1;32m<ipython-input-31-5c4acd734c2b>\u001b[0m in \u001b[0;36m<module>\u001b[1;34m()\u001b[0m\n\u001b[1;32m----> 1\u001b[1;33m \u001b[1;32mprint\u001b[0m \u001b[0ms\u001b[0m\u001b[1;33m[\u001b[0m\u001b[1;33m-\u001b[0m\u001b[1;36m100\u001b[0m\u001b[1;33m]\u001b[0m\u001b[1;33m,\u001b[0m \u001b[0ms\u001b[0m\u001b[1;33m[\u001b[0m\u001b[1;36m100\u001b[0m\u001b[1;33m]\u001b[0m\u001b[1;33m\u001b[0m\u001b[0m\n\u001b[0m",
      "\u001b[1;31mIndexError\u001b[0m: string index out of range"
     ]
    }
   ],
   "source": [
    "print s[-100], s[100]"
   ]
  },
  {
   "cell_type": "markdown",
   "metadata": {},
   "source": [
    "> s의 변수가 지정한 객체가 지니고 있는 범위를 넘는 수를 출력하려하기 때문에 에러가 나오는 것 같습니다.  "
   ]
  },
  {
   "cell_type": "markdown",
   "metadata": {},
   "source": [
    "---------------  \n",
    "    3. s[-100, 100]은 값이 나오는지 에러가 나오는 지 확인하고 그 결과에 대한 이유를 나름대로 설명해 보시오.    "
   ]
  },
  {
   "cell_type": "code",
   "execution_count": 33,
   "metadata": {
    "collapsed": false
   },
   "outputs": [
    {
     "ename": "TypeError",
     "evalue": "string indices must be integers, not tuple",
     "output_type": "error",
     "traceback": [
      "\u001b[1;31m---------------------------------------------------------------------------\u001b[0m",
      "\u001b[1;31mTypeError\u001b[0m                                 Traceback (most recent call last)",
      "\u001b[1;32m<ipython-input-33-682bda7d6434>\u001b[0m in \u001b[0;36m<module>\u001b[1;34m()\u001b[0m\n\u001b[1;32m----> 1\u001b[1;33m \u001b[1;32mprint\u001b[0m \u001b[0ms\u001b[0m\u001b[1;33m[\u001b[0m\u001b[1;33m-\u001b[0m\u001b[1;36m100\u001b[0m\u001b[1;33m,\u001b[0m \u001b[1;36m100\u001b[0m\u001b[1;33m]\u001b[0m\u001b[1;33m\u001b[0m\u001b[0m\n\u001b[0m",
      "\u001b[1;31mTypeError\u001b[0m: string indices must be integers, not tuple"
     ]
    }
   ],
   "source": [
    "print s[-100, 100]"
   ]
  },
  {
   "cell_type": "markdown",
   "metadata": {},
   "source": [
    "> 위의 오류는 [] 내부에 , 이 있기때문인것 같습니다. 슬라이싱하려는 [] 내부에는 : 이나 숫자 이외 값이 들어가면 안되는 것 같습니다.  \n",
    ">  만일 슬라이싱이 아닌 리스트 형으로 사용한다면, s = [-100, 100]과 같은 형식으로 써야한다고 생각합니다.  "
   ]
  },
  {
   "cell_type": "markdown",
   "metadata": {},
   "source": [
    "--------------------\n",
    "    4. s[1:-1]의 결과를 확인하고 그 결과에 대한 이유를 정확하게 설명하시오.  "
   ]
  },
  {
   "cell_type": "code",
   "execution_count": 40,
   "metadata": {
    "collapsed": false
   },
   "outputs": [
    {
     "name": "stdout",
     "output_type": "stream",
     "text": [
      "ytho\n"
     ]
    }
   ],
   "source": [
    "print s[1:-1]"
   ]
  },
  {
   "cell_type": "markdown",
   "metadata": {},
   "source": [
    "> s를 리스트 형태로 보면, s[0]=p, s[1]=y, s[2]=t, s[3]=h, s[4]=o, s[5]=n 으로 나타낼 수 있습니다.  \n",
    ">\n",
    "> 그리고 s[1:-1]는 s의 내부 값을 배열과 같이 봤을 때, s의 1번째 있는 값(y)부터 s의 -1번째 있는 값(n) 전까지를 뜻 합니다.   \n",
    "> s[1:-1]의 정확한 형태는 s[1:-1:1] 로 1씩 증가한다는 step이 생략되있는 형태입니다.  \n",
    "> \n",
    "> 또한, s[-1]은 리스트를 뒤에서 숫자를 나타낼 때, 음수로 쓰이게 됩니다. 그러므로 s[-1]은 위치상 s[5]에 해당하게 됩니다. \n",
    "> \n",
    "> 그러므로 \"python\"에서 \"yhon\"이 출력됩니다. "
   ]
  },
  {
   "cell_type": "markdown",
   "metadata": {},
   "source": [
    "--------------------\n",
    "    5. s[3:-3]의 결과를 확인하고 그 결과에 대한 이유를 정확하게 설명하시오.  "
   ]
  },
  {
   "cell_type": "code",
   "execution_count": 43,
   "metadata": {
    "collapsed": false
   },
   "outputs": [
    {
     "name": "stdout",
     "output_type": "stream",
     "text": [
      "\n"
     ]
    }
   ],
   "source": [
    "print s[3:-3]"
   ]
  },
  {
   "cell_type": "markdown",
   "metadata": {},
   "source": [
    "> 값이 나오지 않은 이유는 \"python\"에서 3번째 위치의 값은 t이고 -3번째 위치의 값은 h이입니다.  \n",
    "> 이 또한 step = 1을 생략한 것이며, s[3:-3]을 달리 표현하자면, s[3:4]가 됩니다.\n",
    ">\n",
    "> 그러므로 s[3:-3]은 값이 없는 것으로 나오게 됩니다."
   ]
  },
  {
   "cell_type": "markdown",
   "metadata": {},
   "source": [
    "-------------------------------\n",
    "- for문을 활용하여 1부터 100사이의 홀수를 출력하시오.  "
   ]
  },
  {
   "cell_type": "code",
   "execution_count": 47,
   "metadata": {
    "collapsed": false
   },
   "outputs": [
    {
     "name": "stdout",
     "output_type": "stream",
     "text": [
      "1 3 5 7 9 11 13 15 17 19 21 23 25 27 29 31 33 35 37 39 41 43 45 47 49 51 53 55 57 59 61 63 65 67 69 71 73 75 77 79 81 83 85 87 89 91 93 95 97 99\n"
     ]
    }
   ],
   "source": [
    "for x in range(1,100,2):\n",
    "    print x,"
   ]
  },
  {
   "cell_type": "markdown",
   "metadata": {},
   "source": [
    "-----------------  \n",
    "- while문을 활용하여 1부터 100사이의 짝수의 합을 계산하여 출력하시오.  "
   ]
  },
  {
   "cell_type": "code",
   "execution_count": 51,
   "metadata": {
    "collapsed": false
   },
   "outputs": [
    {
     "name": "stdout",
     "output_type": "stream",
     "text": [
      "2450\n"
     ]
    }
   ],
   "source": [
    "y = 1 \n",
    "sum = 0\n",
    "while y < 100:\n",
    "    if (y % 2 == 0):\n",
    "        #print y, sum\n",
    "        sum += y\n",
    "    y += 1;\n",
    "print sum"
   ]
  },
  {
   "cell_type": "markdown",
   "metadata": {},
   "source": [
    "- 사용자로 부터 임의의 정수를 입력받고, 해당 숫자를 역순으로 출력하는 프로그램을 작성하시오.  \n",
    "  \n",
    "  [실행 예]\n",
    "      정수를 입력하세요: 3125\n",
    "      숫자 역순은 5213 입니다."
   ]
  },
  {
   "cell_type": "code",
   "execution_count": 5,
   "metadata": {
    "collapsed": false
   },
   "outputs": [
    {
     "name": "stdout",
     "output_type": "stream",
     "text": [
      "정수를 입력하세요: 3125\n",
      "\n",
      "숫자 역순은 5213입니다.\n"
     ]
    }
   ],
   "source": [
    "print \"정수를 입력하세요: \",\n",
    "z = raw_input()\n",
    "z = z[::-1]\n",
    "print\n",
    "print \"숫자 역순은 \" + z + \"입니다.\" "
   ]
  },
  {
   "cell_type": "markdown",
   "metadata": {},
   "source": [
    "- 사용자로부터 정수를 입력받아서 1부터 그 사이에 존재하는 소수(Prime number)를 출력하는 파이썬 프로그램을 작성하시오.  \n"
   ]
  },
  {
   "cell_type": "code",
   "execution_count": 46,
   "metadata": {
    "collapsed": false
   },
   "outputs": [
    {
     "name": "stdout",
     "output_type": "stream",
     "text": [
      " 정수를 입력하세요: 100\n",
      "\n",
      "2 3 5 7 11 13 17 19 23 29 31 37 41 43 47 53 59 61 67 71 73 79 83 89 97\n"
     ]
    }
   ],
   "source": [
    "def getPrime(n):\n",
    "    if n == 2:\n",
    "        return n\n",
    "    for x in range(2, n):\n",
    "        if n % x ==  0:\n",
    "            return 0\n",
    "    return n\n",
    "\n",
    "print \"정수를 입력하세요: \",\n",
    "p = raw_input()\n",
    "p = int(p)\n",
    "print \n",
    "for x in range(1, p):\n",
    "    if x == 1:\n",
    "        continue\n",
    "    if (getPrime(x) == x):\n",
    "        print x,\n",
    "    x += 1;"
   ]
  },
  {
   "cell_type": "markdown",
   "metadata": {
    "collapsed": true
   },
   "source": [
    "-------------  \n",
    "[프로젝트 오일러 문제 1]  \n",
    "\n",
    "10보다 작은 자연수 중에서 3 또는 5의 배수는 3, 5, 6, 9 이고, 이것을 모두 더하면 23입니다.  \n",
    "  \n",
    "1000보다 작은 자연수 중에서 3 또는 5의 배수를 모두 더하면 얼마일까요?  "
   ]
  },
  {
   "cell_type": "code",
   "execution_count": 51,
   "metadata": {
    "collapsed": false
   },
   "outputs": [
    {
     "name": "stdout",
     "output_type": "stream",
     "text": [
      "233168\n"
     ]
    }
   ],
   "source": [
    "n = 1000\n",
    "sum = 0\n",
    "for x in range(1, n):\n",
    "    if (x % 3) == 0:\n",
    "        # print x,\n",
    "        sum += x\n",
    "    elif (x % 5) == 0:\n",
    "        # print x,\n",
    "        sum += x\n",
    "print sum"
   ]
  },
  {
   "cell_type": "markdown",
   "metadata": {},
   "source": [
    "--------------  \n",
    "[프로젝트 오일러 문제 2]  \n",
    "  \n",
    "피보나치 수열의 각 항은 바로 앞의 항 두 개를 더한 것이 됩니다. 1과 2로 시작하는 경우 이 수열은 아래와 같습니다.  \n",
    "  \n",
    "1, 2, 3, 5, 8, 13, 21, 34, 55, 89, ...  \n",
    "짝수이면서 4백만 이하인 모든 항을 더하면 얼마가 됩니까?  \n"
   ]
  },
  {
   "cell_type": "code",
   "execution_count": 62,
   "metadata": {
    "collapsed": false
   },
   "outputs": [
    {
     "name": "stdout",
     "output_type": "stream",
     "text": [
      "63245986\n"
     ]
    }
   ],
   "source": [
    "a = 0\n",
    "b = 1\n",
    "c = 0\n",
    "pibo_sum = 0\n",
    "while (c <= 40000000):\n",
    "    c = a + b\n",
    "    # print c,\n",
    "    if c % 2 == 0:\n",
    "        pibo_sum = c\n",
    "    a, b = b, c\n",
    "\n",
    "print pibo_sum    "
   ]
  },
  {
   "cell_type": "markdown",
   "metadata": {},
   "source": [
    "------------- \n",
    "[프로젝트 오일러 문제 3]  \n",
    "  \n",
    "어떤 수를 소수의 곱으로만 나타내는 것을 소인수분해라 하고, 이 소수들을 그 수의 소인수라고 합니다.  \n",
    "예를 들면 13195의 소인수는 5, 7, 13, 29 입니다.  \n",
    "  \n",
    "600851475143의 소인수 중에서 가장 큰 수를 구하세요.  "
   ]
  },
  {
   "cell_type": "code",
   "execution_count": 27,
   "metadata": {
    "collapsed": false
   },
   "outputs": [
    {
     "name": "stdout",
     "output_type": "stream",
     "text": [
      "6857\n"
     ]
    }
   ],
   "source": [
    "def getPrimeBig(n):\n",
    "    x = 2\n",
    "    prime_big = []\n",
    "    \n",
    "    while 1:\n",
    "        if (n == x):\n",
    "            prime_big += [x]            \n",
    "            # print prime_big\n",
    "            return prime_big\n",
    "        if (n % x == 0):\n",
    "            n = n / x\n",
    "            prime_big += [x]\n",
    "            x = 2\n",
    "        x += 1\n",
    "\n",
    "f = 600851475143\n",
    "\n",
    "print max(getPrimeBig(f))\n"
   ]
  },
  {
   "cell_type": "markdown",
   "metadata": {},
   "source": [
    "-----------  \n",
    "## 숙제이후 소감  \n",
    "    \n",
    " 처음으로 스크립트 과제를 한 후, 마지막 들었던 생각은 좀 어렵다는 것이였습니다. 일단, 처음에는 아주 쉬운 문제로 시작하지만, 밑으로 내려가면 갈수록 난해하고, 수학적 지식이 없으면 풀 수 없는 문제가 나왔기 때문입니다.    \n",
    "  \n",
    " 하지만 문제가 쉬운 문제부터 어려운 문제까지 수준이 점점 올라가면서 깊게 생각할 수 있게 해주었고, 저 나름대로 문제의 답에 대해서 해결책을 찾아가 보니 점점 재미가 있었습니다.  \n",
    "   \n",
    " 그리고 수업으로 사용하는 python이라는 언어 자체는 정말 마음에 들었습니다. 하면 할 수록 C 나 JAVA 보다 더 깔끔하고 편리하다는 게 느껴졌습니다. 아직 실력은 그닥이지만, 점점 실력을 키우고 싶어지는 언어입니다.  \n",
    "   \n",
    "  다음은 어떤 문제가 나올 지 좀 걱정도 되지만 기대도 됩니다. 수고하셨습니다. "
   ]
  },
  {
   "cell_type": "code",
   "execution_count": null,
   "metadata": {
    "collapsed": true
   },
   "outputs": [],
   "source": []
  }
 ],
 "metadata": {
  "anaconda-cloud": {},
  "kernelspec": {
   "display_name": "Python [Root]",
   "language": "python",
   "name": "Python [Root]"
  },
  "language_info": {
   "codemirror_mode": {
    "name": "ipython",
    "version": 2
   },
   "file_extension": ".py",
   "mimetype": "text/x-python",
   "name": "python",
   "nbconvert_exporter": "python",
   "pygments_lexer": "ipython2",
   "version": "2.7.12"
  }
 },
 "nbformat": 4,
 "nbformat_minor": 0
}
