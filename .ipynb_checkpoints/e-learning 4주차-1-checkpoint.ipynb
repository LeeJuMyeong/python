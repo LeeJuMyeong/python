{
 "cells": [
  {
   "cell_type": "markdown",
   "metadata": {},
   "source": [
    "# 4. 파이썬의 각종 연산자"
   ]
  },
  {
   "cell_type": "markdown",
   "metadata": {},
   "source": [
    "단항연산자 (-, +) :우선순위 최상"
   ]
  },
  {
   "cell_type": "code",
   "execution_count": 8,
   "metadata": {
    "collapsed": false
   },
   "outputs": [
    {
     "name": "stdout",
     "output_type": "stream",
     "text": [
      "8\n",
      "256\n",
      "64\n"
     ]
    }
   ],
   "source": [
    "print 2 ** 3  # 단항연산자가 우선순위 최상 \n",
    "print 2 ** (2 ** 3)\n",
    "print (2 ** 2) ** 3"
   ]
  },
  {
   "cell_type": "markdown",
   "metadata": {},
   "source": [
    " 위의 연산자는 왼쪽에서 오른쪽으로 연산한다!!!!"
   ]
  },
  {
   "cell_type": "code",
   "execution_count": 3,
   "metadata": {
    "collapsed": false
   },
   "outputs": [
    {
     "name": "stdout",
     "output_type": "stream",
     "text": [
      "1\n",
      "1\n"
     ]
    }
   ],
   "source": [
    "print 5 % 2\n",
    "print -5 % 2"
   ]
  },
  {
   "cell_type": "code",
   "execution_count": 4,
   "metadata": {
    "collapsed": false
   },
   "outputs": [
    {
     "name": "stdout",
     "output_type": "stream",
     "text": [
      "8\n",
      "8.0\n"
     ]
    }
   ],
   "source": [
    "print 3 + 5\n",
    "print 3 + 5.0"
   ]
  },
  {
   "cell_type": "code",
   "execution_count": 5,
   "metadata": {
    "collapsed": false
   },
   "outputs": [
    {
     "name": "stdout",
     "output_type": "stream",
     "text": [
      "2\n"
     ]
    }
   ],
   "source": [
    "print 5 % 2 + 1"
   ]
  },
  {
   "cell_type": "code",
   "execution_count": 6,
   "metadata": {
    "collapsed": false
   },
   "outputs": [
    {
     "name": "stdout",
     "output_type": "stream",
     "text": [
      "2\n"
     ]
    }
   ],
   "source": [
    "print 5 % (2 + 1)"
   ]
  },
  {
   "cell_type": "code",
   "execution_count": 9,
   "metadata": {
    "collapsed": false
   },
   "outputs": [
    {
     "name": "stdout",
     "output_type": "stream",
     "text": [
      "2.5\n",
      "2\n"
     ]
    }
   ],
   "source": [
    "print 5 / 2.0 # 정수/ 실수는 실수형이 된다.\n",
    "print 5 / 2"
   ]
  },
  {
   "cell_type": "code",
   "execution_count": 11,
   "metadata": {
    "collapsed": false
   },
   "outputs": [
    {
     "name": "stdout",
     "output_type": "stream",
     "text": [
      "1 2\n",
      "(1, 2)\n"
     ]
    }
   ],
   "source": [
    "a = 5 / 3\n",
    "b = 5 % 3\n",
    "\n",
    "print a, b\n",
    "\n",
    "print divmod(5, 3)\n",
    "# 몫과 나머지를 튜플 형태로 구해주는 내장 함수"
   ]
  },
  {
   "cell_type": "code",
   "execution_count": 17,
   "metadata": {
    "collapsed": false
   },
   "outputs": [
    {
     "name": "stdout",
     "output_type": "stream",
     "text": [
      "1\n",
      "1\n"
     ]
    }
   ],
   "source": [
    "print 5 / 3\n",
    "# 나머지를 구해줌\n",
    "print 5 // 3\n",
    "# 몫을 구해줌(= 연산자 %)\n",
    "# 내부적으로는 좀 다르다.\n",
    "# / = 소수점 이하를 버리는것.     // = 몫을 구해서 출력"
   ]
  },
  {
   "cell_type": "code",
   "execution_count": 22,
   "metadata": {
    "collapsed": false
   },
   "outputs": [
    {
     "name": "stdout",
     "output_type": "stream",
     "text": [
      "-2\n",
      "-1\n"
     ]
    }
   ],
   "source": [
    "print -7/4\n",
    "# -1.66666 ...가 나오게 됨. -1과 -2 중에서 보다 더 작은 정수 : -2 출력\n",
    "print -(7/4)"
   ]
  },
  {
   "cell_type": "code",
   "execution_count": 21,
   "metadata": {
    "collapsed": false
   },
   "outputs": [
    {
     "name": "stdout",
     "output_type": "stream",
     "text": [
      "1\n"
     ]
    }
   ],
   "source": [
    "print 7/4\n",
    "#1.666666 ... 가 나오게 됨. 1과 2 중에서 보다 더 작은 정수 : 1 출력"
   ]
  },
  {
   "cell_type": "code",
   "execution_count": 24,
   "metadata": {
    "collapsed": false
   },
   "outputs": [
    {
     "name": "stdout",
     "output_type": "stream",
     "text": [
      "4\n"
     ]
    }
   ],
   "source": [
    "print 4 / 2 * 2"
   ]
  },
  {
   "cell_type": "code",
   "execution_count": 26,
   "metadata": {
    "collapsed": false
   },
   "outputs": [
    {
     "name": "stdout",
     "output_type": "stream",
     "text": [
      "512\n",
      "64\n"
     ]
    }
   ],
   "source": [
    "print 2 ** 3 ** 2\n",
    "# 3의 2승 먼저 수행 그리고 2의 9승이 되며, 값은 512가 된다\n",
    "print (2 ** 3) ** 2"
   ]
  },
  {
   "cell_type": "markdown",
   "metadata": {},
   "source": [
    "# 2 관계 연산자"
   ]
  },
  {
   "cell_type": "code",
   "execution_count": 27,
   "metadata": {
    "collapsed": false
   },
   "outputs": [
    {
     "name": "stdout",
     "output_type": "stream",
     "text": [
      "False\n",
      "True\n",
      "False\n",
      "True\n",
      "True\n"
     ]
    }
   ],
   "source": [
    "print 6 == 9\n",
    "print 6 != 9\n",
    "print 1 > 3\n",
    "print 4 <= 5\n",
    "\n",
    "a = 5\n",
    "b = 10\n",
    "print a < b"
   ]
  },
  {
   "cell_type": "code",
   "execution_count": 30,
   "metadata": {
    "collapsed": false
   },
   "outputs": [
    {
     "name": "stdout",
     "output_type": "stream",
     "text": [
      "True\n",
      "True\n"
     ]
    }
   ],
   "source": [
    "a = 5\n",
    "b = 10\n",
    "print 0 < a and a < b\n",
    "print 0 < a < b\n",
    "# 위의 문번은 같은 표기법"
   ]
  },
  {
   "cell_type": "code",
   "execution_count": 35,
   "metadata": {
    "collapsed": false
   },
   "outputs": [
    {
     "name": "stdout",
     "output_type": "stream",
     "text": [
      "False\n",
      "True\n",
      "False\n",
      "True\n"
     ]
    }
   ],
   "source": [
    "print 'abcd' > 'abd'\n",
    "# 사전에 나오는 순서대로 앞 문자부터 뒤 문자순으로 하나씩 비교한다.\n",
    "# 세번째 c와 d 중 먼저 오는 것이 더 작게 된다. 그러므로 c가 더 작게 되고, False가 됨\n",
    "print (1, 2, 3) < (2, 1, 0)\n",
    "# 뒤와 같이 사전 순서로 보게됨\n",
    "# 첫번째 값이 1 과 2를 비교함 \n",
    "\n",
    "\n",
    "\n",
    "print [1, 3, 2] == [1, 2, 3]\n",
    "# 순서가 같지 않기 때문에 False\n",
    "\n",
    "print (1, 2, 4) == ( 1, 2, 4)\n",
    "# 내용이 동일하므로 True"
   ]
  },
  {
   "cell_type": "code",
   "execution_count": 40,
   "metadata": {
    "collapsed": false
   },
   "outputs": [
    {
     "name": "stdout",
     "output_type": "stream",
     "text": [
      "True\n",
      "True\n"
     ]
    }
   ],
   "source": [
    "# 서로 다른 자료형일 경우!!!\n",
    "\n",
    "print 9999999999999999L < 'abc'\n",
    "# 자료형이 다르기 때문에 자료형이 가지고 있는 자체 크기를 비교하게 된다.\n",
    "# 그러므로 숫자, 문자의 값이 중요하지 않다!\n",
    "\n",
    "print {3:2} < [1,2,3] < (1,2,3)\n",
    "# 사전 < 리스트 < 튜플 순!"
   ]
  },
  {
   "cell_type": "code",
   "execution_count": 42,
   "metadata": {
    "collapsed": false
   },
   "outputs": [
    {
     "name": "stdout",
     "output_type": "stream",
     "text": [
      "[1, 2, 3, {1: 2}, [1, 2, 3], ['abc'], 'a', 'abc', 'z', (1, 2, 3)]\n"
     ]
    }
   ],
   "source": [
    "L = [1,2,3, 'abc', 'a', 'z', (1,2,3), [1,2,3], {1:2},['abc']]\n",
    "# 숫자 < 문자열\n",
    "# 문자도 사전순!\n",
    "\n",
    "L.sort()\n",
    "print L"
   ]
  },
  {
   "cell_type": "code",
   "execution_count": 47,
   "metadata": {
    "collapsed": false
   },
   "outputs": [
    {
     "name": "stdout",
     "output_type": "stream",
     "text": [
      "True\n",
      "True\n",
      "False\n",
      "False\n",
      "True\n"
     ]
    }
   ],
   "source": [
    "x = [1, 2, 3]\n",
    "y = [1, 2, 3]\n",
    "z = y\n",
    "\n",
    "# == 와 is 의 차이!!!!!\n",
    "\n",
    "print x == y\n",
    "print x == z\n",
    "# == 는 값의 비교\n",
    "\n",
    "print x is z\n",
    "print x is z\n",
    "print y is z\n",
    "# is 는 식별자를 비교\n",
    "# id : 식별자를 돌려주는 연산자"
   ]
  },
  {
   "cell_type": "markdown",
   "metadata": {},
   "source": [
    "# 3 논리 연산자( or 부울 연산자)"
   ]
  },
  {
   "cell_type": "code",
   "execution_count": 49,
   "metadata": {
    "collapsed": false
   },
   "outputs": [
    {
     "name": "stdout",
     "output_type": "stream",
     "text": [
      "True\n"
     ]
    }
   ],
   "source": [
    "a = 20\n",
    "b = 30\n",
    "print a > 10 and b < 50\n",
    "# and가 리턴하는 것이 아니라 b < 50이라는 결과 True 값이 리턴되는 것!!!!"
   ]
  },
  {
   "cell_type": "code",
   "execution_count": 50,
   "metadata": {
    "collapsed": false
   },
   "outputs": [
    {
     "name": "stdout",
     "output_type": "stream",
     "text": [
      "False\n"
     ]
    }
   ],
   "source": [
    "a = 20\n",
    "b = 60\n",
    "print a > 10 and b < 50"
   ]
  },
  {
   "cell_type": "markdown",
   "metadata": {},
   "source": [
    "중요!!!!!!!!!!! 위의 연산 방법~~~\n"
   ]
  },
  {
   "cell_type": "code",
   "execution_count": 52,
   "metadata": {
    "collapsed": false
   },
   "outputs": [
    {
     "name": "stdout",
     "output_type": "stream",
     "text": [
      "True\n"
     ]
    }
   ],
   "source": [
    "a = 20\n",
    "b = 60 \n",
    "print a > 10 or b < 50\n",
    "# or는 앞에서 True면 뒤에 있는 것은 Evaluation하지 않고 \n",
    "# 값을 a > 10 의 True가 나오고 끝난다.!!"
   ]
  },
  {
   "cell_type": "code",
   "execution_count": 54,
   "metadata": {
    "collapsed": false
   },
   "outputs": [
    {
     "name": "stdout",
     "output_type": "stream",
     "text": [
      "2\n",
      "1\n",
      "0\n",
      "75\n"
     ]
    }
   ],
   "source": [
    "print True + 1\n",
    "print False + 1\n",
    "print False * 75\n",
    "print True * 75\n",
    "\n",
    "# True : 1, False : 0"
   ]
  },
  {
   "cell_type": "code",
   "execution_count": 56,
   "metadata": {
    "collapsed": false
   },
   "outputs": [
    {
     "name": "stdout",
     "output_type": "stream",
     "text": [
      "False\n",
      "True\n",
      "True\n",
      "True\n",
      "\n",
      "False\n",
      "True\n"
     ]
    }
   ],
   "source": [
    "print bool(0) # 정수 0은 거짓\n",
    "print bool(1)\n",
    "print bool(100)\n",
    "print bool(-100)\n",
    "print \n",
    "print bool(0.0) # 시수 0.0은 거짓\n",
    "print bool(0.1)\n",
    "\n",
    "\n",
    "# 0을 나타내는 수가 아닌 모든 수는 True~~~"
   ]
  },
  {
   "cell_type": "code",
   "execution_count": 57,
   "metadata": {
    "collapsed": false
   },
   "outputs": [
    {
     "name": "stdout",
     "output_type": "stream",
     "text": [
      "True\n",
      "False\n",
      "\n",
      "False\n",
      "True\n",
      "\n",
      "False\n",
      "True\n",
      "\n",
      "False\n"
     ]
    }
   ],
   "source": [
    "print bool('abc')\n",
    "print bool('')  # 값이 아무것도 없을 때 False (단, 공배조차 없어야함!!!)\n",
    "print \n",
    "print bool([]) # 공 리스트는 거짓\n",
    "print bool([1,2,3])\n",
    "print \n",
    "print bool({})\n",
    "print bool({1:2})\n",
    "print \n",
    "print bool(None) # None는 거짓"
   ]
  },
  {
   "cell_type": "code",
   "execution_count": 61,
   "metadata": {
    "collapsed": false
   },
   "outputs": [
    {
     "name": "stdout",
     "output_type": "stream",
     "text": [
      "1\n",
      "0\n",
      "0\n",
      "1\n",
      "\n",
      "1\n",
      "()\n",
      "[]\n"
     ]
    }
   ],
   "source": [
    "print 1 and 1 # 결과값 : 뒤값\n",
    "print 1 and 0 # 결과값 : 뒤값\n",
    "print 0 or 0  # 결과값 : 뒤값\n",
    "print 1 or 0  # 결과값 : 앞값\n",
    "print\n",
    "print [] or 1  # [] 거짓\n",
    "print [] or () # [], () 거짓\n",
    "print [] and 1 # 앞에서 거짓이기 때문에 뒤를 볼 필요없음(평가하지 않음!)!!!"
   ]
  },
  {
   "cell_type": "code",
   "execution_count": 63,
   "metadata": {
    "collapsed": false
   },
   "outputs": [
    {
     "name": "stdout",
     "output_type": "stream",
     "text": [
      "2\n",
      "1\n",
      "\n",
      "[[]]\n",
      "[{}]\n",
      "1\n"
     ]
    }
   ],
   "source": [
    "print 1 and 2\n",
    "print 1 or 2\n",
    "print \n",
    "print [[]] or 1 # [[]] 참으로 간주 -> [[]]는 공 리스트를 갖고 있는 리스트기때문에\n",
    "print [{}] or 1 # [{}] 참으로 간주 -> [{}는 공 리스트를 갖고 있는 리스트기때문에\n",
    "print '' or 1  # 빈 문자열('')  : 거짓"
   ]
  },
  {
   "cell_type": "code",
   "execution_count": 67,
   "metadata": {
    "collapsed": false
   },
   "outputs": [
    {
     "name": "stdout",
     "output_type": "stream",
     "text": [
      "False\n",
      "\n",
      "False\n",
      "False\n",
      "\n",
      "False\n",
      "False\n",
      "\n"
     ]
    }
   ],
   "source": [
    "print not(True)\n",
    "print \n",
    "print not(1 and 2)\n",
    "print not(2)     #위와 같음\n",
    "print\n",
    "print not('' or 1)\n",
    "print not(1)     #위와 같음\n",
    "print \n"
   ]
  },
  {
   "cell_type": "markdown",
   "metadata": {},
   "source": [
    "## 퀴즈!!!!!!!!!!!!!"
   ]
  },
  {
   "cell_type": "code",
   "execution_count": 68,
   "metadata": {
    "collapsed": false
   },
   "outputs": [
    {
     "name": "stdout",
     "output_type": "stream",
     "text": [
      "False\n"
     ]
    }
   ],
   "source": [
    "print [1,2,3] is [1,2,3]"
   ]
  },
  {
   "cell_type": "markdown",
   "metadata": {},
   "source": [
    "산술 연산자: 더하기, 빼기, 곱하기, 나누기와 같은 연산자  \n",
    "산술 연산자의 우선순위는 [단항연산자], [지수연산자], [곱하기, 나누기, 나머지, 몫], \n",
    "[더하기, 빼기] 순위  \n",
    "단항연산자: 피연산자가 2개가 아닌 1개만 있는 연산자(+,-)  \n",
    "곱하기, 나누기, 나머지, 몫: *, /, %, // 로 결합순서가 왼쪽에서 오른쪽  \n",
    "지수연산자: ** (2**3은 2의 3승을 뜻함)로 결합순서가 오른쪽에서 왼쪽  \n",
    "더하기, 빼기: +, - 로 결합순서가 왼쪽에서 오른쪽  \n",
    "정수 + 실수 = 실수  \n",
    "정수 / 실수 = 실수  \n",
    "print divmod(a,b) = (a/b, a%b)  "
   ]
  },
  {
   "cell_type": "markdown",
   "metadata": {},
   "source": [
    "  \n",
    "관계 연산자: 객체가 지는 값의 크기(대소)를 비교하여 True 또는 False로 반환함  \n",
    "a==b: a와 b가 같다.  \n",
    "a!=b: a와 b가 다르다.  \n",
    "a>b: a가 b보다 크다.  \n",
    "a<=b: a가 b보다 작거나 같다.  \n",
    "문자열, 튜플, 리스트의 관계 연산 비교는 일반 사전 순서로 비교  \n",
    "사전에서 앞에 나오는 값이 작은 값으로 평가  \n",
    "서로 다른 자료형 간의 크기 비교 시 ‘숫자<사전<리스트<문자열<튜플’ 순으로 커짐  \n",
    "is 함수: a is b는 a가b다는 의미  \n",
    "  \n",
    "    "
   ]
  },
  {
   "cell_type": "markdown",
   "metadata": {},
   "source": [
    "  \n",
    "논리 연산자 = 부울 연산자: 피연산자의 값으로 진리값인 True 또는 False를 취해 논리적인 계산을 수행하는 연산자  \n",
    "논리 연산자의 종류: and, or, not논리 연산자 자체가 값을 반환하지 않고, 논리 연산을 따라 최종적으로 평가 되어진 값이 반환됨  \n",
    "진리값에 해당하는 True와 False는 다른 사칙 연산자를 만나면 다음과 같이 평가됨   \n",
    "True: 1   \n",
    "False: 0  \n",
    "bool() 내장함수: 수치 값을 진리 값으로 교환 가능  \n",
    "값이 없는 빈 객체나 None 객체는 False로 평가됨  \n",
    "실제 코드 개발 시 연산자 우선순위에 많은 의존 없이 괄호()를 적절하게 사용하여 코드의 \n",
    "가독성을 높이는 것이 좋음  "
   ]
  },
  {
   "cell_type": "code",
   "execution_count": null,
   "metadata": {
    "collapsed": true
   },
   "outputs": [],
   "source": []
  }
 ],
 "metadata": {
  "anaconda-cloud": {},
  "kernelspec": {
   "display_name": "Python [Root]",
   "language": "python",
   "name": "Python [Root]"
  },
  "language_info": {
   "codemirror_mode": {
    "name": "ipython",
    "version": 2
   },
   "file_extension": ".py",
   "mimetype": "text/x-python",
   "name": "python",
   "nbconvert_exporter": "python",
   "pygments_lexer": "ipython2",
   "version": "2.7.12"
  }
 },
 "nbformat": 4,
 "nbformat_minor": 0
}
