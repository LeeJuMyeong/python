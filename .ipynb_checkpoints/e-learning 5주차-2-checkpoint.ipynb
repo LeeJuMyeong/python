{
 "cells": [
  {
   "cell_type": "markdown",
   "metadata": {},
   "source": [
    "# 3. 문자열 메소드"
   ]
  },
  {
   "cell_type": "code",
   "execution_count": 2,
   "metadata": {
    "collapsed": false
   },
   "outputs": [
    {
     "name": "stdout",
     "output_type": "stream",
     "text": [
      "I LIKE PROGRAMMING.\n",
      "i like programming.\n",
      "i lIKE pROGRAMMING\n",
      "I like programming.\n",
      "I Like Programming.\n"
     ]
    }
   ],
   "source": [
    "s = 'i like programming.'\n",
    "print s.upper()\n",
    "print s.upper().lower()\n",
    "print 'I Like Programming'.swapcase() # 대문자를 소문자로, 소문자는 대문자로 바꿈\n",
    "print s.capitalize() # 첫 문자를 대문자로 변환\n",
    "print s.title() # 각 단어의 첫 문자를 대문자로 변환"
   ]
  },
  {
   "cell_type": "code",
   "execution_count": 3,
   "metadata": {
    "collapsed": false
   },
   "outputs": [
    {
     "name": "stdout",
     "output_type": "stream",
     "text": [
      "2\n",
      "\n",
      "2\n",
      "7\n",
      "7\n",
      "-1\n",
      "\n",
      "22\n",
      "-1\n"
     ]
    }
   ],
   "source": [
    "s = 'i like programming, i like swimming.'\n",
    "print s.count('like') # 'like' 문자열이 출현한 횟수를 반환\n",
    "print \n",
    "print s.find('like') # 'likd'의 첫글자 위치 (offset)를 반환\n",
    "print s.find('programming') \n",
    "print s.find('programmin')\n",
    "print s.find('programmil') # 없을 땐, -1\n",
    "print\n",
    "print s.find('like', 3) # offset=3 부터 'like'를 검색하여 'like'의 첫 글자 위치 반환\n",
    "print s.find('my') "
   ]
  },
  {
   "cell_type": "code",
   "execution_count": 7,
   "metadata": {
    "collapsed": false
   },
   "outputs": [
    {
     "name": "stdout",
     "output_type": "stream",
     "text": [
      "True\n",
      "False\n",
      "\n",
      "True\n",
      "True\n",
      "\n"
     ]
    }
   ],
   "source": [
    "s = 'i like programming, i like swimming.'\n",
    "print s.startswith('i like')  # 'i like'로 시작하는 문자열인지 판자\n",
    "print s.startswith('I like')\n",
    "print\n",
    "\n",
    "print s.endswith('swimming.') # 'swimming.'으로 끝나는지 판단\n",
    "print s.startswith('progr', 7) # 7번째 문자열이 'progr'로 시작하는 지 판단\n",
    "print"
   ]
  },
  {
   "cell_type": "code",
   "execution_count": 17,
   "metadata": {
    "collapsed": false
   },
   "outputs": [
    {
     "name": "stdout",
     "output_type": "stream",
     "text": [
      "spam and ham\n",
      " spam and ham         \n",
      "spam and ham\n",
      "\n",
      " spam and ham\n",
      "spam and ham         \n",
      "abc\n",
      "b\n"
     ]
    }
   ],
   "source": [
    "u = ' spam and ham         '\n",
    "print u.strip() # 좌우 공백을 제거하여 새로운 스트링 생성\n",
    "print u  # 스트링은 변경불가능\n",
    "y = u.strip()\n",
    "print y\n",
    "print \n",
    "\n",
    "print u.rstrip() # 오르쪽 공백 제거\n",
    "print u.lstrip() # 왼쪽 공백 제거\n",
    "print '      abc'.strip()\n",
    "print '><><abc<><><>'.strip('<>')\n",
    "# 인자로 주어진 스트링 안에 지정된 모든 문자를 좌우에서 제거"
   ]
  },
  {
   "cell_type": "code",
   "execution_count": 18,
   "metadata": {
    "collapsed": false
   },
   "outputs": [
    {
     "name": "stdout",
     "output_type": "stream",
     "text": [
      " \t abc \t \n",
      "abc\n"
     ]
    }
   ],
   "source": [
    "p = ' \\t abc \\t '\n",
    "print p\n",
    "print p.strip() # \\t도 공백문자이므로 제거됨!!!!"
   ]
  },
  {
   "cell_type": "code",
   "execution_count": 19,
   "metadata": {
    "collapsed": false
   },
   "outputs": [
    {
     "name": "stdout",
     "output_type": "stream",
     "text": [
      "spqm, egg and ham\n",
      "spqm and ham\n"
     ]
    }
   ],
   "source": [
    "u = 'spqm and ham'\n",
    "print u.replace('spqm', 'spqm, egg')\n",
    "print u"
   ]
  },
  {
   "cell_type": "code",
   "execution_count": 21,
   "metadata": {
    "collapsed": false
   },
   "outputs": [
    {
     "name": "stdout",
     "output_type": "stream",
     "text": [
      "['spqm', 'and', 'ham']\n",
      "['spqm ', ' ham']\n",
      "\n",
      "['spqm', 'and', 'ham', 'egg', 'cheese']\n"
     ]
    }
   ],
   "source": [
    "u = 'spqm and ham'\n",
    "print u.split()\n",
    "print u.split('and')\n",
    "print\n",
    "\n",
    "u2 = 'spqm and ham\\tegg\\ncheese'\n",
    "print u2.split()"
   ]
  },
  {
   "cell_type": "code",
   "execution_count": 22,
   "metadata": {
    "collapsed": false
   },
   "outputs": [
    {
     "name": "stdout",
     "output_type": "stream",
     "text": [
      "['spam', 'ham', 'egg', 'cheese']\n",
      "\n",
      "<type 'str'>\n",
      "spam:ham:egg:cheese\n",
      "\n",
      "spam,ham,egg,cheese\n",
      "\n",
      "spam\n",
      "ham\n",
      "egg\n",
      "cheese\n",
      "\n"
     ]
    }
   ],
   "source": [
    "u = 'spam ham\\tegg\\ncheese'\n",
    "t = u.split() # 문자열 내의 단어 리스트    \n",
    "print t\n",
    "print\n",
    "t2 = ':'.join(t) # 리스트 t 내부의 각 원소들을 ':'로 연결한 문자열 반환\n",
    "print type(t2)\n",
    "print t2\n",
    "print\n",
    "t3 = \",\".join(t) # 리스트 t 내부의 각 원소들을 ','으로 연결한 문자열 반환\n",
    "print t3\n",
    "print\n",
    "t4 = '\\n'.join(t) # 리스트 t 내부의 각 원소들을 '\\n'으로 연결한 문자열 반환\n",
    "print t4\n",
    "print"
   ]
  },
  {
   "cell_type": "code",
   "execution_count": 23,
   "metadata": {
    "collapsed": false
   },
   "outputs": [
    {
     "name": "stdout",
     "output_type": "stream",
     "text": [
      "[u'\\uc2a4\\ud329', u'\\ud584', u'\\uacc4\\ub780', u'\\uce58\\uc988']\n",
      "스팩 햄 계란 치즈\n"
     ]
    }
   ],
   "source": [
    "u2 = u\"스팩 햄 계란 치즈\"\n",
    "t2 = u2.split()\n",
    "print t2\n",
    "print t2[0], t2[1], t2[2], t2[3]"
   ]
  },
  {
   "cell_type": "code",
   "execution_count": 27,
   "metadata": {
    "collapsed": false
   },
   "outputs": [
    {
     "name": "stdout",
     "output_type": "stream",
     "text": [
      "<type 'str'>\n",
      "<type 'list'>\n",
      "['first line', 'second line', 'third lind']\n"
     ]
    }
   ],
   "source": [
    "lines = '''first line\n",
    "second line\n",
    "third lind'''\n",
    "print type(lines)\n",
    "lines2 = lines.splitlines() # 문자열 라인 단위로 자름\n",
    "print type(lines2)\n",
    "print lines2"
   ]
  },
  {
   "cell_type": "code",
   "execution_count": 29,
   "metadata": {
    "collapsed": false
   },
   "outputs": [
    {
     "name": "stdout",
     "output_type": "stream",
     "text": [
      "<type 'str'>\n",
      "                        spam and egg                        \n",
      "spam and egg                                                \n",
      "                                                spam and egg\n"
     ]
    }
   ],
   "source": [
    "u = 'spam and egg'\n",
    "c = u.center(60) # 60자리를 확보하되 기존 문자열을 가운데 정렬한 새로운 문자열 반환\n",
    "print type(c)\n",
    "print c\n",
    "print u.ljust(60) # 60자리를 확보하되 기존 문자열을 왼쪽 정렬한 새로운 문자열 반환\n",
    "print u.rjust(60) # 60자리를 확보하되 기존 문자열을 오른쪽 정렬한 새로운 문자열 반환"
   ]
  },
  {
   "cell_type": "code",
   "execution_count": 30,
   "metadata": {
    "collapsed": false
   },
   "outputs": [
    {
     "name": "stdout",
     "output_type": "stream",
     "text": [
      "------------------------spam and egg------------------------\n",
      "spam and egg------------------------------------------------\n",
      "------------------------------------------------spam and egg\n"
     ]
    }
   ],
   "source": [
    "u = 'spam and egg'\n",
    "print u.center(60, '-') # 공백에 채워질 문자를 선택할 수 있음\n",
    "print u.ljust(60, '-')\n",
    "print u.rjust(60, '-')"
   ]
  },
  {
   "cell_type": "code",
   "execution_count": 31,
   "metadata": {
    "collapsed": false
   },
   "outputs": [
    {
     "name": "stdout",
     "output_type": "stream",
     "text": [
      "True\n",
      "True\n",
      "True\n",
      "True\n",
      "True\n",
      "True\n",
      "True\n"
     ]
    }
   ],
   "source": [
    "print '1234'.isdigit() # 문자열 내의 Character들이 모두 숫자인가?\n",
    "print 'abcd'.isalpha() # 문자열 내의 Character들이 모두 영문자인가?\n",
    "print '1abc234'.isalnum() # 문자열 내의 Character들이 모두 영문자 또는 숫자인가? \n",
    "print 'abc'.islower() # 문자열 내의 Character들이 모두 소문자인가?\n",
    "print 'ABC'.isupper() # 문자열 내의 Character들이 모두 대문자인가?\n",
    "print '\\t\\r\\n'.isspace() # 문자열 내의 Character들이 모두 공백 문자인가?\n",
    "print 'This Is A Title'.istitle() # 문자열이 Title 형식 (각 단어의 첫글자가 대문자)인가?"
   ]
  },
  {
   "cell_type": "code",
   "execution_count": 33,
   "metadata": {
    "collapsed": false
   },
   "outputs": [
    {
     "name": "stdout",
     "output_type": "stream",
     "text": [
      "00123\n",
      "0goofy\n"
     ]
    }
   ],
   "source": [
    "s = '123'\n",
    "print s.zfill(5) # 5글자 자리 확보뒤 문자열을 쓰되 남는 공백에는 zero (0)를 채움 \n",
    "print 'goofy'.zfill(6) # 6글자 자리 확보뒤 ..."
   ]
  },
  {
   "cell_type": "markdown",
   "metadata": {},
   "source": [
    "# 2 문자열 포매팅"
   ]
  },
  {
   "cell_type": "code",
   "execution_count": 34,
   "metadata": {
    "collapsed": false
   },
   "outputs": [
    {
     "name": "stdout",
     "output_type": "stream",
     "text": [
      "name = gslee, age = 24\n"
     ]
    }
   ],
   "source": [
    "print 'name = %s, age = %s' % ('gslee', '24')"
   ]
  },
  {
   "cell_type": "code",
   "execution_count": 38,
   "metadata": {
    "collapsed": false
   },
   "outputs": [
    {
     "name": "stdout",
     "output_type": "stream",
     "text": [
      "\n",
      "안녕하세요 홍길동님,\n",
      "\n",
      "오늘 밤 파티에 참석해 주실 수 있나요?\n",
      "\n",
      "그럼..\n",
      "\n",
      "이강성 드림\n",
      "\n",
      "\n",
      "안녕하세요 한학신님,\n",
      "\n",
      "오늘 밤 파티에 참석해 주실 수 있나요?\n",
      "\n",
      "그럼..\n",
      "\n",
      "이강성 드림\n",
      "----------------------------------------\n",
      "\n",
      "\n",
      "안녕하세요 정인숙님,\n",
      "\n",
      "오늘 밤 파티에 참석해 주실 수 있나요?\n",
      "\n",
      "그럼..\n",
      "\n",
      "이강성 드림\n",
      "----------------------------------------\n",
      "\n",
      "\n",
      "안녕하세요 박미경님,\n",
      "\n",
      "오늘 밤 파티에 참석해 주실 수 있나요?\n",
      "\n",
      "그럼..\n",
      "\n",
      "이강성 드림\n",
      "----------------------------------------\n",
      "\n"
     ]
    }
   ],
   "source": [
    "letter = '''\n",
    "안녕하세요 %s님,\n",
    "\n",
    "오늘 밤 파티에 참석해 주실 수 있나요?\n",
    "\n",
    "그럼..\n",
    "\n",
    "이강성 드림'''\n",
    "name = '홍길동'\n",
    "print letter % (name)\n",
    "print \n",
    "names = ['한학신', '정인숙', '박미경']\n",
    "for name in names:\n",
    "    print letter % name\n",
    "    print '-' * 40\n",
    "    print"
   ]
  },
  {
   "cell_type": "code",
   "execution_count": 61,
   "metadata": {
    "collapsed": false
   },
   "outputs": [
    {
     "name": "stdout",
     "output_type": "stream",
     "text": [
      "\n",
      "안녕하세요 '\\xed\\x99\\x8d\\xea\\xb8\\xb8\\xeb\\x8f\\x99'님,\n",
      "\n",
      "오늘 밤 파티에 참석해 주실 수 있나요?\n",
      "\n",
      "그럼..\n",
      "\n",
      "이강성 드림\n",
      "\n",
      "\n",
      "안녕하세요 'sdf'님,\n",
      "\n",
      "오늘 밤 파티에 참석해 주실 수 있나요?\n",
      "\n",
      "그럼..\n",
      "\n",
      "이강성 드림\n"
     ]
    }
   ],
   "source": [
    "letter = '''\n",
    "안녕하세요 %r님,\n",
    "\n",
    "오늘 밤 파티에 참석해 주실 수 있나요?\n",
    "\n",
    "그럼..\n",
    "\n",
    "이강성 드림'''\n",
    "name = '홍길동'\n",
    "print letter % name\n",
    "print \n",
    "print letter % 'sdf'"
   ]
  },
  {
   "cell_type": "code",
   "execution_count": 59,
   "metadata": {
    "collapsed": false
   },
   "outputs": [
    {
     "name": "stdout",
     "output_type": "stream",
     "text": [
      "(1, 2) -- [3, 4, 5] -- 5 -- 5.300000 -- 1.013000e+02\n"
     ]
    }
   ],
   "source": [
    "print \"%s -- %s -- %d -- %f -- %e\" % ((1, 2), [3,4,5], 5, 5.3, 101.3)"
   ]
  },
  {
   "cell_type": "code",
   "execution_count": 65,
   "metadata": {
    "collapsed": false
   },
   "outputs": [
    {
     "name": "stdout",
     "output_type": "stream",
     "text": [
      "  5 --   5.3 -- 1.01e+02\n"
     ]
    }
   ],
   "source": [
    "print \"%3d -- %5.1f -- %.2e\" % (5, 5.316, 101.3)\n",
    "# 5.316은 반올림이 적용되어 있음 -> 5.3"
   ]
  },
  {
   "cell_type": "code",
   "execution_count": 66,
   "metadata": {
    "collapsed": false
   },
   "outputs": [
    {
     "name": "stdout",
     "output_type": "stream",
     "text": [
      "456 -- 710 -- 1c8 -- 1C8\n"
     ]
    }
   ],
   "source": [
    "a = 456\n",
    "print '%d -- %o -- %x -- %X' % (a, a, a, a)"
   ]
  },
  {
   "cell_type": "code",
   "execution_count": 68,
   "metadata": {
    "collapsed": false
   },
   "outputs": [
    {
     "name": "stdout",
     "output_type": "stream",
     "text": [
      "홍길동 -- 5284\n",
      "홍길동 -- 5284\n",
      "Seoul -- 5284\n"
     ]
    }
   ],
   "source": [
    "print '%(이름)s -- %(전화번호)s' %{'이름':'홍길동', '전화번호':5284}\n",
    "print '%(이름)s -- %(전화번호)s' %{'전화번호':5284, '이름':'홍길동'}\n",
    "print '%(주소)s -- %(전화번호)s' %{'전화번호':5284, '이름':'홍길동', '주소':'Seoul'}"
   ]
  },
  {
   "cell_type": "code",
   "execution_count": 75,
   "metadata": {
    "collapsed": false
   },
   "outputs": [
    {
     "name": "stdout",
     "output_type": "stream",
     "text": [
      "['1', '2', '3', '4', '5']\n"
     ]
    }
   ],
   "source": [
    "s = \"1, 2   , 3,   4,  5  \"\n",
    "parts = s.split(',')\n",
    "l = []\n",
    "for i in range(len(parts)):\n",
    "    parts[i] = parts[i].strip()\n",
    "    l.append(parts[i])\n",
    "print l"
   ]
  },
  {
   "cell_type": "markdown",
   "metadata": {},
   "source": [
    "## - 문자열 메소드  \n",
    "     - upper() : 내용 전부 대문자로 변경  \n",
    "     - lower() : 전체 결과를 전부 소문자로 변경  \n",
    "     - swapcase() : case를 바꾸는 것  \n",
    "     - capitalize() : 첫 문자만 대문자로 변환  \n",
    "     - title() : 각 단어의 첫 문자가 대문자로 변환  \n",
    "     - s.count(‘like’) : s 안에 like라는 문자열의 등장 횟수  \n",
    "     - s.find(‘like’) : s안 like 문자의 인덱스 반환  \n",
    "     - s.startswith(‘progr’, 7) : 7번째 인덱스부터 시작하여 progr 찾음  \n",
    "     - u.strip() : u 문자열 앞 뒤의 공백 제거  \n",
    "     - u.rstrip() : 오른쪽 공백 제거  \n",
    "     - u.lstrip() : 왼쪽 공백 제거  \n",
    "     - u.replace(a,b) : u 안의 a 문자를 b문자로 대치  \n",
    "     \n",
    "     - u.split() : 각 단어가 공백을 기준으로 분리되어 리스트로 반환  \n",
    "     - (문자열).join(t) : 문자열이 리스트 t 내부의 각 원소 가운데 연결함  \n",
    "     - splitlines() : line기준으로 분리하여 리스트 반환  \n",
    "     - u.center(60) : 60자리를 확보하되, 기존 문자열을 가운데 정렬     \n",
    "     - u.ljust(60) : 60자리를 확보하되, 기존 문자열을 왼쪽 정렬   \n",
    "     - u.rjust(60) : 60자리를 확보하되, 기존 문자열을 오른쪽 정렬   \n",
    "     - u.center(60, ‘-’) : 확보한 60자리 중 공백에 ‘-’ 문자 채움  \n",
    "     \n",
    "     - isdigit() : 문자열 내 character가 모두 숫자인가?  \n",
    "     - isalpha() : 문자열 내 character가 모두 영문자인가?  \n",
    "     - isalnum() : 문자열 내 character가 모두 영문자 또는 숫자인가?  \n",
    "     - slower() : 소문자?  \n",
    "     - isupper() : 대문자?   \n",
    "     - sspace() : 문자열 내 character이 모두 공백문자인가?  \n",
    "     - istitle() : 문자열이 title 형식(각 단어의 첫글자가 대문자) 인가?  \n",
    "     - s.zfill(5) : 5글자 자리 확보 후 문자열 쓰고, 남은 공백에 0 채움  "
   ]
  },
  {
   "cell_type": "code",
   "execution_count": null,
   "metadata": {
    "collapsed": true
   },
   "outputs": [],
   "source": []
  }
 ],
 "metadata": {
  "kernelspec": {
   "display_name": "Python [Root]",
   "language": "python",
   "name": "Python [Root]"
  },
  "language_info": {
   "codemirror_mode": {
    "name": "ipython",
    "version": 2
   },
   "file_extension": ".py",
   "mimetype": "text/x-python",
   "name": "python",
   "nbconvert_exporter": "python",
   "pygments_lexer": "ipython2",
   "version": "2.7.12"
  }
 },
 "nbformat": 4,
 "nbformat_minor": 0
}
