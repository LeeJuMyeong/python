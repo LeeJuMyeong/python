{
 "cells": [
  {
   "cell_type": "code",
   "execution_count": 1,
   "metadata": {
    "collapsed": false
   },
   "outputs": [
    {
     "name": "stdout",
     "output_type": "stream",
     "text": [
      "4227\n"
     ]
    }
   ],
   "source": [
    "def prime_add(n):\n",
    "    sum = 0\n",
    "    num = n\n",
    "    a = 1\n",
    "    while num >= a:\n",
    "        if a == 2:\n",
    "            sum += a\n",
    "            a += 1\n",
    "            continue\n",
    "        for i in range(2, a):\n",
    "            if a % i == 0:\n",
    "                break\n",
    "            if i == a-1:\n",
    "                sum += a\n",
    "        a += 1\n",
    "    return sum\n",
    "\n",
    "print prime_add(200)"
   ]
  },
  {
   "cell_type": "code",
   "execution_count": 2,
   "metadata": {
    "collapsed": false
   },
   "outputs": [
    {
     "name": "stdout",
     "output_type": "stream",
     "text": [
      "142913828922\n"
     ]
    }
   ],
   "source": [
    "def sumEratos(n):\n",
    "    l = []\n",
    "    if(n <= 1):\n",
    "        return 0;\n",
    "    for i in range(1, n):\n",
    "        l.append(None)\n",
    "    for i in range(1, (n+1)/2):\n",
    "        l[i] = True\n",
    "    sum_n = 2\n",
    "    for i in range(1, (n+1)/2):\n",
    "        if(l[i] == True):\n",
    "            p = 2*i+1\n",
    "            sum_n += p\n",
    "            \n",
    "            j = 3\n",
    "            while j*p < n:\n",
    "                l[(j*p-1)/2] = False\n",
    "                j += 2\n",
    "    return sum_n\n",
    "\n",
    "print sumEratos(2000000)"
   ]
  },
  {
   "cell_type": "code",
   "execution_count": null,
   "metadata": {
    "collapsed": true
   },
   "outputs": [],
   "source": []
  }
 ],
 "metadata": {
  "kernelspec": {
   "display_name": "Python [Root]",
   "language": "python",
   "name": "Python [Root]"
  },
  "language_info": {
   "codemirror_mode": {
    "name": "ipython",
    "version": 2
   },
   "file_extension": ".py",
   "mimetype": "text/x-python",
   "name": "python",
   "nbconvert_exporter": "python",
   "pygments_lexer": "ipython2",
   "version": "2.7.12"
  }
 },
 "nbformat": 4,
 "nbformat_minor": 0
}
