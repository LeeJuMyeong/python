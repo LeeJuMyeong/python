{
 "cells": [
  {
   "cell_type": "markdown",
   "metadata": {},
   "source": [
    "# 11. 모듈의 활용 및 패키지"
   ]
  },
  {
   "cell_type": "code",
   "execution_count": 1,
   "metadata": {
    "collapsed": false
   },
   "outputs": [
    {
     "name": "stdout",
     "output_type": "stream",
     "text": [
      "78.5\n"
     ]
    }
   ],
   "source": [
    "import mymath\n",
    "print mymath.area(5)"
   ]
  },
  {
   "cell_type": "code",
   "execution_count": 2,
   "metadata": {
    "collapsed": false
   },
   "outputs": [
    {
     "name": "stdout",
     "output_type": "stream",
     "text": [
      "78.5\n",
      "3.14\n"
     ]
    },
    {
     "ename": "NameError",
     "evalue": "name 'add' is not defined",
     "output_type": "error",
     "traceback": [
      "\u001b[1;31m---------------------------------------------------------------------------\u001b[0m",
      "\u001b[1;31mNameError\u001b[0m                                 Traceback (most recent call last)",
      "\u001b[1;32m<ipython-input-2-3ac1fe0a95f7>\u001b[0m in \u001b[0;36m<module>\u001b[1;34m()\u001b[0m\n\u001b[0;32m      4\u001b[0m \u001b[1;32mprint\u001b[0m \u001b[0marea\u001b[0m\u001b[1;33m(\u001b[0m\u001b[1;36m5\u001b[0m\u001b[1;33m)\u001b[0m\u001b[1;33m\u001b[0m\u001b[0m\n\u001b[0;32m      5\u001b[0m \u001b[1;32mprint\u001b[0m \u001b[0mmypi\u001b[0m\u001b[1;33m\u001b[0m\u001b[0m\n\u001b[1;32m----> 6\u001b[1;33m \u001b[1;32mprint\u001b[0m \u001b[0madd\u001b[0m\u001b[1;33m(\u001b[0m\u001b[1;36m1\u001b[0m\u001b[1;33m,\u001b[0m \u001b[1;36m10\u001b[0m\u001b[1;33m)\u001b[0m\u001b[1;33m\u001b[0m\u001b[0m\n\u001b[0m",
      "\u001b[1;31mNameError\u001b[0m: name 'add' is not defined"
     ]
    }
   ],
   "source": [
    "mypi = 3.14159\n",
    "\n",
    "from mymath import area, mypi\n",
    "print area(5)\n",
    "print mypi\n",
    "print add(1, 10)"
   ]
  },
  {
   "cell_type": "code",
   "execution_count": 5,
   "metadata": {
    "collapsed": false
   },
   "outputs": [
    {
     "name": "stdout",
     "output_type": "stream",
     "text": [
      "11\n"
     ]
    }
   ],
   "source": [
    "from mymath import *\n",
    "print add(1, 10)"
   ]
  },
  {
   "cell_type": "code",
   "execution_count": 6,
   "metadata": {
    "collapsed": false
   },
   "outputs": [
    {
     "name": "stdout",
     "output_type": "stream",
     "text": [
      "<module 'string' from 'C:\\Users\\gamer\\Anaconda2\\lib\\string.pyc'>\n",
      "\n",
      "!\"#$%&'()*+,-./:;<=>?@[\\]^_`{|}~\n"
     ]
    }
   ],
   "source": [
    "import string as chstr\n",
    "print chstr\n",
    "print \n",
    "print chstr.punctuation"
   ]
  },
  {
   "cell_type": "code",
   "execution_count": 8,
   "metadata": {
    "collapsed": false
   },
   "outputs": [
    {
     "name": "stdout",
     "output_type": "stream",
     "text": [
      "abcd\n",
      "abcd\n",
      "3.14\n"
     ]
    }
   ],
   "source": [
    "mymath = \"abcd\"\n",
    "print mymath\n",
    "import mymath as mym\n",
    "print mymath\n",
    "print mym.mypi"
   ]
  },
  {
   "cell_type": "code",
   "execution_count": 12,
   "metadata": {
    "collapsed": false
   },
   "outputs": [
    {
     "name": "stdout",
     "output_type": "stream",
     "text": [
      "<function replace at 0x0000000002D04128>\n",
      "ham egg spam\n",
      "<function upper at 0x0000000002CE96D8>\n",
      "ABC\n"
     ]
    }
   ],
   "source": [
    "from string import replace as substitute, upper as up\n",
    "print substitute\n",
    "print substitute('ham chicken spam', 'chicken', 'egg')\n",
    "\n",
    "print up\n",
    "print up('abc')"
   ]
  },
  {
   "cell_type": "code",
   "execution_count": 1,
   "metadata": {
    "collapsed": false
   },
   "outputs": [
    {
     "name": "stdout",
     "output_type": "stream",
     "text": [
      "50.24\n"
     ]
    }
   ],
   "source": [
    "import mymath  # 다시 실행해야함!!!!"
   ]
  },
  {
   "cell_type": "code",
   "execution_count": 3,
   "metadata": {
    "collapsed": false
   },
   "outputs": [
    {
     "name": "stdout",
     "output_type": "stream",
     "text": [
      "<module 'string' from 'C:\\Users\\gamer\\Anaconda2\\lib\\string.pyc'>\n"
     ]
    }
   ],
   "source": [
    "string = \"My first string\"\n",
    "import string\n",
    "print string\n"
   ]
  },
  {
   "cell_type": "code",
   "execution_count": 4,
   "metadata": {
    "collapsed": false
   },
   "outputs": [
    {
     "name": "stdout",
     "output_type": "stream",
     "text": [
      "My first string\n"
     ]
    }
   ],
   "source": [
    "import string\n",
    "string = \"My first string\"\n",
    "print string"
   ]
  },
  {
   "cell_type": "code",
   "execution_count": 9,
   "metadata": {
    "collapsed": false
   },
   "outputs": [
    {
     "name": "stdout",
     "output_type": "stream",
     "text": [
      "My first string\n",
      "1\n",
      "<module 'string' from 'C:\\Users\\gamer\\Anaconda2\\lib\\string.pyc'>\n",
      "1\n"
     ]
    },
    {
     "ename": "AttributeError",
     "evalue": "'module' object has no attribute 'a'",
     "output_type": "error",
     "traceback": [
      "\u001b[1;31m---------------------------------------------------------------------------\u001b[0m",
      "\u001b[1;31mAttributeError\u001b[0m                            Traceback (most recent call last)",
      "\u001b[1;32m<ipython-input-9-0c3e31530605>\u001b[0m in \u001b[0;36m<module>\u001b[1;34m()\u001b[0m\n\u001b[0;32m     11\u001b[0m \u001b[1;32mprint\u001b[0m \u001b[0mstring\u001b[0m\u001b[1;33m.\u001b[0m\u001b[0ma\u001b[0m\u001b[1;33m\u001b[0m\u001b[0m\n\u001b[0;32m     12\u001b[0m \u001b[1;32mdel\u001b[0m \u001b[0mstring\u001b[0m\u001b[1;33m.\u001b[0m\u001b[0ma\u001b[0m\u001b[1;33m\u001b[0m\u001b[0m\n\u001b[1;32m---> 13\u001b[1;33m \u001b[1;32mprint\u001b[0m \u001b[0mstring\u001b[0m\u001b[1;33m.\u001b[0m\u001b[0ma\u001b[0m\u001b[1;33m\u001b[0m\u001b[0m\n\u001b[0m",
      "\u001b[1;31mAttributeError\u001b[0m: 'module' object has no attribute 'a'"
     ]
    }
   ],
   "source": [
    "import string \n",
    "string.a = 1\n",
    "string = \"My first string\"\n",
    "print string\n",
    "\n",
    "import string\n",
    "print string.a\n",
    "print string\n",
    "\n",
    "import string \n",
    "print string.a\n",
    "del string.a\n",
    "print string.a"
   ]
  },
  {
   "cell_type": "markdown",
   "metadata": {},
   "source": [
    "# 2. 모듈의 실행과 테스트 코드"
   ]
  },
  {
   "cell_type": "code",
   "execution_count": 10,
   "metadata": {
    "collapsed": false
   },
   "outputs": [
    {
     "name": "stdout",
     "output_type": "stream",
     "text": [
      "__main__\n"
     ]
    }
   ],
   "source": [
    "#FILE : prname.py\n",
    "print __name__"
   ]
  },
  {
   "cell_type": "code",
   "execution_count": 11,
   "metadata": {
    "collapsed": false
   },
   "outputs": [
    {
     "name": "stdout",
     "output_type": "stream",
     "text": [
      "prname\n",
      "prname\n"
     ]
    }
   ],
   "source": [
    "import prname\n",
    "print prname.__name__"
   ]
  },
  {
   "cell_type": "code",
   "execution_count": 15,
   "metadata": {
    "collapsed": false
   },
   "outputs": [
    {
     "name": "stdout",
     "output_type": "stream",
     "text": [
      "prname\n"
     ]
    }
   ],
   "source": [
    "print prname.__name__"
   ]
  },
  {
   "cell_type": "code",
   "execution_count": 16,
   "metadata": {
    "collapsed": false
   },
   "outputs": [
    {
     "name": "stdout",
     "output_type": "stream",
     "text": [
      "string\n",
      "re\n",
      "mimetools\n",
      "os\n"
     ]
    }
   ],
   "source": [
    "import string\n",
    "print string.__name__\n",
    "\n",
    "import re\n",
    "print re.__name__\n",
    "\n",
    "import mimetools\n",
    "print mimetools.__name__\n",
    "\n",
    "import os\n",
    "print os.__name__"
   ]
  },
  {
   "cell_type": "code",
   "execution_count": 18,
   "metadata": {
    "collapsed": false
   },
   "outputs": [
    {
     "name": "stdout",
     "output_type": "stream",
     "text": [
      "11\n",
      "Pyton is becominf popular.\n"
     ]
    }
   ],
   "source": [
    "#file: module_test.py\n",
    "def add(a, b):\n",
    "    return a + b\n",
    "def f():\n",
    "    print \"Pyton is becominf popular.\"\n",
    "if __name__ == \"__main__\":\n",
    "    print add(1, 10)\n",
    "    f()"
   ]
  },
  {
   "cell_type": "code",
   "execution_count": 19,
   "metadata": {
    "collapsed": true
   },
   "outputs": [],
   "source": [
    "import module_test"
   ]
  },
  {
   "cell_type": "code",
   "execution_count": 20,
   "metadata": {
    "collapsed": false
   },
   "outputs": [
    {
     "name": "stdout",
     "output_type": "stream",
     "text": [
      "A collection of string operations (most are no longer used).\n",
      "\n",
      "Warning: most of the code you see here isn't normally used nowadays.\n",
      "Beginning with Python 1.6, many of these functions are implemented as\n",
      "methods on the standard string object. They used to be implemented by\n",
      "a built-in module called strop, but strop is now obsolete itself.\n",
      "\n",
      "Public module variables:\n",
      "\n",
      "whitespace -- a string containing all characters considered whitespace\n",
      "lowercase -- a string containing all characters considered lowercase letters\n",
      "uppercase -- a string containing all characters considered uppercase letters\n",
      "letters -- a string containing all characters considered letters\n",
      "digits -- a string containing all characters considered decimal digits\n",
      "hexdigits -- a string containing all characters considered hexadecimal digits\n",
      "octdigits -- a string containing all characters considered octal digits\n",
      "punctuation -- a string containing all characters considered punctuation\n",
      "printable -- a string containing all characters considered printable\n",
      "\n",
      "\n"
     ]
    }
   ],
   "source": [
    "import string\n",
    "print string.__doc__"
   ]
  },
  {
   "cell_type": "code",
   "execution_count": 25,
   "metadata": {
    "collapsed": false
   },
   "outputs": [],
   "source": [
    "import Speech.HMM"
   ]
  },
  {
   "cell_type": "code",
   "execution_count": 22,
   "metadata": {
    "collapsed": true
   },
   "outputs": [],
   "source": [
    "def train():\n",
    "    print \"Train\"\n",
    "    pass\n",
    "\n",
    "def loadModel():\n",
    "    print \"LoadModel\"\n",
    "    pass\n",
    "\n",
    "def saveModel():\n",
    "    print \"SaveModel\"    \n",
    "    pass"
   ]
  },
  {
   "cell_type": "code",
   "execution_count": 28,
   "metadata": {
    "collapsed": false
   },
   "outputs": [
    {
     "name": "stdout",
     "output_type": "stream",
     "text": [
      "Train\n"
     ]
    }
   ],
   "source": [
    "import Speech.HMM\n",
    "\n",
    "Speech.HMM.train()"
   ]
  },
  {
   "cell_type": "code",
   "execution_count": 29,
   "metadata": {
    "collapsed": false
   },
   "outputs": [
    {
     "name": "stdout",
     "output_type": "stream",
     "text": [
      "Train\n",
      "LoadModel\n",
      "SaveModel\n"
     ]
    }
   ],
   "source": [
    "from Speech.HMM import *\n",
    "train()\n",
    "loadModel()\n",
    "saveModel()"
   ]
  },
  {
   "cell_type": "code",
   "execution_count": null,
   "metadata": {
    "collapsed": true
   },
   "outputs": [],
   "source": []
  }
 ],
 "metadata": {
  "kernelspec": {
   "display_name": "Python [Root]",
   "language": "python",
   "name": "Python [Root]"
  },
  "language_info": {
   "codemirror_mode": {
    "name": "ipython",
    "version": 2
   },
   "file_extension": ".py",
   "mimetype": "text/x-python",
   "name": "python",
   "nbconvert_exporter": "python",
   "pygments_lexer": "ipython2",
   "version": "2.7.12"
  }
 },
 "nbformat": 4,
 "nbformat_minor": 0
}
