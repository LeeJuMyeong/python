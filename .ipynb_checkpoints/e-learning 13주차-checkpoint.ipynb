{
 "cells": [
  {
   "cell_type": "markdown",
   "metadata": {},
   "source": [
    "# 1. 클래스 상속과 이름 공간의 관계"
   ]
  },
  {
   "cell_type": "code",
   "execution_count": 3,
   "metadata": {
    "collapsed": true
   },
   "outputs": [],
   "source": [
    "class Person:\n",
    "    def __init__(self, name, phone=None):  # overriding\n",
    "        self.name = name\n",
    "        self.phone = phone\n",
    "    def __str__(self):\n",
    "        return '<Person %s  %s>' % (self.name, self.phone)\n",
    "    \n",
    "    \n",
    "class Employee(Person):\n",
    "    def __init__(self, name, phone, position, salary):\n",
    "        Person.__init__(self, name, phone)\n",
    "        self.position = position\n",
    "        self.salary = salary\n",
    "        \n",
    "    "
   ]
  },
  {
   "cell_type": "code",
   "execution_count": 5,
   "metadata": {
    "collapsed": false
   },
   "outputs": [
    {
     "name": "stdout",
     "output_type": "stream",
     "text": [
      "홍길동\n",
      "<Person 홍길동  1498>\n",
      "\n",
      "송창희 대리\n",
      "<Person 송창희  5584>\n",
      "김기동 과장\n",
      "<Person 김기동  8546>\n"
     ]
    }
   ],
   "source": [
    "p1 = Person('홍길동', 1498)\n",
    "print p1.name\n",
    "print p1\n",
    "\n",
    "print \n",
    "\n",
    "m1 = Employee('송창희', 5584, '대리', 200)\n",
    "m2 = Employee('김기동', 8546, '과장', 300)\n",
    "\n",
    "print m1.name, m1.position\n",
    "print m1\n",
    "print m2.name, m2.position\n",
    "print m2"
   ]
  },
  {
   "cell_type": "code",
   "execution_count": 14,
   "metadata": {
    "collapsed": false
   },
   "outputs": [
    {
     "name": "stdout",
     "output_type": "stream",
     "text": [
      "Super init called\n"
     ]
    }
   ],
   "source": [
    "class Super:\n",
    "    def __init__(self):\n",
    "        print 'Super init called'\n",
    "        \n",
    "class Sub(Super):\n",
    "    #def __init__(self):\n",
    "        #Super.__init__(self)\n",
    "        #print 'Sub init called'\n",
    "    pass\n",
    "        \n",
    "s = Sub()"
   ]
  },
  {
   "cell_type": "code",
   "execution_count": 15,
   "metadata": {
    "collapsed": false
   },
   "outputs": [
    {
     "name": "stdout",
     "output_type": "stream",
     "text": [
      "<Person gslee 5284>\n",
      "<Employee kslee 5224 President 500>\n"
     ]
    }
   ],
   "source": [
    "class Person:\n",
    "    def __init__(self, name, phone=None):\n",
    "        self.name = name\n",
    "        self.phone = phone\n",
    "    def __str__(self):\n",
    "        return '<Person %s %s>' % (self.name, self.phone)\n",
    "    \n",
    "class Employee(Person):\n",
    "    def __init__(self, name, phone, position, salary):\n",
    "        Person.__init__(self, name, phone)\n",
    "        self.position = position\n",
    "        self.salary = salary\n",
    "        \n",
    "    def __str__(self):\n",
    "        return '<Employee %s %s %s %s>' % (self.name, self.phone, self.position, self.salary)\n",
    "    \n",
    "\n",
    "    \n",
    "p1 = Person('gslee', 5284)\n",
    "m1 = Employee('kslee', 5224, 'President', 500)\n",
    "\n",
    "print p1\n",
    "print m1\n",
    "    "
   ]
  },
  {
   "cell_type": "code",
   "execution_count": 16,
   "metadata": {
    "collapsed": false
   },
   "outputs": [
    {
     "name": "stdout",
     "output_type": "stream",
     "text": [
      "멍멍\n",
      "꽥꽥\n",
      "...\n"
     ]
    }
   ],
   "source": [
    "class Animal:\n",
    "    def cry(self):\n",
    "        print '...'\n",
    "\n",
    "class Dog(Animal):\n",
    "    def cry(self):\n",
    "        print '멍멍'\n",
    "        \n",
    "class Duck(Animal):\n",
    "    def cry(self):\n",
    "        print '꽥꽥'\n",
    "        \n",
    "class Fish(Animal):\n",
    "    pass\n",
    "\n",
    "for each in (Dog(), Duck(), Fish()):\n",
    "    each.cry()"
   ]
  },
  {
   "cell_type": "code",
   "execution_count": 17,
   "metadata": {
    "collapsed": false
   },
   "outputs": [
    {
     "name": "stdout",
     "output_type": "stream",
     "text": [
      "[]\n",
      "['__add__', '__class__', '__contains__', '__delattr__', '__delitem__', '__delslice__', '__doc__', '__eq__', '__format__', '__ge__', '__getattribute__', '__getitem__', '__getslice__', '__gt__', '__hash__', '__iadd__', '__imul__', '__init__', '__iter__', '__le__', '__len__', '__lt__', '__mul__', '__ne__', '__new__', '__reduce__', '__reduce_ex__', '__repr__', '__reversed__', '__rmul__', '__setattr__', '__setitem__', '__setslice__', '__sizeof__', '__str__', '__subclasshook__', 'append', 'count', 'extend', 'index', 'insert', 'pop', 'remove', 'reverse', 'sort']\n"
     ]
    }
   ],
   "source": [
    "a = list()\n",
    "print a\n",
    "print dir(a)"
   ]
  },
  {
   "cell_type": "code",
   "execution_count": 21,
   "metadata": {
    "collapsed": false
   },
   "outputs": [
    {
     "name": "stdout",
     "output_type": "stream",
     "text": [
      "[1, 2, 3, 'spam', 4, 5]\n",
      "\n",
      "[1, 2, 3, 5]\n",
      "[1, 2, 3, 5, 'aaa']\n"
     ]
    }
   ],
   "source": [
    "class MyList(list):\n",
    "    def __sub__(self, other):\n",
    "        for x in other:\n",
    "            if x in self:\n",
    "                self.remove(x)\n",
    "                \n",
    "        return self\n",
    "    \n",
    "L = MyList([1, 2, 3, 'spam', 4, 5])\n",
    "\n",
    "print L\n",
    "print \n",
    "\n",
    "L = L - ['spam', 4]\n",
    "print L\n",
    "\n",
    "L.append(\"aaa\")\n",
    "print L"
   ]
  },
  {
   "cell_type": "code",
   "execution_count": 26,
   "metadata": {
    "collapsed": false
   },
   "outputs": [
    {
     "name": "stdout",
     "output_type": "stream",
     "text": [
      "[4, 5]\n",
      "\n",
      "[1, 2, 3, 4, 5]\n",
      "\n",
      "5\n",
      "4\n",
      "[1, 2, 3]\n",
      "['__add__', '__class__', '__contains__', '__delattr__', '__delitem__', '__delslice__', '__doc__', '__eq__', '__format__', '__ge__', '__getattribute__', '__getitem__', '__getslice__', '__gt__', '__hash__', '__iadd__', '__imul__', '__init__', '__iter__', '__le__', '__len__', '__lt__', '__mul__', '__ne__', '__new__', '__reduce__', '__reduce_ex__', '__repr__', '__reversed__', '__rmul__', '__setattr__', '__setitem__', '__setslice__', '__sizeof__', '__str__', '__subclasshook__', 'append', 'count', 'extend', 'index', 'insert', 'pop', 'remove', 'reverse', 'sort']\n"
     ]
    }
   ],
   "source": [
    "class Stack(list):\n",
    "    push = list.append\n",
    "    \n",
    "s = Stack()\n",
    "\n",
    "s.push(4)\n",
    "s.push(5)\n",
    "print s\n",
    "print\n",
    "\n",
    "\n",
    "s = Stack([1,2,3])\n",
    "s.push(4)\n",
    "s.push(5)\n",
    "print s\n",
    "print\n",
    "\n",
    "\n",
    "print s.pop()\n",
    "print s.pop()\n",
    "print s\n",
    "print dir(list)"
   ]
  },
  {
   "cell_type": "code",
   "execution_count": 28,
   "metadata": {
    "collapsed": false
   },
   "outputs": [
    {
     "name": "stdout",
     "output_type": "stream",
     "text": [
      "[1, 2]\n",
      "1\n",
      "2\n"
     ]
    }
   ],
   "source": [
    "class Queue(list):\n",
    "    enqueue = list.append\n",
    "    def dequeue(self):\n",
    "        return self.pop(0)\n",
    "q = Queue()\n",
    "q.enqueue(1)\n",
    "q.enqueue(2)\n",
    "print q\n",
    "\n",
    "print q.dequeue()\n",
    "print q.dequeue()"
   ]
  },
  {
   "cell_type": "code",
   "execution_count": 29,
   "metadata": {
    "collapsed": false
   },
   "outputs": [
    {
     "name": "stdout",
     "output_type": "stream",
     "text": [
      "{}\n",
      "['__class__', '__cmp__', '__contains__', '__delattr__', '__delitem__', '__doc__', '__eq__', '__format__', '__ge__', '__getattribute__', '__getitem__', '__gt__', '__hash__', '__init__', '__iter__', '__le__', '__len__', '__lt__', '__ne__', '__new__', '__reduce__', '__reduce_ex__', '__repr__', '__setattr__', '__setitem__', '__sizeof__', '__str__', '__subclasshook__', 'clear', 'copy', 'fromkeys', 'get', 'has_key', 'items', 'iteritems', 'iterkeys', 'itervalues', 'keys', 'pop', 'popitem', 'setdefault', 'update', 'values', 'viewitems', 'viewkeys', 'viewvalues']\n"
     ]
    }
   ],
   "source": [
    "a = dict()\n",
    "print a\n",
    "print dir(a)"
   ]
  },
  {
   "cell_type": "code",
   "execution_count": 30,
   "metadata": {
    "collapsed": false
   },
   "outputs": [
    {
     "name": "stdout",
     "output_type": "stream",
     "text": [
      "['one', 'three', 'two']\n",
      "\n",
      "['three', 'two', 'one']\n"
     ]
    }
   ],
   "source": [
    "class MyDict(dict):\n",
    "    def keys(self):\n",
    "        K = dict.keys(self)\n",
    "        \n",
    "        K.sort()\n",
    "        return K\n",
    "d = MyDict({'one':1, 'two':2, 'three':3})\n",
    "print d.keys()\n",
    "print \n",
    "\n",
    "\n",
    "d2 = {'one':1, 'two':2, 'three':3}\n",
    "print d2.keys()"
   ]
  },
  {
   "cell_type": "code",
   "execution_count": 31,
   "metadata": {
    "collapsed": false
   },
   "outputs": [
    {
     "name": "stdout",
     "output_type": "stream",
     "text": [
      "True\n",
      "True\n"
     ]
    }
   ],
   "source": [
    "import types\n",
    "\n",
    "print type(123) == types.IntType\n",
    "print type(123) == type(0)"
   ]
  },
  {
   "cell_type": "code",
   "execution_count": 34,
   "metadata": {
    "collapsed": false
   },
   "outputs": [
    {
     "name": "stdout",
     "output_type": "stream",
     "text": [
      "True\n",
      "<type 'int'>\n"
     ]
    }
   ],
   "source": [
    "print isinstance(123, int)\n",
    "print int"
   ]
  },
  {
   "cell_type": "code",
   "execution_count": 39,
   "metadata": {
    "collapsed": false
   },
   "outputs": [
    {
     "name": "stdout",
     "output_type": "stream",
     "text": [
      "<__main__.A instance at 0x0000000003CEFBC8> => A\n",
      "<__main__.B instance at 0x0000000003CEFC88> => B\n",
      "<__main__.C instance at 0x0000000003CEF408> => B C\n"
     ]
    }
   ],
   "source": [
    "class A:\n",
    "    pass\n",
    "class B:\n",
    "    def f(self):\n",
    "        pass\n",
    "    \n",
    "class C(B):\n",
    "    pass\n",
    "\n",
    "def check(obj):\n",
    "    print obj, '=>',\n",
    "    if isinstance(obj, A):\n",
    "        print 'A',\n",
    "    if isinstance(obj, B):\n",
    "        print 'B',\n",
    "    if isinstance(obj, C):\n",
    "        print 'C',\n",
    "    print \n",
    "    \n",
    "    \n",
    "a = A()\n",
    "b = B()\n",
    "c = C()\n",
    "\n",
    "check(a)\n",
    "check(b)\n",
    "check(c)"
   ]
  },
  {
   "cell_type": "code",
   "execution_count": null,
   "metadata": {
    "collapsed": true
   },
   "outputs": [],
   "source": []
  }
 ],
 "metadata": {
  "kernelspec": {
   "display_name": "Python [Root]",
   "language": "python",
   "name": "Python [Root]"
  },
  "language_info": {
   "codemirror_mode": {
    "name": "ipython",
    "version": 2
   },
   "file_extension": ".py",
   "mimetype": "text/x-python",
   "name": "python",
   "nbconvert_exporter": "python",
   "pygments_lexer": "ipython2",
   "version": "2.7.12"
  }
 },
 "nbformat": 4,
 "nbformat_minor": 0
}
