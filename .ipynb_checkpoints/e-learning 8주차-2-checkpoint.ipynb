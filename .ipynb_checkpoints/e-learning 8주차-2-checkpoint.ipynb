{
 "cells": [
  {
   "cell_type": "markdown",
   "metadata": {},
   "source": [
    "# 1 파일 다루기 "
   ]
  },
  {
   "cell_type": "code",
   "execution_count": 4,
   "metadata": {
    "collapsed": false
   },
   "outputs": [
    {
     "name": "stdout",
     "output_type": "stream",
     "text": [
      "['.git', '.ipynb_checkpoints', 'Assignment 1.ipynb', 'Assignment 2.ipynb', 'Assignment 3.ipynb', 'cal.py', 'e-learning 1\\xc1\\xd6\\xc2\\xf7.ipynb', 'e-learning 2\\xc1\\xd6\\xc2\\xf7.ipynb', 'e-learning 3\\xc1\\xd6\\xc2\\xf7-1.ipynb', 'e-learning 3\\xc1\\xd6\\xc2\\xf7-2.ipynb', 'e-learning 4\\xc1\\xd6\\xc2\\xf7-1.ipynb', 'e-learning 4\\xc1\\xd6\\xc2\\xf7-2.ipynb', 'e-learning 5\\xc1\\xd6\\xc2\\xf7-1.ipynb', 'e-learning 5\\xc1\\xd6\\xc2\\xf7-2.ipynb', 'e-learning 6\\xc1\\xd6\\xc2\\xf7 - 2.ipynb', 'e-learning 6\\xc1\\xd6\\xc2\\xf7-1.ipynb', 'e-learning 7\\xc1\\xd6\\xc2\\xf7 - 1.ipynb', 'e-learning 7\\xc1\\xd6\\xc2\\xf7 - 2.ipynb', 'e-learning 8\\xc1\\xd6\\xc2\\xf7-1.ipynb', 'e-learning 8\\xc1\\xd6\\xc2\\xf7-2.ipynb', 'pickle.txt', 'pickle2.txt', 'README.txt', 'removeme.txt', 't.txt', 't1.txt', 'Test 2\\xc1\\xd6\\xc2\\xf7.ipynb', 'Test 3\\xc1\\xd6\\xc2\\xf7.ipynb', 'Test 4\\xc1\\xd6\\xc2\\xf7.ipynb', 'Untitled3.ipynb', 'Untitled4.ipynb']\n",
      ".git\n",
      ".ipynb_checkpoints\n",
      "Assignment 1.ipynb\n",
      "Assignment 2.ipynb\n",
      "Assignment 3.ipynb\n",
      "cal.py\n",
      "e-learning 1주차.ipynb\n",
      "e-learning 2주차.ipynb\n",
      "e-learning 3주차-1.ipynb\n",
      "e-learning 3주차-2.ipynb\n",
      "e-learning 4주차-1.ipynb\n",
      "e-learning 4주차-2.ipynb\n",
      "e-learning 5주차-1.ipynb\n",
      "e-learning 5주차-2.ipynb\n",
      "e-learning 6주차 - 2.ipynb\n",
      "e-learning 6주차-1.ipynb\n",
      "e-learning 7주차 - 1.ipynb\n",
      "e-learning 7주차 - 2.ipynb\n",
      "e-learning 8주차-1.ipynb\n",
      "e-learning 8주차-2.ipynb\n",
      "pickle.txt\n",
      "pickle2.txt\n",
      "README.txt\n",
      "removeme.txt\n",
      "t.txt\n",
      "t1.txt\n",
      "Test 2주차.ipynb\n",
      "Test 3주차.ipynb\n",
      "Test 4주차.ipynb\n",
      "Untitled3.ipynb\n",
      "Untitled4.ipynb\n",
      "\n",
      "['Anaconda2-4.1.1-Windows-x86_64.exe', 'Chrome.lnk', 'desktop.ini', 'Python']\n"
     ]
    }
   ],
   "source": [
    "import os\n",
    "\n",
    "print os.listdir('.')\n",
    "line = os.listdir('.')\n",
    "\n",
    "for i in range(len(line)):\n",
    "    print unicode(line[i], 'euc-kr')\n",
    "print \n",
    "\n",
    "print os.listdir('../')"
   ]
  },
  {
   "cell_type": "code",
   "execution_count": 11,
   "metadata": {
    "collapsed": false
   },
   "outputs": [
    {
     "name": "stdout",
     "output_type": "stream",
     "text": [
      ".git : Directory\n",
      ".ipynb_checkpoints : Directory\n",
      "Assignment 1.ipynb : Regular file\n",
      "Assignment 2.ipynb : Regular file\n",
      "Assignment 3.ipynb : Regular file\n",
      "cal.py : Regular file\n",
      "e-learning 1주차.ipynb : Regular file\n",
      "e-learning 2주차.ipynb : Regular file\n",
      "e-learning 3주차-1.ipynb : Regular file\n",
      "e-learning 3주차-2.ipynb : Regular file\n",
      "e-learning 4주차-1.ipynb : Regular file\n",
      "e-learning 4주차-2.ipynb : Regular file\n",
      "e-learning 5주차-1.ipynb : Regular file\n",
      "e-learning 5주차-2.ipynb : Regular file\n",
      "e-learning 6주차 - 2.ipynb : Regular file\n",
      "e-learning 6주차-1.ipynb : Regular file\n",
      "e-learning 7주차 - 1.ipynb : Regular file\n",
      "e-learning 7주차 - 2.ipynb : Regular file\n",
      "e-learning 8주차-1.ipynb : Regular file\n",
      "e-learning 8주차-2.ipynb : Regular file\n",
      "pickle.txt : Regular file\n",
      "pickle2.txt : Regular file\n",
      "README.txt : Regular file\n",
      "removeme.txt : Regular file\n",
      "t.txt : Regular file\n",
      "t1.txt : Regular file\n",
      "Test 2주차.ipynb : Regular file\n",
      "Test 3주차.ipynb : Regular file\n",
      "Test 4주차.ipynb : Regular file\n",
      "Untitled3.ipynb : Regular file\n",
      "Untitled4.ipynb : Regular file\n"
     ]
    }
   ],
   "source": [
    "import os\n",
    "\n",
    "def filetype(fpath):\n",
    "    print unicode(fpath,'euc-kr'), ':',\n",
    "    if os.path.isfile(fpath):\n",
    "        print 'Regular file'\n",
    "    if os.path.isdir(fpath):\n",
    "        print 'Directory'\n",
    "    if os.path.islink(fpath):\n",
    "        print 'Symbolic link'\n",
    "flist = os.listdir('.')\n",
    "for fname in flist:\n",
    "    filetype(fname)\n"
   ]
  },
  {
   "cell_type": "code",
   "execution_count": 34,
   "metadata": {
    "collapsed": false
   },
   "outputs": [
    {
     "name": "stdout",
     "output_type": "stream",
     "text": [
      ".git : Exists R W X\n",
      ".ipynb_checkpoints : Exists R W X\n",
      "Assignment 1.ipynb : Exists R W X\n",
      "Assignment 2.ipynb : Exists R W X\n",
      "Assignment 3.ipynb : Exists R W X\n",
      "cal.py : Exists R W X\n",
      "e-learning 1주차.ipynb : Exists R W X\n",
      "e-learning 2주차.ipynb : Exists R W X\n",
      "e-learning 3주차-1.ipynb : Exists R W X\n",
      "e-learning 3주차-2.ipynb : Exists R W X\n",
      "e-learning 4주차-1.ipynb : Exists R W X\n",
      "e-learning 4주차-2.ipynb : Exists R W X\n",
      "e-learning 5주차-1.ipynb : Exists R W X\n",
      "e-learning 5주차-2.ipynb : Exists R W X\n",
      "e-learning 6주차 - 2.ipynb : Exists R W X\n",
      "e-learning 6주차-1.ipynb : Exists R W X\n",
      "e-learning 7주차 - 1.ipynb : Exists R W X\n",
      "e-learning 7주차 - 2.ipynb : Exists R W X\n",
      "e-learning 8주차-1.ipynb : Exists R W X\n",
      "e-learning 8주차-2.ipynb : Exists R W X\n",
      "pickle.txt : Exists R W X\n",
      "pickle2.txt : Exists R W X\n",
      "README.txt : Exists R W X\n",
      "removeme.txt : Exists R W X\n",
      "sample.txt : Exists R W X\n",
      "sample_new.txt : Exists R W X\n",
      "t1.txt : Exists R W X\n",
      "t2.txt : Exists R W X\n",
      "Test 2주차.ipynb : Exists R W X\n",
      "Test 3주차.ipynb : Exists R W X\n",
      "Test 4주차.ipynb : Exists R W X\n",
      "Untitled3.ipynb : Exists R W X\n",
      "Untitled4.ipynb : Exists R W X\n"
     ]
    }
   ],
   "source": [
    "import os\n",
    "def fileaccess(fpath):\n",
    "    print unicode(fpath,'euc-kr'), ':',\n",
    "    if os.access(fpath, os.F_OK): \n",
    "        print 'Exists',\n",
    "    else: \n",
    "        return\n",
    "    if os.access(fpath, os.R_OK): \n",
    "        print 'R',\n",
    "    if os.access(fpath, os.W_OK): \n",
    "        print 'W',\n",
    "    if os.access(fpath, os.X_OK): \n",
    "        print 'X',\n",
    "    print \n",
    "    \n",
    "flist = os.listdir('.')\n",
    "for fname in flist:\n",
    "    fileaccess(fname)"
   ]
  },
  {
   "cell_type": "code",
   "execution_count": 21,
   "metadata": {
    "collapsed": false
   },
   "outputs": [],
   "source": [
    "f = open('sample.txt','w')\n",
    "print >> f, \"sample txt\"\n",
    "f.close()\n",
    "\n",
    "os.chmod('sample.txt', 0777) # 리눅스에서의 실행 예"
   ]
  },
  {
   "cell_type": "code",
   "execution_count": 24,
   "metadata": {
    "collapsed": false
   },
   "outputs": [
    {
     "name": "stdout",
     "output_type": "stream",
     "text": [
      "False\n",
      "True\n"
     ]
    }
   ],
   "source": [
    "import os\n",
    "os.rename('t.txt', 't2.txt')  # t.txt를 t1.txt로 바꾼다\n",
    "print os.access('t.txt', os.F_OK)\n",
    "print os.access('t2.txt', os.F_OK)"
   ]
  },
  {
   "cell_type": "code",
   "execution_count": 27,
   "metadata": {
    "collapsed": false
   },
   "outputs": [
    {
     "ename": "WindowsError",
     "evalue": "[Error 3] ",
     "output_type": "error",
     "traceback": [
      "\u001b[1;31m---------------------------------------------------------------------------\u001b[0m",
      "\u001b[1;31mWindowsError\u001b[0m                              Traceback (most recent call last)",
      "\u001b[1;32m<ipython-input-27-02a1fc205e28>\u001b[0m in \u001b[0;36m<module>\u001b[1;34m()\u001b[0m\n\u001b[1;32m----> 1\u001b[1;33m \u001b[0mos\u001b[0m\u001b[1;33m.\u001b[0m\u001b[0mrename\u001b[0m\u001b[1;33m(\u001b[0m\u001b[1;34m't1.txt'\u001b[0m\u001b[1;33m,\u001b[0m \u001b[1;34m'Python/t1.txt'\u001b[0m\u001b[1;33m)\u001b[0m \u001b[1;31m# 현재 작업 디렉토리의 t1.txt를 example에 t1.txt이름으로 옮긴다.\u001b[0m\u001b[1;33m\u001b[0m\u001b[0m\n\u001b[0m\u001b[0;32m      2\u001b[0m \u001b[1;32mprint\u001b[0m \u001b[0mos\u001b[0m\u001b[1;33m.\u001b[0m\u001b[0maccess\u001b[0m\u001b[1;33m(\u001b[0m\u001b[1;34m'Python/t1.txt'\u001b[0m\u001b[1;33m,\u001b[0m \u001b[0mos\u001b[0m\u001b[1;33m.\u001b[0m\u001b[0mF_OK\u001b[0m\u001b[1;33m)\u001b[0m\u001b[1;33m\u001b[0m\u001b[0m\n",
      "\u001b[1;31mWindowsError\u001b[0m: [Error 3] "
     ]
    }
   ],
   "source": [
    "os.rename('t1.txt', 'Python/t1.txt') # 현재 작업 디렉토리의 t1.txt를 example에 t1.txt이름으로 옮긴다.\n",
    "print os.access('Python/t1.txt', os.F_OK)"
   ]
  },
  {
   "cell_type": "code",
   "execution_count": 28,
   "metadata": {
    "collapsed": false
   },
   "outputs": [
    {
     "name": "stdout",
     "output_type": "stream",
     "text": [
      "True\n"
     ]
    }
   ],
   "source": [
    "import shutil\n",
    "shutil.copyfile('sample.txt', 'sample_new.txt')\n",
    "print os.access('sample_new.txt', os.F_OK)"
   ]
  },
  {
   "cell_type": "code",
   "execution_count": 29,
   "metadata": {
    "collapsed": false
   },
   "outputs": [
    {
     "name": "stdout",
     "output_type": "stream",
     "text": [
      "C:\\Users\\gamer\\Desktop\\Python\\o.txt\n"
     ]
    }
   ],
   "source": [
    "import os\n",
    "print os.path.abspath('o.txt')"
   ]
  },
  {
   "cell_type": "code",
   "execution_count": 33,
   "metadata": {
    "collapsed": false
   },
   "outputs": [
    {
     "name": "stdout",
     "output_type": "stream",
     "text": [
      "False\n",
      "True\n",
      "False\n",
      "False\n",
      "True\n",
      "True\n"
     ]
    }
   ],
   "source": [
    "f = '/Users/yhhan/git/python-e-learning/sample.txt'\n",
    "print os.path.exists(f)\n",
    "print os.path.exists('sample.txt')\n",
    "print os.path.exists('asdf.txt')\n",
    "print os.path.exists('t.txt')\n",
    "print os.path.exists('t1.txt')\n",
    "print os.path.exists('t2.txt')"
   ]
  },
  {
   "cell_type": "code",
   "execution_count": 35,
   "metadata": {
    "collapsed": false
   },
   "outputs": [
    {
     "name": "stdout",
     "output_type": "stream",
     "text": [
      ".\n",
      "..\n"
     ]
    }
   ],
   "source": [
    "print os.curdir #현재 디렉토리\n",
    "print os.pardir #부모 디렉토리"
   ]
  },
  {
   "cell_type": "code",
   "execution_count": 36,
   "metadata": {
    "collapsed": false
   },
   "outputs": [
    {
     "name": "stdout",
     "output_type": "stream",
     "text": [
      "\\\n"
     ]
    }
   ],
   "source": [
    "print os.sep"
   ]
  },
  {
   "cell_type": "code",
   "execution_count": 40,
   "metadata": {
    "collapsed": false
   },
   "outputs": [
    {
     "name": "stdout",
     "output_type": "stream",
     "text": [
      "t2.txt\n",
      "/Users/yhhan/git/python-e-learning\n"
     ]
    }
   ],
   "source": [
    "f = '/Users/yhhan/git/python-e-learning/t2.txt'\n",
    "\n",
    "print os.path.basename(f) # 파일명만 추출\n",
    "print os.path.dirname(f)  # 디렉토리 경로 추출"
   ]
  },
  {
   "cell_type": "code",
   "execution_count": 41,
   "metadata": {
    "collapsed": false
   },
   "outputs": [
    {
     "name": "stdout",
     "output_type": "stream",
     "text": [
      "('/Users/yhhan/git/python-e-learning', 't2.txt')\n"
     ]
    }
   ],
   "source": [
    "print os.path.split(f)"
   ]
  },
  {
   "cell_type": "code",
   "execution_count": 42,
   "metadata": {
    "collapsed": false
   },
   "outputs": [
    {
     "name": "stdout",
     "output_type": "stream",
     "text": [
      "('', '/Users/yhhan/git/python-e-learning/t2.txt')\n"
     ]
    }
   ],
   "source": [
    "print os.path.splitdrive(f)"
   ]
  },
  {
   "cell_type": "code",
   "execution_count": 43,
   "metadata": {
    "collapsed": false
   },
   "outputs": [
    {
     "name": "stdout",
     "output_type": "stream",
     "text": [
      "('/Users/yhhan/git/python-e-learning/t2', '.txt')\n"
     ]
    }
   ],
   "source": [
    "print os.path.splitext(f)"
   ]
  },
  {
   "cell_type": "markdown",
   "metadata": {},
   "source": [
    "# 2 디렉토리 다루기"
   ]
  },
  {
   "cell_type": "code",
   "execution_count": 47,
   "metadata": {
    "collapsed": false
   },
   "outputs": [
    {
     "name": "stdout",
     "output_type": "stream",
     "text": [
      "C:\\Users\\gamer\\Desktop\\Python\n"
     ]
    }
   ],
   "source": [
    "import os\n",
    "print os.getcwd()"
   ]
  },
  {
   "cell_type": "code",
   "execution_count": 49,
   "metadata": {
    "collapsed": false
   },
   "outputs": [
    {
     "ename": "WindowsError",
     "evalue": "[Error 3] : '/Users/yhhan/Public/'",
     "output_type": "error",
     "traceback": [
      "\u001b[1;31m---------------------------------------------------------------------------\u001b[0m",
      "\u001b[1;31mWindowsError\u001b[0m                              Traceback (most recent call last)",
      "\u001b[1;32m<ipython-input-49-defda7a3c437>\u001b[0m in \u001b[0;36m<module>\u001b[1;34m()\u001b[0m\n\u001b[1;32m----> 1\u001b[1;33m \u001b[0mos\u001b[0m\u001b[1;33m.\u001b[0m\u001b[0mchdir\u001b[0m\u001b[1;33m(\u001b[0m\u001b[1;34m'/Users/yhhan/Public/'\u001b[0m\u001b[1;33m)\u001b[0m\u001b[1;33m\u001b[0m\u001b[0m\n\u001b[0m\u001b[0;32m      2\u001b[0m \u001b[1;32mprint\u001b[0m \u001b[0mos\u001b[0m\u001b[1;33m.\u001b[0m\u001b[0mgetcwd\u001b[0m\u001b[1;33m(\u001b[0m\u001b[1;33m)\u001b[0m  \u001b[1;31m# 작업 디렉토리 변경하기!!!!\u001b[0m\u001b[1;33m\u001b[0m\u001b[0m\n",
      "\u001b[1;31mWindowsError\u001b[0m: [Error 3] : '/Users/yhhan/Public/'"
     ]
    }
   ],
   "source": [
    "os.chdir('/Users/yhhan/Public/')\n",
    "print os.getcwd()  # 작업 디렉토리 변경하기!!!!"
   ]
  },
  {
   "cell_type": "code",
   "execution_count": 57,
   "metadata": {
    "collapsed": false
   },
   "outputs": [
    {
     "ename": "WindowsError",
     "evalue": "[Error 183] : 'temp'",
     "output_type": "error",
     "traceback": [
      "\u001b[1;31m---------------------------------------------------------------------------\u001b[0m",
      "\u001b[1;31mWindowsError\u001b[0m                              Traceback (most recent call last)",
      "\u001b[1;32m<ipython-input-57-a35c1cd11b60>\u001b[0m in \u001b[0;36m<module>\u001b[1;34m()\u001b[0m\n\u001b[0;32m      1\u001b[0m \u001b[1;32mimport\u001b[0m \u001b[0mos\u001b[0m\u001b[1;33m\u001b[0m\u001b[0m\n\u001b[0;32m      2\u001b[0m \u001b[1;33m\u001b[0m\u001b[0m\n\u001b[1;32m----> 3\u001b[1;33m \u001b[0mos\u001b[0m\u001b[1;33m.\u001b[0m\u001b[0mmkdir\u001b[0m\u001b[1;33m(\u001b[0m\u001b[1;34m'temp'\u001b[0m\u001b[1;33m)\u001b[0m        \u001b[1;31m# 0755 기본 모드(rwxr-xr-x)로 만들어짐\u001b[0m\u001b[1;33m\u001b[0m\u001b[0m\n\u001b[0m\u001b[0;32m      4\u001b[0m \u001b[0mos\u001b[0m\u001b[1;33m.\u001b[0m\u001b[0mmkdir\u001b[0m\u001b[1;33m(\u001b[0m\u001b[1;34m'temp2'\u001b[0m\u001b[1;33m,\u001b[0m \u001b[1;36m0700\u001b[0m\u001b[1;33m)\u001b[0m \u001b[1;31m# 0700 모드(rwx------)로 만들어짐\u001b[0m\u001b[1;33m\u001b[0m\u001b[0m\n\u001b[0;32m      5\u001b[0m \u001b[0mos\u001b[0m\u001b[1;33m.\u001b[0m\u001b[0mmakedirs\u001b[0m\u001b[1;33m(\u001b[0m\u001b[1;34m'temp/level1/level2'\u001b[0m\u001b[1;33m)\u001b[0m \u001b[1;31m#0755 기본 모드, 중간에 필요한 디렉토리도 모두생성\u001b[0m\u001b[1;33m\u001b[0m\u001b[0m\n",
      "\u001b[1;31mWindowsError\u001b[0m: [Error 183] : 'temp'"
     ]
    }
   ],
   "source": [
    "import os\n",
    "\n",
    "os.mkdir('temp')        # 0755 기본 모드(rwxr-xr-x)로 만들어짐\n",
    "os.mkdir('temp2', 0700) # 0700 모드(rwx------)로 만들어짐\n",
    "os.makedirs('temp/level1/level2') #0755 기본 모드, 중간에 필요한 디렉토리도 모두생성\n",
    "\n",
    "print os.access('/Users/gamer/Desktop/Python/temp', os.F_OK)\n",
    "print os.access('/Users/gamer/Desktop/Python/temp2', os.F_OK)\n",
    "print os.access('/Users/gamer/Desktop/Python/temp/level1/level2', os.F_OK)"
   ]
  },
  {
   "cell_type": "code",
   "execution_count": 51,
   "metadata": {
    "collapsed": true
   },
   "outputs": [],
   "source": [
    "os.rmdir('temp2') #디렉토리에 내용이 없을 때 삭제가능"
   ]
  },
  {
   "cell_type": "code",
   "execution_count": 58,
   "metadata": {
    "collapsed": false
   },
   "outputs": [
    {
     "ename": "WindowsError",
     "evalue": "[Error 145] : 'temp'",
     "output_type": "error",
     "traceback": [
      "\u001b[1;31m---------------------------------------------------------------------------\u001b[0m",
      "\u001b[1;31mWindowsError\u001b[0m                              Traceback (most recent call last)",
      "\u001b[1;32m<ipython-input-58-cb2ef2e59e2c>\u001b[0m in \u001b[0;36m<module>\u001b[1;34m()\u001b[0m\n\u001b[1;32m----> 1\u001b[1;33m \u001b[0mos\u001b[0m\u001b[1;33m.\u001b[0m\u001b[0mrmdir\u001b[0m\u001b[1;33m(\u001b[0m\u001b[1;34m'temp'\u001b[0m\u001b[1;33m)\u001b[0m \u001b[1;31m#디렉토리에 다른 파일이 있으면 삭제할 수 없음\u001b[0m\u001b[1;33m\u001b[0m\u001b[0m\n\u001b[0m",
      "\u001b[1;31mWindowsError\u001b[0m: [Error 145] : 'temp'"
     ]
    }
   ],
   "source": [
    "os.rmdir('temp') #디렉토리에 다른 파일이 있으면 삭제할 수 없음"
   ]
  },
  {
   "cell_type": "markdown",
   "metadata": {},
   "source": [
    "- os.removedirs(filepath)\n",
    "    - filepath에 지정된 디렉토리들 중 맨 오른쪽 디렉토리 부터 차례차례로 삭제한다.\n",
    "    - 디렉토리에 다른 파일이 있으면 삭제하기 않고 중단"
   ]
  },
  {
   "cell_type": "code",
   "execution_count": 60,
   "metadata": {
    "collapsed": false
   },
   "outputs": [
    {
     "ename": "WindowsError",
     "evalue": "[Error 3] : 'temp/level1/level2'",
     "output_type": "error",
     "traceback": [
      "\u001b[1;31m---------------------------------------------------------------------------\u001b[0m",
      "\u001b[1;31mWindowsError\u001b[0m                              Traceback (most recent call last)",
      "\u001b[1;32m<ipython-input-60-cf7abe53f3c0>\u001b[0m in \u001b[0;36m<module>\u001b[1;34m()\u001b[0m\n\u001b[1;32m----> 1\u001b[1;33m \u001b[0mos\u001b[0m\u001b[1;33m.\u001b[0m\u001b[0mremovedirs\u001b[0m\u001b[1;33m(\u001b[0m\u001b[1;34m'temp/level1/level2'\u001b[0m\u001b[1;33m)\u001b[0m\u001b[1;33m\u001b[0m\u001b[0m\n\u001b[0m",
      "\u001b[1;32mC:\\Users\\gamer\\Anaconda2\\lib\\os.pyc\u001b[0m in \u001b[0;36mremovedirs\u001b[1;34m(name)\u001b[0m\n\u001b[0;32m    168\u001b[0m \u001b[1;33m\u001b[0m\u001b[0m\n\u001b[0;32m    169\u001b[0m     \"\"\"\n\u001b[1;32m--> 170\u001b[1;33m     \u001b[0mrmdir\u001b[0m\u001b[1;33m(\u001b[0m\u001b[0mname\u001b[0m\u001b[1;33m)\u001b[0m\u001b[1;33m\u001b[0m\u001b[0m\n\u001b[0m\u001b[0;32m    171\u001b[0m     \u001b[0mhead\u001b[0m\u001b[1;33m,\u001b[0m \u001b[0mtail\u001b[0m \u001b[1;33m=\u001b[0m \u001b[0mpath\u001b[0m\u001b[1;33m.\u001b[0m\u001b[0msplit\u001b[0m\u001b[1;33m(\u001b[0m\u001b[0mname\u001b[0m\u001b[1;33m)\u001b[0m\u001b[1;33m\u001b[0m\u001b[0m\n\u001b[0;32m    172\u001b[0m     \u001b[1;32mif\u001b[0m \u001b[1;32mnot\u001b[0m \u001b[0mtail\u001b[0m\u001b[1;33m:\u001b[0m\u001b[1;33m\u001b[0m\u001b[0m\n",
      "\u001b[1;31mWindowsError\u001b[0m: [Error 3] : 'temp/level1/level2'"
     ]
    }
   ],
   "source": [
    "os.removedirs('temp/level1/level2')"
   ]
  },
  {
   "cell_type": "markdown",
   "metadata": {},
   "source": [
    "- shutil.rmtree()\n",
    "    - 파일은 물론 하위 디렉토리까지 모두 한번에 삭제 가능\n",
    "    - 조심해서 사용해야 함"
   ]
  },
  {
   "cell_type": "code",
   "execution_count": 61,
   "metadata": {
    "collapsed": false
   },
   "outputs": [
    {
     "ename": "WindowsError",
     "evalue": "[Error 3] : 'temp/*.*'",
     "output_type": "error",
     "traceback": [
      "\u001b[1;31m---------------------------------------------------------------------------\u001b[0m",
      "\u001b[1;31mWindowsError\u001b[0m                              Traceback (most recent call last)",
      "\u001b[1;32m<ipython-input-61-d90ab94f3769>\u001b[0m in \u001b[0;36m<module>\u001b[1;34m()\u001b[0m\n\u001b[0;32m      1\u001b[0m \u001b[1;32mimport\u001b[0m \u001b[0mshutil\u001b[0m\u001b[1;33m\u001b[0m\u001b[0m\n\u001b[1;32m----> 2\u001b[1;33m \u001b[0mshutil\u001b[0m\u001b[1;33m.\u001b[0m\u001b[0mrmtree\u001b[0m\u001b[1;33m(\u001b[0m\u001b[1;34m'temp'\u001b[0m\u001b[1;33m)\u001b[0m\u001b[1;33m\u001b[0m\u001b[0m\n\u001b[0m",
      "\u001b[1;32mC:\\Users\\gamer\\Anaconda2\\lib\\shutil.pyc\u001b[0m in \u001b[0;36mrmtree\u001b[1;34m(path, ignore_errors, onerror)\u001b[0m\n\u001b[0;32m    237\u001b[0m         \u001b[0mnames\u001b[0m \u001b[1;33m=\u001b[0m \u001b[0mos\u001b[0m\u001b[1;33m.\u001b[0m\u001b[0mlistdir\u001b[0m\u001b[1;33m(\u001b[0m\u001b[0mpath\u001b[0m\u001b[1;33m)\u001b[0m\u001b[1;33m\u001b[0m\u001b[0m\n\u001b[0;32m    238\u001b[0m     \u001b[1;32mexcept\u001b[0m \u001b[0mos\u001b[0m\u001b[1;33m.\u001b[0m\u001b[0merror\u001b[0m\u001b[1;33m,\u001b[0m \u001b[0merr\u001b[0m\u001b[1;33m:\u001b[0m\u001b[1;33m\u001b[0m\u001b[0m\n\u001b[1;32m--> 239\u001b[1;33m         \u001b[0monerror\u001b[0m\u001b[1;33m(\u001b[0m\u001b[0mos\u001b[0m\u001b[1;33m.\u001b[0m\u001b[0mlistdir\u001b[0m\u001b[1;33m,\u001b[0m \u001b[0mpath\u001b[0m\u001b[1;33m,\u001b[0m \u001b[0msys\u001b[0m\u001b[1;33m.\u001b[0m\u001b[0mexc_info\u001b[0m\u001b[1;33m(\u001b[0m\u001b[1;33m)\u001b[0m\u001b[1;33m)\u001b[0m\u001b[1;33m\u001b[0m\u001b[0m\n\u001b[0m\u001b[0;32m    240\u001b[0m     \u001b[1;32mfor\u001b[0m \u001b[0mname\u001b[0m \u001b[1;32min\u001b[0m \u001b[0mnames\u001b[0m\u001b[1;33m:\u001b[0m\u001b[1;33m\u001b[0m\u001b[0m\n\u001b[0;32m    241\u001b[0m         \u001b[0mfullname\u001b[0m \u001b[1;33m=\u001b[0m \u001b[0mos\u001b[0m\u001b[1;33m.\u001b[0m\u001b[0mpath\u001b[0m\u001b[1;33m.\u001b[0m\u001b[0mjoin\u001b[0m\u001b[1;33m(\u001b[0m\u001b[0mpath\u001b[0m\u001b[1;33m,\u001b[0m \u001b[0mname\u001b[0m\u001b[1;33m)\u001b[0m\u001b[1;33m\u001b[0m\u001b[0m\n",
      "\u001b[1;32mC:\\Users\\gamer\\Anaconda2\\lib\\shutil.pyc\u001b[0m in \u001b[0;36mrmtree\u001b[1;34m(path, ignore_errors, onerror)\u001b[0m\n\u001b[0;32m    235\u001b[0m     \u001b[0mnames\u001b[0m \u001b[1;33m=\u001b[0m \u001b[1;33m[\u001b[0m\u001b[1;33m]\u001b[0m\u001b[1;33m\u001b[0m\u001b[0m\n\u001b[0;32m    236\u001b[0m     \u001b[1;32mtry\u001b[0m\u001b[1;33m:\u001b[0m\u001b[1;33m\u001b[0m\u001b[0m\n\u001b[1;32m--> 237\u001b[1;33m         \u001b[0mnames\u001b[0m \u001b[1;33m=\u001b[0m \u001b[0mos\u001b[0m\u001b[1;33m.\u001b[0m\u001b[0mlistdir\u001b[0m\u001b[1;33m(\u001b[0m\u001b[0mpath\u001b[0m\u001b[1;33m)\u001b[0m\u001b[1;33m\u001b[0m\u001b[0m\n\u001b[0m\u001b[0;32m    238\u001b[0m     \u001b[1;32mexcept\u001b[0m \u001b[0mos\u001b[0m\u001b[1;33m.\u001b[0m\u001b[0merror\u001b[0m\u001b[1;33m,\u001b[0m \u001b[0merr\u001b[0m\u001b[1;33m:\u001b[0m\u001b[1;33m\u001b[0m\u001b[0m\n\u001b[0;32m    239\u001b[0m         \u001b[0monerror\u001b[0m\u001b[1;33m(\u001b[0m\u001b[0mos\u001b[0m\u001b[1;33m.\u001b[0m\u001b[0mlistdir\u001b[0m\u001b[1;33m,\u001b[0m \u001b[0mpath\u001b[0m\u001b[1;33m,\u001b[0m \u001b[0msys\u001b[0m\u001b[1;33m.\u001b[0m\u001b[0mexc_info\u001b[0m\u001b[1;33m(\u001b[0m\u001b[1;33m)\u001b[0m\u001b[1;33m)\u001b[0m\u001b[1;33m\u001b[0m\u001b[0m\n",
      "\u001b[1;31mWindowsError\u001b[0m: [Error 3] : 'temp/*.*'"
     ]
    }
   ],
   "source": [
    "import shutil\n",
    "shutil.rmtree('temp')"
   ]
  },
  {
   "cell_type": "markdown",
   "metadata": {},
   "source": [
    "- shutil.copytree(src_filepath, dest_filepath)\n",
    "    - 하위 디렉토리와 파일등을 지니고 있는 디렉토리를 복사"
   ]
  },
  {
   "cell_type": "code",
   "execution_count": 62,
   "metadata": {
    "collapsed": true
   },
   "outputs": [],
   "source": [
    "os.mkdir('temp')        \n",
    "os.mkdir('temp/temp2', 0700)\n",
    "shutil.copytree('temp', 'myweb_backup')"
   ]
  },
  {
   "cell_type": "markdown",
   "metadata": {},
   "source": [
    "- os.walk(filepath)\n",
    "    - filepath 부터 시작하여 재귀적으로 모든 하위 디렉토리까지 탐색을 하는 함수\n",
    "    - 탐색시 발견하는 모든 파일에 대해서는 다음 튜플을 리턴함\n",
    "        - (dirpath, dirnames, filemnames)\n",
    "        - dirpath: 탐색하고 있는 디렉토리 경로\n",
    "        - dirnames: dirpath 안에 존재하는 서브 디렉토리의 리스트\n",
    "        - filenames: dirpath 안에 존재하는 파일 리스트\n",
    "- 아래 예는 현재 디렉토리부터 모든 하위 디렉토리 내에 존재하는 모든 pyc 파일을 삭제하는 프로그램"
   ]
  },
  {
   "cell_type": "code",
   "execution_count": 64,
   "metadata": {
    "collapsed": false
   },
   "outputs": [
    {
     "name": "stdout",
     "output_type": "stream",
     "text": [
      "C:\\Users\\gamer\\Desktop\\Python\n",
      "\n"
     ]
    }
   ],
   "source": [
    "import os\n",
    "#os.chdir('/Users/yhhan/git/python-e-learning')\n",
    "print os.getcwd()\n",
    "print\n",
    "for path, subdirs, files in os.walk(os.getcwd()):\n",
    "    for fname in files:\n",
    "        if fname.endswith('.pyc'):\n",
    "            fullpath = os.path.join(path, fname)\n",
    "            print 'removing', fullpath\n",
    "            os.remove(fullpath)"
   ]
  },
  {
   "cell_type": "code",
   "execution_count": null,
   "metadata": {
    "collapsed": true
   },
   "outputs": [],
   "source": []
  }
 ],
 "metadata": {
  "kernelspec": {
   "display_name": "Python [Root]",
   "language": "python",
   "name": "Python [Root]"
  },
  "language_info": {
   "codemirror_mode": {
    "name": "ipython",
    "version": 2
   },
   "file_extension": ".py",
   "mimetype": "text/x-python",
   "name": "python",
   "nbconvert_exporter": "python",
   "pygments_lexer": "ipython2",
   "version": "2.7.12"
  }
 },
 "nbformat": 4,
 "nbformat_minor": 0
}
