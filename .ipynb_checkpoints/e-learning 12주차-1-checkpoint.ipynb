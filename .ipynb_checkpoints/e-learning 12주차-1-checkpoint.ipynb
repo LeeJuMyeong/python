{
 "cells": [
  {
   "cell_type": "markdown",
   "metadata": {},
   "source": [
    "# 1. 파이썬 클래스와 이름 공간"
   ]
  },
  {
   "cell_type": "code",
   "execution_count": 5,
   "metadata": {
    "collapsed": false
   },
   "outputs": [
    {
     "name": "stdout",
     "output_type": "stream",
     "text": [
      "1\n",
      "\n",
      "2\n",
      "\n",
      "['__doc__', '__module__', 'a', 'b']\n",
      "['__doc__', '__module__', 'a']\n",
      "Class S1\n",
      "__main__\n"
     ]
    }
   ],
   "source": [
    "#-*- coding: utf-8 -*-\n",
    "\n",
    "class S1:\n",
    "    \"Class S1\"\n",
    "    a = 1\n",
    "    \n",
    "print S1.a  \n",
    "print \n",
    "\n",
    "S1.b = 2   #클래스 이름 공간에 새로운 이름의 생성\n",
    "print S1.b\n",
    "print \n",
    "\n",
    "print dir(S1) # S1에 포함된 이름들을 리스트로 반환\n",
    "del S1.b  # 이름 공간 S1에서 b 삭제\n",
    "print dir(S1) \n",
    "print S1.__doc__\n",
    "print S1.__module__"
   ]
  },
  {
   "cell_type": "code",
   "execution_count": 7,
   "metadata": {
    "collapsed": false
   },
   "outputs": [
    {
     "name": "stdout",
     "output_type": "stream",
     "text": [
      "1\n",
      "10\n",
      "1\n"
     ]
    }
   ],
   "source": [
    "x = S1()\n",
    "print x.a  #x는 S1의 클래스 인스턴스\n",
    "\n",
    "x.a = 10   # 클래스 인스턴스 x의 이름 공간에 이름 생성\n",
    "print x.a\n",
    "\n",
    "print S1.a  # 클래스 이름 공간과 클래스 인스턴스의 이름공간은 다르다\n"
   ]
  },
  {
   "cell_type": "code",
   "execution_count": 8,
   "metadata": {
    "collapsed": false
   },
   "outputs": [
    {
     "name": "stdout",
     "output_type": "stream",
     "text": [
      "300\n",
      "10\n",
      "1\n"
     ]
    }
   ],
   "source": [
    "y = S1()\n",
    "\n",
    "y.a = 300\n",
    "\n",
    "print y.a\n",
    "print x.a\n",
    "print S1.a"
   ]
  },
  {
   "cell_type": "code",
   "execution_count": 9,
   "metadata": {
    "collapsed": true
   },
   "outputs": [],
   "source": [
    "class Simple:\n",
    "    pass\n",
    "\n",
    "s1 = Simple()\n",
    "s2 = Simple()"
   ]
  },
  {
   "cell_type": "code",
   "execution_count": 10,
   "metadata": {
    "collapsed": false
   },
   "outputs": [
    {
     "name": "stdout",
     "output_type": "stream",
     "text": [
      "[1, 2, 3]\n",
      "3\n",
      "2\n",
      "\n",
      "[1]\n"
     ]
    },
    {
     "ename": "AttributeError",
     "evalue": "Simple instance has no attribute 'stack'",
     "output_type": "error",
     "traceback": [
      "\u001b[1;31m---------------------------------------------------------------------------\u001b[0m",
      "\u001b[1;31mAttributeError\u001b[0m                            Traceback (most recent call last)",
      "\u001b[1;32m<ipython-input-10-ddb574329b54>\u001b[0m in \u001b[0;36m<module>\u001b[1;34m()\u001b[0m\n\u001b[0;32m      9\u001b[0m \u001b[1;32mprint\u001b[0m\u001b[1;33m\u001b[0m\u001b[0m\n\u001b[0;32m     10\u001b[0m \u001b[1;32mprint\u001b[0m \u001b[0ms1\u001b[0m\u001b[1;33m.\u001b[0m\u001b[0mstack\u001b[0m\u001b[1;33m\u001b[0m\u001b[0m\n\u001b[1;32m---> 11\u001b[1;33m \u001b[1;32mprint\u001b[0m \u001b[0ms2\u001b[0m\u001b[1;33m.\u001b[0m\u001b[0mstack\u001b[0m\u001b[1;33m\u001b[0m\u001b[0m\n\u001b[0m",
      "\u001b[1;31mAttributeError\u001b[0m: Simple instance has no attribute 'stack'"
     ]
    }
   ],
   "source": [
    "s1.stack = [] #동적으로 클래스 인스턴스 이름공간 안에 새로운 변수(이름) stack 생성\n",
    "s1.stack.append(1)  # 값추가\n",
    "s1.stack.append(2)\n",
    "s1.stack.append(3)\n",
    "\n",
    "print s1.stack\n",
    "print s1.stack.pop()\n",
    "print s1.stack.pop()\n",
    "print \n",
    "print s1.stack\n",
    "print s2.stack"
   ]
  },
  {
   "cell_type": "code",
   "execution_count": 11,
   "metadata": {
    "collapsed": true
   },
   "outputs": [],
   "source": [
    "del s1.stack"
   ]
  },
  {
   "cell_type": "markdown",
   "metadata": {},
   "source": [
    "# 2 메소드의 정의와 호출"
   ]
  },
  {
   "cell_type": "code",
   "execution_count": 13,
   "metadata": {
    "collapsed": false
   },
   "outputs": [
    {
     "name": "stdout",
     "output_type": "stream",
     "text": [
      "egg\n",
      "egg\n"
     ]
    }
   ],
   "source": [
    "class MyClass:\n",
    "    def set(self, v):    # self는 클래스의 객체 자체\n",
    "        self.value = v\n",
    "    def get(self):    \n",
    "        return self.value\n",
    "    \n",
    "    \n",
    "c = MyClass()  # 인스턴스 생성\n",
    "c.set('egg')   # 메소드 set 호출\n",
    "print c.get()  # 메소드 get 호출\n",
    "print c.value  # 인스턴스 변수에 직접 접근"
   ]
  },
  {
   "cell_type": "code",
   "execution_count": 17,
   "metadata": {
    "collapsed": false
   },
   "outputs": [
    {
     "name": "stdout",
     "output_type": "stream",
     "text": [
      "ham\n",
      "ham\n",
      "ham\n"
     ]
    }
   ],
   "source": [
    "c = MyClass()\n",
    "MyClass.set(c, 'ham')\n",
    "\n",
    "print c.get()\n",
    "print MyClass.get(c)\n",
    "print c.value"
   ]
  },
  {
   "cell_type": "code",
   "execution_count": 19,
   "metadata": {
    "collapsed": false
   },
   "outputs": [
    {
     "ename": "TypeError",
     "evalue": "unbound method set() must be called with MyClass instance as first argument (got Simple instance instead)",
     "output_type": "error",
     "traceback": [
      "\u001b[1;31m---------------------------------------------------------------------------\u001b[0m",
      "\u001b[1;31mTypeError\u001b[0m                                 Traceback (most recent call last)",
      "\u001b[1;32m<ipython-input-19-de5c1f65218f>\u001b[0m in \u001b[0;36m<module>\u001b[1;34m()\u001b[0m\n\u001b[0;32m      3\u001b[0m \u001b[0mc\u001b[0m \u001b[1;33m=\u001b[0m \u001b[0mMyClass\u001b[0m\u001b[1;33m(\u001b[0m\u001b[1;33m)\u001b[0m\u001b[1;33m\u001b[0m\u001b[0m\n\u001b[0;32m      4\u001b[0m \u001b[0ms1\u001b[0m \u001b[1;33m=\u001b[0m \u001b[0mSimple\u001b[0m\u001b[1;33m(\u001b[0m\u001b[1;33m)\u001b[0m\u001b[1;33m\u001b[0m\u001b[0m\n\u001b[1;32m----> 5\u001b[1;33m \u001b[0mMyClass\u001b[0m\u001b[1;33m.\u001b[0m\u001b[0mset\u001b[0m\u001b[1;33m(\u001b[0m\u001b[0ms1\u001b[0m\u001b[1;33m,\u001b[0m \u001b[1;34m'egg'\u001b[0m\u001b[1;33m)\u001b[0m   \u001b[1;31m# 언바운드 메소드 호출!!\u001b[0m\u001b[1;33m\u001b[0m\u001b[0m\n\u001b[0m",
      "\u001b[1;31mTypeError\u001b[0m: unbound method set() must be called with MyClass instance as first argument (got Simple instance instead)"
     ]
    }
   ],
   "source": [
    "class Simple:\n",
    "    pass\n",
    "c = MyClass()\n",
    "s1 = Simple()\n",
    "MyClass.set(s1, 'egg')   # 언바운드 메소드 호출!!"
   ]
  },
  {
   "cell_type": "code",
   "execution_count": 21,
   "metadata": {
    "collapsed": false
   },
   "outputs": [
    {
     "name": "stdout",
     "output_type": "stream",
     "text": [
      "1\n",
      "\n",
      "2\n"
     ]
    }
   ],
   "source": [
    "class MyClass:\n",
    "    def set(self, v):\n",
    "        self.value = v\n",
    "    def incr(self):\n",
    "        self.set(self.value + 1) \n",
    "    def get(self):\n",
    "        return self.value\n",
    "    \n",
    "c = MyClass()\n",
    "c.set(1)\n",
    "print c.get()\n",
    "\n",
    "print \n",
    "\n",
    "c.incr()\n",
    "print c.get()"
   ]
  },
  {
   "cell_type": "code",
   "execution_count": 22,
   "metadata": {
    "collapsed": false,
    "scrolled": true
   },
   "outputs": [
    {
     "name": "stdout",
     "output_type": "stream",
     "text": [
      "1\n",
      "\n",
      "set function outside function -  2\n",
      "1\n"
     ]
    }
   ],
   "source": [
    "def set(i):\n",
    "    print \"set function outside function - \", i\n",
    "    \n",
    "class MyClass:\n",
    "    def set(self, v):\n",
    "        self.value = v\n",
    "    def incr(self):\n",
    "        set(self.value + 1)     # 클래스 외부에 존재하는 set 메소드 호출\n",
    "    def get(self):\n",
    "        return self.value\n",
    "    \n",
    "c = MyClass()\n",
    "c.set(1)\n",
    "print c.get()\n",
    "\n",
    "print\n",
    "\n",
    "c.incr()\n",
    "print c.get()"
   ]
  },
  {
   "cell_type": "code",
   "execution_count": 26,
   "metadata": {
    "collapsed": false
   },
   "outputs": [
    {
     "name": "stdout",
     "output_type": "stream",
     "text": [
      "static method 1 2\n",
      "\n",
      "static method 1 2\n"
     ]
    }
   ],
   "source": [
    "class D:\n",
    "    @staticmethod\n",
    "    def spam(x, y):            # self가 없다.\n",
    "        print 'static method', x, y\n",
    "        \n",
    "D.spam(1,2) # 인스턴스 객체 없이 클래스에서 직접 호출\n",
    "\n",
    "print\n",
    "d = D()\n",
    "d.spam(1,2) # 인스턴스 객체를 통해서도 호출 가능"
   ]
  },
  {
   "cell_type": "code",
   "execution_count": 24,
   "metadata": {
    "collapsed": false
   },
   "outputs": [
    {
     "name": "stdout",
     "output_type": "stream",
     "text": [
      "__main__.C\n",
      "__main__.C -> 5\n",
      "__main__.C -> 5\n"
     ]
    }
   ],
   "source": [
    "class C:\n",
    "    @classmethod\n",
    "    def spam(cls, y):\n",
    "        print cls, '->', y\n",
    "    \n",
    "print C\n",
    "\n",
    "C.spam(5) # 첫번째 인수로 C가 잠재적으로 전달된다.\n",
    "\n",
    "c = C()\n",
    "c.spam(5) # 인스턴스 객체를 통해서도 호출 가능."
   ]
  },
  {
   "cell_type": "code",
   "execution_count": 29,
   "metadata": {
    "collapsed": false
   },
   "outputs": [
    {
     "name": "stdout",
     "output_type": "stream",
     "text": [
      "__main__.D -> 3\n",
      "None\n",
      "\n",
      "__main__.D -> 3\n",
      "None\n",
      "\n",
      "__main__.C -> 3\n",
      "None\n",
      "['__doc__', '__module__', 'a', 'b', 'spam']\n",
      "['__doc__', '__module__', 'b', 'spam']\n",
      "['__doc__', '__module__', 'spam']\n"
     ]
    }
   ],
   "source": [
    "class D(C):\n",
    "    pass\n",
    "\n",
    "print D.spam(3)\n",
    "print\n",
    "\n",
    "d = D()\n",
    "print d.spam(3)\n",
    "print\n",
    "\n",
    "print C.spam(3)\n",
    "\n",
    "\n",
    "d.a = 1\n",
    "D.b = 2\n",
    "print dir(d)\n",
    "print dir(D)\n",
    "print dir(C)"
   ]
  },
  {
   "cell_type": "code",
   "execution_count": 30,
   "metadata": {
    "collapsed": true
   },
   "outputs": [],
   "source": [
    "class Var:\n",
    "    c_mem = 100 # 클래스 멤버 정의\n",
    "    def f(self): \n",
    "        self.i_mem = 200 # 인스턴스 멤버 정의\n",
    "    def g(self):\n",
    "        print self.i_mem\n",
    "        print self.c_mem        "
   ]
  },
  {
   "cell_type": "code",
   "execution_count": 34,
   "metadata": {
    "collapsed": false
   },
   "outputs": [
    {
     "name": "stdout",
     "output_type": "stream",
     "text": [
      "100\n",
      "['__doc__', '__module__', 'c_mem', 'f', 'g']\n",
      "\n",
      "100\n",
      "200\n",
      "['__doc__', '__module__', 'c_mem', 'f', 'g', 'i_mem']\n",
      "\n",
      "\n",
      "['__doc__', '__module__', 'c_mem', 'f', 'g']\n",
      "\n"
     ]
    }
   ],
   "source": [
    "print Var.c_mem  # 클래스 객체를 통하여 클래스 멤버 접근\n",
    "print dir(Var)\n",
    "print \n",
    "\n",
    "v1 = Var()       # 인스턴스 v1 생성\n",
    "print v1.c_mem   # 인스턴스를 통하여 클래스 멤버 접근\n",
    "v1.f()           # 인스턴스 멤버 i_mem이 생성됨\n",
    "print v1.i_mem   # 인스턴스 v1을 통하여 인스턴스 멤버 접근\n",
    "print dir(v1)\n",
    "print \n",
    "\n",
    "print\n",
    "v2 = Var()       # 인스턴스 v2 생성\n",
    "#print v2.i_mem   # 인스턴스 v2에는 아직 f() 호출이 안되어서 i_mem 멤버 없음 ==> 생성자의 필요성\n",
    "print dir(v2)\n",
    "print"
   ]
  },
  {
   "cell_type": "code",
   "execution_count": 35,
   "metadata": {
    "collapsed": false
   },
   "outputs": [
    {
     "name": "stdout",
     "output_type": "stream",
     "text": [
      "100\n",
      "100\n",
      "\n",
      "50\n",
      "100\n",
      "100\n"
     ]
    }
   ],
   "source": [
    "print v1.c_mem   # 인스턴스 v1을 통해 클래스 멤버 참조\n",
    "print v2.c_mem   # 인스턴스 v2를 통해 클래스 멤버 참조\n",
    "\n",
    "print\n",
    "v1.c_mem = 50    # 인스턴스 이름 공간에 c_mem생성\n",
    "print v1.c_mem   # 인스턴스 v1을 통해 인스턴스 멤버 참조\n",
    "print v2.c_mem   # 인스턴스 v2을 통해 클래스 멤버참조 (인스턴스 멤버가 없으므로, 클래스 멤버 참조)\n",
    "print Var.c_mem  # 클래스 멤버참조"
   ]
  },
  {
   "cell_type": "code",
   "execution_count": 36,
   "metadata": {
    "collapsed": false
   },
   "outputs": [
    {
     "name": "stdout",
     "output_type": "stream",
     "text": [
      "Birthday Tue Nov 22 02:25:14 2016\n",
      "Sleeping for 3 sec\n",
      "Deathday Tue Nov 22 02:25:17 2016\n"
     ]
    }
   ],
   "source": [
    "# _*_ coding:utf-8 _*_\n",
    "from time import ctime, sleep\n",
    "\n",
    "class Life:\n",
    "    def __init__(self):              # 생성자\n",
    "        self.birth = ctime()         # 현재시간에 대한 문자열을 얻는다.\n",
    "        print 'Birthday', self.birth # 현재 시간 출력\n",
    "    def __del__(self):               # 소멸자\n",
    "        print 'Deathday', ctime()    # 소멸 시간 출력 \n",
    "\n",
    "def test():\n",
    "    mylife = Life()\n",
    "    print 'Sleeping for 3 sec'\n",
    "    sleep(3) #3초간 sleep(block)상태에 있음 (CPU 점유 못함)\n",
    "\n",
    "test()"
   ]
  },
  {
   "cell_type": "code",
   "execution_count": 41,
   "metadata": {
    "collapsed": false
   },
   "outputs": [
    {
     "name": "stdout",
     "output_type": "stream",
     "text": [
      "10\n",
      "10\n",
      "\n",
      "<type 'int'>\n",
      "<type 'instance'>\n",
      "<type 'str'>\n"
     ]
    }
   ],
   "source": [
    "class Integer:\n",
    "    def __init__(self, i):\n",
    "        self.i = i\n",
    "    def __str__(self):\n",
    "        return str(self.i)\n",
    "\n",
    "i = Integer(10)\n",
    "print i\n",
    "print str(i)\n",
    "print \n",
    "\n",
    "print type(i.i)\n",
    "print type(i)\n",
    "print type(str(i))"
   ]
  },
  {
   "cell_type": "code",
   "execution_count": null,
   "metadata": {
    "collapsed": true
   },
   "outputs": [],
   "source": []
  }
 ],
 "metadata": {
  "kernelspec": {
   "display_name": "Python [Root]",
   "language": "python",
   "name": "Python [Root]"
  },
  "language_info": {
   "codemirror_mode": {
    "name": "ipython",
    "version": 2
   },
   "file_extension": ".py",
   "mimetype": "text/x-python",
   "name": "python",
   "nbconvert_exporter": "python",
   "pygments_lexer": "ipython2",
   "version": "2.7.12"
  }
 },
 "nbformat": 4,
 "nbformat_minor": 0
}
