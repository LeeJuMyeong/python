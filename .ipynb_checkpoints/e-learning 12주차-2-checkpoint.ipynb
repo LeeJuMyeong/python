{
 "cells": [
  {
   "cell_type": "markdown",
   "metadata": {},
   "source": [
    "## 연산자 중복(Operator Overloading)"
   ]
  },
  {
   "cell_type": "code",
   "execution_count": 7,
   "metadata": {
    "collapsed": false
   },
   "outputs": [
    {
     "name": "stdout",
     "output_type": "stream",
     "text": [
      "10\n",
      "10\n",
      "<type 'instance'>\n",
      "\n",
      "20\n",
      "<type 'int'>\n",
      "\n",
      "30\n",
      "<type 'int'>\n"
     ]
    }
   ],
   "source": [
    "class Integer:\n",
    "    def __init__(self, i):\n",
    "        self.i = i\n",
    "    def __str__(self):\n",
    "        return str(self.i)\n",
    "    def __add__(self, other):\n",
    "        return self.i + other\n",
    "    \n",
    "i = Integer(10)\n",
    "print i\n",
    "print str(i)\n",
    "print type(i)\n",
    "\n",
    "print\n",
    "i = i + 10\n",
    "print i  # 객체 i가 아니다!!!\n",
    "print type(i)\n",
    "\n",
    "\n",
    "print\n",
    "i += 10\n",
    "print i\n",
    "print type(i)"
   ]
  },
  {
   "cell_type": "code",
   "execution_count": 8,
   "metadata": {
    "collapsed": false
   },
   "outputs": [
    {
     "name": "stdout",
     "output_type": "stream",
     "text": [
      "10\n",
      "10\n",
      "<type 'instance'>\n",
      "\n",
      "20\n",
      "<type 'instance'>\n",
      "\n",
      "30\n",
      "<type 'instance'>\n"
     ]
    }
   ],
   "source": [
    "class Integer:\n",
    "    def __init__(self, i):\n",
    "        self.i = i\n",
    "    def __str__(self):\n",
    "        return str(self.i)\n",
    "    def __add__(self, other):\n",
    "        self.i += other\n",
    "        return self\n",
    "    \n",
    "i = Integer(10)\n",
    "print i\n",
    "print str(i)\n",
    "print type(i)\n",
    "\n",
    "print\n",
    "i = i + 10\n",
    "print i  \n",
    "print type(i)\n",
    "\n",
    "\n",
    "print\n",
    "i += 10\n",
    "print i\n",
    "print type(i)"
   ]
  },
  {
   "cell_type": "code",
   "execution_count": 13,
   "metadata": {
    "collapsed": false
   },
   "outputs": [
    {
     "name": "stdout",
     "output_type": "stream",
     "text": [
      "['abcd', 'abcd', 'abcd']\n",
      "['abcd', 'bcd', 'bcd']\n",
      "<type 'instance'>\n",
      "\n",
      "['abcd', 'abcd', 'abcd']\n",
      "['abcd', 'abcd', 'abcd']\n",
      "<type 'list'>\n"
     ]
    }
   ],
   "source": [
    "class MyString:\n",
    "    def __init__(self, str):\n",
    "        self.str = str\n",
    "    def __div__(self, sep):\n",
    "        return self.str.split(sep)\n",
    "    \n",
    "m = MyString(\"abcd_abcd_abcd\")\n",
    "print m / \"_\"\n",
    "print m / \"_a\"\n",
    "print type(m)\n",
    "print\n",
    "print m.__div__(\"_\")\n",
    "\n",
    "s = m / \"_\"\n",
    "print s\n",
    "print type(s)"
   ]
  },
  {
   "cell_type": "code",
   "execution_count": 15,
   "metadata": {
    "collapsed": false
   },
   "outputs": [
    {
     "name": "stdout",
     "output_type": "stream",
     "text": [
      "['abcd', 'abcd', 'abcd']\n",
      "['abcd', 'bcd', 'bcd']\n",
      "\n",
      "['abcd', 'abcd', 'abcd']\n",
      "['abcd', 'bcd', 'bcd']\n"
     ]
    }
   ],
   "source": [
    "class MyString:\n",
    "    def __init__(self, str):\n",
    "        self.str = str\n",
    "    def __div__(self, sep):\n",
    "        return str.split(self.str, sep)\n",
    "    __rdiv__ = __div__    # 메소드 이름 앞에 r이 붙으면 연산자가 오른쪽에 있는 것이 객체가 되면됨\n",
    "    \n",
    "m = MyString(\"abcd_abcd_abcd\")\n",
    "print m /\"_\"\n",
    "print m /\"_a\"\n",
    "print\n",
    "\n",
    "print \"_\"/ m\n",
    "print \"_a\"/ m"
   ]
  },
  {
   "cell_type": "code",
   "execution_count": 17,
   "metadata": {
    "collapsed": false
   },
   "outputs": [
    {
     "name": "stdout",
     "output_type": "stream",
     "text": [
      "fedcba\n",
      "fedcba\n"
     ]
    }
   ],
   "source": [
    "class MyString:\n",
    "    def __init__(self, str):\n",
    "        self.str = str\n",
    "    def __div__(self, sep):\n",
    "        return str.split(self.str, sep)\n",
    "    __rdiv__ = __div__\n",
    "    def __neg__(self):\n",
    "        t = list(self.str)\n",
    "        t.reverse()\n",
    "        return ''.join(t)\n",
    "    __invert__ = __neg__\n",
    "    \n",
    "m = MyString(\"abcdef\")\n",
    "print -m\n",
    "print ~m"
   ]
  },
  {
   "cell_type": "code",
   "execution_count": 18,
   "metadata": {
    "collapsed": false
   },
   "outputs": [
    {
     "name": "stdout",
     "output_type": "stream",
     "text": [
      "False\n",
      "False\n",
      "True\n"
     ]
    }
   ],
   "source": [
    "class MyCmp:\n",
    "    def __cmp__(self, y):\n",
    "        return 1 - y\n",
    "c = MyCmp()\n",
    "print c > 1  #c.__cmp__(1)을 호출, 반환값이 양수이여야 True\n",
    "print c < 1  #c.__cmp__(1)을 호출, 반환값이 음수이여야 True\n",
    "print c == 1 #c.__cmp__(1)을 호출, 반환값이 0이여야 True"
   ]
  },
  {
   "cell_type": "code",
   "execution_count": 25,
   "metadata": {
    "collapsed": false
   },
   "outputs": [
    {
     "name": "stdout",
     "output_type": "stream",
     "text": [
      "True\n",
      "True\n",
      "False\n",
      "\n",
      "False\n",
      "False\n",
      "False\n",
      "\n",
      "False\n"
     ]
    }
   ],
   "source": [
    "class MyCmp2:\n",
    "    def __lt__(self, y):\n",
    "        return 1 < y\n",
    "m = MyCmp2()\n",
    "print m < 10\n",
    "print m < 2\n",
    "print m < 1\n",
    "print\n",
    "print m > 2   # 존재하지 않은 경우 \n",
    "print m > 10\n",
    "print m > 0\n",
    "print \n",
    "print m == 1"
   ]
  },
  {
   "cell_type": "code",
   "execution_count": 26,
   "metadata": {
    "collapsed": false
   },
   "outputs": [
    {
     "name": "stdout",
     "output_type": "stream",
     "text": [
      "False\n",
      "True\n",
      "\n",
      "True\n"
     ]
    }
   ],
   "source": [
    "class MyCmp3:\n",
    "    def __eq__(self, y):\n",
    "        return 1 == y\n",
    "\n",
    "m = MyCmp3()\n",
    "print m == 10 # m.__eq__(10)을 호출\n",
    "m1 = MyCmp3()\n",
    "print m == 1\n",
    "print \n",
    "\n",
    "class MyCmp4:\n",
    "    def __init__(self, value):\n",
    "        self.value = value\n",
    "    def __cmp__(self, other):\n",
    "        if self.value == other:\n",
    "            return 0\n",
    "m2 = MyCmp4(10)\n",
    "print m2 == 10"
   ]
  },
  {
   "cell_type": "markdown",
   "metadata": {},
   "source": [
    "# 2 시퀀스/매핑 자료형의 연산자 중복"
   ]
  },
  {
   "cell_type": "code",
   "execution_count": 28,
   "metadata": {
    "collapsed": false
   },
   "outputs": [
    {
     "name": "stdout",
     "output_type": "stream",
     "text": [
      "10\n",
      "1\n",
      "16\n"
     ]
    },
    {
     "ename": "IndexError",
     "evalue": "20",
     "output_type": "error",
     "traceback": [
      "\u001b[1;31m---------------------------------------------------------------------------\u001b[0m",
      "\u001b[1;31mIndexError\u001b[0m                                Traceback (most recent call last)",
      "\u001b[1;32m<ipython-input-28-71695e0f4a74>\u001b[0m in \u001b[0;36m<module>\u001b[1;34m()\u001b[0m\n\u001b[0;32m     13\u001b[0m \u001b[1;32mprint\u001b[0m \u001b[0ms1\u001b[0m\u001b[1;33m[\u001b[0m\u001b[1;36m1\u001b[0m\u001b[1;33m]\u001b[0m\u001b[1;33m\u001b[0m\u001b[0m\n\u001b[0;32m     14\u001b[0m \u001b[1;32mprint\u001b[0m \u001b[0ms1\u001b[0m\u001b[1;33m[\u001b[0m\u001b[1;36m4\u001b[0m\u001b[1;33m]\u001b[0m\u001b[1;33m\u001b[0m\u001b[0m\n\u001b[1;32m---> 15\u001b[1;33m \u001b[1;32mprint\u001b[0m \u001b[0ms1\u001b[0m\u001b[1;33m[\u001b[0m\u001b[1;36m20\u001b[0m\u001b[1;33m]\u001b[0m\u001b[1;33m\u001b[0m\u001b[0m\n\u001b[0m",
      "\u001b[1;32m<ipython-input-28-71695e0f4a74>\u001b[0m in \u001b[0;36m__getitem__\u001b[1;34m(self, k)\u001b[0m\n\u001b[0;32m      6\u001b[0m     \u001b[1;32mdef\u001b[0m \u001b[0m__getitem__\u001b[0m\u001b[1;33m(\u001b[0m\u001b[0mself\u001b[0m\u001b[1;33m,\u001b[0m \u001b[0mk\u001b[0m\u001b[1;33m)\u001b[0m\u001b[1;33m:\u001b[0m\u001b[1;33m\u001b[0m\u001b[0m\n\u001b[0;32m      7\u001b[0m         \u001b[1;32mif\u001b[0m \u001b[0mk\u001b[0m \u001b[1;33m<\u001b[0m \u001b[1;36m0\u001b[0m \u001b[1;32mor\u001b[0m \u001b[0mself\u001b[0m\u001b[1;33m.\u001b[0m\u001b[0mend\u001b[0m \u001b[1;33m<=\u001b[0m \u001b[0mk\u001b[0m\u001b[1;33m:\u001b[0m\u001b[1;33m\u001b[0m\u001b[0m\n\u001b[1;32m----> 8\u001b[1;33m             \u001b[1;32mraise\u001b[0m \u001b[0mIndexError\u001b[0m\u001b[1;33m,\u001b[0m \u001b[0mk\u001b[0m\u001b[1;33m\u001b[0m\u001b[0m\n\u001b[0m\u001b[0;32m      9\u001b[0m         \u001b[1;32mreturn\u001b[0m \u001b[0mk\u001b[0m \u001b[1;33m*\u001b[0m \u001b[0mk\u001b[0m\u001b[1;33m\u001b[0m\u001b[0m\n\u001b[0;32m     10\u001b[0m \u001b[1;33m\u001b[0m\u001b[0m\n",
      "\u001b[1;31mIndexError\u001b[0m: 20"
     ]
    }
   ],
   "source": [
    "class Square:\n",
    "    def __init__(self, end):\n",
    "        self.end = end\n",
    "    def __len__(self):\n",
    "        return self.end\n",
    "    def __getitem__(self, k):\n",
    "        if k < 0 or self.end <= k:\n",
    "            raise IndexError, k\n",
    "        return k * k\n",
    "    \n",
    "s1 = Square(10)\n",
    "print len(s1)\n",
    "print s1[1]\n",
    "print s1[4]\n",
    "print s1[20]"
   ]
  },
  {
   "cell_type": "code",
   "execution_count": 30,
   "metadata": {
    "collapsed": false
   },
   "outputs": [
    {
     "name": "stdout",
     "output_type": "stream",
     "text": [
      "0 1 4 9 16 25 36 49 64 81\n"
     ]
    }
   ],
   "source": [
    "s1 = Square(10)\n",
    "for x in s1:\n",
    "    print x,   # 인덱스 에러가 나는 경우에는 for ~ in 구문이 정지하게 된다!!!!\n",
    "    "
   ]
  },
  {
   "cell_type": "code",
   "execution_count": 31,
   "metadata": {
    "collapsed": false
   },
   "outputs": [
    {
     "name": "stdout",
     "output_type": "stream",
     "text": [
      "[0, 1, 4, 9, 16, 25, 36, 49, 64, 81]\n",
      "(0, 1, 4, 9, 16, 25, 36, 49, 64, 81)\n"
     ]
    }
   ],
   "source": [
    "print list(s1)\n",
    "print tuple(s1)"
   ]
  },
  {
   "cell_type": "code",
   "execution_count": 32,
   "metadata": {
    "collapsed": false
   },
   "outputs": [
    {
     "name": "stdout",
     "output_type": "stream",
     "text": [
      "<__main__.MyDict instance at 0x0000000003D16808>\n",
      "light\n",
      "darkness\n",
      "2\n"
     ]
    }
   ],
   "source": [
    "class MyDict:\n",
    "    def __init__(self, d = None):\n",
    "        if d == None: d = {}\n",
    "        self.d = d\n",
    "    def __getitem__(self, k): #key\n",
    "        return self.d[k]\n",
    "    def __setitem__(self, k, v):\n",
    "        self.d[k] = v\n",
    "    def __len__(self):\n",
    "        return len(self.d)\n",
    "    \n",
    "m = MyDict()            #__init__호출\n",
    "m['day'] = 'light'      #__setitem__호출\n",
    "m['night'] = 'darkness' #__setitem__호출 \n",
    "print m\n",
    "print m['day']          #__getitem__호출\n",
    "print m['night']        #__getitem__호출\n",
    "print len(m)            #__len__호출"
   ]
  },
  {
   "cell_type": "code",
   "execution_count": 33,
   "metadata": {
    "collapsed": false
   },
   "outputs": [
    {
     "name": "stdout",
     "output_type": "stream",
     "text": [
      "['three', 'two', 'one']\n",
      "[3, 2, 1]\n",
      "[('three', 3), ('two', 2), ('one', 1)]\n"
     ]
    }
   ],
   "source": [
    "class MyDict:\n",
    "    def __init__(self, d=None):\n",
    "        if d == None: d = {}\n",
    "        self.d = d\n",
    "    def __getitem__(self, k):\n",
    "        return self.d[k]\n",
    "    def __setitem__(self, k, v):\n",
    "        self.d[k] = v\n",
    "    def __len__(self):\n",
    "        return len(self.d)\n",
    "    def keys(self):\n",
    "        return self.d.keys()\n",
    "    def values(self):\n",
    "        return self.d.values()\n",
    "    def items(self):\n",
    "        return self.d.items()\n",
    "    \n",
    "m = MyDict({'one':1, 'two':2, 'three':3})\n",
    "print m.keys()\n",
    "print m.values()\n",
    "print m.items()"
   ]
  },
  {
   "cell_type": "markdown",
   "metadata": {},
   "source": [
    "# 3 문장열 변환과 호출 가능 객체"
   ]
  },
  {
   "cell_type": "code",
   "execution_count": 35,
   "metadata": {
    "collapsed": false
   },
   "outputs": [
    {
     "name": "stdout",
     "output_type": "stream",
     "text": [
      "str called\n",
      "str called\n",
      "repr called\n",
      "repr called\n"
     ]
    }
   ],
   "source": [
    "class StringRepr:\n",
    "    def __repr__(self):\n",
    "        return 'repr called'\n",
    "    def __str__(self):\n",
    "        return 'str called'\n",
    "    \n",
    "s = StringRepr()\n",
    "print s\n",
    "print str(s)\n",
    "print repr(s)\n",
    "print `s`"
   ]
  },
  {
   "cell_type": "code",
   "execution_count": 36,
   "metadata": {
    "collapsed": false
   },
   "outputs": [
    {
     "name": "stdout",
     "output_type": "stream",
     "text": [
      "repr called\n",
      "repr called\n",
      "repr called\n",
      "repr called\n"
     ]
    }
   ],
   "source": [
    "class StringRepr:\n",
    "    def __repr__(self):\n",
    "        return 'repr called'\n",
    "    \n",
    "s = StringRepr()\n",
    "\n",
    "print s\n",
    "print repr(s)\n",
    "print str(s)\n",
    "print `s`"
   ]
  },
  {
   "cell_type": "code",
   "execution_count": 37,
   "metadata": {
    "collapsed": false
   },
   "outputs": [
    {
     "name": "stdout",
     "output_type": "stream",
     "text": [
      "str called\n",
      "<__main__.StringRepr instance at 0x0000000003D35388>\n",
      "str called\n",
      "<__main__.StringRepr instance at 0x0000000003D35388>\n"
     ]
    }
   ],
   "source": [
    "class StringRepr:\n",
    "    def __str__(self):\n",
    "        return 'str called'\n",
    "\n",
    "s = StringRepr()\n",
    "print s\n",
    "print repr(s)\n",
    "print str(s)\n",
    "print `s`"
   ]
  },
  {
   "cell_type": "code",
   "execution_count": 38,
   "metadata": {
    "collapsed": false
   },
   "outputs": [
    {
     "name": "stdout",
     "output_type": "stream",
     "text": [
      "15\n",
      "21\n",
      "45\n",
      "45\n"
     ]
    }
   ],
   "source": [
    "class Accumulator:\n",
    "    def __init__(self):\n",
    "        self.sum = 0\n",
    "    def __call__(self, *args):\n",
    "        self.sum += sum(args)\n",
    "        return self.sum\n",
    "    \n",
    "acc = Accumulator()\n",
    "print acc(1,2,3,4,5)\n",
    "print acc(6)\n",
    "print acc(7,8,9)\n",
    "print acc.sum"
   ]
  },
  {
   "cell_type": "code",
   "execution_count": 41,
   "metadata": {
    "collapsed": false
   },
   "outputs": [
    {
     "name": "stdout",
     "output_type": "stream",
     "text": [
      "callable\n",
      "not callable\n",
      "\n",
      "True\n",
      "False\n",
      "\n",
      "True\n",
      "True\n"
     ]
    }
   ],
   "source": [
    "def check(func):\n",
    "    if callable(func):\n",
    "        print 'callable'\n",
    "    else:\n",
    "        print 'not callable'\n",
    "        \n",
    "class B:\n",
    "    def func(self, v):\n",
    "        return v\n",
    "class A:\n",
    "    def __call__(self, v):\n",
    "        return v\n",
    "    \n",
    "    \n",
    "a = A()\n",
    "b = B()\n",
    "check(a)\n",
    "check(b)\n",
    "print \n",
    "print callable(a)\n",
    "print callable(b)\n",
    "print \n",
    "\n",
    "print callable(A)\n",
    "print callable(B)"
   ]
  },
  {
   "cell_type": "code",
   "execution_count": null,
   "metadata": {
    "collapsed": true
   },
   "outputs": [],
   "source": []
  }
 ],
 "metadata": {
  "kernelspec": {
   "display_name": "Python [Root]",
   "language": "python",
   "name": "Python [Root]"
  },
  "language_info": {
   "codemirror_mode": {
    "name": "ipython",
    "version": 2
   },
   "file_extension": ".py",
   "mimetype": "text/x-python",
   "name": "python",
   "nbconvert_exporter": "python",
   "pygments_lexer": "ipython2",
   "version": "2.7.12"
  }
 },
 "nbformat": 4,
 "nbformat_minor": 0
}
