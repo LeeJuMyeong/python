{
 "cells": [
  {
   "cell_type": "code",
   "execution_count": null,
   "metadata": {
    "collapsed": true
   },
   "outputs": [],
   "source": [
    "#File : mymath.py\n",
    "mypi = 3.14\n",
    "\n",
    "def add(a, b):\n",
    "    return a + b\n",
    "\n",
    "def area(r):\n",
    "    return mypi * r * r"
   ]
  },
  {
   "cell_type": "code",
   "execution_count": null,
   "metadata": {
    "collapsed": true
   },
   "outputs": [],
   "source": []
  }
 ],
 "metadata": {
  "anaconda-cloud": {}
 },
 "nbformat": 4,
 "nbformat_minor": 0
}
