{
 "cells": [
  {
   "cell_type": "markdown",
   "metadata": {},
   "source": [
    "# Assignment 1  \n",
    "----------------  \n",
    "  \n",
    "2011136093 이주명  \n",
    "  \n",
    "  "
   ]
  },
  {
   "cell_type": "markdown",
   "metadata": {
    "collapsed": true
   },
   "source": [
    "### 문제\n",
    "------------------------\n",
    "- a=\"Hello Python\" 문자열을 Slicing과 연결 연산자 (+)를 사용하여 \"Python Hello\"로 변경하시오.   \n",
    "\n",
    "    [주의] a 변수 자체에 \"Python Hello\" 문자열이 저장되어야함  \n",
    "    "
   ]
  },
  {
   "cell_type": "code",
   "execution_count": 3,
   "metadata": {
    "collapsed": false
   },
   "outputs": [
    {
     "name": "stdout",
     "output_type": "stream",
     "text": [
      "Python Hello\n"
     ]
    }
   ],
   "source": [
    "a = \"Hello Python\"\n",
    "a = a[6:] + a[5:6] + a[0:5]\n",
    "print a"
   ]
  },
  {
   "cell_type": "markdown",
   "metadata": {},
   "source": [
    "-----------------\n",
    "### 설명  \n",
    "  \n",
    "  위의 a를 리스트 처럼 Slicing을 사용하여 a를 삼등분하여, a를 재배열 해놓았습니다.  \n",
    "  a[6:]은 a를 6번째부터 끝까지 값을 리스트형태로 뽑고, a[5:6]은 a를 5번째에 놓은 값을 뽑게 되고, a[0:5]는 a를 0번째부터 5번째 값 전까지 빼서 다시 a에 저장하고, a를 출력했습니다."
   ]
  },
  {
   "cell_type": "markdown",
   "metadata": {},
   "source": [
    "--------------------------------  \n",
    "- b=\"Hello Python World\" 문자열을 Slicing과 연결 연산자 (+)를 사용하여 \"World Python Hello\"로 변경하시오.   \n",
    "\n",
    "    [주의] b 변수 자체에 \"Python Hello\" 문자열이 저장되어야 함  \n"
   ]
  },
  {
   "cell_type": "code",
   "execution_count": 16,
   "metadata": {
    "collapsed": false
   },
   "outputs": [
    {
     "name": "stdout",
     "output_type": "stream",
     "text": [
      "World Python Hello\n"
     ]
    }
   ],
   "source": [
    "b = \"Hello Python World\"\n",
    "b = b[-5:] + b[5:12] + b[-6:-5] + b[:5]\n",
    "print b"
   ]
  },
  {
   "cell_type": "markdown",
   "metadata": {},
   "source": [
    "-----------------\n",
    "### 설명  \n",
    "  \n",
    "  위의 문제인 a와 유사하게 b를 Slicing하여 4등분한 후, b에 다시 저장하였습니다.   \n",
    "  a와 조금 다른 점은 b[-5:]와 b[-6:-5]입니다. b[-5:]는 -5번째 위치, 즉 뒤에서 5번째 있는 값을 뜻하며, b[13:]와 같습니다. b[-6:-5]는 마찬가지로 뒤에서 6번째의 값부터 7번째 전까지를 뜻하게 됩니다.  "
   ]
  },
  {
   "cell_type": "markdown",
   "metadata": {},
   "source": [
    "-------------------  \n",
    "- c=\"Hello\"를 \"olleH\"로 변경하시오.  \n",
    "  \n",
    "    [주의] c 변수 자체에 \"olleH\" 문자열이 저장되어야 함"
   ]
  },
  {
   "cell_type": "code",
   "execution_count": 19,
   "metadata": {
    "collapsed": false
   },
   "outputs": [
    {
     "name": "stdout",
     "output_type": "stream",
     "text": [
      "olleH\n"
     ]
    }
   ],
   "source": [
    "c = \"Hello\"\n",
    "c = c[::-1]\n",
    "print c"
   ]
  },
  {
   "cell_type": "markdown",
   "metadata": {},
   "source": [
    "-----------------\n",
    "### 설명  \n",
    "  \n",
    "  이 문제는 Slicing의 step 부분을 -1로 설정하여 거꾸로 저장시킨 것입니다. Slicing에는 [start:stop:step]으로 나누어지게 되는데, step은 위 문제에서는 step이 전부 디폴드 값이 1로 설정되어 있어서 처음부터 끝까지 1개씩 값을 얻었다면, 이 문제에서는 step을 -1로 지정하면서, 값을 처음부터 끝까지 반대로 1개씩 증가시키며 값을 얻기 때문에 거꾸로 값들이 저장되게 됩니다.  "
   ]
  },
  {
   "cell_type": "markdown",
   "metadata": {},
   "source": [
    "-----------------------  \n",
    "- s=\"python\"에 대해 다음 문제를 풀어보시오.  \n",
    "  \n",
    "    1. s[0], s[0][0], s[0][0][0]은 각각 어떤 값이 나오는지 확인하고 그 이유를 나름대로 설명해보시오.  \n"
   ]
  },
  {
   "cell_type": "code",
   "execution_count": 26,
   "metadata": {
    "collapsed": false,
    "scrolled": true
   },
   "outputs": [
    {
     "name": "stdout",
     "output_type": "stream",
     "text": [
      "p p p\n"
     ]
    }
   ],
   "source": [
    "s = \"python\"\n",
    "print s[0], s[0][0], s[0][0][0]"
   ]
  },
  {
   "cell_type": "markdown",
   "metadata": {},
   "source": [
    "### 설명  \n",
    "\n",
    "> 위의 문제에 따라 값을 출력해보니 위와 같은 값이 나왔습니다.  \n",
    ">\n",
    "> 이 결과로 유추해보면, s[0],s[1],s[2] 등등으로 변수 s를 배열과 같이 사용할 수 있다는 점과 s[0][0], s[0][0][0]은 s[0]으로 취급된다는 점입니다.  \n",
    ">\n",
    "> 그리고 s[1][0]과 s[0][1]도 출력해보았습니다.   "
   ]
  },
  {
   "cell_type": "code",
   "execution_count": 28,
   "metadata": {
    "collapsed": false
   },
   "outputs": [
    {
     "name": "stdout",
     "output_type": "stream",
     "text": [
      " y"
     ]
    },
    {
     "ename": "IndexError",
     "evalue": "string index out of range",
     "output_type": "error",
     "traceback": [
      "\u001b[1;31m---------------------------------------------------------------------------\u001b[0m",
      "\u001b[1;31mIndexError\u001b[0m                                Traceback (most recent call last)",
      "\u001b[1;32m<ipython-input-28-0b2ae1bb6ff9>\u001b[0m in \u001b[0;36m<module>\u001b[1;34m()\u001b[0m\n\u001b[1;32m----> 1\u001b[1;33m \u001b[1;32mprint\u001b[0m \u001b[0ms\u001b[0m\u001b[1;33m[\u001b[0m\u001b[1;36m1\u001b[0m\u001b[1;33m]\u001b[0m\u001b[1;33m[\u001b[0m\u001b[1;36m0\u001b[0m\u001b[1;33m]\u001b[0m\u001b[1;33m,\u001b[0m \u001b[0ms\u001b[0m\u001b[1;33m[\u001b[0m\u001b[1;36m0\u001b[0m\u001b[1;33m]\u001b[0m\u001b[1;33m[\u001b[0m\u001b[1;36m1\u001b[0m\u001b[1;33m]\u001b[0m\u001b[1;33m\u001b[0m\u001b[0m\n\u001b[0m",
      "\u001b[1;31mIndexError\u001b[0m: string index out of range"
     ]
    }
   ],
   "source": [
    "print s[1][0], s[0][1]"
   ]
  },
  {
   "cell_type": "markdown",
   "metadata": {},
   "source": [
    "> 이를 통해 s[n][0](n은 현재 배열의 크기)와 s[n][0][0]은 사용 가능하다는 점입니다.  \n",
    "> \n",
    "> 제 생각은 []에 있는 수는 그 안에 가르키고 있는 배열의 위치를 나타내는 포인트와 같은 것으로, 만약 포인트의 이동하고 모든 이동이 끝났고 그 위치에 적합한 값이 존재한다면 오류는 만들지 않는 것 같습니다.\n",
    "> \n",
    "> 위의 예시에서는 s[0][0][0]는 이동이 0과 같고 s[0]도 이와 같기 때문에 에러가 없는 것 같습니다. "
   ]
  },
  {
   "cell_type": "markdown",
   "metadata": {},
   "source": [
    "--------------------------  \n",
    "    2. s[-100], s[100]은 값이 나오는지 에러가 나오는지 확인하고 그 결과에 대한 이유를 나름대로 설명해 보시오.  "
   ]
  },
  {
   "cell_type": "code",
   "execution_count": 31,
   "metadata": {
    "collapsed": false
   },
   "outputs": [
    {
     "ename": "IndexError",
     "evalue": "string index out of range",
     "output_type": "error",
     "traceback": [
      "\u001b[1;31m---------------------------------------------------------------------------\u001b[0m",
      "\u001b[1;31mIndexError\u001b[0m                                Traceback (most recent call last)",
      "\u001b[1;32m<ipython-input-31-5c4acd734c2b>\u001b[0m in \u001b[0;36m<module>\u001b[1;34m()\u001b[0m\n\u001b[1;32m----> 1\u001b[1;33m \u001b[1;32mprint\u001b[0m \u001b[0ms\u001b[0m\u001b[1;33m[\u001b[0m\u001b[1;33m-\u001b[0m\u001b[1;36m100\u001b[0m\u001b[1;33m]\u001b[0m\u001b[1;33m,\u001b[0m \u001b[0ms\u001b[0m\u001b[1;33m[\u001b[0m\u001b[1;36m100\u001b[0m\u001b[1;33m]\u001b[0m\u001b[1;33m\u001b[0m\u001b[0m\n\u001b[0m",
      "\u001b[1;31mIndexError\u001b[0m: string index out of range"
     ]
    }
   ],
   "source": [
    "print s[-100], s[100]"
   ]
  },
  {
   "cell_type": "markdown",
   "metadata": {},
   "source": [
    "### 설명\n",
    "\n",
    "> s의 변수가 지정한 객체가 지니고 있는 범위를 넘는 수를 출력하려하기 때문에 에러가 나오는 것 같습니다.  "
   ]
  },
  {
   "cell_type": "markdown",
   "metadata": {},
   "source": [
    "---------------  \n",
    "    3. s[-100, 100]은 값이 나오는지 에러가 나오는 지 확인하고 그 결과에 대한 이유를 나름대로 설명해 보시오.    "
   ]
  },
  {
   "cell_type": "code",
   "execution_count": 33,
   "metadata": {
    "collapsed": false
   },
   "outputs": [
    {
     "ename": "TypeError",
     "evalue": "string indices must be integers, not tuple",
     "output_type": "error",
     "traceback": [
      "\u001b[1;31m---------------------------------------------------------------------------\u001b[0m",
      "\u001b[1;31mTypeError\u001b[0m                                 Traceback (most recent call last)",
      "\u001b[1;32m<ipython-input-33-682bda7d6434>\u001b[0m in \u001b[0;36m<module>\u001b[1;34m()\u001b[0m\n\u001b[1;32m----> 1\u001b[1;33m \u001b[1;32mprint\u001b[0m \u001b[0ms\u001b[0m\u001b[1;33m[\u001b[0m\u001b[1;33m-\u001b[0m\u001b[1;36m100\u001b[0m\u001b[1;33m,\u001b[0m \u001b[1;36m100\u001b[0m\u001b[1;33m]\u001b[0m\u001b[1;33m\u001b[0m\u001b[0m\n\u001b[0m",
      "\u001b[1;31mTypeError\u001b[0m: string indices must be integers, not tuple"
     ]
    }
   ],
   "source": [
    "print s[-100, 100]"
   ]
  },
  {
   "cell_type": "markdown",
   "metadata": {},
   "source": [
    "### 설명\n",
    "\n",
    "> 위의 오류는 [] 내부에 , 이 있기때문인것 같습니다. 슬라이싱하려는 [] 내부에는 : 이나 숫자 이외 값이 들어가면 안되는 것 같습니다.  \n",
    ">  만일 슬라이싱이 아닌 리스트 형으로 사용한다면, s = [-100, 100]과 같은 형식으로 써야한다고 생각합니다.  "
   ]
  },
  {
   "cell_type": "markdown",
   "metadata": {},
   "source": [
    "--------------------\n",
    "    4. s[1:-1]의 결과를 확인하고 그 결과에 대한 이유를 정확하게 설명하시오.  "
   ]
  },
  {
   "cell_type": "code",
   "execution_count": 40,
   "metadata": {
    "collapsed": false
   },
   "outputs": [
    {
     "name": "stdout",
     "output_type": "stream",
     "text": [
      "ytho\n"
     ]
    }
   ],
   "source": [
    "print s[1:-1]"
   ]
  },
  {
   "cell_type": "markdown",
   "metadata": {},
   "source": [
    "### 설명\n",
    "\n",
    "> s를 리스트 형태로 보면, s[0]=p, s[1]=y, s[2]=t, s[3]=h, s[4]=o, s[5]=n 으로 나타낼 수 있습니다.  \n",
    ">\n",
    "> 그리고 s[1:-1]는 s의 내부 값을 배열과 같이 봤을 때, s의 1번째 있는 값(y)부터 s의 -1번째 있는 값(n) 전까지를 뜻 합니다.   \n",
    "> s[1:-1]의 정확한 형태는 s[1:-1:1] 로 1씩 증가한다는 step이 생략되있는 형태입니다.  \n",
    "> \n",
    "> 또한, s[-1]은 리스트를 뒤에서 숫자를 나타낼 때, 음수로 쓰이게 됩니다. 그러므로 s[-1]은 위치상 s[5]에 해당하게 됩니다. \n",
    "> \n",
    "> 그러므로 \"python\"에서 \"yhon\"이 출력됩니다. "
   ]
  },
  {
   "cell_type": "markdown",
   "metadata": {},
   "source": [
    "--------------------\n",
    "    5. s[3:-3]의 결과를 확인하고 그 결과에 대한 이유를 정확하게 설명하시오.  "
   ]
  },
  {
   "cell_type": "code",
   "execution_count": 43,
   "metadata": {
    "collapsed": false
   },
   "outputs": [
    {
     "name": "stdout",
     "output_type": "stream",
     "text": [
      "\n"
     ]
    }
   ],
   "source": [
    "print s[3:-3]"
   ]
  },
  {
   "cell_type": "markdown",
   "metadata": {},
   "source": [
    "### 설명  \n",
    "\n",
    "> 값이 나오지 않은 이유는 \"python\"에서 3번째 위치의 값은 t이고 -3번째 위치의 값은 h이입니다.  \n",
    "> 이 또한 step = 1을 생략한 것이며, s[3:-3]을 달리 표현하자면, s[3:4]가 됩니다.\n",
    ">\n",
    "> 그러므로 s[3:-3]은 값이 없는 것으로 나오게 됩니다."
   ]
  },
  {
   "cell_type": "markdown",
   "metadata": {},
   "source": [
    "-------------------------------\n",
    "- for문을 활용하여 1부터 100사이의 홀수를 출력하시오.  "
   ]
  },
  {
   "cell_type": "code",
   "execution_count": 47,
   "metadata": {
    "collapsed": false
   },
   "outputs": [
    {
     "name": "stdout",
     "output_type": "stream",
     "text": [
      "1 3 5 7 9 11 13 15 17 19 21 23 25 27 29 31 33 35 37 39 41 43 45 47 49 51 53 55 57 59 61 63 65 67 69 71 73 75 77 79 81 83 85 87 89 91 93 95 97 99\n"
     ]
    }
   ],
   "source": [
    "for x in range(1,100,2):\n",
    "    print x,"
   ]
  },
  {
   "cell_type": "markdown",
   "metadata": {},
   "source": [
    "-----------------\n",
    "### 설명  \n",
    "  \n",
    "  1부터 100사이의 홀수를 출력해야하기 때문에 range에서 시작과 끝을 1에서 100으로 지정하고, 간격을 2로 설정하여 모든 값들을 출력하였습니다."
   ]
  },
  {
   "cell_type": "markdown",
   "metadata": {},
   "source": [
    "-----------------  \n",
    "- while문을 활용하여 1부터 100사이의 짝수의 합을 계산하여 출력하시오.  "
   ]
  },
  {
   "cell_type": "code",
   "execution_count": 51,
   "metadata": {
    "collapsed": false
   },
   "outputs": [
    {
     "name": "stdout",
     "output_type": "stream",
     "text": [
      "2450\n"
     ]
    }
   ],
   "source": [
    "y = 1 \n",
    "sum = 0\n",
    "while y < 100:\n",
    "    if (y % 2 == 0):\n",
    "        #print y, sum\n",
    "        sum += y\n",
    "    y += 1;\n",
    "print sum"
   ]
  },
  {
   "cell_type": "markdown",
   "metadata": {},
   "source": [
    "-----------------\n",
    "### 설명  \n",
    "  \n",
    "  while문을 사용하여 1부터 100사이의 짝수의 합을 구하기 위해서, 먼저 while문을 변수 y(y=1)를 넣고, 범위를 100 미만으로 지정하고, while 문 내부에는 조건문 if를 넣고, y % 2 == 0의 조건을 넣어서 y가 2로 나누어 떨어지는 값들(2로 나누어 떨어지는 값들은 모두 2의 배수, 즉 짝수들)을 전부 찾아서 sum이라는 변수에 저장하게 되고, 그 sum을 마지막에 출력합니다."
   ]
  },
  {
   "cell_type": "markdown",
   "metadata": {},
   "source": [
    "----------------  \n",
    "- 사용자로 부터 임의의 정수를 입력받고, 해당 숫자를 역순으로 출력하는 프로그램을 작성하시오.  \n",
    "  \n",
    "  [실행 예]\n",
    "      정수를 입력하세요: 3125\n",
    "      숫자 역순은 5213 입니다."
   ]
  },
  {
   "cell_type": "code",
   "execution_count": 5,
   "metadata": {
    "collapsed": false
   },
   "outputs": [
    {
     "name": "stdout",
     "output_type": "stream",
     "text": [
      "정수를 입력하세요: 3125\n",
      "\n",
      "숫자 역순은 5213입니다.\n"
     ]
    }
   ],
   "source": [
    "print \"정수를 입력하세요: \",\n",
    "z = raw_input()\n",
    "z = z[::-1]\n",
    "print\n",
    "print \"숫자 역순은 \" + z + \"입니다.\" "
   ]
  },
  {
   "cell_type": "markdown",
   "metadata": {},
   "source": [
    "-----------------\n",
    "### 설명  \n",
    "  \n",
    " 예시에서 말하듯이 사용자로 부터 임의의 정수를 입력받기 위해서는 raw_input()를 사용하여 입력창 나타내게 하였습니다. 그리고 그 입력창에 입력한 값을 z에 저장한 후, 그 값을 위의 문제에서 사용하였듯이, 거꾸러 Slicing하면 z가 역순으로 출력되게 됩니다."
   ]
  },
  {
   "cell_type": "markdown",
   "metadata": {},
   "source": [
    "-------------------------  \n",
    "- 사용자로부터 정수를 입력받아서 1부터 그 사이에 존재하는 소수(Prime number)를 출력하는 파이썬 프로그램을 작성하시오.  \n"
   ]
  },
  {
   "cell_type": "code",
   "execution_count": 46,
   "metadata": {
    "collapsed": false
   },
   "outputs": [
    {
     "name": "stdout",
     "output_type": "stream",
     "text": [
      " 정수를 입력하세요: 100\n",
      "\n",
      "2 3 5 7 11 13 17 19 23 29 31 37 41 43 47 53 59 61 67 71 73 79 83 89 97\n"
     ]
    }
   ],
   "source": [
    "def getPrime(n):\n",
    "    if n == 2:\n",
    "        return n\n",
    "    for x in range(2, n):\n",
    "        if n % x ==  0:\n",
    "            return 0\n",
    "    return n\n",
    "\n",
    "print \"정수를 입력하세요: \",\n",
    "p = raw_input()\n",
    "p = int(p)\n",
    "print \n",
    "for x in range(1, p):\n",
    "    if x == 1:\n",
    "        continue\n",
    "    if (getPrime(x) == x):\n",
    "        print x,\n",
    "    x += 1;"
   ]
  },
  {
   "cell_type": "markdown",
   "metadata": {},
   "source": [
    "-----------------\n",
    "### 설명  \n",
    "\n",
    "  바로 위의 문제처럼 raw_input()을 사용하여 사용자로부터 정수를 입력받습니다. 단, 이때 사용자로부터 얻는 값은 정수형태를 받았을 뿐 type이 정수인것은 아니므로 int()을 사용하여 정수로 type을 변환을 시켜줍니다. 그리고 그 값을 마지막 범위로 지정하여 for문을 지정합니다. 그리고 x를 1씩 증가시키면서 getPrime() 함수에 값을 보내고 그 값을 비교하여 소수를 찾습니다. 이때, getPrime()는 소수를 찾는 함수로 방식은 반복문인 for문을 사용하여, n보다 작은 값(x)을 사용하여, n과 x의 나머지를 통해서 소수인지 아닌지를 확인합니다. 그리고 그러한 일련의 과정이 끝나면, 소수면 n값이 리턴되고, 아니면 0값이 리턴되어 소수는 출력하게됩니다. 이 과정을 반복하게 되면 됩니다."
   ]
  },
  {
   "cell_type": "markdown",
   "metadata": {
    "collapsed": true
   },
   "source": [
    "-------------  \n",
    "[프로젝트 오일러 문제 1]  \n",
    "\n",
    "10보다 작은 자연수 중에서 3 또는 5의 배수는 3, 5, 6, 9 이고, 이것을 모두 더하면 23입니다.  \n",
    "  \n",
    "1000보다 작은 자연수 중에서 3 또는 5의 배수를 모두 더하면 얼마일까요?  "
   ]
  },
  {
   "cell_type": "code",
   "execution_count": 51,
   "metadata": {
    "collapsed": false
   },
   "outputs": [
    {
     "name": "stdout",
     "output_type": "stream",
     "text": [
      "233168\n"
     ]
    }
   ],
   "source": [
    "n = 1000\n",
    "sum = 0\n",
    "for x in range(1, n):\n",
    "    if (x % 3) == 0:\n",
    "        # print x,\n",
    "        sum += x\n",
    "    elif (x % 5) == 0:\n",
    "        # print x,\n",
    "        sum += x\n",
    "print sum"
   ]
  },
  {
   "cell_type": "markdown",
   "metadata": {},
   "source": [
    "-----------------\n",
    "### 설명   \n",
    "\n",
    "  일단 범위가 1부터 1000보다 작은 자연수이기 때문에 for문에 range를 1부터 1000까지로 지정합니다. 그리고 if문과 elif문을 사용하여 x를 3으로 나누어 떨어지는 수거나 또는 x를 5로 나누어 떨어지는 수들을 sum에 더합니다. 그리고 sum을 출력합니다."
   ]
  },
  {
   "cell_type": "markdown",
   "metadata": {},
   "source": [
    "--------------  \n",
    "[프로젝트 오일러 문제 2]  \n",
    "  \n",
    "피보나치 수열의 각 항은 바로 앞의 항 두 개를 더한 것이 됩니다. 1과 2로 시작하는 경우 이 수열은 아래와 같습니다.  \n",
    "  \n",
    "1, 2, 3, 5, 8, 13, 21, 34, 55, 89, ...  \n",
    "짝수이면서 4백만 이하인 모든 항을 더하면 얼마가 됩니까?  \n"
   ]
  },
  {
   "cell_type": "code",
   "execution_count": 8,
   "metadata": {
    "collapsed": false
   },
   "outputs": [
    {
     "name": "stdout",
     "output_type": "stream",
     "text": [
      "2 8 34 144 610 2584 10946 46368 196418 832040 3524578\n",
      "4613732\n"
     ]
    }
   ],
   "source": [
    "a = 0\n",
    "b = 1\n",
    "c = 0\n",
    "pibo_sum = 0\n",
    "while (c <= 4000000):\n",
    "    c = a + b\n",
    "    # print c,\n",
    "    if c % 2 == 0:\n",
    "        print c,\n",
    "        pibo_sum += c\n",
    "    a, b = b, c\n",
    "\n",
    "print \n",
    "print pibo_sum    "
   ]
  },
  {
   "cell_type": "markdown",
   "metadata": {},
   "source": [
    "-----------------\n",
    "### 설명   \n",
    "\n",
    " 먼저, 반복문의 범위를 4백만 이하의 모든 항이기 때문에, 4백만이하로 까지를 범위로 지정합니다. 그리고 피보나치 수열은 위 문제에 설명처럼 바로 앞의 항 두 개를 더한 것이므로, c를 앞 두 개를 더한 항으로 생각하고, a, b를 각 각 처음 항과 다음 항으로 생각합니다. 그렇게 하여 값을 지정한 후, if문을 사용하여 짝수인 것만을 더해야하기 때문에 조건문 if에 c를 2로 나눈 나머지가 0으로 나오는 값들만을 pibo_sum에 더합니다. 그리고 반복문이 끝난 후, 값을 출력합니다. "
   ]
  },
  {
   "cell_type": "markdown",
   "metadata": {},
   "source": [
    "------------- \n",
    "[프로젝트 오일러 문제 3]  \n",
    "  \n",
    "어떤 수를 소수의 곱으로만 나타내는 것을 소인수분해라 하고, 이 소수들을 그 수의 소인수라고 합니다.  \n",
    "예를 들면 13195의 소인수는 5, 7, 13, 29 입니다.  \n",
    "  \n",
    "600851475143의 소인수 중에서 가장 큰 수를 구하세요.  "
   ]
  },
  {
   "cell_type": "code",
   "execution_count": 9,
   "metadata": {
    "collapsed": false
   },
   "outputs": [
    {
     "name": "stdout",
     "output_type": "stream",
     "text": [
      "6857\n"
     ]
    }
   ],
   "source": [
    "def getPrimeBig(n):\n",
    "    x = 2\n",
    "    prime_big = []\n",
    "    \n",
    "    while 1:\n",
    "        if (n == x):\n",
    "            prime_big += [x]            \n",
    "            # print prime_big\n",
    "            return prime_big\n",
    "        if (n % x == 0):\n",
    "            n = n / x\n",
    "            prime_big += [x]\n",
    "            x = 1\n",
    "        x += 1\n",
    "\n",
    "f = 600851475143\n",
    "\n",
    "print max(getPrimeBig(f))\n"
   ]
  },
  {
   "cell_type": "markdown",
   "metadata": {},
   "source": [
    "-----------------\n",
    "### 설명  \n",
    "\n",
    " 일단 소인수분해를 하고 싶은 수(f)를 저장한 후, 그 값을 함수에 보냅니다. 그리고 그 수의 소인수가 나오지 않을 때까지 수(n)를 확인해야하기 때문에, 무한 반복문을 사용합니다. 그리고 두번째 if문에서 n이 나누어 떨어지는 수(x)를 확인하고, if문에서 확인되면 그 n 값을 x로 나누어 몫만을 n에 저장합니다. 그리고 x는 prime_big 리스트에 저장합니다. 그리고 다시 x를 2로 만들고(x=1로 하지만 if문을 빠져나가면 바로 2로 됨) 이 과정을 반복하게 됩니다. 그렇게 소인수들을 전부 찾고나면 결과적으로 n과 x는 같게되고 그렇게 되면 그 마지막 남은 수를 prime_big 리스트에 저장하고, prime_big 리스는 리터하게 됩니다. 그 후, 리턴된 리스트를 max()를 이용하여 그 소인수들 중에서 가장 큰 수를 확인한 후 출력합니다. "
   ]
  },
  {
   "cell_type": "markdown",
   "metadata": {},
   "source": [
    "-----------  \n",
    "## 숙제이후 소감  \n",
    "    \n",
    " 처음으로 스크립트 과제를 한 후, 마지막 들었던 생각은 좀 어렵다는 것이였습니다. 일단, 처음에는 아주 쉬운 문제로 시작하지만, 밑으로 내려가면 갈수록 난해하고, 수학적 지식이 없으면 풀 수 없는 문제가 나왔기 때문입니다.    \n",
    "  \n",
    " 하지만 문제가 쉬운 문제부터 어려운 문제까지 수준이 점점 올라가면서 깊게 생각할 수 있게 해주었고, 저 나름대로 문제의 답에 대해서 해결책을 찾아가 보니 점점 재미가 있었습니다.  \n",
    "   \n",
    " 그리고 수업으로 사용하는 python이라는 언어 자체는 정말 마음에 들었습니다. 하면 할 수록 C 나 JAVA 보다 더 깔끔하고 편리하다는 게 느껴졌습니다. 아직 실력은 그닥이지만, 점점 실력을 키우고 싶어지는 언어입니다.  \n",
    "   \n",
    "  다음은 어떤 문제가 나올 지 좀 걱정도 되지만 기대도 됩니다. 수고하셨습니다. "
   ]
  }
 ],
 "metadata": {
  "anaconda-cloud": {},
  "kernelspec": {
   "display_name": "Python [Root]",
   "language": "python",
   "name": "Python [Root]"
  },
  "language_info": {
   "codemirror_mode": {
    "name": "ipython",
    "version": 2
   },
   "file_extension": ".py",
   "mimetype": "text/x-python",
   "name": "python",
   "nbconvert_exporter": "python",
   "pygments_lexer": "ipython2",
   "version": "2.7.12"
  }
 },
 "nbformat": 4,
 "nbformat_minor": 0
}
