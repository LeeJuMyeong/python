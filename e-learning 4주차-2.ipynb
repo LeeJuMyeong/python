{
 "cells": [
  {
   "cell_type": "markdown",
   "metadata": {},
   "source": [
    "# 6. 제어문과 함수 기초"
   ]
  },
  {
   "cell_type": "markdown",
   "metadata": {},
   "source": [
    "## 1 파이썬 제어문"
   ]
  },
  {
   "cell_type": "code",
   "execution_count": 10,
   "metadata": {
    "collapsed": false
   },
   "outputs": [
    {
     "name": "stdout",
     "output_type": "stream",
     "text": [
      "1 2 1 10 20 10 200\n"
     ]
    }
   ],
   "source": [
    "# a = 1 과 b = 2는 같은 블록에 있어야만 한다. 아니면 error가 난다!!!\n",
    "# 강제 들여쓰기!!!\n",
    "a = 1\n",
    "b = 2\n",
    "# 블록을 새롭게 시작하면 들여쓰기가 반드시 들어가야함\n",
    "if a < 10:\n",
    "    c = 1\n",
    "    d = 10\n",
    "    e = 20\n",
    "    if b > 10:\n",
    "        f = 10\n",
    "    g = 10\n",
    "    t = 200\n",
    "print a, b, c, d, e, g, t # 같은 레벨의 statement가 총 4개가 된다!!!"
   ]
  },
  {
   "cell_type": "code",
   "execution_count": 11,
   "metadata": {
    "collapsed": false
   },
   "outputs": [
    {
     "name": "stdout",
     "output_type": "stream",
     "text": [
      "Congratulation!!\n"
     ]
    }
   ],
   "source": [
    "score = 90\n",
    "if score >= 90:\n",
    "    print 'Congratulation!!'"
   ]
  },
  {
   "cell_type": "code",
   "execution_count": 14,
   "metadata": {
    "collapsed": false
   },
   "outputs": [
    {
     "name": "stdout",
     "output_type": "stream",
     "text": [
      "Big\n"
     ]
    }
   ],
   "source": [
    "a = 10\n",
    "if a > 5:\n",
    "    print 'Big';\n",
    "else:\n",
    "    print 'Small';\n",
    "    "
   ]
  },
  {
   "cell_type": "code",
   "execution_count": 15,
   "metadata": {
    "collapsed": false
   },
   "outputs": [
    {
     "name": "stdout",
     "output_type": "stream",
     "text": [
      "Negative\n"
     ]
    }
   ],
   "source": [
    "n = -2\n",
    "if n > 0:\n",
    "    print 'Positive'\n",
    "elif n < 0:\n",
    "    print 'Negative'\n",
    "else :\n",
    "    print 'Zero'"
   ]
  },
  {
   "cell_type": "code",
   "execution_count": 17,
   "metadata": {
    "collapsed": false
   },
   "outputs": [
    {
     "name": "stdout",
     "output_type": "stream",
     "text": [
      "900\n"
     ]
    }
   ],
   "source": [
    "order = 'spagetti'\n",
    "\n",
    "if order == 'spam':\n",
    "    price = 500\n",
    "elif order == 'ham':\n",
    "    price = 700\n",
    "elif order == 'egg':\n",
    "    price = 300\n",
    "elif order == 'spagetti':\n",
    "    price = 900\n",
    "\n",
    "print price"
   ]
  },
  {
   "cell_type": "code",
   "execution_count": 18,
   "metadata": {
    "collapsed": false
   },
   "outputs": [
    {
     "name": "stdout",
     "output_type": "stream",
     "text": [
      "900\n"
     ]
    }
   ],
   "source": [
    "order = 'spagetti'\n",
    "\n",
    "menu = { 'spam' : 500, 'ham' : 700, 'egg' : 300, 'spagetti': 900}\n",
    "price = menu[order]\n",
    "\n",
    "print price"
   ]
  },
  {
   "cell_type": "code",
   "execution_count": 19,
   "metadata": {
    "collapsed": false
   },
   "outputs": [
    {
     "name": "stdout",
     "output_type": "stream",
     "text": [
      "3 cat\n",
      "3 cow\n",
      "5 tiger\n"
     ]
    }
   ],
   "source": [
    "a = ['cat', 'cow', 'tiger']\n",
    "for x in a:\n",
    "    print len(x), x"
   ]
  },
  {
   "cell_type": "code",
   "execution_count": 20,
   "metadata": {
    "collapsed": false
   },
   "outputs": [
    {
     "name": "stdout",
     "output_type": "stream",
     "text": [
      "1\n",
      "2\n",
      "3\n"
     ]
    }
   ],
   "source": [
    "for x in [1,2,3]:\n",
    "    print x"
   ]
  },
  {
   "cell_type": "code",
   "execution_count": 22,
   "metadata": {
    "collapsed": false
   },
   "outputs": [
    {
     "name": "stdout",
     "output_type": "stream",
     "text": [
      "[0, 1, 2, 3, 4, 5, 6, 7, 8, 9]\n",
      "0 1 2 3 4 5 6 7 8 9\n"
     ]
    }
   ],
   "source": [
    "print range(10)\n",
    "\n",
    "for x in range(10):\n",
    "    print x,"
   ]
  },
  {
   "cell_type": "code",
   "execution_count": 23,
   "metadata": {
    "collapsed": false
   },
   "outputs": [
    {
     "name": "stdout",
     "output_type": "stream",
     "text": [
      "55\n"
     ]
    }
   ],
   "source": [
    "sum = 0\n",
    "for x in range(1, 11):\n",
    "    sum = sum + x\n",
    "    \n",
    "print sum"
   ]
  },
  {
   "cell_type": "code",
   "execution_count": 24,
   "metadata": {
    "collapsed": false
   },
   "outputs": [
    {
     "name": "stdout",
     "output_type": "stream",
     "text": [
      "3628800\n"
     ]
    }
   ],
   "source": [
    "prod = 1\n",
    "for x in range(1, 11):\n",
    "    prod = prod * x\n",
    "    \n",
    "print prod"
   ]
  },
  {
   "cell_type": "code",
   "execution_count": 26,
   "metadata": {
    "collapsed": false
   },
   "outputs": [
    {
     "name": "stdout",
     "output_type": "stream",
     "text": [
      "0 cat\n",
      "1 dog\n",
      "2 bird\n",
      "3 pig\n"
     ]
    }
   ],
   "source": [
    "I = ['cat', 'dog', 'bird', 'pig']\n",
    "for k, animal in enumerate(I):\n",
    "    print k, animal"
   ]
  },
  {
   "cell_type": "code",
   "execution_count": 27,
   "metadata": {
    "collapsed": false
   },
   "outputs": [
    {
     "name": "stdout",
     "output_type": "stream",
     "text": [
      "0 p pig\n",
      "1 c cat\n",
      "2 b bird\n",
      "3 d dog\n"
     ]
    }
   ],
   "source": [
    "d = {'c' : 'cat', 'd' : 'dog', 'b': 'bird', 'p' : 'pig'}\n",
    "for k, key in enumerate(d):\n",
    "    print k, key, d[key]"
   ]
  },
  {
   "cell_type": "code",
   "execution_count": 28,
   "metadata": {
    "collapsed": false
   },
   "outputs": [
    {
     "name": "stdout",
     "output_type": "stream",
     "text": [
      "0\n",
      "1\n",
      "2\n",
      "3\n",
      "done\n"
     ]
    }
   ],
   "source": [
    "for x in range(10):\n",
    "    if x > 3:\n",
    "        break\n",
    "    print x\n",
    "    \n",
    "print 'done'"
   ]
  },
  {
   "cell_type": "code",
   "execution_count": 29,
   "metadata": {
    "collapsed": false
   },
   "outputs": [
    {
     "name": "stdout",
     "output_type": "stream",
     "text": [
      "8\n",
      "9\n",
      "done\n"
     ]
    }
   ],
   "source": [
    "for x in range(10):\n",
    "    if x < 8:\n",
    "        continue\n",
    "    print x\n",
    "\n",
    "print 'done'"
   ]
  },
  {
   "cell_type": "code",
   "execution_count": 31,
   "metadata": {
    "collapsed": false
   },
   "outputs": [
    {
     "name": "stdout",
     "output_type": "stream",
     "text": [
      "0 1 2 3 4 5 6 7 8 9 else block\n",
      "done\n"
     ]
    }
   ],
   "source": [
    "for x in range(10) :\n",
    "    print x,\n",
    "else:\n",
    "    print 'else block'\n",
    "\n",
    "# for 와 else 조합 가능!!!\n",
    "print 'done'"
   ]
  },
  {
   "cell_type": "code",
   "execution_count": 33,
   "metadata": {
    "collapsed": false
   },
   "outputs": [
    {
     "name": "stdout",
     "output_type": "stream",
     "text": [
      "done\n"
     ]
    }
   ],
   "source": [
    "for x in range(10):\n",
    "    break\n",
    "    print x,\n",
    "else:\n",
    "    print 'else block'\n",
    "    \n",
    "print 'done'\n",
    "\n",
    "#이렇게 break로 나가게 되는 경우, else는 수행하지 않음!!!"
   ]
  },
  {
   "cell_type": "code",
   "execution_count": 34,
   "metadata": {
    "collapsed": false
   },
   "outputs": [
    {
     "name": "stdout",
     "output_type": "stream",
     "text": [
      "2 * 2 = 4\n",
      "2 * 3 = 6\n",
      "2 * 4 = 8\n",
      "2 * 5 = 10\n",
      "2 * 6 = 12\n",
      "2 * 7 = 14\n",
      "2 * 8 = 16\n",
      "2 * 9 = 18\n",
      "\n",
      "3 * 2 = 6\n",
      "3 * 3 = 9\n",
      "3 * 4 = 12\n",
      "3 * 5 = 15\n",
      "3 * 6 = 18\n",
      "3 * 7 = 21\n",
      "3 * 8 = 24\n",
      "3 * 9 = 27\n",
      "\n"
     ]
    }
   ],
   "source": [
    "for x in range(2, 4):\n",
    "    for y in range(2, 10):\n",
    "        print x, '*', y, '=', x*y\n",
    "    print "
   ]
  },
  {
   "cell_type": "code",
   "execution_count": 36,
   "metadata": {
    "collapsed": false
   },
   "outputs": [
    {
     "name": "stdout",
     "output_type": "stream",
     "text": [
      "1 2 3 4 5 6 7 8 9 10\n"
     ]
    }
   ],
   "source": [
    "count = 1\n",
    "while count <  11:\n",
    "    print count,\n",
    "    count = count + 1"
   ]
  },
  {
   "cell_type": "code",
   "execution_count": 37,
   "metadata": {
    "collapsed": false
   },
   "outputs": [
    {
     "name": "stdout",
     "output_type": "stream",
     "text": [
      "55\n"
     ]
    }
   ],
   "source": [
    "sum = 0\n",
    "a = 0\n",
    "while a < 10:\n",
    "    a = a + 1\n",
    "    sum = sum + a\n",
    "print sum"
   ]
  },
  {
   "cell_type": "code",
   "execution_count": 38,
   "metadata": {
    "collapsed": false
   },
   "outputs": [
    {
     "name": "stdout",
     "output_type": "stream",
     "text": [
      "0 1 2 3 4 5 6 7 8 9 else block\n",
      "done\n"
     ]
    }
   ],
   "source": [
    "x = 0\n",
    "while x < 10:\n",
    "    print x,\n",
    "    x = x + 1\n",
    "else:\n",
    "    print 'else block'\n",
    "    \n",
    "print 'done'"
   ]
  },
  {
   "cell_type": "markdown",
   "metadata": {},
   "source": [
    "# 파이썬 함수기초"
   ]
  },
  {
   "cell_type": "code",
   "execution_count": 40,
   "metadata": {
    "collapsed": false
   },
   "outputs": [
    {
     "name": "stdout",
     "output_type": "stream",
     "text": [
      "7\n",
      "[1, 2, 3, 4, 5, 6]\n"
     ]
    }
   ],
   "source": [
    "def add(a,b):\n",
    "    return a + b\n",
    "# def 를 정의한다고 해도 인자의 자료형은 정해져있지않다\n",
    "# 함수가 불렸을 때, 그 인자의 자료형에 따라 정해지게된다. \n",
    "print add(3, 4)\n",
    "\n",
    "print add([1,2,3], [4, 5, 6])"
   ]
  },
  {
   "cell_type": "code",
   "execution_count": 43,
   "metadata": {
    "collapsed": false
   },
   "outputs": [
    {
     "name": "stdout",
     "output_type": "stream",
     "text": [
      "40\n"
     ]
    }
   ],
   "source": [
    "c = add(10, 30)\n",
    "d = 40\n",
    "print c"
   ]
  },
  {
   "cell_type": "code",
   "execution_count": 44,
   "metadata": {
    "collapsed": false
   },
   "outputs": [
    {
     "name": "stdout",
     "output_type": "stream",
     "text": [
      "True\n"
     ]
    }
   ],
   "source": [
    "print c is d"
   ]
  },
  {
   "cell_type": "code",
   "execution_count": 45,
   "metadata": {
    "collapsed": false
   },
   "outputs": [
    {
     "name": "stdout",
     "output_type": "stream",
     "text": [
      "True\n"
     ]
    }
   ],
   "source": [
    "print c == d"
   ]
  },
  {
   "cell_type": "code",
   "execution_count": 49,
   "metadata": {
    "collapsed": false
   },
   "outputs": [
    {
     "name": "stdout",
     "output_type": "stream",
     "text": [
      "9\n",
      "<function add at 0x0000000003CB0128>\n",
      "True\n"
     ]
    }
   ],
   "source": [
    "f = add\n",
    "print f(4, 5)\n",
    "\n",
    "print f\n",
    "#<f 식별자의 형, 실제 식별자 이름, 객체가 놓여져있는 메모리 범위>\n",
    "\n",
    "print f is add\n",
    "\n",
    "# 이렇게 되면 함수 add가 f와 같이 동일한 함수를 같게 된다.\n"
   ]
  },
  {
   "cell_type": "markdown",
   "metadata": {},
   "source": [
    "함수의 몸체에는 최소한 한개 이상의 statement가 존재해야함\n",
    "(안했을 경우에 에러)   \n",
    "만약 내용이 없는 몸체를 지닌 함수를 만들 때는 pass라는 키워드를 사용해야한다.!!!"
   ]
  },
  {
   "cell_type": "code",
   "execution_count": 51,
   "metadata": {
    "collapsed": false
   },
   "outputs": [
    {
     "name": "stdout",
     "output_type": "stream",
     "text": [
      "None\n"
     ]
    }
   ],
   "source": [
    "def simple():\n",
    "    pass\n",
    "\n",
    "print simple()"
   ]
  },
  {
   "cell_type": "code",
   "execution_count": 52,
   "metadata": {
    "collapsed": false
   },
   "outputs": [
    {
     "name": "stdout",
     "output_type": "stream",
     "text": [
      "12\n"
     ]
    }
   ],
   "source": [
    "def add(a, b):\n",
    "    return a + b\n",
    "\n",
    "def myabs(x):\n",
    "    if x < 0:\n",
    "        x = -x\n",
    "    return x\n",
    "\n",
    "def addabs(a, b):\n",
    "    c = add(a, b)\n",
    "    return myabs(c)\n",
    "\n",
    "print addabs(-5, -7)"
   ]
  },
  {
   "cell_type": "code",
   "execution_count": 55,
   "metadata": {
    "collapsed": false
   },
   "outputs": [
    {
     "name": "stdout",
     "output_type": "stream",
     "text": [
      "-8\n",
      "-8\n",
      "\n",
      "-8\n"
     ]
    }
   ],
   "source": [
    "def minus(a, b):\n",
    "    return a - b\n",
    "\n",
    "print minus(a=12, b=20)\n",
    "print minus(12, 20) # 위와 동일\n",
    "print\n",
    "print minus(b=20, a=12)\n",
    "\n",
    "# 함수에서 사용하는 인자와 같은 위치게 들어가게된다!!!"
   ]
  },
  {
   "cell_type": "code",
   "execution_count": 57,
   "metadata": {
    "collapsed": false
   },
   "outputs": [
    {
     "name": "stdout",
     "output_type": "stream",
     "text": [
      "6\n",
      "15\n"
     ]
    }
   ],
   "source": [
    "def incr(x, y=1):\n",
    "    return x + y\n",
    "\n",
    "print incr(5)\n",
    "\n",
    "print incr(5,10)"
   ]
  },
  {
   "cell_type": "code",
   "execution_count": 59,
   "metadata": {
    "collapsed": false
   },
   "outputs": [
    {
     "name": "stdout",
     "output_type": "stream",
     "text": [
      "(12, 8, 20, 5)\n"
     ]
    }
   ],
   "source": [
    "def calc(x, y):\n",
    "    return x + y, x - y, x * y, x / y\n",
    "\n",
    "#위와 같은 리턴값은 튜플이 된다!!!!!!\n",
    "print calc(10, 2)"
   ]
  },
  {
   "cell_type": "code",
   "execution_count": 60,
   "metadata": {
    "collapsed": false
   },
   "outputs": [
    {
     "name": "stdout",
     "output_type": "stream",
     "text": [
      "4.4\n",
      "dynamictyping\n",
      "['list', 'and', 'list']\n"
     ]
    }
   ],
   "source": [
    "def add(a, b):\n",
    "    return a + b\n",
    "\n",
    "c = add(1, 3.4)\n",
    "d = add('dynamic', 'typing')\n",
    "e = add(['list'], ['and', 'list'])\n",
    "print c\n",
    "print d\n",
    "print e"
   ]
  },
  {
   "cell_type": "code",
   "execution_count": 61,
   "metadata": {
    "collapsed": false
   },
   "outputs": [
    {
     "name": "stdout",
     "output_type": "stream",
     "text": [
      "55\n"
     ]
    }
   ],
   "source": [
    "def sum(N):\n",
    "    if N == 1:           # 종결 조건\n",
    "        return 1         # 종결 조건이 만족할 때의 반환 값\n",
    "    return N + sum(N-1)  # 재귀 호출\n",
    "\n",
    "print sum(10)"
   ]
  },
  {
   "cell_type": "code",
   "execution_count": null,
   "metadata": {
    "collapsed": true
   },
   "outputs": [],
   "source": []
  }
 ],
 "metadata": {
  "kernelspec": {
   "display_name": "Python [Root]",
   "language": "python",
   "name": "Python [Root]"
  },
  "language_info": {
   "codemirror_mode": {
    "name": "ipython",
    "version": 2
   },
   "file_extension": ".py",
   "mimetype": "text/x-python",
   "name": "python",
   "nbconvert_exporter": "python",
   "pygments_lexer": "ipython2",
   "version": "2.7.12"
  }
 },
 "nbformat": 4,
 "nbformat_minor": 0
}
