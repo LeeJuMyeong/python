{
 "cells": [
  {
   "cell_type": "markdown",
   "metadata": {},
   "source": [
    "# 11. 튜플과 집합"
   ]
  },
  {
   "cell_type": "markdown",
   "metadata": {},
   "source": [
    "----------  \n",
    "- 튜플(Tuples): 순서있는 임의의 객체 모음(시퀀스형) = 리스트와 공통\n",
    "- 튜플은 변경 불가능 != 리스트와 다른점\n",
    "    - 인덱싱, 슬라이싱, 연결, 반복, 멤버쉽 테스트 가능\n",
    "   "
   ]
  },
  {
   "cell_type": "code",
   "execution_count": 2,
   "metadata": {
    "collapsed": false
   },
   "outputs": [
    {
     "name": "stdout",
     "output_type": "stream",
     "text": [
      "<type 'tuple'> <type 'tuple'> <type 'tuple'>\n"
     ]
    }
   ],
   "source": [
    "t1 = ()\n",
    "t2 = (1, 2, 3)\n",
    "\n",
    "t3 = 1, 2, 3    # 괄호가 없어도 튜플\n",
    "print type(t1), type(t2), type(t3)"
   ]
  },
  {
   "cell_type": "code",
   "execution_count": 5,
   "metadata": {
    "collapsed": false
   },
   "outputs": [
    {
     "name": "stdout",
     "output_type": "stream",
     "text": [
      "1\n",
      "<type 'int'>\n",
      "\n",
      "<type 'tuple'>\n",
      "(1,)\n",
      "<type 'tuple'>\n",
      "(1,)\n"
     ]
    }
   ],
   "source": [
    "r1 = (1)  # r1 = 1과 동일!!!\n",
    "print r1\n",
    "print type(r1)\n",
    "print\n",
    "\n",
    "r1 = (1, )\n",
    "r2 = 1,\n",
    "print type(r1)\n",
    "print r1\n",
    "print type(r2)\n",
    "print r2"
   ]
  },
  {
   "cell_type": "code",
   "execution_count": 7,
   "metadata": {
    "collapsed": false
   },
   "outputs": [
    {
     "name": "stdout",
     "output_type": "stream",
     "text": [
      "(1, 2, 3, 1, 2, 3)\n",
      "(1, 2, 3, 'PyKUG', 'users')\n",
      "(1, 2, 3)\n",
      "\n",
      "1 (2, 3)\n",
      "3\n",
      "True\n"
     ]
    }
   ],
   "source": [
    "t = (1, 2, 3)\n",
    "print t * 2\n",
    "print t + ('PyKUG', 'users')\n",
    "print t\n",
    "print\n",
    "\n",
    "print t[0], t[1:3]      # 인덱싱, 슬라이싱\n",
    "print len(t)            # 길이\n",
    "print 1 in t            # 멤버쉽 테스트"
   ]
  },
  {
   "cell_type": "code",
   "execution_count": 8,
   "metadata": {
    "collapsed": false
   },
   "outputs": [
    {
     "ename": "TypeError",
     "evalue": "'tuple' object does not support item assignment",
     "output_type": "error",
     "traceback": [
      "\u001b[1;31m---------------------------------------------------------------------------\u001b[0m",
      "\u001b[1;31mTypeError\u001b[0m                                 Traceback (most recent call last)",
      "\u001b[1;32m<ipython-input-8-6db78a5fc2b1>\u001b[0m in \u001b[0;36m<module>\u001b[1;34m()\u001b[0m\n\u001b[1;32m----> 1\u001b[1;33m \u001b[0mt\u001b[0m\u001b[1;33m[\u001b[0m\u001b[1;36m0\u001b[0m\u001b[1;33m]\u001b[0m \u001b[1;33m=\u001b[0m \u001b[1;36m100\u001b[0m \u001b[1;31m# 튜플은 변경불가능, 에러 발생\u001b[0m\u001b[1;33m\u001b[0m\u001b[0m\n\u001b[0m",
      "\u001b[1;31mTypeError\u001b[0m: 'tuple' object does not support item assignment"
     ]
    }
   ],
   "source": [
    "t[0] = 100 # 튜플은 변경불가능, 에러 발생"
   ]
  },
  {
   "cell_type": "code",
   "execution_count": 14,
   "metadata": {
    "collapsed": false
   },
   "outputs": [
    {
     "name": "stdout",
     "output_type": "stream",
     "text": [
      "((12345, 54321, 'hello'), (1, 2, 3, 4, 5))\n",
      "([1, 2, 3], (1, 2, 4))\n",
      "({1: 'abc', 2: 'def'}, (1, 2, 3))\n",
      "{1: 'abc', 2: 'def'} (1, 2, 3)\n",
      "abc 3\n"
     ]
    }
   ],
   "source": [
    "t = (12345, 54321, 'hello')\n",
    "u = t, (1, 2, 3, 4, 5)\n",
    "print u\n",
    "\n",
    "t2 = [1, 2, 3]\n",
    "u2 = t2, (1, 2, 4)\n",
    "print u2\n",
    "\n",
    "t3 = {1:\"abc\", 2:\"def\"}\n",
    "u3 = t3, (1, 2, 3)\n",
    "print u3\n",
    "print u3[0], u3[1]\n",
    "print u3[0][1], u3[1][2]"
   ]
  },
  {
   "cell_type": "code",
   "execution_count": 17,
   "metadata": {
    "collapsed": false
   },
   "outputs": [
    {
     "name": "stdout",
     "output_type": "stream",
     "text": [
      "<type 'int'> <type 'int'> <type 'int'>\n",
      "1\n",
      "2\n",
      "3\n"
     ]
    }
   ],
   "source": [
    "x, y, z = 1, 2, 3     # x, y, z = (1, 2, 3) 과 동일\n",
    "# 튜플을 이용한 복수개의 자료 할당\n",
    "print type(x), type(y), type(z)\n",
    "print x\n",
    "print y\n",
    "print z"
   ]
  },
  {
   "cell_type": "code",
   "execution_count": 18,
   "metadata": {
    "collapsed": false
   },
   "outputs": [
    {
     "name": "stdout",
     "output_type": "stream",
     "text": [
      "2 1\n"
     ]
    }
   ],
   "source": [
    "x = 1\n",
    "y = 2\n",
    "x, y = y, x\n",
    "print x, y"
   ]
  },
  {
   "cell_type": "markdown",
   "metadata": {},
   "source": [
    "# 1-2 패킹과 언패킹"
   ]
  },
  {
   "cell_type": "markdown",
   "metadata": {},
   "source": [
    "- 패킹 : 하나의 튜플 안에 여러개의 데이터를 넣는 작업"
   ]
  },
  {
   "cell_type": "code",
   "execution_count": 19,
   "metadata": {
    "collapsed": true
   },
   "outputs": [],
   "source": [
    "t = 1, 2, 'hello'\n",
    "\n",
    "x, y, z = t"
   ]
  },
  {
   "cell_type": "markdown",
   "metadata": {},
   "source": [
    "- 언패킹: 하나의 튜플에서 여러개의 데이터를 한꺼번에 꺼내와 각 각 변수에 할당하는 작업"
   ]
  },
  {
   "cell_type": "code",
   "execution_count": 21,
   "metadata": {
    "collapsed": true
   },
   "outputs": [],
   "source": [
    "a = ['foo', 'bar', 4, 5]\n",
    "[x, y, z, w] = a\n",
    "# 리스트로도 가능하지만 단순 패킹/언패킹 작업만을 목적으로 한다면, 튜플 사용 추천"
   ]
  },
  {
   "cell_type": "code",
   "execution_count": 23,
   "metadata": {
    "collapsed": false
   },
   "outputs": [
    {
     "name": "stdout",
     "output_type": "stream",
     "text": [
      "[100, 2, 3, 4, 5]\n",
      "(100, 2, 3, 4, 5)\n"
     ]
    }
   ],
   "source": [
    "T = (1,2,3,4,5)\n",
    "L = list(T)\n",
    "L[0] = 100\n",
    "print L\n",
    "\n",
    "T = tuple(L)\n",
    "print T"
   ]
  },
  {
   "cell_type": "markdown",
   "metadata": {},
   "source": [
    "# 1-3 튜플의 사용 용도"
   ]
  },
  {
   "cell_type": "code",
   "execution_count": 25,
   "metadata": {
    "collapsed": false
   },
   "outputs": [
    {
     "name": "stdout",
     "output_type": "stream",
     "text": [
      "9 20\n",
      "(8, 12)\n"
     ]
    }
   ],
   "source": [
    "def calc(a, b):\n",
    "    return a+b, a*b\n",
    "x, y = calc(5, 4)\n",
    "z = calc(6, 2)\n",
    "print x, y\n",
    "print z"
   ]
  },
  {
   "cell_type": "code",
   "execution_count": 27,
   "metadata": {
    "collapsed": false
   },
   "outputs": [
    {
     "name": "stdout",
     "output_type": "stream",
     "text": [
      "id : gslee, name : GangSeong\n"
     ]
    },
    {
     "ename": "TypeError",
     "evalue": "not enough arguments for format string",
     "output_type": "error",
     "traceback": [
      "\u001b[1;31m---------------------------------------------------------------------------\u001b[0m",
      "\u001b[1;31mTypeError\u001b[0m                                 Traceback (most recent call last)",
      "\u001b[1;32m<ipython-input-27-716a71450aca>\u001b[0m in \u001b[0;36m<module>\u001b[1;34m()\u001b[0m\n\u001b[0;32m      1\u001b[0m \u001b[1;32mprint\u001b[0m \u001b[1;34m'id : %s, name : %s'\u001b[0m \u001b[1;33m%\u001b[0m \u001b[1;33m(\u001b[0m\u001b[1;34m'gslee'\u001b[0m\u001b[1;33m,\u001b[0m \u001b[1;34m'GangSeong'\u001b[0m\u001b[1;33m)\u001b[0m\u001b[1;33m\u001b[0m\u001b[0m\n\u001b[1;32m----> 2\u001b[1;33m \u001b[1;32mprint\u001b[0m \u001b[1;34m'id : %s, name : %s'\u001b[0m \u001b[1;33m%\u001b[0m \u001b[1;33m[\u001b[0m\u001b[1;34m'gslee'\u001b[0m\u001b[1;33m,\u001b[0m \u001b[1;34m'GangSeong'\u001b[0m\u001b[1;33m]\u001b[0m\u001b[1;33m\u001b[0m\u001b[0m\n\u001b[0m",
      "\u001b[1;31mTypeError\u001b[0m: not enough arguments for format string"
     ]
    }
   ],
   "source": [
    "print 'id : %s, name : %s' % ('gslee', 'GangSeong')\n",
    "print 'id : %s, name : %s' % ['gslee', 'GangSeong'] # 리스트는 사용 불가"
   ]
  },
  {
   "cell_type": "code",
   "execution_count": 28,
   "metadata": {
    "collapsed": false
   },
   "outputs": [
    {
     "name": "stdout",
     "output_type": "stream",
     "text": [
      "[('two', 2), ('one', 1)]\n"
     ]
    }
   ],
   "source": [
    "d = {'one': 1, 'two':2}\n",
    "print d.items()"
   ]
  },
  {
   "cell_type": "markdown",
   "metadata": {},
   "source": [
    "------------  \n",
    "# 2 집합 자료형"
   ]
  },
  {
   "cell_type": "markdown",
   "metadata": {},
   "source": [
    "- set 내장 함수를 사용한 집합 자료 생성\n",
    "    - 변경 가능한 객체\n",
    "    - 각 원소간에 순서는 없음\n",
    "    - 각 원소는 중복 불가\n",
    "    - [note] 시퀀스 자료형이 아님\n",
    "    "
   ]
  },
  {
   "cell_type": "markdown",
   "metadata": {},
   "source": [
    "------------  \n",
    "- set은 자료형이다~~"
   ]
  },
  {
   "cell_type": "code",
   "execution_count": 31,
   "metadata": {
    "collapsed": false
   },
   "outputs": [
    {
     "name": "stdout",
     "output_type": "stream",
     "text": [
      "<type 'set'>\n",
      "set([1, 2, 3])\n",
      "\n",
      "<type 'set'>\n",
      "set([1, 2, 3])\n",
      "\n"
     ]
    }
   ],
   "source": [
    "a = set([1, 2, 2, 3])\n",
    "print type(a)\n",
    "print a\n",
    "print \n",
    "\n",
    "a = set((1, 2, 2, 3)) # 튜플로 저장해도 set안에서는 리스트로 변경된다!!!!\n",
    "print type(a)\n",
    "print a\n",
    "print"
   ]
  },
  {
   "cell_type": "code",
   "execution_count": 33,
   "metadata": {
    "collapsed": false
   },
   "outputs": [
    {
     "name": "stdout",
     "output_type": "stream",
     "text": [
      "<type 'set'>\n",
      "set(['a', 'c', 'b'])\n"
     ]
    }
   ],
   "source": [
    "c = set ({'a':1, 'b':2, 'c':3})  # 결과는 리스트 형태이며, key 값만을 가져오게 된다!!!\n",
    "print type(c)\n",
    "print c"
   ]
  },
  {
   "cell_type": "code",
   "execution_count": 34,
   "metadata": {
    "collapsed": false
   },
   "outputs": [
    {
     "name": "stdout",
     "output_type": "stream",
     "text": [
      "<type 'set'>\n",
      "set([1, 2, 3])\n"
     ]
    }
   ],
   "source": [
    "d = set({'a':1, 'b':2, 'c':3}.values())\n",
    "print type(d)\n",
    "print d"
   ]
  },
  {
   "cell_type": "code",
   "execution_count": 36,
   "metadata": {
    "collapsed": false
   },
   "outputs": [
    {
     "name": "stdout",
     "output_type": "stream",
     "text": [
      "set([])\n",
      "set([1, 2, 3, 4, 5])\n",
      "set([1, 2, 3, 4, 5])\n",
      "set(['a', 'c', 'b'])\n",
      "set([(4, 5, 6), (1, 2, 3)])\n"
     ]
    },
    {
     "ename": "TypeError",
     "evalue": "unhashable type: 'list'",
     "output_type": "error",
     "traceback": [
      "\u001b[1;31m---------------------------------------------------------------------------\u001b[0m",
      "\u001b[1;31mTypeError\u001b[0m                                 Traceback (most recent call last)",
      "\u001b[1;32m<ipython-input-36-5ff469a4e4bf>\u001b[0m in \u001b[0;36m<module>\u001b[1;34m()\u001b[0m\n\u001b[0;32m      4\u001b[0m \u001b[1;32mprint\u001b[0m \u001b[0mset\u001b[0m\u001b[1;33m(\u001b[0m\u001b[1;34m'abc'\u001b[0m\u001b[1;33m)\u001b[0m\u001b[1;33m\u001b[0m\u001b[0m\n\u001b[0;32m      5\u001b[0m \u001b[1;32mprint\u001b[0m \u001b[0mset\u001b[0m\u001b[1;33m(\u001b[0m\u001b[1;33m[\u001b[0m\u001b[1;33m(\u001b[0m\u001b[1;36m1\u001b[0m\u001b[1;33m,\u001b[0m\u001b[1;36m2\u001b[0m\u001b[1;33m,\u001b[0m\u001b[1;36m3\u001b[0m\u001b[1;33m)\u001b[0m\u001b[1;33m,\u001b[0m\u001b[1;33m(\u001b[0m\u001b[1;36m4\u001b[0m\u001b[1;33m,\u001b[0m\u001b[1;36m5\u001b[0m\u001b[1;33m,\u001b[0m\u001b[1;36m6\u001b[0m\u001b[1;33m)\u001b[0m\u001b[1;33m]\u001b[0m\u001b[1;33m)\u001b[0m\u001b[1;33m\u001b[0m\u001b[0m\n\u001b[1;32m----> 6\u001b[1;33m \u001b[1;32mprint\u001b[0m \u001b[0mset\u001b[0m\u001b[1;33m(\u001b[0m\u001b[1;33m[\u001b[0m\u001b[1;33m[\u001b[0m\u001b[1;36m1\u001b[0m\u001b[1;33m,\u001b[0m\u001b[1;36m2\u001b[0m\u001b[1;33m,\u001b[0m\u001b[1;36m3\u001b[0m\u001b[1;33m]\u001b[0m\u001b[1;33m,\u001b[0m\u001b[1;33m[\u001b[0m\u001b[1;36m4\u001b[0m\u001b[1;33m,\u001b[0m\u001b[1;36m5\u001b[0m\u001b[1;33m,\u001b[0m\u001b[1;36m6\u001b[0m\u001b[1;33m]\u001b[0m\u001b[1;33m]\u001b[0m\u001b[1;33m)\u001b[0m  \u001b[1;31m# 변경가능한 원소는 들어올 수 없다!!!!!!!!!!!!!!!!!\u001b[0m\u001b[1;33m\u001b[0m\u001b[0m\n\u001b[0m",
      "\u001b[1;31mTypeError\u001b[0m: unhashable type: 'list'"
     ]
    }
   ],
   "source": [
    "print set()\n",
    "print set([1,2,3,4,5])\n",
    "print set([1,2,2,3,3,4,5])\n",
    "print set('abc')\n",
    "print set([(1,2,3),(4,5,6)])\n",
    "print set([[1,2,3],[4,5,6]])  # 변경가능한 원소는 들어올 수 없다!!!!!!!!!!!!!!!!!"
   ]
  },
  {
   "cell_type": "markdown",
   "metadata": {},
   "source": [
    "-----------------  \n",
    "- set의 기본연산 (별로 없음)\n",
    "    - len(s)\n",
    "    - x in s\n",
    "    - x not in s"
   ]
  },
  {
   "cell_type": "code",
   "execution_count": 37,
   "metadata": {
    "collapsed": false
   },
   "outputs": [
    {
     "name": "stdout",
     "output_type": "stream",
     "text": [
      "9\n",
      "True\n",
      "True\n"
     ]
    }
   ],
   "source": [
    "A = set([1,2,3,4,5,6,7,8,9])\n",
    "\n",
    "print len(A)\n",
    "print 5 in A\n",
    "print 10 not in A"
   ]
  },
  {
   "cell_type": "markdown",
   "metadata": {},
   "source": [
    "-----------------  \n",
    "- 메소드는 많음!!!!\n",
    "\n"
   ]
  },
  {
   "cell_type": "code",
   "execution_count": 43,
   "metadata": {
    "collapsed": false
   },
   "outputs": [
    {
     "name": "stdout",
     "output_type": "stream",
     "text": [
      "True\n",
      "True\n",
      "\n",
      "True\n",
      "True\n",
      "\n",
      "True\n",
      "True\n"
     ]
    }
   ],
   "source": [
    "B = set([4, 5, 6, 10, 20, 30])\n",
    "C = set([10, 20 ,30])\n",
    "\n",
    "print C.issubset(B)\n",
    "print C <= B\n",
    "print \n",
    "print B.issuperset(C)\n",
    "print B >= C\n",
    "print \n",
    "\n",
    "print C.issubset(C)\n",
    "print C <= C"
   ]
  },
  {
   "cell_type": "code",
   "execution_count": 47,
   "metadata": {
    "collapsed": false
   },
   "outputs": [
    {
     "name": "stdout",
     "output_type": "stream",
     "text": [
      "set([1, 2, 3, 4, 5, 6, 7, 8, 9, 10, 20, 30])\n",
      "set([1, 2, 3, 4, 5, 6, 7, 8, 9])\n",
      "\n",
      "set([4, 5, 6])\n",
      "set([1, 2, 3, 4, 5, 6, 7, 8, 9])\n",
      "\n",
      "set([1, 2, 3, 7, 8, 9])\n",
      "set([1, 2, 3, 4, 5, 6, 7, 8, 9])\n",
      "\n",
      "set([1, 2, 3, 7, 8, 9, 10, 20, 30])\n",
      "set([1, 2, 3, 4, 5, 6, 7, 8, 9])\n",
      "\n"
     ]
    }
   ],
   "source": [
    "A = set([1,2,3,4,5,6,7,8,9])\n",
    "B = set([4,5,6,10,20,30])\n",
    "\n",
    "print A.union(B)                 # A 와 B의 합집합\n",
    "#print A | B\n",
    "print A\n",
    "print \n",
    "\n",
    "print A.intersection(B)         # A 와 B의 교집합\n",
    "#print A & B\n",
    "print A\n",
    "print\n",
    "\n",
    "print A.difference(B)           # A - B (차집합)\n",
    "#print A - B\n",
    "print A\n",
    "print \n",
    "\n",
    "print A.symmetric_difference(B) # 베타집합, A와 B의 합집합에서 교집합의 원소를 제외한 집합\n",
    "#print A ^ B\n",
    "print A\n",
    "print"
   ]
  },
  {
   "cell_type": "code",
   "execution_count": 51,
   "metadata": {
    "collapsed": false
   },
   "outputs": [
    {
     "name": "stdout",
     "output_type": "stream",
     "text": [
      "set([1, 2, 3, 4, 5, 6, 7, 8, 9])\n",
      "\n",
      "True\n",
      "False\n",
      "\n",
      "True\n",
      "True\n"
     ]
    }
   ],
   "source": [
    "A = set([1,2,3,4,5,6,7,8,9])\n",
    "D = A.copy()     # 값만으로 복사한것이기 때문에 같은 레퍼런스를 갖지는 않는다.!!\n",
    "print D\n",
    "print \n",
    "\n",
    "print A == D\n",
    "print A is D\n",
    "print \n",
    "\n",
    "D = A\n",
    "print A == D\n",
    "print A is D"
   ]
  },
  {
   "cell_type": "code",
   "execution_count": 52,
   "metadata": {
    "collapsed": false
   },
   "outputs": [
    {
     "ename": "TypeError",
     "evalue": "'set' object does not support indexing",
     "output_type": "error",
     "traceback": [
      "\u001b[1;31m---------------------------------------------------------------------------\u001b[0m",
      "\u001b[1;31mTypeError\u001b[0m                                 Traceback (most recent call last)",
      "\u001b[1;32m<ipython-input-52-a0fca37959a3>\u001b[0m in \u001b[0;36m<module>\u001b[1;34m()\u001b[0m\n\u001b[0;32m      1\u001b[0m \u001b[0mA\u001b[0m \u001b[1;33m=\u001b[0m \u001b[0mset\u001b[0m\u001b[1;33m(\u001b[0m\u001b[1;33m[\u001b[0m\u001b[1;36m1\u001b[0m\u001b[1;33m,\u001b[0m\u001b[1;36m2\u001b[0m\u001b[1;33m,\u001b[0m\u001b[1;36m3\u001b[0m\u001b[1;33m,\u001b[0m\u001b[1;36m4\u001b[0m\u001b[1;33m,\u001b[0m\u001b[1;36m5\u001b[0m\u001b[1;33m,\u001b[0m\u001b[1;36m6\u001b[0m\u001b[1;33m,\u001b[0m\u001b[1;36m7\u001b[0m\u001b[1;33m,\u001b[0m\u001b[1;36m8\u001b[0m\u001b[1;33m,\u001b[0m\u001b[1;36m9\u001b[0m\u001b[1;33m]\u001b[0m\u001b[1;33m)\u001b[0m\u001b[1;33m\u001b[0m\u001b[0m\n\u001b[1;32m----> 2\u001b[1;33m \u001b[1;32mprint\u001b[0m \u001b[0mA\u001b[0m\u001b[1;33m[\u001b[0m\u001b[1;36m0\u001b[0m\u001b[1;33m]\u001b[0m\u001b[1;33m\u001b[0m\u001b[0m\n\u001b[0m",
      "\u001b[1;31mTypeError\u001b[0m: 'set' object does not support indexing"
     ]
    }
   ],
   "source": [
    "A = set([1,2,3,4,5,6,7,8,9])\n",
    "print A[0]"
   ]
  },
  {
   "cell_type": "code",
   "execution_count": 53,
   "metadata": {
    "collapsed": false
   },
   "outputs": [
    {
     "ename": "TypeError",
     "evalue": "'set' object has no attribute '__getitem__'",
     "output_type": "error",
     "traceback": [
      "\u001b[1;31m---------------------------------------------------------------------------\u001b[0m",
      "\u001b[1;31mTypeError\u001b[0m                                 Traceback (most recent call last)",
      "\u001b[1;32m<ipython-input-53-795e14598526>\u001b[0m in \u001b[0;36m<module>\u001b[1;34m()\u001b[0m\n\u001b[1;32m----> 1\u001b[1;33m \u001b[1;32mprint\u001b[0m \u001b[0mA\u001b[0m\u001b[1;33m[\u001b[0m\u001b[1;36m1\u001b[0m\u001b[1;33m:\u001b[0m\u001b[1;36m4\u001b[0m\u001b[1;33m]\u001b[0m\u001b[1;33m\u001b[0m\u001b[0m\n\u001b[0m",
      "\u001b[1;31mTypeError\u001b[0m: 'set' object has no attribute '__getitem__'"
     ]
    }
   ],
   "source": [
    "print A[1:4]"
   ]
  },
  {
   "cell_type": "code",
   "execution_count": 54,
   "metadata": {
    "collapsed": false
   },
   "outputs": [
    {
     "ename": "AttributeError",
     "evalue": "'set' object has no attribute 'sort'",
     "output_type": "error",
     "traceback": [
      "\u001b[1;31m---------------------------------------------------------------------------\u001b[0m",
      "\u001b[1;31mAttributeError\u001b[0m                            Traceback (most recent call last)",
      "\u001b[1;32m<ipython-input-54-9fbe6777337f>\u001b[0m in \u001b[0;36m<module>\u001b[1;34m()\u001b[0m\n\u001b[1;32m----> 1\u001b[1;33m \u001b[1;32mprint\u001b[0m \u001b[0mA\u001b[0m\u001b[1;33m.\u001b[0m\u001b[0msort\u001b[0m\u001b[1;33m(\u001b[0m\u001b[1;33m)\u001b[0m\u001b[1;33m\u001b[0m\u001b[0m\n\u001b[0m",
      "\u001b[1;31mAttributeError\u001b[0m: 'set' object has no attribute 'sort'"
     ]
    }
   ],
   "source": [
    "print A.sort()"
   ]
  },
  {
   "cell_type": "code",
   "execution_count": 55,
   "metadata": {
    "collapsed": false
   },
   "outputs": [
    {
     "name": "stdout",
     "output_type": "stream",
     "text": [
      "[1, 2, 3, 4, 5, 6, 7, 8, 9]\n",
      "(1, 2, 3, 4, 5, 6, 7, 8, 9)\n"
     ]
    }
   ],
   "source": [
    "print list(A)\n",
    "print tuple(A)"
   ]
  },
  {
   "cell_type": "code",
   "execution_count": 56,
   "metadata": {
    "collapsed": false
   },
   "outputs": [
    {
     "name": "stdout",
     "output_type": "stream",
     "text": [
      "1 2 3 4 5 6 7 8 9\n"
     ]
    }
   ],
   "source": [
    "A = set([1,2,3,4,5,6,7,8,9])\n",
    "for ele in A:\n",
    "    print ele,"
   ]
  },
  {
   "cell_type": "code",
   "execution_count": 58,
   "metadata": {
    "collapsed": false
   },
   "outputs": [
    {
     "name": "stdout",
     "output_type": "stream",
     "text": [
      "set([1, 2, 3, 4, 5, 6])\n",
      "set([4, 5, 6])\n",
      "set([4, 5])\n",
      "set([4, 6, 7])\n",
      "set([8, 4, 6, 7])\n",
      "set([4, 6, 7])\n"
     ]
    }
   ],
   "source": [
    "A = set([1,2,3,4])\n",
    "B = set([3,4,5,6])\n",
    "\n",
    "A.update(B) # A에 B 집합의 원소를 추가 시킴\n",
    "# A != B\n",
    "print A\n",
    "\n",
    "A.intersection_update([4,5,6,7,8]) # &=\n",
    "# A &= set([4,5,6,7,8])\n",
    "print A\n",
    "\n",
    "A.difference_update([6,7,8]) # -=\n",
    "print A\n",
    "\n",
    "A.symmetric_difference_update([5,6,7]) # ^=\n",
    "print A\n",
    "\n",
    "A.add(8)    # 원소 추가\n",
    "print A\n",
    "\n",
    "A.remove(8) # 원소 제거\n",
    "print A"
   ]
  },
  {
   "cell_type": "code",
   "execution_count": 59,
   "metadata": {
    "collapsed": false
   },
   "outputs": [
    {
     "ename": "KeyError",
     "evalue": "10",
     "output_type": "error",
     "traceback": [
      "\u001b[1;31m---------------------------------------------------------------------------\u001b[0m",
      "\u001b[1;31mKeyError\u001b[0m                                  Traceback (most recent call last)",
      "\u001b[1;32m<ipython-input-59-131636e5f9b8>\u001b[0m in \u001b[0;36m<module>\u001b[1;34m()\u001b[0m\n\u001b[1;32m----> 1\u001b[1;33m \u001b[0mA\u001b[0m\u001b[1;33m.\u001b[0m\u001b[0mremove\u001b[0m\u001b[1;33m(\u001b[0m\u001b[1;36m10\u001b[0m\u001b[1;33m)\u001b[0m\u001b[1;33m\u001b[0m\u001b[0m\n\u001b[0m",
      "\u001b[1;31mKeyError\u001b[0m: 10"
     ]
    }
   ],
   "source": [
    "A.remove(10)"
   ]
  },
  {
   "cell_type": "code",
   "execution_count": 69,
   "metadata": {
    "collapsed": false
   },
   "outputs": [
    {
     "name": "stdout",
     "output_type": "stream",
     "text": [
      "set([1, 2, 3, 4, 5, 7])\n",
      "set([2, 3, 4, 5, 7])\n",
      "set([])\n"
     ]
    }
   ],
   "source": [
    "A = set([1,2,3,4,5,6,7])\n",
    "A.discard(10)\n",
    "\n",
    "A.discard(6)  # 값이 없어도 오류 없음!!! remove() 하는 작업은 같음\n",
    "print A\n",
    "\n",
    "A.pop()       # 임의의 원소 하나 꺼내기(근데 앞에 있는 원소가 꺼내고 있음...)\n",
    "print A\n",
    "\n",
    "A = set([1,2,3])\n",
    "A.clear()\n",
    "print A\n"
   ]
  },
  {
   "cell_type": "code",
   "execution_count": 71,
   "metadata": {
    "collapsed": false
   },
   "outputs": [
    {
     "name": "stdout",
     "output_type": "stream",
     "text": [
      "[1, 2, 3, 4, 5, 6, 7]\n"
     ]
    }
   ],
   "source": [
    "t1=[1,2,3,4,5]\n",
    "t2=[3,4,5,6,7]\n",
    "t3=list(set(t1 + t2))\n",
    "print t3"
   ]
  },
  {
   "cell_type": "code",
   "execution_count": 72,
   "metadata": {
    "collapsed": false
   },
   "outputs": [
    {
     "name": "stdout",
     "output_type": "stream",
     "text": [
      "[1, 2, 6, 7]\n"
     ]
    }
   ],
   "source": [
    "t1=[1, 2, 3, 4, 5]\n",
    "t2=[3, 4, 5, 6, 7]\n",
    "s1 = set(t1)\n",
    "s2 = set(t2)\n",
    "s3 = s1.symmetric_difference(s2)\n",
    "t3 = list(s3)\n",
    "print t3"
   ]
  },
  {
   "cell_type": "markdown",
   "metadata": {},
   "source": [
    "집합 자료형 메소드 : 다음 연산은 원래 집합은 변경하지 않고 새로운 집합 반환)  \n",
    "  set연산\t  /         동일 연산자\t   /    내용  \n",
    "s.issubset(t)\t    /       s <= t\t   / s가 t의 부분집합인가?  \n",
    "s.issuperset(t)\t     /      s >= t \t  /  s가 t의 슈퍼집합인가?  \n",
    "s.union(t)\t          /      s l t\t  / 새로운 s와 t의 합집합  \n",
    "s.intersection(t) \t   /     s & t\t  / 새로운 s와 t의 교집합  \n",
    "s.difference(t)\t       /     s - t\t  / 새로운 s와 t의 차집합  \n",
    "s.symmetirc_difference(t)   /   s ^ t\t  / 새로운 s와 t의 배타집합  \n",
    "s.copy()\t\t        /              / 집합 s의 shallow 복사  "
   ]
  },
  {
   "cell_type": "code",
   "execution_count": null,
   "metadata": {
    "collapsed": true
   },
   "outputs": [],
   "source": []
  }
 ],
 "metadata": {
  "kernelspec": {
   "display_name": "Python [Root]",
   "language": "python",
   "name": "Python [Root]"
  },
  "language_info": {
   "codemirror_mode": {
    "name": "ipython",
    "version": 2
   },
   "file_extension": ".py",
   "mimetype": "text/x-python",
   "name": "python",
   "nbconvert_exporter": "python",
   "pygments_lexer": "ipython2",
   "version": "2.7.12"
  }
 },
 "nbformat": 4,
 "nbformat_minor": 0
}
