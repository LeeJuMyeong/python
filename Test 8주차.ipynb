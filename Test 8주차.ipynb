{
 "cells": [
  {
   "cell_type": "code",
   "execution_count": 5,
   "metadata": {
    "collapsed": false
   },
   "outputs": [
    {
     "name": "stdout",
     "output_type": "stream",
     "text": [
      "Add me! Add me!\n"
     ]
    }
   ],
   "source": [
    "s = \"\"\"\n",
    "lol\n",
    "\n",
    "\"\"\"\n",
    "f = open('t.txt', 'w')\n",
    "f.write(s)\n",
    "print s\n"
   ]
  },
  {
   "cell_type": "markdown",
   "metadata": {},
   "source": [
    "## 중요!!!! with ~ as ~"
   ]
  },
  {
   "cell_type": "code",
   "execution_count": 20,
   "metadata": {
    "collapsed": false,
    "scrolled": true
   },
   "outputs": [
    {
     "name": "stdout",
     "output_type": "stream",
     "text": [
      "['Its power: Python developers typically report \\n', 'they are able to develop applications in a half\\n', 'to a tenth the amount of time it takes them to do\\n', 'the same work in such languages as C.']\n"
     ]
    }
   ],
   "source": [
    "s = \"\"\"Its power: Python developers typically report \n",
    "they are able to develop applications in a half\n",
    "to a tenth the amount of time it takes them to do\n",
    "the same work in such languages as C.\"\"\"\n",
    "with open('t.txt', 'w+') as f: # f = open('t.txt', 'w')과 동일\n",
    "    f.write(s) \n",
    "    # f.close() 작성할 필요 없음. 자동으로 닫힘\n",
    "    \n",
    "with open('t.txt', 'r') as f: \n",
    "    print f.readlines()\n"
   ]
  },
  {
   "cell_type": "code",
   "execution_count": 46,
   "metadata": {
    "collapsed": false
   },
   "outputs": [
    {
     "name": "stdout",
     "output_type": "stream",
     "text": [
      "Its power: Python developers typically report \n",
      "they are able to develop applications in a half\n",
      "to a tenth the amount of time it takes them to do\n",
      "the same work in such languages as C.\n"
     ]
    }
   ],
   "source": [
    "f = open('t.txt')\n",
    "s = f.read()\n",
    "print s\n",
    "\n",
    "f = 1 #이때 파일을 close 하게 된다고 함~\n",
    "# 아니면 프로그램이 끝날때"
   ]
  },
  {
   "cell_type": "code",
   "execution_count": 41,
   "metadata": {
    "collapsed": false
   },
   "outputs": [
    {
     "name": "stdout",
     "output_type": "stream",
     "text": [
      "<open file 't.txt', mode 'r' at 0x0000000003BA98A0>\n",
      "0 : Its power: Python developers typically report \n",
      "1 : they are able to develop applications in a half\n",
      "2 : to a tenth the amount of time it takes them to do\n",
      "3 : the same work in such languages as C.\n",
      "\n",
      "['Its power: Python developers typically report \\n', 'they are able to develop applications in a half\\n', 'to a tenth the amount of time it takes them to do\\n', 'the same work in such languages as C.']\n",
      "0 : Its power: Python developers typically report \n",
      "1 : they are able to develop applications in a half\n",
      "2 : to a tenth the amount of time it takes them to do\n",
      "3 : the same work in such languages as C.\n",
      "\n",
      "Its power: Python developers typically report \n",
      "\n",
      "0 : I 1 : t 2 : s 3 :   4 : p 5 : o 6 : w 7 : e 8 : r 9 : : 10 :   11 : P 12 : y 13 : t 14 : h 15 : o 16 : n 17 :   18 : d 19 : e 20 : v 21 : e 22 : l 23 : o 24 : p 25 : e 26 : r 27 : s 28 :   29 : t 30 : y 31 : p 32 : i 33 : c 34 : a 35 : l 36 : l 37 : y 38 :   39 : r 40 : e 41 : p 42 : o 43 : r 44 : t 45 :   46 : \n",
      "\n",
      "\n",
      "Its power: Python developers typically report \n",
      "they are able to develop applications in a half\n",
      "to a tenth the amount of time it takes them to do\n",
      "the same work in such languages as C.\n",
      "0 : I 1 : t 2 : s 3 :   4 : p 5 : o 6 : w 7 : e 8 : r 9 : : 10 :   11 : P 12 : y 13 : t 14 : h 15 : o 16 : n 17 :   18 : d 19 : e 20 : v 21 : e 22 : l 23 : o 24 : p 25 : e 26 : r 27 : s 28 :   29 : t 30 : y 31 : p 32 : i 33 : c 34 : a 35 : l 36 : l 37 : y 38 :   39 : r 40 : e 41 : p 42 : o 43 : r 44 : t 45 :   46 : \n",
      "47 : t 48 : h 49 : e 50 : y 51 :   52 : a 53 : r 54 : e 55 :   56 : a 57 : b 58 : l 59 : e 60 :   61 : t 62 : o 63 :   64 : d 65 : e 66 : v 67 : e 68 : l 69 : o 70 : p 71 :   72 : a 73 : p 74 : p 75 : l 76 : i 77 : c 78 : a 79 : t 80 : i 81 : o 82 : n 83 : s 84 :   85 : i 86 : n 87 :   88 : a 89 :   90 : h 91 : a 92 : l 93 : f 94 : \n",
      "95 : t 96 : o 97 :   98 : a 99 :   100 : t 101 : e 102 : n 103 : t 104 : h 105 :   106 : t 107 : h 108 : e 109 :   110 : a 111 : m 112 : o 113 : u 114 : n 115 : t 116 :   117 : o 118 : f 119 :   120 : t 121 : i 122 : m 123 : e 124 :   125 : i 126 : t 127 :   128 : t 129 : a 130 : k 131 : e 132 : s 133 :   134 : t 135 : h 136 : e 137 : m 138 :   139 : t 140 : o 141 :   142 : d 143 : o 144 : \n",
      "145 : t 146 : h 147 : e 148 :   149 : s 150 : a 151 : m 152 : e 153 :   154 : w 155 : o 156 : r 157 : k 158 :   159 : i 160 : n 161 :   162 : s 163 : u 164 : c 165 : h 166 :   167 : l 168 : a 169 : n 170 : g 171 : u 172 : a 173 : g 174 : e 175 : s 176 :   177 : a 178 : s 179 :   180 : C 181 : .\n"
     ]
    }
   ],
   "source": [
    "s = \"\"\"Its power: Python developers typically report \n",
    "they are able to develop applications in a half\n",
    "to a tenth the amount of time it takes them to do\n",
    "the same work in such languages as C.\"\"\"\n",
    "with open('t.txt', 'w+') as f:\n",
    "    #f.seek()\n",
    "    f.write(s)\n",
    "    \n",
    "with open('t.txt', 'r') as f:\n",
    "    i = 0\n",
    "    a = f.xreadlines()\n",
    "    print a\n",
    "    for line in a:   # 읽은 내용은 가비지 시켜버린다.\n",
    "        print i, ':', line,\n",
    "        i += 1\n",
    "    f.close()\n",
    "print\n",
    "print \n",
    "with open('t.txt', 'r') as f:\n",
    "    i = 0\n",
    "    a = f.readlines()\n",
    "    print a\n",
    "    for line in a:   # 읽은 내용은 가비지 시켜버린다.\n",
    "        print i, ':', line,\n",
    "        i += 1\n",
    "    f.close()    \n",
    "print\n",
    "print \n",
    "with open('t.txt', 'r') as f:\n",
    "    i = 0\n",
    "    a = f.readline()\n",
    "    print a\n",
    "    for line in a:   # 읽은 내용은 가비지 시켜버린다.\n",
    "        print i, ':', line,\n",
    "        i += 1\n",
    "    f.close()   \n",
    "print\n",
    "print \n",
    "with open('t.txt', 'r') as f:\n",
    "    i = 0\n",
    "    a = f.read()\n",
    "    print a\n",
    "    for line in a:   # 읽은 내용은 가비지 시켜버린다.\n",
    "        print i, ':', line,\n",
    "        i += 1\n",
    "    f.close()    "
   ]
  },
  {
   "cell_type": "code",
   "execution_count": 45,
   "metadata": {
    "collapsed": false
   },
   "outputs": [
    {
     "name": "stdout",
     "output_type": "stream",
     "text": [
      "first linesecond linethird line\n"
     ]
    }
   ],
   "source": [
    "lines = ['first line', 'second line', 'third line']\n",
    "f = open('t1.txt', 'w')\n",
    "f.writelines(lines)\n",
    "f.close()\n",
    "\n",
    "f = open('t1.txt')\n",
    "f.seek(0)\n",
    "print f.read()\n",
    "f.close()"
   ]
  },
  {
   "cell_type": "code",
   "execution_count": 61,
   "metadata": {
    "collapsed": false
   },
   "outputs": [
    {
     "name": "stdout",
     "output_type": "stream",
     "text": [
      "Its power: Python developers typically report \n",
      "they are able to develop applications in a half\n",
      "to a tenth the amount of time it takes them to do\n",
      "the same work in such languages as C.\n",
      "\n",
      "Its power: Python developers typically report \n",
      "they are able to develop applications in a half\n",
      "to a tenth the amount of time it takes them to do\n",
      "the same work in such languages as C.\n"
     ]
    }
   ],
   "source": [
    "s = \"\"\"Its power: Python developers typically report \n",
    "they are able to develop applications in a half\n",
    "to a tenth the amount of time it takes them to do\n",
    "the same work in such languages as C.\"\"\"\n",
    "with open('t.txt', 'w+') as f: # f = open('t.txt', 'w')과 동일\n",
    "    f.write(s) \n",
    "    # f.close() 작성할 필요 없음. 자동으로 닫힘\n",
    "    f.write('\\n\\n')\n",
    "    f.write(s)\n",
    "    f.seek(0)\n",
    "    print f.read()"
   ]
  },
  {
   "cell_type": "code",
   "execution_count": 63,
   "metadata": {
    "collapsed": false
   },
   "outputs": [
    {
     "name": "stdout",
     "output_type": "stream",
     "text": [
      "?\n"
     ]
    }
   ],
   "source": [
    "import sys\n",
    "\n",
    "f = open('t.txt', 'w')\n",
    "s = sys.stdout   # 표준 출력 저장해 두기\n",
    "sys.stdout = f        # 파일 객체로 표준 출력 변경\n",
    "print 'Sample output'\n",
    "print 'Good'\n",
    "print 'Good'\n",
    "f.close()\n",
    "sys.stdout = s   # 필요하면 표준 출력 원상 복구\n",
    "print '?'"
   ]
  },
  {
   "cell_type": "code",
   "execution_count": 64,
   "metadata": {
    "collapsed": false
   },
   "outputs": [
    {
     "name": "stdout",
     "output_type": "stream",
     "text": [
      "abc\n",
      "\n",
      "abc\n"
     ]
    }
   ],
   "source": [
    "import StringIO\n",
    "\n",
    "f = StringIO.StringIO()\n",
    "f.write(\"abc\")\n",
    "f.seek(0)\n",
    "s = f.read()\n",
    "print s\n",
    "print\n",
    "\n",
    "s2 = f.getvalue()\n",
    "print s2"
   ]
  },
  {
   "cell_type": "code",
   "execution_count": 70,
   "metadata": {
    "collapsed": false
   },
   "outputs": [
    {
     "name": "stdout",
     "output_type": "stream",
     "text": [
      "{'jim': 6851325, 'Joseph': 6584321, 'jack': 9465215, 'tom': 4358382}\n",
      "['string', 1234, 0.2345]\n",
      "{'jim': 6851325, 'Joseph': 6584321, 'jack': 9465215, 'tom': 4358382}\n",
      "['string', 1234, 0.2345]\n",
      "\n"
     ]
    }
   ],
   "source": [
    "import pickle\n",
    "\n",
    "phone = {'tom':4358382, 'jack':9465215, 'jim':6851325, 'Joseph':6584321}\n",
    "List = ['string', 1234, 0.2345]\n",
    "Tuple = (phone, List) # 리스트, 튜플, 사전의 복합 객체\n",
    "\n",
    "f = open('pickle.txt', 'w') # 파일 객체를 얻는다.\n",
    "\n",
    "pickle.dump(Tuple, f) # 파일로 출력(pickling), 복합 객체 출력 \n",
    "                    # 내가 만든 객체도 넣을 수 있음!!!!!!!!!!!! class나 다른 거 아무거나\n",
    "f.close() \n",
    "\n",
    "f = open('pickle.txt')     \n",
    "\n",
    "Tuple_new = pickle.load(f) # 파일에서 읽어오기. 튜플의 내용을 x, y에 받는다.\n",
    "print Tuple_new[0] # 사전\n",
    "print Tuple_new[1] # 리스트\n",
    "f.seek(0)\n",
    "x,y = pickle.load(f) # 파일에서 읽어오기. 튜플의 내용을 x, y에 받는다.\n",
    "print x # 사전\n",
    "print y # 리스트\n",
    "print \n",
    "f.close()"
   ]
  },
  {
   "cell_type": "code",
   "execution_count": null,
   "metadata": {
    "collapsed": true
   },
   "outputs": [],
   "source": []
  },
  {
   "cell_type": "code",
   "execution_count": 78,
   "metadata": {
    "collapsed": false,
    "scrolled": true
   },
   "outputs": [
    {
     "name": "stdout",
     "output_type": "stream",
     "text": [
      "10\n",
      "<__main__.Simple instance at 0x0000000003CDD348>\n"
     ]
    }
   ],
   "source": [
    "import pickle\n",
    "\n",
    "class Simple: # 가장 단순한 클래스를 정의\n",
    "    pass\n",
    "\n",
    "s = Simple() # 인스턴스 객체 생성\n",
    "s.count = 10 # 인스턴스 이름 공간에 변수 생성\n",
    "\n",
    "f = open('pickle2.txt', 'w')\n",
    "pickle.dump(s, f) # 인스턴스 저장\n",
    "f.close()\n",
    "\n",
    "f = open('pickle2.txt')\n",
    "t = pickle.load(f) # 인스턴스 가져오기\n",
    "print t.count\n",
    "print t"
   ]
  },
  {
   "cell_type": "code",
   "execution_count": 81,
   "metadata": {
    "collapsed": false
   },
   "outputs": [
    {
     "name": "stdout",
     "output_type": "stream",
     "text": [
      "the 929\n",
      "and 680\n",
      "of 625\n",
      "to 608\n",
      "I 523\n",
      "a 453\n",
      "my 444\n",
      "in 382\n",
      "you 361\n",
      "Ham. 358\n",
      "is 299\n",
      "his 284\n",
      "it 266\n",
      "not 259\n",
      "And 259\n",
      "that 225\n",
      "with 224\n",
      "your 217\n",
      "this 203\n",
      "be 187\n"
     ]
    }
   ],
   "source": [
    "f = open('hamlet.txt','r')\n",
    "\n",
    "from collections import Counter\n",
    "wordDict = Counter()\n",
    "sentences = f.readlines()\n",
    "\n",
    "for sentence in sentences: #한 문장씩\n",
    "    for word in sentence.split(): #한 문장에 들어있는 한 단어씩\n",
    "        wordDict[word] += 1 #Counter에 count를 1씩 증가시킨다.\n",
    "\n",
    "for word, freq in wordDict.most_common(20):\n",
    "    print word, freq"
   ]
  },
  {
   "cell_type": "code",
   "execution_count": null,
   "metadata": {
    "collapsed": true
   },
   "outputs": [],
   "source": []
  }
 ],
 "metadata": {
  "anaconda-cloud": {},
  "kernelspec": {
   "display_name": "Python [Root]",
   "language": "python",
   "name": "Python [Root]"
  },
  "language_info": {
   "codemirror_mode": {
    "name": "ipython",
    "version": 2
   },
   "file_extension": ".py",
   "mimetype": "text/x-python",
   "name": "python",
   "nbconvert_exporter": "python",
   "pygments_lexer": "ipython2",
   "version": "2.7.12"
  }
 },
 "nbformat": 4,
 "nbformat_minor": 0
}
